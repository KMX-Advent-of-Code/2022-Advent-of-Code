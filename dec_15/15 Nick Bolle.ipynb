{
 "cells": [
  {
   "cell_type": "markdown",
   "id": "cc902ab4",
   "metadata": {},
   "source": [
    "Organization:\n",
    "- Work\n",
    "  - 1 test: defining functions for part 1, testing on test input\n",
    "  - 1 run: getting answer for part 1\n",
    "  - 2 test: ...\n",
    "  - 2 run: ...\n",
    "- Utilities: functions I think might help parse general inputs\n",
    "- Inputs: where I define the test (_t_) and problem (_s_) inputs"
   ]
  },
  {
   "cell_type": "markdown",
   "id": "d1881444",
   "metadata": {},
   "source": [
    "# Work"
   ]
  },
  {
   "cell_type": "markdown",
   "id": "eb1b228f",
   "metadata": {},
   "source": [
    "## 1 test"
   ]
  },
  {
   "cell_type": "code",
   "execution_count": null,
   "id": "2fe19013",
   "metadata": {},
   "outputs": [],
   "source": [
    "split(t)"
   ]
  },
  {
   "cell_type": "code",
   "execution_count": 7,
   "id": "226389dd",
   "metadata": {},
   "outputs": [],
   "source": [
    "# Converts the input into tuples\n",
    "# Not the neatest but good enough\n",
    "def parse_input(s):\n",
    "    def parse(line):\n",
    "        aux = line.split('=')\n",
    "        sensor_x = int(aux[1].split(',')[0])\n",
    "        sensor_y = int(aux[2].split(':')[0])\n",
    "        beacon_x = int(aux[3].split(',')[0])\n",
    "        beacon_y = int(aux[4].split(':')[0])\n",
    "        return (sensor_x, sensor_y, beacon_x, beacon_y)\n",
    "    \n",
    "    return [parse(line) for line in split(s)]"
   ]
  },
  {
   "cell_type": "code",
   "execution_count": null,
   "id": "55145a0a",
   "metadata": {},
   "outputs": [],
   "source": [
    "parsed = parse_input(t)\n",
    "parsed"
   ]
  },
  {
   "cell_type": "markdown",
   "id": "5a19fc48",
   "metadata": {},
   "source": [
    "For a given sensor/beacon pair, calculate the distance D between them. Anything at a location <= D from the sensor is a not allowed location. For simplicity assume the sensor is at (0,0). So the locations (-|D-y|, y), ..., (|D-y|, y) are the ones we care are not allowed."
   ]
  },
  {
   "cell_type": "code",
   "execution_count": null,
   "id": "81b37a31",
   "metadata": {},
   "outputs": [],
   "source": [
    "# The row to count number of disallowed positions\n",
    "y = 10\n",
    "\n",
    "# A dictionary to keep track of the disallowed ones\n",
    "d = {}\n",
    "\n",
    "# Iterate through sensor/beacon pairs to disallow locations\n",
    "for tup in parsed:\n",
    "    # Get x1, x2 for the interval of disallowed locations\n",
    "    sensor_x, sensor_y, beacon_x, beacon_y = tup\n",
    "    D = abs(sensor_x - beacon_x) + abs(sensor_y - beacon_y)\n",
    "    offset_y = abs(y - sensor_y)\n",
    "    offset_x = D - offset_y\n",
    "    x1, x2 = sensor_x - offset_x, sensor_x + offset_x\n",
    "    \n",
    "    for x in range(x1, x2+1):\n",
    "        d[x] = False\n",
    "\n",
    "locs = sorted(list(d.keys()))\n",
    "print(locs)\n",
    "print(len(locs))"
   ]
  },
  {
   "cell_type": "code",
   "execution_count": 10,
   "id": "fbed4c53",
   "metadata": {},
   "outputs": [
    {
     "name": "stdout",
     "output_type": "stream",
     "text": [
      "[-2, -1, 0, 1, 3, 4, 5, 6, 7, 8, 9, 10, 11, 12, 13, 14, 15, 16, 17, 18, 19, 20, 21, 22, 23, 24]\n",
      "26\n"
     ]
    }
   ],
   "source": [
    "# But now subtract the number of positions that do contain a beacon\n",
    "for tup in parsed:\n",
    "    sensor_x, sensor_y, beacon_x, beacon_y = tup\n",
    "    if beacon_y == y and beacon_x in d:\n",
    "        del d[beacon_x]\n",
    "        \n",
    "locs = sorted(list(d.keys()))\n",
    "print(locs)\n",
    "print(len(locs))"
   ]
  },
  {
   "cell_type": "markdown",
   "id": "97486550",
   "metadata": {},
   "source": [
    "## 1 run"
   ]
  },
  {
   "cell_type": "code",
   "execution_count": 11,
   "id": "c44f4f72",
   "metadata": {},
   "outputs": [
    {
     "name": "stdout",
     "output_type": "stream",
     "text": [
      "5564018\n",
      "5564017\n"
     ]
    }
   ],
   "source": [
    "parsed = parse_input(s)\n",
    "\n",
    "# The row to count number of disallowed positions\n",
    "y = 2000000\n",
    "\n",
    "# A dictionary to keep track of the disallowed ones\n",
    "d = {}\n",
    "\n",
    "# Iterate through sensor/beacon pairs to disallow locations\n",
    "for tup in parsed:\n",
    "    # Get x1, x2 for the interval of disallowed locations\n",
    "    sensor_x, sensor_y, beacon_x, beacon_y = tup\n",
    "    D = abs(sensor_x - beacon_x) + abs(sensor_y - beacon_y)\n",
    "    offset_y = abs(y - sensor_y)\n",
    "    offset_x = D - offset_y\n",
    "    x1, x2 = sensor_x - offset_x, sensor_x + offset_x\n",
    "    \n",
    "    for x in range(x1, x2+1):\n",
    "        d[x] = False\n",
    "\n",
    "locs = sorted(list(d.keys()))\n",
    "print(len(locs))\n",
    "\n",
    "# But now subtract the number of positions that do contain a beacon\n",
    "for tup in parsed:\n",
    "    sensor_x, sensor_y, beacon_x, beacon_y = tup\n",
    "    if beacon_y == y and beacon_x in d:\n",
    "        del d[beacon_x]\n",
    "        \n",
    "locs = sorted(list(d.keys()))\n",
    "print(len(locs))"
   ]
  },
  {
   "cell_type": "code",
   "execution_count": 12,
   "id": "e3ad4791",
   "metadata": {},
   "outputs": [
    {
     "name": "stdout",
     "output_type": "stream",
     "text": [
      "-229697 5334320\n"
     ]
    }
   ],
   "source": [
    "# For a manual sanity check that the one removed beacon is within these x\n",
    "print(min(locs), max(locs))"
   ]
  },
  {
   "cell_type": "markdown",
   "id": "cf29851d",
   "metadata": {},
   "source": [
    "## 2 test\n",
    "\n",
    "I really like Marcos' solution: do my first idea, but efficiently by working on the level of intervals of locations that aren't allowed. In part 1 I used a dictionary to keep track of locations not allowed, but if we're looking for a location that *is* allowed, it's enough to get the intervals that each sensor prohibits and join them together (looking for a gap along the way).\n",
    "\n",
    "My solution ended up being too clever and would have been a pain if I'd gotten unlucky: you can reason that the allowed location is either on the edge of the 4,000,001 x 4,000,001 square (could check the edge separately), or is on the border of at least two of the sensors' not-allowed regions. So for each pair of sensors, solve the appropriate equations to find those intersection points. I ignored cases where borders overlap (giving a line of solutions) and it turns out that was enough to find the solution.\n",
    "\n",
    "First idea\n",
    "- Just run the previous part on each of the 4000000 rows. Slow, but at least I don't have to use tons of memory storing the 4000000^2 locations.\n",
    "- But it's not running in reasonable time.\n",
    "\n",
    "Second idea:\n",
    "- For each of the 4000000 locations, check its distance from the sensors. Print locations if they're outside of the disallowed range of every sensor.\n",
    "- Also would take forever: over 1 minute for n=10000.\n",
    "\n",
    "Third idea:\n",
    "- The previous, but keeping a list of distances to each of the sensors. That way instead of recalculating the distances, we update the list of distances by +-1 depending on how our x-coord compares to those of the sensors.\n",
    "- Still too slow, takes 20 seconds to iterate through one row of the 4000000 locations.\n",
    "\n",
    "Fourth idea:\n",
    "- I can't be iterating through all the locations, but I can leverage that there is *one* free location so it must appear just outside the border of (at least) one of the no-go zones.\n",
    "- (If I find at least 2 open locations through this method, then it becomes possible that there's a free location that the method can't find. But that won't happen. And anyways, the unfound free locations would be adjacent to previously found locations (might need to iterate this a few times to find all of them)).\n",
    "- With this method I have to search 75,209,200 locations which is still a lot but much less than before. At 20 seconds per 4,000,000 this would take less than 7 minutes which is not great, but I'm probably on the right track. Oh! Only search positions that are inbounds, should help a lot. Leverage that the intersection of the sensor border is either totally inside the permissible region or intersects at one of the edges\n",
    "- Improving this a bit, we know the point is either on the edge of the permissible region *or* (not xor) it's on the border of (at least) two sensors' no-go-zones. Assuming the 2nd case, restrict the search to points that satisfy that condition. Those can be found by taking a pair of sensors and solving the equations that define their borders:\n",
    "$$|x-x_1| + |y-y_1| = d_1 + 1$$\n",
    "$$|x-x_2| + |y-y_2| = d_2 + 1$$\n",
    "- Solving for isolated cases is OK: just a bunch of cases with signs. I held off on solving cases where the lines containing the borders of two sensors overlap."
   ]
  },
  {
   "cell_type": "code",
   "execution_count": 8,
   "id": "4db74063",
   "metadata": {},
   "outputs": [],
   "source": [
    "import numpy as np"
   ]
  },
  {
   "cell_type": "code",
   "execution_count": 76,
   "id": "8372af52",
   "metadata": {},
   "outputs": [
    {
     "data": {
      "text/plain": [
       "[(2, 18, 7),\n",
       " (9, 16, 1),\n",
       " (13, 2, 3),\n",
       " (12, 14, 4),\n",
       " (10, 20, 4),\n",
       " (14, 17, 5),\n",
       " (8, 7, 9),\n",
       " (2, 0, 10),\n",
       " (0, 11, 3),\n",
       " (20, 14, 8),\n",
       " (17, 20, 6),\n",
       " (16, 7, 5),\n",
       " (14, 3, 1),\n",
       " (20, 1, 7)]"
      ]
     },
     "execution_count": 76,
     "metadata": {},
     "output_type": "execute_result"
    }
   ],
   "source": [
    "def further_parse(tup):\n",
    "    sensor_x, sensor_y, beacon_x, beacon_y = tup\n",
    "    return (sensor_x, sensor_y, abs(sensor_x - beacon_x) + abs(sensor_y - beacon_y))\n",
    "parsed = [further_parse(tup) for tup in parse_input(t)]\n",
    "parsed"
   ]
  },
  {
   "cell_type": "code",
   "execution_count": 93,
   "id": "e148e0f2",
   "metadata": {},
   "outputs": [],
   "source": [
    "# Look for points on the border of 2 sensors\n",
    "locs = {}\n",
    "lines = []\n",
    "for i in range(len(parsed)):\n",
    "    for j in range(i+1, len(parsed)):\n",
    "        # The 2 sensors\n",
    "        x1, y1, d1 = parsed[i]\n",
    "        x2, y2, d2 = parsed[j]\n",
    "        \n",
    "        # Lots of sign options!\n",
    "        for s1 in [-1,1]:\n",
    "            for s2 in [-1,1]:\n",
    "                for t1 in [-1,1]:\n",
    "                    for t2 in [-1,1]:\n",
    "                        a1 = d1 + 1 + s1 * x1 + t1 * y1\n",
    "                        a2 = d2 + 1 + s2 * x2 + t2 * y2\n",
    "                        \n",
    "                        # Degenerate case: the lines are the same or parallel\n",
    "                        if t1*s1 == t2*s2:\n",
    "                            # They overlap\n",
    "                            if a1*s1 == s2*a2:\n",
    "                                # We have x + sigma*y = v\n",
    "                                sigma = t1*s1\n",
    "                                v = s1*a1\n",
    "                                \n",
    "                                # Record in case I need to investigate these\n",
    "                                lines += [(sigma, v)]\n",
    "                            # Otherwise they're parallel, no intersect\n",
    "                        # \"Typical\" case: they intersect at a single point\n",
    "                        else:\n",
    "                            y = (s1*a1 - s2*a2) / (t1*s1 - t2*s2)\n",
    "                            x = s1*a1 - s1*t1*y\n",
    "                            \n",
    "                            # Check we have integers within the bounds\n",
    "                            if x == int(x) and 0 <= x <= n and 0 <= y <= n:\n",
    "                                x = int(x)\n",
    "                                y = int(y)\n",
    "                                locs[(x,y)] = True"
   ]
  },
  {
   "cell_type": "code",
   "execution_count": 94,
   "id": "7f759d11",
   "metadata": {},
   "outputs": [
    {
     "data": {
      "text/plain": [
       "124"
      ]
     },
     "execution_count": 94,
     "metadata": {},
     "output_type": "execute_result"
    }
   ],
   "source": [
    "len(locs)"
   ]
  },
  {
   "cell_type": "code",
   "execution_count": 95,
   "id": "afd5817f",
   "metadata": {},
   "outputs": [
    {
     "name": "stdout",
     "output_type": "stream",
     "text": [
      "14 11\n"
     ]
    }
   ],
   "source": [
    "for x, y in locs:\n",
    "    if all([abs(sensor_x - x) + abs(sensor_y - y) > d for sensor_x, sensor_y, d in parsed]):\n",
    "        print(x,y)"
   ]
  },
  {
   "cell_type": "code",
   "execution_count": 96,
   "id": "1c8f0054",
   "metadata": {},
   "outputs": [
    {
     "data": {
      "text/plain": [
       "56000011"
      ]
     },
     "execution_count": 96,
     "metadata": {},
     "output_type": "execute_result"
    }
   ],
   "source": [
    "14*4000000+11"
   ]
  },
  {
   "cell_type": "markdown",
   "id": "a2c20e06",
   "metadata": {},
   "source": [
    "## 2 run"
   ]
  },
  {
   "cell_type": "code",
   "execution_count": 101,
   "id": "34493eaf",
   "metadata": {},
   "outputs": [],
   "source": [
    "n = 4000000\n",
    "parsed = [further_parse(tup) for tup in parse_input(s)]"
   ]
  },
  {
   "cell_type": "code",
   "execution_count": 102,
   "id": "00f64ad8",
   "metadata": {},
   "outputs": [],
   "source": [
    "# Look for points on the border of 2 sensors\n",
    "locs = {}\n",
    "lines = []\n",
    "for i in range(len(parsed)):\n",
    "    for j in range(i+1, len(parsed)):\n",
    "        # The 2 sensors\n",
    "        x1, y1, d1 = parsed[i]\n",
    "        x2, y2, d2 = parsed[j]\n",
    "        \n",
    "        # Lots of sign options!\n",
    "        for s1 in [-1,1]:\n",
    "            for s2 in [-1,1]:\n",
    "                for t1 in [-1,1]:\n",
    "                    for t2 in [-1,1]:\n",
    "                        a1 = d1 + 1 + s1 * x1 + t1 * y1\n",
    "                        a2 = d2 + 1 + s2 * x2 + t2 * y2\n",
    "                        \n",
    "                        # Degenerate case: the lines are the same or parallel\n",
    "                        if t1*s1 == t2*s2:\n",
    "                            # They overlap\n",
    "                            if a1*s1 == s2*a2:\n",
    "                                # We have x + sigma*y = v\n",
    "                                sigma = t1*s1\n",
    "                                v = s1*a1\n",
    "                                \n",
    "                                # Later: find all integer x,y that lie on that line and within the bounds\n",
    "                                lines += [(sigma, v)]\n",
    "                            # Otherwise they're parallel, no intersect\n",
    "                        # \"Typical\" case: they intersect at a single point\n",
    "                        else:\n",
    "                            y = (s1*a1 - s2*a2) / (t1*s1 - t2*s2)\n",
    "                            x = s1*a1 - s1*t1*y\n",
    "                            \n",
    "                            # Check we have integers within the bounds\n",
    "                            if x == int(x) and 0 <= x <= n and 0 <= y <= n:\n",
    "                                x = int(x)\n",
    "                                y = int(y)\n",
    "                                locs[(x,y)] = True"
   ]
  },
  {
   "cell_type": "code",
   "execution_count": 103,
   "id": "f6529954",
   "metadata": {},
   "outputs": [
    {
     "data": {
      "text/plain": [
       "840"
      ]
     },
     "execution_count": 103,
     "metadata": {},
     "output_type": "execute_result"
    }
   ],
   "source": [
    "len(locs)"
   ]
  },
  {
   "cell_type": "code",
   "execution_count": 104,
   "id": "bcfbcdc0",
   "metadata": {},
   "outputs": [
    {
     "name": "stdout",
     "output_type": "stream",
     "text": [
      "2889605 3398893\n"
     ]
    }
   ],
   "source": [
    "for x, y in locs:\n",
    "    if all([abs(sensor_x - x) + abs(sensor_y - y) > d for sensor_x, sensor_y, d in parsed]):\n",
    "        print(x,y)"
   ]
  },
  {
   "cell_type": "code",
   "execution_count": 106,
   "id": "63c22a20",
   "metadata": {},
   "outputs": [
    {
     "data": {
      "text/plain": [
       "[(657464, 657463),\n",
       " (928420, 441687),\n",
       " (2659955, 899639),\n",
       " (657351, 155152),\n",
       " (1477595, 261372),\n",
       " (793502, 233901),\n",
       " (2578937, 1788091),\n",
       " (1374646, 721605),\n",
       " (3514502, 1996053),\n",
       " (1502936, 257380),\n",
       " (2675299, 1875794),\n",
       " (5391305, 866268),\n",
       " (1216384, 449469),\n",
       " (730169, 730168),\n",
       " (3941446, 1228537),\n",
       " (608112, 608111),\n",
       " (1294209, 265300),\n",
       " (498349, 498348),\n",
       " (1559958, 343735),\n",
       " (5972127, 1763442),\n",
       " (2653003, 1615533),\n",
       " (1830283, 436318),\n",
       " (1482989, 430283),\n",
       " (1028510, 278627)]"
      ]
     },
     "execution_count": 106,
     "metadata": {},
     "output_type": "execute_result"
    }
   ],
   "source": [
    "# Double check before I submit\n",
    "x, y = 2889605, 3398893\n",
    "[(abs(sensor_x - x) + abs(sensor_y - y), d) for sensor_x, sensor_y, d in parsed]"
   ]
  },
  {
   "cell_type": "code",
   "execution_count": 107,
   "id": "6df17ed8",
   "metadata": {},
   "outputs": [
    {
     "data": {
      "text/plain": [
       "11558423398893"
      ]
     },
     "execution_count": 107,
     "metadata": {},
     "output_type": "execute_result"
    }
   ],
   "source": [
    "4000000*x+y"
   ]
  },
  {
   "cell_type": "markdown",
   "id": "46587fe1",
   "metadata": {},
   "source": [
    "# Utilities"
   ]
  },
  {
   "cell_type": "code",
   "execution_count": 6,
   "id": "b0f5c2be",
   "metadata": {},
   "outputs": [],
   "source": [
    "# Remove initial/final \\n characters\n",
    "def clean(s):\n",
    "    return s[1:-1]\n",
    "\n",
    "# Split at \\n characters\n",
    "# If there are \\n\\n characters, split into blocks too\n",
    "def split(s, block_char = '\\n\\n', line_char = '\\n'):\n",
    "    out = [block.split(line_char) for block in clean(s).split(block_char)]\n",
    "    if len(out) == 1:\n",
    "        return out[0]\n",
    "    else:\n",
    "        return out\n",
    "\n",
    "# Apply a function(s) to a list or \"block\" data (2-level list)\n",
    "def apply_func(data, func, nested=False):\n",
    "    if not isinstance(func, list):\n",
    "        func = [func]\n",
    "        \n",
    "    def _func(x):\n",
    "        for f in func:\n",
    "            x = f(x)\n",
    "        return x\n",
    "        \n",
    "    if nested:\n",
    "        return [[_func(x) for x in block] for block in data]\n",
    "    else:\n",
    "        return [_func(x) for x in data]\n",
    "\n",
    "# Split, parsing everything as ints\n",
    "def split_int(s):\n",
    "    return apply_func(split(s), int)\n",
    "\n",
    "# Split, parsing everything as float\n",
    "def split_float(s):\n",
    "    return apply_func(split(s), float)"
   ]
  },
  {
   "cell_type": "markdown",
   "id": "2b2e5b0f",
   "metadata": {},
   "source": [
    "# Inputs"
   ]
  },
  {
   "cell_type": "code",
   "execution_count": 2,
   "id": "6a1455c4",
   "metadata": {},
   "outputs": [],
   "source": [
    "t = \"\"\"\n",
    "Sensor at x=2, y=18: closest beacon is at x=-2, y=15\n",
    "...\n",
    "Sensor at x=20, y=1: closest beacon is at x=15, y=3\n",
    "\"\"\""
   ]
  },
  {
   "cell_type": "code",
   "execution_count": 5,
   "id": "dcf53146",
   "metadata": {},
   "outputs": [],
   "source": [
    "s = \"\"\"\n",
    "Sensor at x=3291456, y=3143280: closest beacon is at x=3008934, y=2768339\n",
    "...\n",
    "Sensor at x=3059723, y=2540501: closest beacon is at x=3008934, y=2768339\n",
    "\"\"\""
   ]
  },
  {
   "cell_type": "code",
   "execution_count": null,
   "id": "270aaa9b",
   "metadata": {},
   "outputs": [],
   "source": []
  }
 ],
 "metadata": {
  "kernelspec": {
   "display_name": "Python 3 (ipykernel)",
   "language": "python",
   "name": "python3"
  },
  "language_info": {
   "codemirror_mode": {
    "name": "ipython",
    "version": 3
   },
   "file_extension": ".py",
   "mimetype": "text/x-python",
   "name": "python",
   "nbconvert_exporter": "python",
   "pygments_lexer": "ipython3",
   "version": "3.11.1"
  }
 },
 "nbformat": 4,
 "nbformat_minor": 5
}
