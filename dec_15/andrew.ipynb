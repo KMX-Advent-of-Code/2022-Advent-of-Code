{
 "cells": [
  {
   "cell_type": "code",
   "execution_count": 1,
   "metadata": {},
   "outputs": [
    {
     "name": "stdout",
     "output_type": "stream",
     "text": [
      "[0,1] | [2,5] | [6,7]\n"
     ]
    }
   ],
   "source": [
    "import numpy as np\n",
    "import pandas as pd\n",
    "import math\n",
    "import scipy\n",
    "import sys\n",
    "from tqdm import tqdm\n",
    "import functools\n",
    "\n",
    "import portion as P\n",
    "\n",
    "interval = P.empty()\n",
    "for i, j in [(0, 1), (2, 4), (6, 7), (3, 5)]:\n",
    "    interval = interval | P.closed(i, j)\n",
    "print(interval)"
   ]
  },
  {
   "cell_type": "code",
   "execution_count": 55,
   "metadata": {},
   "outputs": [
    {
     "data": {
      "text/plain": [
       "(5, 5)"
      ]
     },
     "execution_count": 55,
     "metadata": {},
     "output_type": "execute_result"
    }
   ],
   "source": [
    "##print a map!!\n",
    "def pprint(map):\n",
    "    for y in range(map.shape[0]):\n",
    "        l = ''\n",
    "        for x in range(map.shape[1]):\n",
    "            if map[y,x] == 0:\n",
    "                l += '.'\n",
    "            elif map[y,x] == 5:\n",
    "                l += 'S'\n",
    "            elif map[y,x] == 1:\n",
    "                l += 'B'\n",
    "            elif map[y,x] == 3:\n",
    "                l += '#'\n",
    "        print(l)\n",
    "\n",
    "def generate_pts_with_distance_in_row(pt,distance,map,row):\n",
    "    d = distance - abs(pt[0]-row)\n",
    "    return pt[1]-d,pt[1]+d\n",
    "\n",
    "def generate_pts_with_distance(pt,distance,map):\n",
    "    ret = []\n",
    "    for i in range(-distance,distance+1):\n",
    "        for j in range(-distance,distance+1):\n",
    "            if not (i == 0 and j == 0) and (abs(i)+abs(j) <= distance):\n",
    "                try:\n",
    "                    if map[pt[0]+i, pt[1]+j] > -1 and pt[0]+i >= 0 and pt[1]+j >= 0:\n",
    "                        ret.append((pt[0]+i, pt[1]+j))\n",
    "                except IndexError as e:\n",
    "                    pass\n",
    "    return ret\n",
    "\n",
    "generate_pts_with_distance_in_row((10,5),2,map,12)"
   ]
  },
  {
   "cell_type": "code",
   "execution_count": 161,
   "metadata": {},
   "outputs": [],
   "source": [
    "file1 = open('15.txt', 'r')\n",
    "lines = file1.readlines()\n",
    "\n",
    "sensor_beacons = []\n",
    "\n",
    "\n",
    "for l in lines:\n",
    "    l = l.replace('\\n','').replace(',','').replace(':','')\n",
    "    row = l.split(' ')\n",
    "    sensor_beacons.append(((int(row[3][2:]), int(row[2][2:])), (int(row[9][2:]), int(row[8][2:]))))\n",
    "    # print(row[2][2:],row[3],row[8],row[9])\n",
    "# sensor_beacons"
   ]
  },
  {
   "cell_type": "code",
   "execution_count": 162,
   "metadata": {},
   "outputs": [
    {
     "name": "stdout",
     "output_type": "stream",
     "text": [
      "(-872454, 4608563) (-1016402, 4322327)\n"
     ]
    }
   ],
   "source": [
    "\n",
    "x_range = (min([pt[0] for pts in sensor_beacons for pt in pts]), max([pt[0] for pts in sensor_beacons for pt in pts]))\n",
    "y_range = (min([pt[1] for pts in sensor_beacons for pt in pts]), max([pt[1] for pts in sensor_beacons for pt in pts]))\n",
    "\n",
    "print(x_range, y_range)"
   ]
  },
  {
   "cell_type": "code",
   "execution_count": 163,
   "metadata": {},
   "outputs": [
    {
     "name": "stdout",
     "output_type": "stream",
     "text": [
      "5481018 5338730\n"
     ]
    }
   ],
   "source": [
    "padding = 0\n",
    "\n",
    "width = x_range[1]-x_range[0]+1+2*padding\n",
    "height = y_range[1]-y_range[0]+1+2*padding\n",
    "\n",
    "def transform_coor(pt):\n",
    "    return (pt[0]-x_range[0]+padding, pt[1]-y_range[0]+padding)\n",
    "\n",
    "# map = np.zeros((width, height))\n",
    "map = scipy.sparse.lil_matrix((width, height))\n",
    "\n",
    "print(width, height)"
   ]
  },
  {
   "cell_type": "code",
   "execution_count": 164,
   "metadata": {},
   "outputs": [],
   "source": [
    "for sensor, beacon in sensor_beacons:\n",
    "    # print(sensor, beacon)\n",
    "    map[transform_coor((sensor[0],sensor[1]))] = 5\n",
    "    map[transform_coor((beacon[0],beacon[1]))] = 1\n",
    "# pprint(map)"
   ]
  },
  {
   "cell_type": "code",
   "execution_count": 8,
   "metadata": {},
   "outputs": [
    {
     "name": "stdout",
     "output_type": "stream",
     "text": [
      "....S.......................\n",
      "......................S.....\n",
      "...............S............\n",
      "................SB..........\n",
      "............................\n",
      "............................\n",
      "............................\n",
      "..........S.......S.........\n",
      "............................\n",
      "............................\n",
      "....B.......................\n",
      "..S.........................\n",
      "............................\n",
      "............................\n",
      "..............S.......S.....\n",
      "B...........................\n",
      "...........SB...............\n",
      "................S..........B\n",
      "....S.......................\n",
      "............................\n",
      "............S......S........\n",
      "............................\n",
      ".......................B....\n"
     ]
    }
   ],
   "source": [
    "pprint(map)"
   ]
  },
  {
   "cell_type": "code",
   "execution_count": 165,
   "metadata": {},
   "outputs": [
    {
     "data": {
      "text/plain": [
       "{(2000000, 1144814)}"
      ]
     },
     "execution_count": 165,
     "metadata": {},
     "output_type": "execute_result"
    }
   ],
   "source": [
    "row = 2000000\n",
    "# row = 10\n",
    "\n",
    "interval = P.empty()\n",
    "\n",
    "row_coor = transform_coor((10,0))[0]\n",
    "\n",
    "for sensor, beacon in sensor_beacons:\n",
    "    sensor_trans = transform_coor((sensor[0],sensor[1]))\n",
    "    beacon_trans = transform_coor((beacon[0],beacon[1]))\n",
    "    distance = abs(sensor[0] - beacon[0]) + abs(sensor[1] - beacon[1])\n",
    "    # print(sensor, beacon, distance)\n",
    "    # transform_coor((sensor[0],sensor[1]))\n",
    "    beg, end = generate_pts_with_distance_in_row((sensor[0],sensor[1]),distance,map, row)\n",
    "    # print(sensor_trans, beacon_trans, distance)\n",
    "    # print(P.closed(beg, end))\n",
    "    # map[row_coor, beg:end+1] = 3\n",
    "    interval = interval | P.closed(beg, end)\n",
    "    # print(interval)\n",
    "    # print(sensor, beacon, distance)\n",
    "\n",
    "    # for pt in generate_pts_with_distance_in_row(transform_coor((sensor[0],sensor[1])),distance,map, row_coor):\n",
    "    #     if map[pt] == 0:\n",
    "    #         map[pt] = 3\n",
    "    # pprint(map)\n",
    "    # print()\n",
    "#count the beacons and sensor loc\n",
    "cnt = set()\n",
    "for sensor, beacon in sensor_beacons:\n",
    "    # print(sensor, beacon)\n",
    "    if sensor[0] == row:\n",
    "        cnt = cnt | {sensor}\n",
    "    if beacon[0] == row:\n",
    "        cnt = cnt | {beacon}\n",
    "cnt\n",
    "# pprint(map)"
   ]
  },
  {
   "cell_type": "code",
   "execution_count": 166,
   "metadata": {},
   "outputs": [
    {
     "data": {
      "text/plain": [
       "5166077"
      ]
     },
     "execution_count": 166,
     "metadata": {},
     "output_type": "execute_result"
    }
   ],
   "source": [
    "eval(str(interval))[1] - eval(str(interval))[0] +1- len(cnt)"
   ]
  },
  {
   "cell_type": "code",
   "execution_count": 141,
   "metadata": {},
   "outputs": [],
   "source": [
    "####################################################################"
   ]
  },
  {
   "cell_type": "code",
   "execution_count": 183,
   "metadata": {},
   "outputs": [],
   "source": [
    "class Beacon():\n",
    "    def __init__(self, b_x,b_y,s_x,s_y) -> None:\n",
    "        self.beacon_x = b_x\n",
    "        self.beacon_y = b_y\n",
    "        self.sensor_x = s_x\n",
    "        self.sensor_y = s_y\n",
    "        self.distance = abs(b_x - s_x) + abs(b_y + s_y)\n",
    "    \n",
    "    def cannot_contain_beacon(self, x,y):\n",
    "        return abs(self.beacon_x - x) + abs(self.beacon_y - y) <= self.distance\n",
    "\n",
    "file1 = open('15.txt', 'r')\n",
    "lines = file1.readlines()\n",
    "\n",
    "beacons = []\n",
    "things = set()\n",
    "\n",
    "\n",
    "for l in lines:\n",
    "    l = l.replace('\\n','').replace(',','').replace(':','')\n",
    "    row = l.split(' ')\n",
    "    beacons.append(Beacon(int(row[3][2:]), int(row[2][2:]), int(row[9][2:]), int(row[8][2:])))\n",
    "    things = things | {(int(row[3][2:]), int(row[2][2:])), (int(row[9][2:]), int(row[8][2:]))}\n",
    "    # sensor_beacons.append(((int(row[3][2:]), int(row[2][2:])), (int(row[9][2:]), int(row[8][2:]))))\n",
    "    # print(row[3],row[2],row[8],row[9])\n",
    "\n",
    "# beacons\n",
    "# things"
   ]
  },
  {
   "cell_type": "code",
   "execution_count": 90,
   "metadata": {},
   "outputs": [],
   "source": [
    "# row = 10\n",
    "# ans1 = set()\n",
    "\n",
    "# for j in range(y_range[0],y_range[1]):\n",
    "#     if not j % 10000:\n",
    "#         print(j)\n",
    "#     for beacon in beacons:\n",
    "#         if beacon.cannot_contain_beacon(row,j):\n",
    "#             ans1 = ans1 | {(row,j)}\n",
    "# ans1 = ans1 - things\n",
    "# # ans1"
   ]
  },
  {
   "cell_type": "markdown",
   "metadata": {},
   "source": [
    "# Second part - VERY inefficient. Should rewrite using intervals and finding cells with distance over __"
   ]
  },
  {
   "cell_type": "code",
   "execution_count": 171,
   "metadata": {},
   "outputs": [
    {
     "name": "stderr",
     "output_type": "stream",
     "text": [
      " 68%|██████▊   | 2704932/4000001 [07:06<03:27, 6235.81it/s]"
     ]
    },
    {
     "name": "stdout",
     "output_type": "stream",
     "text": [
      "{3267801} 2703981\n",
      "tunning_freg=13071206703981\n"
     ]
    },
    {
     "name": "stderr",
     "output_type": "stream",
     "text": [
      " 70%|███████   | 2816581/4000001 [07:24<03:06, 6331.55it/s]\n"
     ]
    },
    {
     "ename": "KeyboardInterrupt",
     "evalue": "",
     "output_type": "error",
     "traceback": [
      "\u001b[0;31m---------------------------------------------------------------------------\u001b[0m",
      "\u001b[0;31mKeyboardInterrupt\u001b[0m                         Traceback (most recent call last)",
      "Cell \u001b[0;32mIn[171], line 7\u001b[0m\n\u001b[1;32m      2\u001b[0m row \u001b[39m=\u001b[39m \u001b[39m11\u001b[39m\n\u001b[1;32m      4\u001b[0m max_coor \u001b[39m=\u001b[39m \u001b[39m4000000\u001b[39m\n\u001b[0;32m----> 7\u001b[0m \u001b[39mfor\u001b[39;00m row \u001b[39min\u001b[39;00m tqdm(\u001b[39mrange\u001b[39m(\u001b[39m0\u001b[39m,max_coor\u001b[39m+\u001b[39m\u001b[39m1\u001b[39m)):\n\u001b[1;32m      8\u001b[0m     interval \u001b[39m=\u001b[39m P\u001b[39m.\u001b[39mempty()\n\u001b[1;32m      9\u001b[0m     \u001b[39mfor\u001b[39;00m sensor, beacon \u001b[39min\u001b[39;00m sensor_beacons:\n",
      "File \u001b[0;32m/Library/Frameworks/Python.framework/Versions/3.11/lib/python3.11/site-packages/tqdm/std.py:1205\u001b[0m, in \u001b[0;36mtqdm.__iter__\u001b[0;34m(self)\u001b[0m\n\u001b[1;32m   1203\u001b[0m dt \u001b[39m=\u001b[39m cur_t \u001b[39m-\u001b[39m last_print_t\n\u001b[1;32m   1204\u001b[0m \u001b[39mif\u001b[39;00m dt \u001b[39m>\u001b[39m\u001b[39m=\u001b[39m mininterval \u001b[39mand\u001b[39;00m cur_t \u001b[39m>\u001b[39m\u001b[39m=\u001b[39m min_start_t:\n\u001b[0;32m-> 1205\u001b[0m     \u001b[39mself\u001b[39;49m\u001b[39m.\u001b[39;49mupdate(n \u001b[39m-\u001b[39;49m last_print_n)\n\u001b[1;32m   1206\u001b[0m     last_print_n \u001b[39m=\u001b[39m \u001b[39mself\u001b[39m\u001b[39m.\u001b[39mlast_print_n\n\u001b[1;32m   1207\u001b[0m     last_print_t \u001b[39m=\u001b[39m \u001b[39mself\u001b[39m\u001b[39m.\u001b[39mlast_print_t\n",
      "File \u001b[0;32m/Library/Frameworks/Python.framework/Versions/3.11/lib/python3.11/site-packages/tqdm/std.py:1256\u001b[0m, in \u001b[0;36mtqdm.update\u001b[0;34m(self, n)\u001b[0m\n\u001b[1;32m   1254\u001b[0m     \u001b[39mself\u001b[39m\u001b[39m.\u001b[39m_ema_dn(dn)\n\u001b[1;32m   1255\u001b[0m     \u001b[39mself\u001b[39m\u001b[39m.\u001b[39m_ema_dt(dt)\n\u001b[0;32m-> 1256\u001b[0m \u001b[39mself\u001b[39;49m\u001b[39m.\u001b[39;49mrefresh(lock_args\u001b[39m=\u001b[39;49m\u001b[39mself\u001b[39;49m\u001b[39m.\u001b[39;49mlock_args)\n\u001b[1;32m   1257\u001b[0m \u001b[39mif\u001b[39;00m \u001b[39mself\u001b[39m\u001b[39m.\u001b[39mdynamic_miniters:\n\u001b[1;32m   1258\u001b[0m     \u001b[39m# If no `miniters` was specified, adjust automatically to the\u001b[39;00m\n\u001b[1;32m   1259\u001b[0m     \u001b[39m# maximum iteration rate seen so far between two prints.\u001b[39;00m\n\u001b[1;32m   1260\u001b[0m     \u001b[39m# e.g.: After running `tqdm.update(5)`, subsequent\u001b[39;00m\n\u001b[1;32m   1261\u001b[0m     \u001b[39m# calls to `tqdm.update()` will only cause an update after\u001b[39;00m\n\u001b[1;32m   1262\u001b[0m     \u001b[39m# at least 5 more iterations.\u001b[39;00m\n\u001b[1;32m   1263\u001b[0m     \u001b[39mif\u001b[39;00m \u001b[39mself\u001b[39m\u001b[39m.\u001b[39mmaxinterval \u001b[39mand\u001b[39;00m dt \u001b[39m>\u001b[39m\u001b[39m=\u001b[39m \u001b[39mself\u001b[39m\u001b[39m.\u001b[39mmaxinterval:\n",
      "File \u001b[0;32m/Library/Frameworks/Python.framework/Versions/3.11/lib/python3.11/site-packages/tqdm/std.py:1361\u001b[0m, in \u001b[0;36mtqdm.refresh\u001b[0;34m(self, nolock, lock_args)\u001b[0m\n\u001b[1;32m   1359\u001b[0m     \u001b[39melse\u001b[39;00m:\n\u001b[1;32m   1360\u001b[0m         \u001b[39mself\u001b[39m\u001b[39m.\u001b[39m_lock\u001b[39m.\u001b[39macquire()\n\u001b[0;32m-> 1361\u001b[0m \u001b[39mself\u001b[39;49m\u001b[39m.\u001b[39;49mdisplay()\n\u001b[1;32m   1362\u001b[0m \u001b[39mif\u001b[39;00m \u001b[39mnot\u001b[39;00m nolock:\n\u001b[1;32m   1363\u001b[0m     \u001b[39mself\u001b[39m\u001b[39m.\u001b[39m_lock\u001b[39m.\u001b[39mrelease()\n",
      "File \u001b[0;32m/Library/Frameworks/Python.framework/Versions/3.11/lib/python3.11/site-packages/tqdm/std.py:1509\u001b[0m, in \u001b[0;36mtqdm.display\u001b[0;34m(self, msg, pos)\u001b[0m\n\u001b[1;32m   1507\u001b[0m \u001b[39mif\u001b[39;00m pos:\n\u001b[1;32m   1508\u001b[0m     \u001b[39mself\u001b[39m\u001b[39m.\u001b[39mmoveto(pos)\n\u001b[0;32m-> 1509\u001b[0m \u001b[39mself\u001b[39;49m\u001b[39m.\u001b[39;49msp(\u001b[39mself\u001b[39;49m\u001b[39m.\u001b[39;49m\u001b[39m__str__\u001b[39;49m() \u001b[39mif\u001b[39;49;00m msg \u001b[39mis\u001b[39;49;00m \u001b[39mNone\u001b[39;49;00m \u001b[39melse\u001b[39;49;00m msg)\n\u001b[1;32m   1510\u001b[0m \u001b[39mif\u001b[39;00m pos:\n\u001b[1;32m   1511\u001b[0m     \u001b[39mself\u001b[39m\u001b[39m.\u001b[39mmoveto(\u001b[39m-\u001b[39mpos)\n",
      "File \u001b[0;32m/Library/Frameworks/Python.framework/Versions/3.11/lib/python3.11/site-packages/tqdm/std.py:350\u001b[0m, in \u001b[0;36mtqdm.status_printer.<locals>.print_status\u001b[0;34m(s)\u001b[0m\n\u001b[1;32m    348\u001b[0m \u001b[39mdef\u001b[39;00m \u001b[39mprint_status\u001b[39m(s):\n\u001b[1;32m    349\u001b[0m     len_s \u001b[39m=\u001b[39m disp_len(s)\n\u001b[0;32m--> 350\u001b[0m     fp_write(\u001b[39m'\u001b[39;49m\u001b[39m\\r\u001b[39;49;00m\u001b[39m'\u001b[39;49m \u001b[39m+\u001b[39;49m s \u001b[39m+\u001b[39;49m (\u001b[39m'\u001b[39;49m\u001b[39m \u001b[39;49m\u001b[39m'\u001b[39;49m \u001b[39m*\u001b[39;49m \u001b[39mmax\u001b[39;49m(last_len[\u001b[39m0\u001b[39;49m] \u001b[39m-\u001b[39;49m len_s, \u001b[39m0\u001b[39;49m)))\n\u001b[1;32m    351\u001b[0m     last_len[\u001b[39m0\u001b[39m] \u001b[39m=\u001b[39m len_s\n",
      "File \u001b[0;32m/Library/Frameworks/Python.framework/Versions/3.11/lib/python3.11/site-packages/tqdm/std.py:344\u001b[0m, in \u001b[0;36mtqdm.status_printer.<locals>.fp_write\u001b[0;34m(s)\u001b[0m\n\u001b[1;32m    342\u001b[0m \u001b[39mdef\u001b[39;00m \u001b[39mfp_write\u001b[39m(s):\n\u001b[1;32m    343\u001b[0m     fp\u001b[39m.\u001b[39mwrite(_unicode(s))\n\u001b[0;32m--> 344\u001b[0m     fp_flush()\n",
      "File \u001b[0;32m/Library/Frameworks/Python.framework/Versions/3.11/lib/python3.11/site-packages/tqdm/utils.py:145\u001b[0m, in \u001b[0;36mDisableOnWriteError.disable_on_exception.<locals>.inner\u001b[0;34m(*args, **kwargs)\u001b[0m\n\u001b[1;32m    143\u001b[0m \u001b[39mdef\u001b[39;00m \u001b[39minner\u001b[39m(\u001b[39m*\u001b[39margs, \u001b[39m*\u001b[39m\u001b[39m*\u001b[39mkwargs):\n\u001b[1;32m    144\u001b[0m     \u001b[39mtry\u001b[39;00m:\n\u001b[0;32m--> 145\u001b[0m         \u001b[39mreturn\u001b[39;00m func(\u001b[39m*\u001b[39;49margs, \u001b[39m*\u001b[39;49m\u001b[39m*\u001b[39;49mkwargs)\n\u001b[1;32m    146\u001b[0m     \u001b[39mexcept\u001b[39;00m \u001b[39mOSError\u001b[39;00m \u001b[39mas\u001b[39;00m e:\n\u001b[1;32m    147\u001b[0m         \u001b[39mif\u001b[39;00m e\u001b[39m.\u001b[39merrno \u001b[39m!=\u001b[39m \u001b[39m5\u001b[39m:\n",
      "File \u001b[0;32m~/Library/Python/3.11/lib/python/site-packages/ipykernel/iostream.py:486\u001b[0m, in \u001b[0;36mOutStream.flush\u001b[0;34m(self)\u001b[0m\n\u001b[1;32m    484\u001b[0m \u001b[39m# wait for flush to actually get through, if we can.\u001b[39;00m\n\u001b[1;32m    485\u001b[0m evt \u001b[39m=\u001b[39m threading\u001b[39m.\u001b[39mEvent()\n\u001b[0;32m--> 486\u001b[0m \u001b[39mself\u001b[39;49m\u001b[39m.\u001b[39;49mpub_thread\u001b[39m.\u001b[39;49mschedule(evt\u001b[39m.\u001b[39;49mset)\n\u001b[1;32m    487\u001b[0m \u001b[39m# and give a timeout to avoid\u001b[39;00m\n\u001b[1;32m    488\u001b[0m \u001b[39mif\u001b[39;00m \u001b[39mnot\u001b[39;00m evt\u001b[39m.\u001b[39mwait(\u001b[39mself\u001b[39m\u001b[39m.\u001b[39mflush_timeout):\n\u001b[1;32m    489\u001b[0m     \u001b[39m# write directly to __stderr__ instead of warning because\u001b[39;00m\n\u001b[1;32m    490\u001b[0m     \u001b[39m# if this is happening sys.stderr may be the problem.\u001b[39;00m\n",
      "File \u001b[0;32m~/Library/Python/3.11/lib/python/site-packages/ipykernel/iostream.py:210\u001b[0m, in \u001b[0;36mIOPubThread.schedule\u001b[0;34m(self, f)\u001b[0m\n\u001b[1;32m    208\u001b[0m     \u001b[39mself\u001b[39m\u001b[39m.\u001b[39m_events\u001b[39m.\u001b[39mappend(f)\n\u001b[1;32m    209\u001b[0m     \u001b[39m# wake event thread (message content is ignored)\u001b[39;00m\n\u001b[0;32m--> 210\u001b[0m     \u001b[39mself\u001b[39;49m\u001b[39m.\u001b[39;49m_event_pipe\u001b[39m.\u001b[39;49msend(\u001b[39mb\u001b[39;49m\u001b[39m\"\u001b[39;49m\u001b[39m\"\u001b[39;49m)\n\u001b[1;32m    211\u001b[0m \u001b[39melse\u001b[39;00m:\n\u001b[1;32m    212\u001b[0m     f()\n",
      "File \u001b[0;32m~/Library/Python/3.11/lib/python/site-packages/zmq/sugar/socket.py:620\u001b[0m, in \u001b[0;36mSocket.send\u001b[0;34m(self, data, flags, copy, track, routing_id, group)\u001b[0m\n\u001b[1;32m    613\u001b[0m         data \u001b[39m=\u001b[39m zmq\u001b[39m.\u001b[39mFrame(\n\u001b[1;32m    614\u001b[0m             data,\n\u001b[1;32m    615\u001b[0m             track\u001b[39m=\u001b[39mtrack,\n\u001b[1;32m    616\u001b[0m             copy\u001b[39m=\u001b[39mcopy \u001b[39mor\u001b[39;00m \u001b[39mNone\u001b[39;00m,\n\u001b[1;32m    617\u001b[0m             copy_threshold\u001b[39m=\u001b[39m\u001b[39mself\u001b[39m\u001b[39m.\u001b[39mcopy_threshold,\n\u001b[1;32m    618\u001b[0m         )\n\u001b[1;32m    619\u001b[0m     data\u001b[39m.\u001b[39mgroup \u001b[39m=\u001b[39m group\n\u001b[0;32m--> 620\u001b[0m \u001b[39mreturn\u001b[39;00m \u001b[39msuper\u001b[39;49m()\u001b[39m.\u001b[39;49msend(data, flags\u001b[39m=\u001b[39;49mflags, copy\u001b[39m=\u001b[39;49mcopy, track\u001b[39m=\u001b[39;49mtrack)\n",
      "File \u001b[0;32mzmq/backend/cython/socket.pyx:746\u001b[0m, in \u001b[0;36mzmq.backend.cython.socket.Socket.send\u001b[0;34m()\u001b[0m\n",
      "File \u001b[0;32mzmq/backend/cython/socket.pyx:793\u001b[0m, in \u001b[0;36mzmq.backend.cython.socket.Socket.send\u001b[0;34m()\u001b[0m\n",
      "File \u001b[0;32mzmq/backend/cython/socket.pyx:250\u001b[0m, in \u001b[0;36mzmq.backend.cython.socket._send_copy\u001b[0;34m()\u001b[0m\n",
      "File \u001b[0;32m~/Library/Python/3.11/lib/python/site-packages/zmq/backend/cython/checkrc.pxd:13\u001b[0m, in \u001b[0;36mzmq.backend.cython.checkrc._check_rc\u001b[0;34m()\u001b[0m\n",
      "\u001b[0;31mKeyboardInterrupt\u001b[0m: "
     ]
    }
   ],
   "source": [
    "row = 2000000\n",
    "row = 11\n",
    "\n",
    "max_coor = 4000000\n",
    "\n",
    "\n",
    "for row in tqdm(range(0,max_coor+1)):\n",
    "    interval = P.empty()\n",
    "    for sensor, beacon in sensor_beacons:\n",
    "        distance = abs(sensor[0] - beacon[0]) + abs(sensor[1] - beacon[1])\n",
    "        beg, end = generate_pts_with_distance_in_row((sensor[0],sensor[1]),distance,map, row)\n",
    "        interval = interval | P.closed(beg, end)\n",
    "    nums = set()\n",
    "    for i in list(interval.complement().intersection(P.closed(0,max_coor))):\n",
    "        interval_py = eval(str(i))\n",
    "        nums = nums | set(range(interval_py[0]+1,interval_py[1]))\n",
    "    nums\n",
    "    if nums:\n",
    "        print(nums,row)\n",
    "        for x in nums:\n",
    "            tunning_freg = 4000000*x+row\n",
    "            print(f'{tunning_freg=}')\n",
    "    #count the beacons and sensor loc\n",
    "    cnt = set()\n",
    "    for sensor, beacon in sensor_beacons:\n",
    "        # print(sensor, beacon)\n",
    "        if sensor[0] == row:\n",
    "            cnt = cnt | {sensor}\n",
    "        if beacon[0] == row:\n",
    "            cnt = cnt | {beacon}\n",
    "    cnt\n",
    "# pprint(map)"
   ]
  }
 ],
 "metadata": {
  "kernelspec": {
   "display_name": "Python 3.11.0 64-bit",
   "language": "python",
   "name": "python3"
  },
  "language_info": {
   "codemirror_mode": {
    "name": "ipython",
    "version": 3
   },
   "file_extension": ".py",
   "mimetype": "text/x-python",
   "name": "python",
   "nbconvert_exporter": "python",
   "pygments_lexer": "ipython3",
   "version": "3.11.0"
  },
  "orig_nbformat": 4,
  "vscode": {
   "interpreter": {
    "hash": "aee8b7b246df8f9039afb4144a1f6fd8d2ca17a180786b69acc140d282b71a49"
   }
  }
 },
 "nbformat": 4,
 "nbformat_minor": 2
}
