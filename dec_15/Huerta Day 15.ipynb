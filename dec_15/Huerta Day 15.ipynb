{
 "cells": [
  {
   "cell_type": "code",
   "execution_count": 2,
   "id": "d55a06b7",
   "metadata": {
    "ExecuteTime": {
     "end_time": "2022-12-15T12:10:30.785519Z",
     "start_time": "2022-12-15T12:10:30.745433Z"
    }
   },
   "outputs": [],
   "source": [
    "sample_data = \"\"\"Sensor at x=2, y=18: closest beacon is at x=-2, y=15\n",
    "Sensor at x=9, y=16: closest beacon is at x=10, y=16\n",
    "Sensor at x=13, y=2: closest beacon is at x=15, y=3\n",
    "Sensor at x=12, y=14: closest beacon is at x=10, y=16\n",
    "Sensor at x=10, y=20: closest beacon is at x=10, y=16\n",
    "Sensor at x=14, y=17: closest beacon is at x=10, y=16\n",
    "Sensor at x=8, y=7: closest beacon is at x=2, y=10\n",
    "Sensor at x=2, y=0: closest beacon is at x=2, y=10\n",
    "Sensor at x=0, y=11: closest beacon is at x=2, y=10\n",
    "Sensor at x=20, y=14: closest beacon is at x=25, y=17\n",
    "Sensor at x=17, y=20: closest beacon is at x=21, y=22\n",
    "Sensor at x=16, y=7: closest beacon is at x=15, y=3\n",
    "Sensor at x=14, y=3: closest beacon is at x=15, y=3\n",
    "Sensor at x=20, y=1: closest beacon is at x=15, y=3\"\"\".split('\\n')"
   ]
  },
  {
   "cell_type": "code",
   "execution_count": 48,
   "id": "ca4e6363",
   "metadata": {
    "ExecuteTime": {
     "end_time": "2022-12-15T12:20:45.866798Z",
     "start_time": "2022-12-15T12:20:45.741734Z"
    }
   },
   "outputs": [
    {
     "name": "stdout",
     "output_type": "stream",
     "text": [
      "Retrieving Url\n",
      "Wrote to marcosh_input_day15.txt\n"
     ]
    }
   ],
   "source": [
    "from helpers import get_input\n",
    "input_text, input_list = get_input()"
   ]
  },
  {
   "cell_type": "code",
   "execution_count": 59,
   "id": "133869f6",
   "metadata": {
    "ExecuteTime": {
     "end_time": "2022-12-15T12:29:29.215582Z",
     "start_time": "2022-12-15T12:29:29.165852Z"
    }
   },
   "outputs": [
    {
     "data": {
      "text/plain": [
       "32"
      ]
     },
     "execution_count": 59,
     "metadata": {},
     "output_type": "execute_result"
    }
   ],
   "source": [
    "len(input_list)"
   ]
  },
  {
   "cell_type": "code",
   "execution_count": 4,
   "id": "5cafe8fb",
   "metadata": {
    "ExecuteTime": {
     "end_time": "2022-12-15T12:10:51.987204Z",
     "start_time": "2022-12-15T12:10:51.946224Z"
    }
   },
   "outputs": [],
   "source": [
    "import re"
   ]
  },
  {
   "cell_type": "code",
   "execution_count": 55,
   "id": "df729324",
   "metadata": {
    "ExecuteTime": {
     "end_time": "2022-12-15T12:24:35.321891Z",
     "start_time": "2022-12-15T12:24:35.287224Z"
    }
   },
   "outputs": [],
   "source": [
    "all_values = np.array([[int(x) for x in re.findall(\"-?\\d+\",y)]  for y in sample_data])\n",
    "\n",
    "sensors = np.array([[int(x) for x in re.findall(\"-?\\d+\",y)][:2]  for y in sample_data])\n",
    "\n",
    "beacons = np.array([[int(x) for x in re.findall(\"-?\\d+\",y)][2:]  for y in sample_data])"
   ]
  },
  {
   "cell_type": "code",
   "execution_count": 54,
   "id": "ef354ce5",
   "metadata": {
    "ExecuteTime": {
     "end_time": "2022-12-15T12:24:26.967531Z",
     "start_time": "2022-12-15T12:24:26.935328Z"
    }
   },
   "outputs": [],
   "source": [
    "def cityblock(row):\n",
    "    return abs(row[2]-row[0]) + abs(row[3]-row[1])"
   ]
  },
  {
   "cell_type": "code",
   "execution_count": 110,
   "id": "feb16d65",
   "metadata": {
    "ExecuteTime": {
     "end_time": "2022-12-15T13:15:09.287631Z",
     "start_time": "2022-12-15T13:15:09.212212Z"
    }
   },
   "outputs": [],
   "source": [
    "matched_distances = [(x,cityblock(x)) for x in all_values]"
   ]
  },
  {
   "cell_type": "code",
   "execution_count": 60,
   "id": "7cbb526a",
   "metadata": {
    "ExecuteTime": {
     "end_time": "2022-12-15T12:30:07.595043Z",
     "start_time": "2022-12-15T12:30:07.547568Z"
    }
   },
   "outputs": [],
   "source": [
    "real_data = np.array([[int(x) for x in re.findall(\"-?\\d+\",y)]  for y in input_list])"
   ]
  },
  {
   "cell_type": "code",
   "execution_count": 136,
   "id": "46e000c4",
   "metadata": {
    "ExecuteTime": {
     "end_time": "2022-12-15T13:19:16.442044Z",
     "start_time": "2022-12-15T13:19:16.402505Z"
    }
   },
   "outputs": [],
   "source": [
    "def excluded_rows(x,y,distance,row):\n",
    "    aa = distance-(abs(row-y))\n",
    "    res = aa * 2 + 1\n",
    "    if aa > 0:\n",
    "        return x,aa\n",
    "    return x,0"
   ]
  },
  {
   "cell_type": "code",
   "execution_count": 162,
   "id": "46c87ce4",
   "metadata": {
    "ExecuteTime": {
     "end_time": "2022-12-15T14:21:15.501329Z",
     "start_time": "2022-12-15T14:21:15.464253Z"
    }
   },
   "outputs": [],
   "source": [
    "def make_centroids_and_distances(matched_distances,row):\n",
    "    centroids_and_distances = [excluded_rows(coord[0],coord[1],d,row) for coord,d in matched_distances ]\n",
    "    return [x for x in centroids_and_distances if x[1] > 0]"
   ]
  },
  {
   "cell_type": "code",
   "execution_count": 141,
   "id": "02521e2e",
   "metadata": {
    "ExecuteTime": {
     "end_time": "2022-12-15T13:20:19.638900Z",
     "start_time": "2022-12-15T13:20:19.604815Z"
    }
   },
   "outputs": [],
   "source": [
    "centroids_and_distances = [x for x in centroids_and_distances if x[1] > 0]"
   ]
  },
  {
   "cell_type": "code",
   "execution_count": 142,
   "id": "12ca030d",
   "metadata": {
    "ExecuteTime": {
     "end_time": "2022-12-15T13:20:22.147063Z",
     "start_time": "2022-12-15T13:20:22.109129Z"
    }
   },
   "outputs": [
    {
     "data": {
      "text/plain": [
       "[(8, 6), (0, 2), (20, 4), (16, 2)]"
      ]
     },
     "execution_count": 142,
     "metadata": {},
     "output_type": "execute_result"
    }
   ],
   "source": [
    "centroids_and_distances"
   ]
  },
  {
   "cell_type": "code",
   "execution_count": 208,
   "id": "1453844d",
   "metadata": {
    "ExecuteTime": {
     "end_time": "2022-12-15T14:37:01.155440Z",
     "start_time": "2022-12-15T14:37:01.104793Z"
    }
   },
   "outputs": [],
   "source": [
    "def make_excluded_value_tuple(x):\n",
    "    right = x[0]+x[1]+1\n",
    "    left = x[0]-x[1]\n",
    "    #left = min(0,left)\n",
    "    #right = max(right,2000001)\n",
    "    return {x for x in range(left,right)}"
   ]
  },
  {
   "cell_type": "code",
   "execution_count": 201,
   "id": "ae736981",
   "metadata": {
    "ExecuteTime": {
     "end_time": "2022-12-15T14:36:00.367608Z",
     "start_time": "2022-12-15T14:36:00.321663Z"
    }
   },
   "outputs": [],
   "source": [
    "def get_beacon_set(beacon_list,y):\n",
    "    return {coord[0] for coord in beacon_list if coord[1] == y}\n"
   ]
  },
  {
   "cell_type": "code",
   "execution_count": 173,
   "id": "6c379d65",
   "metadata": {
    "ExecuteTime": {
     "end_time": "2022-12-15T14:25:03.749021Z",
     "start_time": "2022-12-15T14:25:03.711559Z"
    }
   },
   "outputs": [
    {
     "data": {
      "text/plain": [
       "26"
      ]
     },
     "execution_count": 173,
     "metadata": {},
     "output_type": "execute_result"
    }
   ],
   "source": [
    "prelim_list = set.union(*[make_excluded_value_tuple(x) for x in centroids_and_distances])\n",
    "beacon_list = get_beacon_set(beacons,10)\n",
    "len(prelim_list.difference(beacon_list))"
   ]
  },
  {
   "cell_type": "markdown",
   "id": "f84e2545",
   "metadata": {},
   "source": [
    "## Part 1 (won't scale!)"
   ]
  },
  {
   "cell_type": "code",
   "execution_count": 388,
   "id": "165e539d",
   "metadata": {
    "ExecuteTime": {
     "end_time": "2022-12-15T17:12:46.962950Z",
     "start_time": "2022-12-15T17:12:46.913566Z"
    }
   },
   "outputs": [],
   "source": [
    "all_values = np.array([[int(x) for x in re.findall(\"-?\\d+\",y)]  for y in input_list])\n",
    "\n",
    "sensors = np.array([[int(x) for x in re.findall(\"-?\\d+\",y)][:2]  for y in input_list])\n",
    "\n",
    "beacons = np.array([[int(x) for x in re.findall(\"-?\\d+\",y)][2:]  for y in input_list])"
   ]
  },
  {
   "cell_type": "code",
   "execution_count": 389,
   "id": "01c7a14e",
   "metadata": {
    "ExecuteTime": {
     "end_time": "2022-12-15T17:12:50.147990Z",
     "start_time": "2022-12-15T17:12:50.100379Z"
    }
   },
   "outputs": [],
   "source": [
    "def make_matched_distance(all_values):\n",
    "    return [(x,cityblock(x)) for x in all_values]"
   ]
  },
  {
   "cell_type": "code",
   "execution_count": 390,
   "id": "add3f184",
   "metadata": {
    "ExecuteTime": {
     "end_time": "2022-12-15T17:12:50.499118Z",
     "start_time": "2022-12-15T17:12:50.454025Z"
    }
   },
   "outputs": [],
   "source": [
    "matched_distances = make_matched_distance(all_values)"
   ]
  },
  {
   "cell_type": "code",
   "execution_count": 391,
   "id": "05cf7c50",
   "metadata": {
    "ExecuteTime": {
     "end_time": "2022-12-15T17:12:50.910337Z",
     "start_time": "2022-12-15T17:12:50.865854Z"
    }
   },
   "outputs": [],
   "source": [
    "TARGET = 2000000\n",
    "centroids_and_distances = make_centroids_and_distances(matched_distances,TARGET)"
   ]
  },
  {
   "cell_type": "code",
   "execution_count": 394,
   "id": "7bfd1358",
   "metadata": {
    "ExecuteTime": {
     "end_time": "2022-12-15T17:13:15.040066Z",
     "start_time": "2022-12-15T17:13:14.499439Z"
    }
   },
   "outputs": [
    {
     "data": {
      "text/plain": [
       "4717631"
      ]
     },
     "execution_count": 394,
     "metadata": {},
     "output_type": "execute_result"
    }
   ],
   "source": [
    "prelim_list = set.union(*[make_excluded_value_tuple(x) for x in centroids_and_distances])\n",
    "beacon_list = get_beacon_set(beacons,TARGET)\n",
    "len(prelim_list.difference(beacon_list)) ## annoying that beacons don't count"
   ]
  },
  {
   "cell_type": "code",
   "execution_count": null,
   "id": "06cd22c5",
   "metadata": {},
   "outputs": [],
   "source": [
    "final.difference()"
   ]
  },
  {
   "cell_type": "markdown",
   "id": "85448a74",
   "metadata": {},
   "source": [
    "## Part 2"
   ]
  },
  {
   "cell_type": "code",
   "execution_count": 400,
   "id": "71973ec2",
   "metadata": {
    "ExecuteTime": {
     "end_time": "2022-12-15T17:14:36.344193Z",
     "start_time": "2022-12-15T17:14:36.297674Z"
    }
   },
   "outputs": [],
   "source": [
    "def make_excluded_value_range(x):\n",
    "    right = x[0]+x[1]\n",
    "    left = x[0]-x[1]\n",
    "    if left < 0:\n",
    "        left = 0\n",
    "    right = min(right,4000000)\n",
    "    return left,right"
   ]
  },
  {
   "cell_type": "code",
   "execution_count": 401,
   "id": "0d1c6001",
   "metadata": {
    "ExecuteTime": {
     "end_time": "2022-12-15T17:14:36.587824Z",
     "start_time": "2022-12-15T17:14:36.541690Z"
    }
   },
   "outputs": [],
   "source": [
    "def combine_two_pairs(pair1,pair2):\n",
    "    if pair2[0] <= pair1[1]:\n",
    "        return (pair1[0],max(pair2[1],pair1[1]))"
   ]
  },
  {
   "cell_type": "code",
   "execution_count": 402,
   "id": "c9983066",
   "metadata": {
    "ExecuteTime": {
     "end_time": "2022-12-15T17:14:36.892545Z",
     "start_time": "2022-12-15T17:14:36.841686Z"
    }
   },
   "outputs": [],
   "source": [
    "def process_pairs(pairs):\n",
    "    if not any(x[1] == 4000000 for x in pairs):\n",
    "        return\n",
    "    if not any(x[0] == 0 for x in pairs):\n",
    "        return\n",
    "    sorted_pairs = sorted(pairs,key=lambda x:x[0])\n",
    "    remaining_pairs = []\n",
    "    new_pair = sorted_pairs.pop(0)\n",
    "    while sorted_pairs:\n",
    "        next_pair = sorted_pairs.pop(0)\n",
    "        #print(new_pair,next_pair)\n",
    "        maybe_new_pair = combine_two_pairs(new_pair,next_pair)\n",
    "        if maybe_new_pair == (0, 4000000):\n",
    "            return\n",
    "        if not maybe_new_pair:\n",
    "            #print(new_pair,next_pair)\n",
    "            break\n",
    "        #print(maybe_new_pair)\n",
    "        new_pair = maybe_new_pair\n",
    "    if abs(new_pair[1]-next_pair[0]) > 2:\n",
    "        return\n",
    "    else:\n",
    "        return new_pair[1]+1\n",
    "            \n",
    "        "
   ]
  },
  {
   "cell_type": "code",
   "execution_count": 403,
   "id": "cc414989",
   "metadata": {
    "ExecuteTime": {
     "end_time": "2022-12-15T17:14:37.813909Z",
     "start_time": "2022-12-15T17:14:37.768222Z"
    }
   },
   "outputs": [],
   "source": [
    "from tqdm.notebook import tqdm"
   ]
  },
  {
   "cell_type": "code",
   "execution_count": 407,
   "id": "7a0e7a72",
   "metadata": {
    "ExecuteTime": {
     "end_time": "2022-12-15T17:18:05.321121Z",
     "start_time": "2022-12-15T17:17:52.781140Z"
    }
   },
   "outputs": [
    {
     "data": {
      "application/vnd.jupyter.widget-view+json": {
       "model_id": "31bcf1f11a9348dcbd875a421e04dc60",
       "version_major": 2,
       "version_minor": 0
      },
      "text/plain": [
       "  0%|          | 0/4000000 [00:00<?, ?it/s]"
      ]
     },
     "metadata": {},
     "output_type": "display_data"
    },
    {
     "name": "stdout",
     "output_type": "stream",
     "text": [
      "3355220 3299359\n",
      "3299359\n"
     ]
    }
   ],
   "source": [
    "for target in tqdm(range(4000000,0,-1)):  # a priori I know mine is closer to the top and just testing the rerun quickly\n",
    "    centroids_and_distances = make_centroids_and_distances(matched_distances,target)\n",
    "    pairs = [make_excluded_value_range(item) for item in centroids_and_distances]\n",
    "    out = process_pairs(pairs)\n",
    "    if out:\n",
    "        print (target,out)\n",
    "        break\n",
    "print(out)"
   ]
  },
  {
   "cell_type": "code",
   "execution_count": 406,
   "id": "9ff30fb9",
   "metadata": {
    "ExecuteTime": {
     "end_time": "2022-12-15T17:15:11.777350Z",
     "start_time": "2022-12-15T17:15:11.738750Z"
    }
   },
   "outputs": [
    {
     "data": {
      "text/plain": [
       "13197439355220"
      ]
     },
     "execution_count": 406,
     "metadata": {},
     "output_type": "execute_result"
    }
   ],
   "source": [
    "4000000*out + target"
   ]
  }
 ],
 "metadata": {
  "kernelspec": {
   "display_name": "Python 3 (ipykernel)",
   "language": "python",
   "name": "python3"
  },
  "language_info": {
   "codemirror_mode": {
    "name": "ipython",
    "version": 3
   },
   "file_extension": ".py",
   "mimetype": "text/x-python",
   "name": "python",
   "nbconvert_exporter": "python",
   "pygments_lexer": "ipython3",
   "version": "3.10.6"
  },
  "toc": {
   "base_numbering": 1,
   "nav_menu": {},
   "number_sections": true,
   "sideBar": true,
   "skip_h1_title": false,
   "title_cell": "Table of Contents",
   "title_sidebar": "Contents",
   "toc_cell": false,
   "toc_position": {},
   "toc_section_display": true,
   "toc_window_display": false
  }
 },
 "nbformat": 4,
 "nbformat_minor": 5
}
