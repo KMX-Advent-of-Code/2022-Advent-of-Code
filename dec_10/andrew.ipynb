{
 "cells": [
  {
   "cell_type": "code",
   "execution_count": 1,
   "metadata": {},
   "outputs": [],
   "source": [
    "import numpy as np\n",
    "import pandas as pd\n",
    "import math\n",
    "import scipy"
   ]
  },
  {
   "cell_type": "code",
   "execution_count": 82,
   "metadata": {},
   "outputs": [
    {
     "data": {
      "text/plain": [
       "array([[1, 4, 2],\n",
       "       [4, 5, 2],\n",
       "       [2, 2, 0]])"
      ]
     },
     "execution_count": 82,
     "metadata": {},
     "output_type": "execute_result"
    }
   ],
   "source": [
    "scipy.signal.correlate2d(np.array([\n",
    "    [1,2,0],\n",
    "    [1,0,0],\n",
    "    [1,0,0]]), np.array([[1,1,1],\n",
    "                         [1,1,0],\n",
    "                         [1,0,0]]), mode='same')"
   ]
  },
  {
   "cell_type": "code",
   "execution_count": 81,
   "metadata": {},
   "outputs": [
    {
     "name": "stdout",
     "output_type": "stream",
     "text": [
      "{'x': 17}\n",
      "240\n"
     ]
    }
   ],
   "source": [
    "file1 = open('10.txt', 'r')\n",
    "lines = file1.readlines()\n",
    "\n",
    "registers = {'x':1}\n",
    "cycles = 0\n",
    "signals_strengths = []\n",
    "\n",
    "for l in lines:\n",
    "    l_split = l.replace('\\n','').split(' ')\n",
    "    if len(l_split) == 1:\n",
    "        cycles += 1\n",
    "        signals_strengths.append((cycles*registers['x']))\n",
    "    elif len(l_split) == 2:\n",
    "        if l_split[0] == 'addx':\n",
    "            cycles += 1\n",
    "            signals_strengths.append((cycles*registers['x']))\n",
    "            cycles += 1\n",
    "            signals_strengths.append((cycles*registers['x']))\n",
    "            registers[l_split[0][-1]] += int(l_split[1])\n",
    "\n",
    "\n",
    "print(registers)\n",
    "print(cycles)"
   ]
  },
  {
   "cell_type": "code",
   "execution_count": 82,
   "metadata": {},
   "outputs": [
    {
     "data": {
      "text/plain": [
       "13140"
      ]
     },
     "execution_count": 82,
     "metadata": {},
     "output_type": "execute_result"
    }
   ],
   "source": [
    "sum([signals_strengths[i-1] for i in [20,60,100,140,180,220]])"
   ]
  },
  {
   "cell_type": "markdown",
   "metadata": {},
   "source": [
    "# Second part"
   ]
  },
  {
   "cell_type": "code",
   "execution_count": 137,
   "metadata": {},
   "outputs": [
    {
     "name": "stdout",
     "output_type": "stream",
     "text": [
      "{'x': 37}\n",
      "240\n"
     ]
    }
   ],
   "source": [
    "file1 = open('10.txt', 'r')\n",
    "lines = file1.readlines()\n",
    "\n",
    "registers = {'x':1}\n",
    "cycles = 0\n",
    "signals_strengths = []\n",
    "\n",
    "for l in lines:\n",
    "    l_split = l.replace('\\n','').split(' ')\n",
    "    if len(l_split) == 1:\n",
    "        cycles += 1\n",
    "        signals_strengths.append((cycles,registers['x']))\n",
    "    elif len(l_split) == 2:\n",
    "        if l_split[0] == 'addx':\n",
    "            cycles += 1\n",
    "            signals_strengths.append((cycles,registers['x']))\n",
    "            cycles += 1\n",
    "            signals_strengths.append((cycles,registers['x']))\n",
    "            registers[l_split[0][-1]] += int(l_split[1])\n",
    "\n",
    "\n",
    "print(registers)\n",
    "print(cycles)\n",
    "\n",
    "crt = []\n",
    "for el in signals_strengths:\n",
    "    c_num, position = el\n",
    "    if abs((c_num-1)%40-(position)) <= 1:\n",
    "        crt.append('#')\n",
    "    else:\n",
    "        crt.append('.')"
   ]
  },
  {
   "cell_type": "code",
   "execution_count": 138,
   "metadata": {},
   "outputs": [
    {
     "name": "stdout",
     "output_type": "stream",
     "text": [
      "####.#....###..#....####..##..####.#....\n",
      "#....#....#..#.#.......#.#..#....#.#....\n",
      "###..#....#..#.#......#..#......#..#....\n",
      "#....#....###..#.....#...#.##..#...#....\n",
      "#....#....#....#....#....#..#.#....#....\n",
      "####.####.#....####.####..###.####.####.\n"
     ]
    }
   ],
   "source": [
    "while len(crt) > 0:\n",
    "    print(''.join(crt[:40]))\n",
    "    del crt[:40]"
   ]
  },
  {
   "cell_type": "code",
   "execution_count": null,
   "metadata": {},
   "outputs": [],
   "source": []
  }
 ],
 "metadata": {
  "kernelspec": {
   "display_name": "Python 3.11.0 64-bit",
   "language": "python",
   "name": "python3"
  },
  "language_info": {
   "codemirror_mode": {
    "name": "ipython",
    "version": 3
   },
   "file_extension": ".py",
   "mimetype": "text/x-python",
   "name": "python",
   "nbconvert_exporter": "python",
   "pygments_lexer": "ipython3",
   "version": "3.11.0"
  },
  "orig_nbformat": 4,
  "vscode": {
   "interpreter": {
    "hash": "aee8b7b246df8f9039afb4144a1f6fd8d2ca17a180786b69acc140d282b71a49"
   }
  }
 },
 "nbformat": 4,
 "nbformat_minor": 2
}
