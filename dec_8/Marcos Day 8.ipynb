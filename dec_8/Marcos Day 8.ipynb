{
 "cells": [
  {
   "cell_type": "code",
   "execution_count": 1,
   "id": "0ca91dac",
   "metadata": {
    "ExecuteTime": {
     "end_time": "2022-12-08T04:57:04.142414Z",
     "start_time": "2022-12-08T04:57:04.098412Z"
    }
   },
   "outputs": [],
   "source": [
    "from helpers import get_input"
   ]
  },
  {
   "cell_type": "code",
   "execution_count": 7,
   "id": "c69b3e7e",
   "metadata": {
    "ExecuteTime": {
     "end_time": "2022-12-08T05:00:24.034930Z",
     "start_time": "2022-12-08T05:00:23.906485Z"
    }
   },
   "outputs": [
    {
     "name": "stdout",
     "output_type": "stream",
     "text": [
      "Retrieving Url\n",
      "Wrote to marcosh_input_day8.txt\n"
     ]
    }
   ],
   "source": [
    "input_text, input_list = get_input()"
   ]
  },
  {
   "cell_type": "code",
   "execution_count": 14,
   "id": "6945763f",
   "metadata": {
    "ExecuteTime": {
     "end_time": "2022-12-08T05:06:06.330260Z",
     "start_time": "2022-12-08T05:06:06.296277Z"
    }
   },
   "outputs": [],
   "source": [
    "test_list = \"\"\"30373\n",
    "25512\n",
    "65332\n",
    "33549\n",
    "35390\"\"\".split('\\n')"
   ]
  },
  {
   "cell_type": "code",
   "execution_count": 15,
   "id": "2095cee9",
   "metadata": {
    "ExecuteTime": {
     "end_time": "2022-12-08T05:06:40.283982Z",
     "start_time": "2022-12-08T05:06:40.251160Z"
    }
   },
   "outputs": [],
   "source": [
    "mytestarray =  np.array([[int(y) for y in list(x)] for x in test_list])"
   ]
  },
  {
   "cell_type": "code",
   "execution_count": 13,
   "id": "9b8c1f63",
   "metadata": {
    "ExecuteTime": {
     "end_time": "2022-12-08T05:05:50.317751Z",
     "start_time": "2022-12-08T05:05:50.279344Z"
    }
   },
   "outputs": [],
   "source": [
    "myarray = np.array([[int(y) for y in list(x)] for x in input_list])"
   ]
  },
  {
   "cell_type": "markdown",
   "id": "07738824",
   "metadata": {},
   "source": [
    "## Part 1"
   ]
  },
  {
   "cell_type": "code",
   "execution_count": 134,
   "id": "184c4792",
   "metadata": {
    "ExecuteTime": {
     "end_time": "2022-12-08T05:41:56.228336Z",
     "start_time": "2022-12-08T05:41:56.189355Z"
    }
   },
   "outputs": [],
   "source": [
    "def check_point(x,y,arr):\n",
    "    padded = np.pad(arr,pad_width=1,constant_values=-1)\n",
    "    target = padded[x,y]\n",
    "    left = padded[x,0:y]\n",
    "    right = padded[x,y+1:padded.shape[1]]\n",
    "    up = padded[0:x,y]\n",
    "    down = padded[x+1:padded.shape[0],y]\n",
    "    \n",
    "    return any(target > max(x) for x in [right,left,up,down])"
   ]
  },
  {
   "cell_type": "code",
   "execution_count": 142,
   "id": "45f41426",
   "metadata": {
    "ExecuteTime": {
     "end_time": "2022-12-08T05:42:16.154249Z",
     "start_time": "2022-12-08T05:42:16.112819Z"
    }
   },
   "outputs": [],
   "source": [
    "def process_array(arr):\n",
    "    total = 0\n",
    "    i = 0\n",
    "    for x in range(1,arr.shape[0]+1):\n",
    "        for y in range(1,arr.shape[1]+1):\n",
    "            i = i + 1\n",
    "            total = total + int(check_point(x,y,arr))\n",
    "    return total"
   ]
  },
  {
   "cell_type": "code",
   "execution_count": 143,
   "id": "8ecd6e6d",
   "metadata": {
    "ExecuteTime": {
     "end_time": "2022-12-08T05:42:16.495038Z",
     "start_time": "2022-12-08T05:42:16.453379Z"
    }
   },
   "outputs": [
    {
     "data": {
      "text/plain": [
       "True"
      ]
     },
     "execution_count": 143,
     "metadata": {},
     "output_type": "execute_result"
    }
   ],
   "source": [
    "check_point(1,1,mytestarray)"
   ]
  },
  {
   "cell_type": "code",
   "execution_count": 144,
   "id": "e34fb55b",
   "metadata": {
    "ExecuteTime": {
     "end_time": "2022-12-08T05:42:17.052908Z",
     "start_time": "2022-12-08T05:42:16.811790Z"
    }
   },
   "outputs": [
    {
     "data": {
      "text/plain": [
       "1533"
      ]
     },
     "execution_count": 144,
     "metadata": {},
     "output_type": "execute_result"
    }
   ],
   "source": [
    "process_array(myarray)"
   ]
  },
  {
   "cell_type": "markdown",
   "id": "437692e7",
   "metadata": {},
   "source": [
    "## Part 2"
   ]
  },
  {
   "cell_type": "code",
   "execution_count": 166,
   "id": "3ff00ee8",
   "metadata": {
    "ExecuteTime": {
     "end_time": "2022-12-08T05:52:06.543583Z",
     "start_time": "2022-12-08T05:52:06.486608Z"
    }
   },
   "outputs": [],
   "source": [
    "def scenic_axis(target,arr):\n",
    "    score = 0\n",
    "    for tree in list(arr)[:-1]:\n",
    "        score = score + 1\n",
    "        if target <= tree:\n",
    "            break\n",
    "    return score"
   ]
  },
  {
   "cell_type": "code",
   "execution_count": 190,
   "id": "8d3d2729",
   "metadata": {
    "ExecuteTime": {
     "end_time": "2022-12-08T06:00:19.020888Z",
     "start_time": "2022-12-08T06:00:18.966966Z"
    }
   },
   "outputs": [
    {
     "data": {
      "text/plain": [
       "1"
      ]
     },
     "execution_count": 190,
     "metadata": {},
     "output_type": "execute_result"
    }
   ],
   "source": [
    "scenic_axis(5,[5,-5,3,-1])"
   ]
  },
  {
   "cell_type": "code",
   "execution_count": 199,
   "id": "c9a502c1",
   "metadata": {
    "ExecuteTime": {
     "end_time": "2022-12-08T14:27:18.840568Z",
     "start_time": "2022-12-08T14:27:18.784668Z"
    }
   },
   "outputs": [],
   "source": [
    "def scenic_score(x,y,arr):\n",
    "    \n",
    "    padded = np.pad(arr,pad_width=1,constant_values=-1) #not sure I need to pad\n",
    "    target = padded[x,y]\n",
    "    left = np.flip(padded[x,0:y])\n",
    "    right = (padded[x,y+1:padded.shape[1]])\n",
    "    up = np.flip(padded[0:x,y])\n",
    "    down = (padded[x+1:padded.shape[0],y])\n",
    "    return np.prod([scenic_axis(target,z) for z in [right,left,up,down]])  #target not a hardcoded 5"
   ]
  },
  {
   "cell_type": "code",
   "execution_count": 200,
   "id": "0294f905",
   "metadata": {
    "ExecuteTime": {
     "end_time": "2022-12-08T14:27:19.277148Z",
     "start_time": "2022-12-08T14:27:19.221902Z"
    }
   },
   "outputs": [],
   "source": [
    "def process_array2(arr):\n",
    "    best_score = 0\n",
    "    for x in range(0,arr.shape[0]+1): #starting at 1 or 0 seem to do the same...\n",
    "        for y in range(0,arr.shape[1]+1):\n",
    "            if (new_score := scenic_score(x,y,arr)) > best_score:\n",
    "                best_score = new_score\n",
    "    return best_score"
   ]
  },
  {
   "cell_type": "code",
   "execution_count": 198,
   "id": "31d6788c",
   "metadata": {
    "ExecuteTime": {
     "end_time": "2022-12-08T14:26:40.100908Z",
     "start_time": "2022-12-08T14:26:39.825191Z"
    }
   },
   "outputs": [
    {
     "data": {
      "text/plain": [
       "345744"
      ]
     },
     "execution_count": 198,
     "metadata": {},
     "output_type": "execute_result"
    }
   ],
   "source": [
    "process_array2(myarray)"
   ]
  },
  {
   "cell_type": "code",
   "execution_count": null,
   "id": "242fea34",
   "metadata": {},
   "outputs": [],
   "source": []
  }
 ],
 "metadata": {
  "kernelspec": {
   "display_name": "Python 3 (ipykernel)",
   "language": "python",
   "name": "python3"
  },
  "language_info": {
   "codemirror_mode": {
    "name": "ipython",
    "version": 3
   },
   "file_extension": ".py",
   "mimetype": "text/x-python",
   "name": "python",
   "nbconvert_exporter": "python",
   "pygments_lexer": "ipython3",
   "version": "3.10.6"
  },
  "toc": {
   "base_numbering": 1,
   "nav_menu": {},
   "number_sections": true,
   "sideBar": true,
   "skip_h1_title": false,
   "title_cell": "Table of Contents",
   "title_sidebar": "Contents",
   "toc_cell": false,
   "toc_position": {},
   "toc_section_display": true,
   "toc_window_display": false
  }
 },
 "nbformat": 4,
 "nbformat_minor": 5
}
