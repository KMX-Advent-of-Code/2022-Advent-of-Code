{
 "cells": [
  {
   "cell_type": "code",
   "execution_count": 1,
   "metadata": {},
   "outputs": [],
   "source": [
    "import numpy as np\n",
    "import pandas as pd\n",
    "import math"
   ]
  },
  {
   "cell_type": "code",
   "execution_count": 144,
   "metadata": {},
   "outputs": [],
   "source": [
    "file1 = open('8.txt', 'r')\n",
    "lines = file1.readlines()\n",
    "\n",
    "arr = np.array([[ int(c) for c in l.replace('\\n','')] for l in lines])\n",
    "l,w = arr.shape\n",
    "# print(arr)"
   ]
  },
  {
   "cell_type": "code",
   "execution_count": 145,
   "metadata": {},
   "outputs": [
    {
     "data": {
      "text/plain": [
       "1690.0"
      ]
     },
     "execution_count": 145,
     "metadata": {},
     "output_type": "execute_result"
    }
   ],
   "source": [
    "visible = np.zeros([l,w])\n",
    "\n",
    "visible[l-1,:] = 1\n",
    "visible[0,:] = 1\n",
    "visible[:,0] = 1\n",
    "visible[:,w-1] = 1\n",
    "\n",
    "# print(visible)\n",
    "\n",
    "def check(x,y,arr):\n",
    "    l,w = arr.shape\n",
    "    if x == 0 or x == l-1:\n",
    "        return 1\n",
    "    if y == 0 or y == w-1:\n",
    "        return 1\n",
    "    if all([arr[x,y] > arr[i,y] for i in range(0,x)]):\n",
    "        return 1\n",
    "    if all([arr[x,y] > arr[i,y] for i in range(x+1,l)]):\n",
    "        return 1     \n",
    "    if all([arr[x,y] > arr[x,j] for j in range(0,y)]):\n",
    "        return 1\n",
    "    if all([arr[x,y] > arr[x,j] for j in range(y+1,w)]):\n",
    "        return 1\n",
    "    return 0\n",
    "\n",
    "for x in range(l):\n",
    "    for y in range(w):\n",
    "        if check(x,y,arr):\n",
    "            visible[x,y] = 1\n",
    "visible\n",
    "sum(sum(visible))"
   ]
  },
  {
   "cell_type": "markdown",
   "metadata": {},
   "source": [
    "# Second part"
   ]
  },
  {
   "cell_type": "code",
   "execution_count": 143,
   "metadata": {},
   "outputs": [],
   "source": [
    "visible = np.zeros([l,w])\n",
    "\n",
    "# print(arr)\n",
    "\n",
    "def find_distance(x,y,arr):\n",
    "    l,w = arr.shape\n",
    "    distance = 1\n",
    "    tmp = 0\n",
    "    for i in range(1,x+1):\n",
    "        if arr[x,y] > arr[x-i,y]:\n",
    "            tmp += 1\n",
    "        else:\n",
    "            tmp += 1\n",
    "            break\n",
    "    distance *= tmp\n",
    "\n",
    "    tmp = 0\n",
    "    for i in range(1,y+1):\n",
    "        if arr[x,y] > arr[x,y-i]:\n",
    "            tmp += 1\n",
    "        else:\n",
    "            tmp += 1\n",
    "            break\n",
    "    distance *= tmp\n",
    "\n",
    "    tmp = 0\n",
    "\n",
    "    # print(x,y)\n",
    "    for i in range(1,l-x):\n",
    "        if arr[x,y] > arr[x+i,y]:\n",
    "            tmp += 1\n",
    "        else:\n",
    "            tmp += 1\n",
    "            break\n",
    "    distance *= tmp\n",
    "\n",
    "    tmp = 0\n",
    "    for i in range(1,w-y):\n",
    "        if arr[x,y] > arr[x,y+i]:\n",
    "            tmp += 1\n",
    "        else:\n",
    "            tmp += 1\n",
    "            break\n",
    "    distance *= tmp\n",
    "\n",
    "    return distance\n",
    "\n",
    "find_distance(1,2,arr)\n",
    "\n",
    "for x in range(l):\n",
    "    for y in range(w):\n",
    "        visible[x,y] = find_distance(x,y,arr)\n",
    "# visible"
   ]
  },
  {
   "cell_type": "code",
   "execution_count": 142,
   "metadata": {},
   "outputs": [
    {
     "data": {
      "text/plain": [
       "535680.0"
      ]
     },
     "execution_count": 142,
     "metadata": {},
     "output_type": "execute_result"
    }
   ],
   "source": [
    "visible.max()"
   ]
  }
 ],
 "metadata": {
  "kernelspec": {
   "display_name": "Python 3.11.0 64-bit",
   "language": "python",
   "name": "python3"
  },
  "language_info": {
   "codemirror_mode": {
    "name": "ipython",
    "version": 3
   },
   "file_extension": ".py",
   "mimetype": "text/x-python",
   "name": "python",
   "nbconvert_exporter": "python",
   "pygments_lexer": "ipython3",
   "version": "3.11.0"
  },
  "orig_nbformat": 4,
  "vscode": {
   "interpreter": {
    "hash": "aee8b7b246df8f9039afb4144a1f6fd8d2ca17a180786b69acc140d282b71a49"
   }
  }
 },
 "nbformat": 4,
 "nbformat_minor": 2
}
