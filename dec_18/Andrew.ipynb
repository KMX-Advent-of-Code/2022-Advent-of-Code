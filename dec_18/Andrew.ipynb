{
 "cells": [
  {
   "cell_type": "code",
   "execution_count": 1,
   "metadata": {},
   "outputs": [],
   "source": [
    "import numpy as np\n",
    "import pandas as pd\n",
    "import math\n",
    "import scipy\n",
    "import sys\n",
    "from tqdm import tqdm\n",
    "import functools\n",
    "import networkx as nx\n",
    "import itertools\n",
    "\n",
    "import portion as P\n",
    "import re\n",
    "import datetime\n",
    "import queue\n",
    "\n",
    "# interval = P.empty()\n",
    "# for i, j in [(0, 1), (2, 4), (6, 7), (3, 5)]:\n",
    "#     interval = interval | P.closed(i, j)\n",
    "# print(interval)"
   ]
  },
  {
   "cell_type": "code",
   "execution_count": 2,
   "metadata": {},
   "outputs": [],
   "source": [
    "class Object3d():\n",
    "    def __init__(self) -> None:\n",
    "        self.cubes = []\n",
    "        self.G=nx.Graph()\n",
    "\n",
    "    def __repr__(self) -> str:\n",
    "        if self.cubes:\n",
    "            return '\\n'.join([str(c) for c in self.cubes])\n",
    "        return 'empty Object3d'\n",
    "\n",
    "    def add_cube(self,node):\n",
    "        self.G.add_node(node)\n",
    "        self.cubes.append(node)\n",
    "\n",
    "        for c in self.cubes:\n",
    "            if self.find_distance(node,c) == 1:\n",
    "                self.G.add_edge(node,c)\n",
    "\n",
    "    def get_distance(self, node):\n",
    "        #gets min Manhattan distance between self.cubes and the given input\n",
    "        x,y,z = node\n",
    "        return min([abs(x-i)+abs(y-j)+abs(z-k) for i,j,k in self.cubes])\n",
    "\n",
    "    def find_distance(self, n1, n2):\n",
    "        #gets min Manhattan distance between two cubes\n",
    "        x,y,z = n1\n",
    "        i,j,k = n2\n",
    "        return abs(x-i)+abs(y-j)+abs(z-k)\n",
    "    \n",
    "    def get_surface(self):\n",
    "        return sum([6-self.G.degree(n) for n in self.cubes])\n",
    "\n",
    "    def get_exterior_surface(self):\n",
    "        space_range = []\n",
    "        x = []\n",
    "        y = []\n",
    "        z = []\n",
    "        for c in self.cubes:\n",
    "            x.append(c[0])\n",
    "            y.append(c[1])\n",
    "            z.append(c[2])\n",
    "        for l in [x,y,z]:\n",
    "            space_range.append((l.min(),l.max()))\n",
    "        \n"
   ]
  },
  {
   "cell_type": "code",
   "execution_count": 3,
   "metadata": {},
   "outputs": [
    {
     "name": "stdout",
     "output_type": "stream",
     "text": [
      "loaded 13 cubes\n",
      "object has 8 cubes\n",
      "object has 1 cubes\n",
      "object has 1 cubes\n",
      "object has 1 cubes\n",
      "object has 1 cubes\n",
      "object has 1 cubes\n"
     ]
    }
   ],
   "source": [
    "file1 = open('18.txt', 'r')\n",
    "lines = file1.readlines()\n",
    "\n",
    "cubes = []\n",
    "\n",
    "for l in lines:\n",
    "    x,y,z = l.replace('\\n','').split(',')\n",
    "    cubes.append((int(x),int(y),int(z)))\n",
    "    # print(x,y,z)\n",
    "\n",
    "print(f'loaded {len(cubes)} cubes')\n",
    "\n",
    "objects = []\n",
    "\n",
    "while cubes:\n",
    "    obj = Object3d()\n",
    "    obj.add_cube(cubes.pop(0))\n",
    "\n",
    "    object_expanded = True\n",
    "    while object_expanded:\n",
    "        expand_by_idx = []\n",
    "        object_expanded = False\n",
    "\n",
    "        for i,cube in enumerate(cubes):\n",
    "            if obj.get_distance(cube) == 1:\n",
    "                expand_by_idx.append(i)\n",
    "        if expand_by_idx:\n",
    "            # print(f'expanding by {expand_by_idx}')\n",
    "            for i in sorted(expand_by_idx, reverse=True):\n",
    "                obj.add_cube(cubes.pop(i))\n",
    "            object_expanded = True\n",
    "        # print(f'object has {len(obj.cubes)} cubes:\\n{obj}\\n')\n",
    "    # print(f'object has {len(obj.cubes)} cubes:\\n{obj}\\n')\n",
    "    print(f'object has {len(obj.cubes)} cubes')\n",
    "    objects.append(obj)\n"
   ]
  },
  {
   "cell_type": "code",
   "execution_count": 4,
   "metadata": {},
   "outputs": [],
   "source": [
    "##code for one object\n",
    "\n",
    "# obj = objects[0]\n",
    "# obj.get_surface()"
   ]
  },
  {
   "cell_type": "code",
   "execution_count": 5,
   "metadata": {},
   "outputs": [
    {
     "data": {
      "text/plain": [
       "64"
      ]
     },
     "execution_count": 5,
     "metadata": {},
     "output_type": "execute_result"
    }
   ],
   "source": [
    "sides = 0\n",
    "for obj in objects:\n",
    "    sides += obj.get_surface()\n",
    "\n",
    "sides"
   ]
  },
  {
   "cell_type": "markdown",
   "metadata": {},
   "source": [
    "# Second part"
   ]
  },
  {
   "attachments": {},
   "cell_type": "markdown",
   "metadata": {},
   "source": [
    "Find all interior cubes, add them to the input and run solution for part 1"
   ]
  },
  {
   "cell_type": "code",
   "execution_count": 6,
   "metadata": {},
   "outputs": [
    {
     "name": "stderr",
     "output_type": "stream",
     "text": [
      "100%|██████████| 54/54 [00:00<00:00, 51828.93it/s]\n"
     ]
    }
   ],
   "source": [
    "file1 = open('18.txt', 'r')\n",
    "lines = file1.readlines()\n",
    "\n",
    "cubes = []\n",
    "\n",
    "for l in lines:\n",
    "    x,y,z = l.replace('\\n','').split(',')\n",
    "    cubes.append((int(x),int(y),int(z)))\n",
    "\n",
    "space_range = []\n",
    "x = []\n",
    "y = []\n",
    "z = []\n",
    "for c in cubes:\n",
    "    x.append(c[0])\n",
    "    y.append(c[1])\n",
    "    z.append(c[2])\n",
    "\n",
    "for l in [x,y,z]:\n",
    "    space_range.append((min(l),max(l)))\n",
    "\n",
    "    \n",
    "def get_non_object_neighbors(c):\n",
    "    ret = []\n",
    "    x,y,z = c\n",
    "    for i,j,k in [[1,0,0],[-1,0,0],[0,1,0],[0,-1,0],[0,0,1],[0,0,-1]]:\n",
    "        new_cube = (x+i,y+j,z+k)\n",
    "        if new_cube not in cubes:\n",
    "            ret.append(new_cube)\n",
    "    return ret\n",
    "\n",
    "# for c in self.cubes:\n",
    "## add interior cubes using dijkstra's\n",
    "\n",
    "test_cubes = [(x,y,z) for x in range(space_range[0][0],space_range[0][1]+1) for y in range(space_range[1][0],space_range[1][1]+1) for z in range(space_range[2][0],space_range[2][1]+1)]\n",
    "\n",
    "exterior_cubes = set()\n",
    "\n",
    "interior_cubes = set()\n",
    "for c in tqdm(test_cubes):\n",
    "    if c in cubes or c in interior_cubes or c in exterior_cubes:\n",
    "        continue\n",
    "    # print(c)\n",
    "    expanded_set = set()\n",
    "    expanded_set_range = [[c[0],c[0]],[c[1],c[1]],[c[2],c[2]]]\n",
    "    current_set = {c}\n",
    "    while True:\n",
    "        tmp_set = set()\n",
    "        for cube in current_set:\n",
    "            tmp_set = tmp_set | set(get_non_object_neighbors(cube))\n",
    "        expanded_set = expanded_set | current_set\n",
    "        for cube in current_set:\n",
    "            #update expanded_set_range\n",
    "            for i in range(3):\n",
    "                if cube[i] < expanded_set_range[i][0]:\n",
    "                    expanded_set_range[i][0] = cube[i]\n",
    "                if cube[i] > expanded_set_range[i][1]:\n",
    "                    expanded_set_range[i][1] = cube[i]\n",
    "\n",
    "        current_set = tmp_set\n",
    "        # print(f'{expanded_set=}')\n",
    "        \n",
    "        if not current_set or len(current_set) == len(current_set & expanded_set):\n",
    "            #this is interior pocket\n",
    "            # print(f'Found and interior pocket with the size of {len(expanded_set)}')\n",
    "            interior_cubes = interior_cubes | expanded_set\n",
    "            break\n",
    "        if any([expanded_set_range[i][0] < space_range[i][0] for i in range(3)] + [expanded_set_range[i][1] > space_range[i][1] for i in range(3)]):\n",
    "            #we're on the outside\n",
    "            exterior_cubes = exterior_cubes | expanded_set\n",
    "            break\n",
    "\n",
    "        if len(expanded_set) > (len(cubes)//6+2)**(3/2):\n",
    "            print(f'{len(expanded_set)=}, {len(cubes)=}')\n",
    "\n",
    "        if len(exterior_cubes & expanded_set) > 0:\n",
    "            #we're on the outside\n",
    "            exterior_cubes = exterior_cubes | expanded_set\n",
    "            break\n",
    "\n",
    "        # if len(expanded_set) > 300:\n",
    "        #     print(len(expanded_set))\n",
    "\n",
    "\n",
    "# test_cubes"
   ]
  },
  {
   "cell_type": "code",
   "execution_count": 7,
   "metadata": {},
   "outputs": [
    {
     "data": {
      "text/plain": [
       "1"
      ]
     },
     "execution_count": 7,
     "metadata": {},
     "output_type": "execute_result"
    }
   ],
   "source": [
    "len(set(interior_cubes))"
   ]
  },
  {
   "cell_type": "code",
   "execution_count": 9,
   "metadata": {},
   "outputs": [
    {
     "name": "stdout",
     "output_type": "stream",
     "text": [
      "loaded 14 cubes\n",
      "object has 14 cubes\n"
     ]
    }
   ],
   "source": [
    "print(f'loaded {len(cubes + list(interior_cubes))} cubes')\n",
    "\n",
    "objects = []\n",
    "\n",
    "cubes2 = cubes + list(interior_cubes)\n",
    "\n",
    "while cubes2:\n",
    "    obj = Object3d()\n",
    "    obj.add_cube(cubes2.pop(0))\n",
    "\n",
    "    object_expanded = True\n",
    "    while object_expanded:\n",
    "        expand_by_idx = []\n",
    "        object_expanded = False\n",
    "\n",
    "        for i,cube in enumerate(cubes2):\n",
    "            if obj.get_distance(cube) == 1:\n",
    "                expand_by_idx.append(i)\n",
    "        if expand_by_idx:\n",
    "            # print(f'expanding by {expand_by_idx}')\n",
    "            for i in sorted(expand_by_idx, reverse=True):\n",
    "                obj.add_cube(cubes2.pop(i))\n",
    "            object_expanded = True\n",
    "    print(f'object has {len(obj.cubes)} cubes')\n",
    "    objects.append(obj)"
   ]
  },
  {
   "cell_type": "code",
   "execution_count": 10,
   "metadata": {},
   "outputs": [
    {
     "data": {
      "text/plain": [
       "58"
      ]
     },
     "execution_count": 10,
     "metadata": {},
     "output_type": "execute_result"
    }
   ],
   "source": [
    "sides = 0\n",
    "for obj in objects:\n",
    "    sides += obj.get_surface()\n",
    "\n",
    "sides"
   ]
  }
 ],
 "metadata": {
  "kernelspec": {
   "display_name": "Python 3",
   "language": "python",
   "name": "python3"
  },
  "language_info": {
   "codemirror_mode": {
    "name": "ipython",
    "version": 3
   },
   "file_extension": ".py",
   "mimetype": "text/x-python",
   "name": "python",
   "nbconvert_exporter": "python",
   "pygments_lexer": "ipython3",
   "version": "3.11.0 (v3.11.0:deaf509e8f, Oct 24 2022, 14:43:23) [Clang 13.0.0 (clang-1300.0.29.30)]"
  },
  "orig_nbformat": 4,
  "vscode": {
   "interpreter": {
    "hash": "aee8b7b246df8f9039afb4144a1f6fd8d2ca17a180786b69acc140d282b71a49"
   }
  }
 },
 "nbformat": 4,
 "nbformat_minor": 2
}
