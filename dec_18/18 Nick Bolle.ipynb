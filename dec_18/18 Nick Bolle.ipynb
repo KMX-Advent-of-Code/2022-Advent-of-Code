{
 "cells": [
  {
   "cell_type": "markdown",
   "id": "cc902ab4",
   "metadata": {},
   "source": [
    "Organization:\n",
    "- Work\n",
    "  - 1 test: defining functions for part 1, testing on test input\n",
    "  - 1 run: getting answer for part 1\n",
    "  - 2 test: ...\n",
    "  - 2 run: ...\n",
    "- Utilities: functions I think might help parse general inputs\n",
    "- Inputs: where I define the test (_t_) and problem (_s_) inputs"
   ]
  },
  {
   "cell_type": "markdown",
   "id": "d1881444",
   "metadata": {},
   "source": [
    "# Work"
   ]
  },
  {
   "cell_type": "markdown",
   "id": "eb1b228f",
   "metadata": {},
   "source": [
    "## 1 test\n",
    "\n",
    "Straightforward: for each location in the droplet, check its neighboring locations. If they're not in the droplet, they give +1 surface area."
   ]
  },
  {
   "cell_type": "code",
   "execution_count": 92,
   "id": "491d4908",
   "metadata": {},
   "outputs": [
    {
     "data": {
      "text/plain": [
       "{(2, 2, 2): True,\n",
       " (1, 2, 2): True,\n",
       " (3, 2, 2): True,\n",
       " (2, 1, 2): True,\n",
       " (2, 3, 2): True,\n",
       " (2, 2, 1): True,\n",
       " (2, 2, 3): True,\n",
       " (2, 2, 4): True,\n",
       " (2, 2, 6): True,\n",
       " (1, 2, 5): True,\n",
       " (3, 2, 5): True,\n",
       " (2, 1, 5): True,\n",
       " (2, 3, 5): True}"
      ]
     },
     "execution_count": 92,
     "metadata": {},
     "output_type": "execute_result"
    }
   ],
   "source": [
    "def parse(line):\n",
    "    aux = line.split(',')\n",
    "    return tuple([int(w) for w in aux])\n",
    "\n",
    "locs = {parse(line) : True for line in split(t)}\n",
    "locs"
   ]
  },
  {
   "cell_type": "code",
   "execution_count": 93,
   "id": "0206a90f",
   "metadata": {},
   "outputs": [
    {
     "data": {
      "text/plain": [
       "64"
      ]
     },
     "execution_count": 93,
     "metadata": {},
     "output_type": "execute_result"
    }
   ],
   "source": [
    "for x,y,z in locs:\n",
    "    sides = 0\n",
    "    for dx,dy,dz in [(-1,0,0),(1,0,0),(0,-1,0),(0,1,0),(0,0,-1),(0,0,1)]:\n",
    "        if not (x+dx,y+dy,z+dz) in locs:\n",
    "            sides += 1\n",
    "    locs[(x,y,z)] = sides\n",
    "sum(locs.values())"
   ]
  },
  {
   "cell_type": "code",
   "execution_count": 94,
   "id": "b88d0a6c",
   "metadata": {},
   "outputs": [
    {
     "data": {
      "text/plain": [
       "{(2, 2, 2): 0,\n",
       " (1, 2, 2): 5,\n",
       " (3, 2, 2): 5,\n",
       " (2, 1, 2): 5,\n",
       " (2, 3, 2): 5,\n",
       " (2, 2, 1): 5,\n",
       " (2, 2, 3): 4,\n",
       " (2, 2, 4): 5,\n",
       " (2, 2, 6): 6,\n",
       " (1, 2, 5): 6,\n",
       " (3, 2, 5): 6,\n",
       " (2, 1, 5): 6,\n",
       " (2, 3, 5): 6}"
      ]
     },
     "execution_count": 94,
     "metadata": {},
     "output_type": "execute_result"
    }
   ],
   "source": [
    "# Used a dictionary to say what the exposed surface area of each pixel in the droplet is\n",
    "locs"
   ]
  },
  {
   "cell_type": "markdown",
   "id": "97486550",
   "metadata": {},
   "source": [
    "## 1 run"
   ]
  },
  {
   "cell_type": "code",
   "execution_count": 95,
   "id": "c44f4f72",
   "metadata": {},
   "outputs": [
    {
     "data": {
      "text/plain": [
       "3454"
      ]
     },
     "execution_count": 95,
     "metadata": {},
     "output_type": "execute_result"
    }
   ],
   "source": [
    "locs = {parse(line) : 0 for line in split(s)}\n",
    "for x,y,z in locs:\n",
    "    sides = 0\n",
    "    for dx,dy,dz in [(-1,0,0),(1,0,0),(0,-1,0),(0,1,0),(0,0,-1),(0,0,1)]:\n",
    "        if not (x+dx,y+dy,z+dz) in locs:\n",
    "            sides += 1\n",
    "    locs[(x,y,z)] = sides\n",
    "sum(locs.values())"
   ]
  },
  {
   "cell_type": "markdown",
   "id": "cf29851d",
   "metadata": {},
   "source": [
    "## 2 test\n",
    "\n",
    "Idea: since the bounding box of the droplet is not very big, mark a location outside of the droplet and have it expand to cover the outside of the droplet. If ever we run into the droplet, add 1 to the surface area.\n",
    "\n",
    "I'll switch to using sets since dictionaries aren't necessary. Keep track of the droplet and locations outside of the droplet with sets, and have a queue (list) for the locations outside of the droplet we still need to \"expand from\" to fill the region outside the droplet."
   ]
  },
  {
   "cell_type": "code",
   "execution_count": 96,
   "id": "e304a636",
   "metadata": {},
   "outputs": [
    {
     "data": {
      "text/plain": [
       "{(1, 2, 2),\n",
       " (1, 2, 5),\n",
       " (2, 1, 2),\n",
       " (2, 1, 5),\n",
       " (2, 2, 1),\n",
       " (2, 2, 2),\n",
       " (2, 2, 3),\n",
       " (2, 2, 4),\n",
       " (2, 2, 6),\n",
       " (2, 3, 2),\n",
       " (2, 3, 5),\n",
       " (3, 2, 2),\n",
       " (3, 2, 5)}"
      ]
     },
     "execution_count": 96,
     "metadata": {},
     "output_type": "execute_result"
    }
   ],
   "source": [
    "droplet = {parse(line) for line in split(t)}\n",
    "droplet"
   ]
  },
  {
   "cell_type": "code",
   "execution_count": 97,
   "id": "927cd2c3",
   "metadata": {},
   "outputs": [
    {
     "data": {
      "text/plain": [
       "(0, 3, 0, 3, 0, 6)"
      ]
     },
     "execution_count": 97,
     "metadata": {},
     "output_type": "execute_result"
    }
   ],
   "source": [
    "# Find the bounding box\n",
    "xm, xM = 0, 0\n",
    "ym, yM = 0, 0\n",
    "zm, zM = 0, 0\n",
    "for x,y,z in droplet:\n",
    "    xm = min(xm,x)\n",
    "    xM = max(xM,x)\n",
    "    ym = min(ym,y)\n",
    "    yM = max(yM,y)\n",
    "    zm = min(zm,z)\n",
    "    zM = max(zM,z)\n",
    "xm,xM,ym,yM,zm,zM"
   ]
  },
  {
   "cell_type": "code",
   "execution_count": 98,
   "id": "8014e694",
   "metadata": {},
   "outputs": [],
   "source": [
    "# Box \"strictly\" containing the droplet\n",
    "a, b = -1, 7"
   ]
  },
  {
   "cell_type": "code",
   "execution_count": 99,
   "id": "72b1fb8c",
   "metadata": {},
   "outputs": [
    {
     "data": {
      "text/plain": [
       "58"
      ]
     },
     "execution_count": 99,
     "metadata": {},
     "output_type": "execute_result"
    }
   ],
   "source": [
    "# Keep track of locations outside the droplet\n",
    "outside = {(a,a,a)}\n",
    "\n",
    "# Locations outside the droplet that we still need to check the neighbors of\n",
    "outside_queue = [(a,a,a)]\n",
    "\n",
    "surfaces = 0\n",
    "# While there are still locations to expand from\n",
    "while outside_queue:\n",
    "    x,y,z = outside_queue.pop()\n",
    "    \n",
    "    # Expand from the location\n",
    "    for dx,dy,dz in [(-1,0,0),(1,0,0),(0,-1,0),(0,1,0),(0,0,-1),(0,0,1)]:\n",
    "        # New location to check\n",
    "        xp,yp,zp = x+dx,y+dy,z+dz\n",
    "        \n",
    "        # Check we've expand to a valid location (within the box)\n",
    "        if (a<=xp<=b) & (a<=yp<=b) & (a<=zp<=b):\n",
    "            # Only consider if it's not a previously visited location\n",
    "            if not (xp,yp,zp) in outside:\n",
    "                # If we go into the droplet, this gives a surface!\n",
    "                if (xp,yp,zp) in droplet:\n",
    "                    surfaces += 1\n",
    "                # Otherwise, this will be a new location to expand from\n",
    "                else:\n",
    "                    outside.add((xp,yp,zp))\n",
    "                    outside_queue.append((xp,yp,zp))\n",
    "\n",
    "surfaces"
   ]
  },
  {
   "cell_type": "markdown",
   "id": "a2c20e06",
   "metadata": {},
   "source": [
    "## 2 run"
   ]
  },
  {
   "cell_type": "code",
   "execution_count": 100,
   "id": "7ba57da0",
   "metadata": {},
   "outputs": [
    {
     "data": {
      "text/plain": [
       "(0, 18, 0, 18, 0, 19)"
      ]
     },
     "execution_count": 100,
     "metadata": {},
     "output_type": "execute_result"
    }
   ],
   "source": [
    "droplet = {parse(line) for line in split(s)}\n",
    "\n",
    "# Find the bounding box\n",
    "xm, xM = 0, 0\n",
    "ym, yM = 0, 0\n",
    "zm, zM = 0, 0\n",
    "for x,y,z in droplet:\n",
    "    xm = min(xm,x)\n",
    "    xM = max(xM,x)\n",
    "    ym = min(ym,y)\n",
    "    yM = max(yM,y)\n",
    "    zm = min(zm,z)\n",
    "    zM = max(zM,z)\n",
    "xm,xM,ym,yM,zm,zM"
   ]
  },
  {
   "cell_type": "code",
   "execution_count": 101,
   "id": "14c352a1",
   "metadata": {},
   "outputs": [],
   "source": [
    "# Box \"strictly\" containing the droplet\n",
    "a, b = -1, 20"
   ]
  },
  {
   "cell_type": "code",
   "execution_count": 102,
   "id": "b36684cb",
   "metadata": {},
   "outputs": [
    {
     "data": {
      "text/plain": [
       "2014"
      ]
     },
     "execution_count": 102,
     "metadata": {},
     "output_type": "execute_result"
    }
   ],
   "source": [
    "# Keep track of locations outside the droplet\n",
    "outside = {(a,a,a)}\n",
    "\n",
    "# Locations outside the droplet that we still need to check the neighbors of\n",
    "outside_queue = [(a,a,a)]\n",
    "\n",
    "surfaces = 0\n",
    "# While there are still locations to expand from\n",
    "while outside_queue:\n",
    "    x,y,z = outside_queue.pop()\n",
    "    \n",
    "    # Expand from the location\n",
    "    for dx,dy,dz in [(-1,0,0),(1,0,0),(0,-1,0),(0,1,0),(0,0,-1),(0,0,1)]:\n",
    "        # New location to check\n",
    "        xp,yp,zp = x+dx,y+dy,z+dz\n",
    "        \n",
    "        # Check we've expand to a valid location (within the box)\n",
    "        if (a<=xp<=b) & (a<=yp<=b) & (a<=zp<=b):\n",
    "            # Only consider if it's not a previously visited location\n",
    "            if not (xp,yp,zp) in outside:\n",
    "                # If we go into the droplet, this gives a surface!\n",
    "                if (xp,yp,zp) in droplet:\n",
    "                    surfaces += 1\n",
    "                # Otherwise, this will be a new location to expand from\n",
    "                else:\n",
    "                    outside.add((xp,yp,zp))\n",
    "                    outside_queue.append((xp,yp,zp))\n",
    "\n",
    "surfaces"
   ]
  },
  {
   "cell_type": "markdown",
   "id": "46587fe1",
   "metadata": {},
   "source": [
    "# Utilities"
   ]
  },
  {
   "cell_type": "code",
   "execution_count": 13,
   "id": "b0f5c2be",
   "metadata": {},
   "outputs": [],
   "source": [
    "# Remove initial/final \\n characters\n",
    "def clean(s):\n",
    "    return s[1:-1]\n",
    "\n",
    "# Split at \\n characters\n",
    "# If there are \\n\\n characters, split into blocks too\n",
    "def split(s, block_char = '\\n\\n', line_char = '\\n'):\n",
    "    out = [block.split(line_char) for block in clean(s).split(block_char)]\n",
    "    if len(out) == 1:\n",
    "        return out[0]\n",
    "    else:\n",
    "        return out\n",
    "\n",
    "# Apply a function(s) to a list or \"block\" data (2-level list)\n",
    "def apply_func(data, func, nested=False):\n",
    "    if not isinstance(func, list):\n",
    "        func = [func]\n",
    "        \n",
    "    def _func(x):\n",
    "        for f in func:\n",
    "            x = f(x)\n",
    "        return x\n",
    "        \n",
    "    if nested:\n",
    "        return [[_func(x) for x in block] for block in data]\n",
    "    else:\n",
    "        return [_func(x) for x in data]\n",
    "\n",
    "# Split, parsing everything as ints\n",
    "def split_int(s):\n",
    "    return apply_func(split(s), int)\n",
    "\n",
    "# Split, parsing everything as float\n",
    "def split_float(s):\n",
    "    return apply_func(split(s), float)"
   ]
  },
  {
   "cell_type": "markdown",
   "id": "2b2e5b0f",
   "metadata": {},
   "source": [
    "# Inputs"
   ]
  },
  {
   "cell_type": "code",
   "execution_count": 11,
   "id": "6a1455c4",
   "metadata": {},
   "outputs": [],
   "source": [
    "t = \"\"\"\n",
    "2,2,2\n",
    "...\n",
    "2,3,5\n",
    "\"\"\""
   ]
  },
  {
   "cell_type": "code",
   "execution_count": 12,
   "id": "dcf53146",
   "metadata": {},
   "outputs": [],
   "source": [
    "s = \"\"\"\n",
    "7,2,8\n",
    "...\n",
    "13,16,16\n",
    "\"\"\""
   ]
  },
  {
   "cell_type": "code",
   "execution_count": null,
   "id": "e7de8682",
   "metadata": {},
   "outputs": [],
   "source": []
  }
 ],
 "metadata": {
  "kernelspec": {
   "display_name": "Python 3 (ipykernel)",
   "language": "python",
   "name": "python3"
  },
  "language_info": {
   "codemirror_mode": {
    "name": "ipython",
    "version": 3
   },
   "file_extension": ".py",
   "mimetype": "text/x-python",
   "name": "python",
   "nbconvert_exporter": "python",
   "pygments_lexer": "ipython3",
   "version": "3.11.1"
  }
 },
 "nbformat": 4,
 "nbformat_minor": 5
}
