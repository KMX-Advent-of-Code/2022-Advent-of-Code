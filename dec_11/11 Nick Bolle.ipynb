{
 "cells": [
  {
   "cell_type": "markdown",
   "id": "cc902ab4",
   "metadata": {},
   "source": [
    "Organization:\n",
    "- Work\n",
    "  - 1 test: defining functions for part 1, testing on test input\n",
    "  - 1 run: getting answer for part 1\n",
    "  - 2 test: ...\n",
    "  - 2 run: ...\n",
    "- Utilities: functions I think might help parse general inputs\n",
    "- Inputs: where I define the test (_t_) and problem (_s_) inputs"
   ]
  },
  {
   "cell_type": "markdown",
   "id": "d1881444",
   "metadata": {},
   "source": [
    "# Work"
   ]
  },
  {
   "cell_type": "markdown",
   "id": "eb1b228f",
   "metadata": {},
   "source": [
    "## 1 test"
   ]
  },
  {
   "cell_type": "code",
   "execution_count": 134,
   "id": "2f4c2d12",
   "metadata": {},
   "outputs": [],
   "source": [
    "class Monkey():\n",
    "    def __init__(self, instruction_block):\n",
    "        self.num_items = 0\n",
    "        self.ID = int(instruction_block[0].split(':')[0][7:])\n",
    "        self.start = [int(x) for x in instruction_block[1][18:].split(',')]\n",
    "        self.operation = instruction_block[2][19:]\n",
    "        self.test_num = int(instruction_block[3][21:])\n",
    "        self.test_true = int(instruction_block[4][29:])\n",
    "        self.test_false = int(instruction_block[5][30:])\n",
    "        self.items = self.start.copy()\n",
    "    \n",
    "    def process_items(self, monkeys):\n",
    "        for item in self.items:\n",
    "            old = item\n",
    "            # Set \"new\"\n",
    "            new = eval(self.operation)\n",
    "            # And now when it gets bored\n",
    "            new = new // 3\n",
    "            \n",
    "            # True\n",
    "            if new % self.test_num == 0:\n",
    "                self.give_to_monkey(new, monkeys, self.test_true)\n",
    "            # False\n",
    "            else:\n",
    "                self.give_to_monkey(new, monkeys, self.test_false)\n",
    "            \n",
    "            self.num_items += 1\n",
    "        self.items = []\n",
    "        \n",
    "    def give_to_monkey(self, item, monkeys, ID):\n",
    "        for monkey in monkeys:\n",
    "            if monkey.ID == ID:\n",
    "                monkey.add_item(item)\n",
    "    \n",
    "    def add_item(self, item):\n",
    "        self.items += [item]"
   ]
  },
  {
   "cell_type": "code",
   "execution_count": 135,
   "id": "a7665409",
   "metadata": {},
   "outputs": [],
   "source": [
    "monkeys = [Monkey(instruction_block) for instruction_block in split(t)]"
   ]
  },
  {
   "cell_type": "code",
   "execution_count": 136,
   "id": "e8310de6",
   "metadata": {},
   "outputs": [
    {
     "data": {
      "text/plain": [
       "{'num_items': 0,\n",
       " 'ID': 0,\n",
       " 'start': [79, 98],\n",
       " 'operation': 'old * 19',\n",
       " 'test_num': 23,\n",
       " 'test_true': 2,\n",
       " 'test_false': 3,\n",
       " 'items': [79, 98]}"
      ]
     },
     "execution_count": 136,
     "metadata": {},
     "output_type": "execute_result"
    }
   ],
   "source": [
    "monkeys[0].__dict__"
   ]
  },
  {
   "cell_type": "code",
   "execution_count": 138,
   "id": "84a8e98b",
   "metadata": {},
   "outputs": [],
   "source": [
    "for monkey in monkeys:\n",
    "    monkey.process_items(monkeys)"
   ]
  },
  {
   "cell_type": "code",
   "execution_count": 139,
   "id": "5d4e904a",
   "metadata": {},
   "outputs": [
    {
     "data": {
      "text/plain": [
       "[[20, 23, 27, 26], [2080, 25, 167, 207, 401, 1046], [], []]"
      ]
     },
     "execution_count": 139,
     "metadata": {},
     "output_type": "execute_result"
    }
   ],
   "source": [
    "[monkey.__dict__['items'] for monkey in monkeys]"
   ]
  },
  {
   "cell_type": "code",
   "execution_count": 140,
   "id": "eed0fc0b",
   "metadata": {},
   "outputs": [],
   "source": [
    "# 20 rounds\n",
    "monkeys = [Monkey(instruction_block) for instruction_block in split(t)]\n",
    "for i in range(20):\n",
    "    for monkey in monkeys:\n",
    "        monkey.process_items(monkeys)"
   ]
  },
  {
   "cell_type": "code",
   "execution_count": 141,
   "id": "8942a6ac",
   "metadata": {},
   "outputs": [
    {
     "data": {
      "text/plain": [
       "[101, 95, 7, 105]"
      ]
     },
     "execution_count": 141,
     "metadata": {},
     "output_type": "execute_result"
    }
   ],
   "source": [
    "[monkey.num_items for monkey in monkeys]"
   ]
  },
  {
   "cell_type": "code",
   "execution_count": 143,
   "id": "61911e90",
   "metadata": {},
   "outputs": [
    {
     "data": {
      "text/plain": [
       "10605"
      ]
     },
     "execution_count": 143,
     "metadata": {},
     "output_type": "execute_result"
    }
   ],
   "source": [
    "101 * 105"
   ]
  },
  {
   "cell_type": "markdown",
   "id": "97486550",
   "metadata": {},
   "source": [
    "## 1 run"
   ]
  },
  {
   "cell_type": "code",
   "execution_count": 144,
   "id": "c44f4f72",
   "metadata": {},
   "outputs": [],
   "source": [
    "monkeys = [Monkey(instruction_block) for instruction_block in split(s)]\n",
    "for i in range(20):\n",
    "    for monkey in monkeys:\n",
    "        monkey.process_items(monkeys)"
   ]
  },
  {
   "cell_type": "code",
   "execution_count": 145,
   "id": "18c1173b",
   "metadata": {},
   "outputs": [
    {
     "data": {
      "text/plain": [
       "[290, 59, 222, 342, 78, 302, 347, 318]"
      ]
     },
     "execution_count": 145,
     "metadata": {},
     "output_type": "execute_result"
    }
   ],
   "source": [
    "[monkey.num_items for monkey in monkeys]"
   ]
  },
  {
   "cell_type": "code",
   "execution_count": 146,
   "id": "910518a0",
   "metadata": {},
   "outputs": [
    {
     "data": {
      "text/plain": [
       "[59, 78, 222, 290, 302, 318, 342, 347]"
      ]
     },
     "execution_count": 146,
     "metadata": {},
     "output_type": "execute_result"
    }
   ],
   "source": [
    "sorted([monkey.num_items for monkey in monkeys])"
   ]
  },
  {
   "cell_type": "code",
   "execution_count": 147,
   "id": "94c60ff0",
   "metadata": {},
   "outputs": [
    {
     "data": {
      "text/plain": [
       "118674"
      ]
     },
     "execution_count": 147,
     "metadata": {},
     "output_type": "execute_result"
    }
   ],
   "source": [
    "342 * 347"
   ]
  },
  {
   "cell_type": "markdown",
   "id": "cf29851d",
   "metadata": {},
   "source": [
    "## 2 test\n",
    "\n",
    "Taking item worries modulo the LCM of the checking moduli of the monkeys suffices for the worry computations"
   ]
  },
  {
   "cell_type": "code",
   "execution_count": 186,
   "id": "e304a636",
   "metadata": {},
   "outputs": [],
   "source": [
    "# Just redefine to not divide worry by 3\n",
    "# But this makes the worry levels blow up! All that matters though is the modulus, so when giving an item we'll reduce by that\n",
    "\n",
    "class Monkey():\n",
    "    def __init__(self, instruction_block):\n",
    "        self.num_items = 0\n",
    "        self.ID = int(instruction_block[0].split(':')[0][7:])\n",
    "        self.start = [int(x) for x in instruction_block[1][18:].split(',')]\n",
    "        self.operation = instruction_block[2][19:]\n",
    "        self.test_num = int(instruction_block[3][21:])\n",
    "        self.test_true = int(instruction_block[4][29:])\n",
    "        self.test_false = int(instruction_block[5][30:])\n",
    "        self.items = self.start.copy()\n",
    "    \n",
    "    def process_items(self, monkeys, lcm):\n",
    "        for item in self.items:\n",
    "            old = item\n",
    "            # Set \"new\"\n",
    "            new = eval(self.operation)\n",
    "            \n",
    "            # True\n",
    "            if new % self.test_num == 0:\n",
    "                self.give_to_monkey(new, monkeys, self.test_true, lcm)\n",
    "            # False\n",
    "            else:\n",
    "                self.give_to_monkey(new, monkeys, self.test_false, lcm)\n",
    "            \n",
    "            self.num_items += 1\n",
    "        self.items = []\n",
    "        \n",
    "    def give_to_monkey(self, item, monkeys, ID, lcm):\n",
    "        for monkey in monkeys:\n",
    "            if monkey.ID == ID:\n",
    "                monkey.add_item(item, lcm)\n",
    "    \n",
    "    def add_item(self, item, lcm):\n",
    "        self.items += [item % lcm]"
   ]
  },
  {
   "cell_type": "code",
   "execution_count": 198,
   "id": "6110a009",
   "metadata": {},
   "outputs": [],
   "source": [
    "monkeys = [Monkey(instruction_block) for instruction_block in split(t)]"
   ]
  },
  {
   "cell_type": "code",
   "execution_count": 199,
   "id": "dd7f8488",
   "metadata": {},
   "outputs": [],
   "source": [
    "import numpy as np"
   ]
  },
  {
   "cell_type": "code",
   "execution_count": 200,
   "id": "8e9e176f",
   "metadata": {},
   "outputs": [
    {
     "data": {
      "text/plain": [
       "[23, 19, 13, 17]"
      ]
     },
     "execution_count": 200,
     "metadata": {},
     "output_type": "execute_result"
    }
   ],
   "source": [
    "[monkey.test_num for monkey in monkeys]"
   ]
  },
  {
   "cell_type": "code",
   "execution_count": 201,
   "id": "d854ec4e",
   "metadata": {},
   "outputs": [
    {
     "data": {
      "text/plain": [
       "96577"
      ]
     },
     "execution_count": 201,
     "metadata": {},
     "output_type": "execute_result"
    }
   ],
   "source": [
    "lcm = 1\n",
    "for monkey in monkeys:\n",
    "    lcm = np.lcm(lcm, monkey.test_num)\n",
    "lcm = int(lcm)\n",
    "lcm"
   ]
  },
  {
   "cell_type": "code",
   "execution_count": 202,
   "id": "927cd2c3",
   "metadata": {},
   "outputs": [],
   "source": [
    "for i in range(10000):\n",
    "    for monkey in monkeys:\n",
    "        monkey.process_items(monkeys, lcm)"
   ]
  },
  {
   "cell_type": "code",
   "execution_count": 203,
   "id": "72da25ac",
   "metadata": {},
   "outputs": [
    {
     "data": {
      "text/plain": [
       "[52166, 47830, 1938, 52013]"
      ]
     },
     "execution_count": 203,
     "metadata": {},
     "output_type": "execute_result"
    }
   ],
   "source": [
    "[monkey.num_items for monkey in monkeys]"
   ]
  },
  {
   "cell_type": "code",
   "execution_count": 204,
   "id": "1e53b1fe",
   "metadata": {},
   "outputs": [
    {
     "data": {
      "text/plain": [
       "[1938, 47830, 52013, 52166]"
      ]
     },
     "execution_count": 204,
     "metadata": {},
     "output_type": "execute_result"
    }
   ],
   "source": [
    "sorted([monkey.num_items for monkey in monkeys])"
   ]
  },
  {
   "cell_type": "code",
   "execution_count": 205,
   "id": "71876729",
   "metadata": {},
   "outputs": [
    {
     "data": {
      "text/plain": [
       "2713310158"
      ]
     },
     "execution_count": 205,
     "metadata": {},
     "output_type": "execute_result"
    }
   ],
   "source": [
    "52013 * 52166"
   ]
  },
  {
   "cell_type": "markdown",
   "id": "a2c20e06",
   "metadata": {},
   "source": [
    "## 2 run"
   ]
  },
  {
   "cell_type": "code",
   "execution_count": 206,
   "id": "8a2a7cd9",
   "metadata": {},
   "outputs": [],
   "source": [
    "monkeys = [Monkey(instruction_block) for instruction_block in split(s)]\n",
    "\n",
    "lcm = 1\n",
    "for monkey in monkeys:\n",
    "    lcm = np.lcm(lcm, monkey.test_num)\n",
    "lcm = int(lcm)\n",
    "lcm\n",
    "\n",
    "for i in range(10000):\n",
    "    for monkey in monkeys:\n",
    "        monkey.process_items(monkeys, lcm)"
   ]
  },
  {
   "cell_type": "code",
   "execution_count": 207,
   "id": "3ead2272",
   "metadata": {},
   "outputs": [
    {
     "data": {
      "text/plain": [
       "[27035, 71968, 89792, 153007, 161890, 162012, 179690, 179940]"
      ]
     },
     "execution_count": 207,
     "metadata": {},
     "output_type": "execute_result"
    }
   ],
   "source": [
    "sorted([monkey.num_items for monkey in monkeys])"
   ]
  },
  {
   "cell_type": "code",
   "execution_count": 208,
   "id": "8933af1b",
   "metadata": {},
   "outputs": [
    {
     "data": {
      "text/plain": [
       "32333418600"
      ]
     },
     "execution_count": 208,
     "metadata": {},
     "output_type": "execute_result"
    }
   ],
   "source": [
    "179690 * 179940"
   ]
  },
  {
   "cell_type": "markdown",
   "id": "46587fe1",
   "metadata": {},
   "source": [
    "# Utilities"
   ]
  },
  {
   "cell_type": "code",
   "execution_count": 4,
   "id": "b0f5c2be",
   "metadata": {},
   "outputs": [],
   "source": [
    "# Remove initial/final \\n characters\n",
    "def clean(s):\n",
    "    return s[1:-1]\n",
    "\n",
    "# Split at \\n characters\n",
    "# If there are \\n\\n characters, split into blocks too\n",
    "def split(s):\n",
    "    out = [block.split('\\n') for block in clean(s).split('\\n\\n')]\n",
    "    if len(out) == 1:\n",
    "        return out[0]\n",
    "    else:\n",
    "        return out\n",
    "\n",
    "# Apply a function(s) to a list or \"block\" data (2-level list)\n",
    "def apply_func(data, func, nested=False):\n",
    "    if not isinstance(func, list):\n",
    "        func = [func]\n",
    "        \n",
    "    def _func(x):\n",
    "        for f in func:\n",
    "            x = f(x)\n",
    "        return x\n",
    "        \n",
    "    if nested:\n",
    "        return [[_func(x) for x in block] for block in data]\n",
    "    else:\n",
    "        return [_func(x) for x in data]\n",
    "\n",
    "# Split, parsing everything as ints\n",
    "def split_int(s):\n",
    "    return apply_func(split(s), int)\n",
    "\n",
    "# Split, parsing everything as float\n",
    "def split_float(s):\n",
    "    return apply_func(split(s), float)"
   ]
  },
  {
   "cell_type": "markdown",
   "id": "2b2e5b0f",
   "metadata": {},
   "source": [
    "# Inputs"
   ]
  },
  {
   "cell_type": "code",
   "execution_count": 1,
   "id": "6a1455c4",
   "metadata": {},
   "outputs": [],
   "source": [
    "t = \"\"\"\n",
    "Monkey 0:\n",
    "  Starting items: 79, 98\n",
    "  Operation: new = old * 19\n",
    "  Test: divisible by 23\n",
    "    If true: throw to monkey 2\n",
    "    If false: throw to monkey 3\n",
    "\n",
    "Monkey 1:\n",
    "  Starting items: 54, 65, 75, 74\n",
    "  Operation: new = old + 6\n",
    "  Test: divisible by 19\n",
    "    If true: throw to monkey 2\n",
    "    If false: throw to monkey 0\n",
    "\n",
    "Monkey 2:\n",
    "  Starting items: 79, 60, 97\n",
    "  Operation: new = old * old\n",
    "  Test: divisible by 13\n",
    "    If true: throw to monkey 1\n",
    "    If false: throw to monkey 3\n",
    "\n",
    "Monkey 3:\n",
    "  Starting items: 74\n",
    "  Operation: new = old + 3\n",
    "  Test: divisible by 17\n",
    "    If true: throw to monkey 0\n",
    "    If false: throw to monkey 1\n",
    "\"\"\""
   ]
  },
  {
   "cell_type": "code",
   "execution_count": 2,
   "id": "dcf53146",
   "metadata": {},
   "outputs": [],
   "source": [
    "s = \"\"\"\n",
    "Monkey 0:\n",
    "  Starting items: 85, 79, 63, 72\n",
    "  Operation: new = old * 17\n",
    "  Test: divisible by 2\n",
    "    If true: throw to monkey 2\n",
    "    If false: throw to monkey 6\n",
    "\n",
    "Monkey 1:\n",
    "  Starting items: 53, 94, 65, 81, 93, 73, 57, 92\n",
    "  Operation: new = old * old\n",
    "  Test: divisible by 7\n",
    "    If true: throw to monkey 0\n",
    "    If false: throw to monkey 2\n",
    "\n",
    "Monkey 2:\n",
    "  Starting items: 62, 63\n",
    "  Operation: new = old + 7\n",
    "  Test: divisible by 13\n",
    "    If true: throw to monkey 7\n",
    "    If false: throw to monkey 6\n",
    "\n",
    "Monkey 3:\n",
    "  Starting items: 57, 92, 56\n",
    "  Operation: new = old + 4\n",
    "  Test: divisible by 5\n",
    "    If true: throw to monkey 4\n",
    "    If false: throw to monkey 5\n",
    "\n",
    "Monkey 4:\n",
    "  Starting items: 67\n",
    "  Operation: new = old + 5\n",
    "  Test: divisible by 3\n",
    "    If true: throw to monkey 1\n",
    "    If false: throw to monkey 5\n",
    "\n",
    "Monkey 5:\n",
    "  Starting items: 85, 56, 66, 72, 57, 99\n",
    "  Operation: new = old + 6\n",
    "  Test: divisible by 19\n",
    "    If true: throw to monkey 1\n",
    "    If false: throw to monkey 0\n",
    "\n",
    "Monkey 6:\n",
    "  Starting items: 86, 65, 98, 97, 69\n",
    "  Operation: new = old * 13\n",
    "  Test: divisible by 11\n",
    "    If true: throw to monkey 3\n",
    "    If false: throw to monkey 7\n",
    "\n",
    "Monkey 7:\n",
    "  Starting items: 87, 68, 92, 66, 91, 50, 68\n",
    "  Operation: new = old + 2\n",
    "  Test: divisible by 17\n",
    "    If true: throw to monkey 4\n",
    "    If false: throw to monkey 3\n",
    "\"\"\""
   ]
  },
  {
   "cell_type": "code",
   "execution_count": null,
   "id": "e7de8682",
   "metadata": {},
   "outputs": [],
   "source": []
  }
 ],
 "metadata": {
  "kernelspec": {
   "display_name": "Python 3 (ipykernel)",
   "language": "python",
   "name": "python3"
  },
  "language_info": {
   "codemirror_mode": {
    "name": "ipython",
    "version": 3
   },
   "file_extension": ".py",
   "mimetype": "text/x-python",
   "name": "python",
   "nbconvert_exporter": "python",
   "pygments_lexer": "ipython3",
   "version": "3.11.1"
  }
 },
 "nbformat": 4,
 "nbformat_minor": 5
}
