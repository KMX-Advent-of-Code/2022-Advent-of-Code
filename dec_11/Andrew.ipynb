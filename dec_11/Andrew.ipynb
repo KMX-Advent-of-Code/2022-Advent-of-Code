{
 "cells": [
  {
   "cell_type": "code",
   "execution_count": 55,
   "metadata": {},
   "outputs": [],
   "source": [
    "import numpy as np\n",
    "import pandas as pd\n",
    "import math\n",
    "import scipy\n",
    "import sys"
   ]
  },
  {
   "cell_type": "code",
   "execution_count": 32,
   "metadata": {},
   "outputs": [],
   "source": [
    "class Monkey:\n",
    "    items = None\n",
    "    def __init__(self, items, operation, test, true, false, name) -> None:\n",
    "        self.items = [int(x) for x in items.split(',')]\n",
    "        self.operation = operation\n",
    "        self.test = test\n",
    "        self.test_true_monkey = int(true)\n",
    "        self.test_false_monkey = int(false)\n",
    "        self.name = int(name)\n",
    "\n",
    "    def action(self):\n",
    "        ret = []\n",
    "        while self.items:\n",
    "            item = self.items.pop(0)\n",
    "            item = int(eval(self.operation.replace('old',str(item))))\n",
    "            item = math.floor(item/3)\n",
    "            if (item % self.test) == 0:\n",
    "                ret.append((item,self.test_true_monkey))\n",
    "            else:\n",
    "                ret.append((item,self.test_false_monkey))\n",
    "        return ret\n"
   ]
  },
  {
   "cell_type": "code",
   "execution_count": 45,
   "metadata": {},
   "outputs": [],
   "source": [
    "file1 = open('11.txt', 'r')\n",
    "lines = file1.readlines()\n",
    "\n",
    "monkeys = []\n",
    "\n",
    "name = 0\n",
    "items = ''\n",
    "operation = ''\n",
    "test = ''\n",
    "test_true_monkey = ''\n",
    "test_false_monkey = ''\n",
    "\n",
    "for l in lines:\n",
    "    l_split = l.replace('\\n','').split(':')\n",
    "    l_split[0] = l_split[0].strip()\n",
    "    # print(l_split)\n",
    "\n",
    "    if len(l_split) == 1:\n",
    "        monkeys.append(Monkey(items,operation,test,test_true_monkey,test_false_monkey,name))\n",
    "        name += 1\n",
    "        items = ''\n",
    "        operation = ''\n",
    "        test = ''\n",
    "        test_true_monkey = ''\n",
    "        test_false_monkey = ''\n",
    "    elif l_split[0] == 'Starting items':\n",
    "        items = l_split[1]\n",
    "    elif l_split[0] == 'Operation':\n",
    "        operation = l_split[1].split('=')[1]\n",
    "    elif l_split[0] == 'Test':\n",
    "        test = int(l_split[1].split(' ')[-1])\n",
    "    elif l_split[0] == 'If true':\n",
    "        test_true_monkey = l_split[1].split(' ')[-1]\n",
    "    elif l_split[0] == 'If false':\n",
    "        test_false_monkey = l_split[1].split(' ')[-1]"
   ]
  },
  {
   "cell_type": "code",
   "execution_count": 46,
   "metadata": {},
   "outputs": [],
   "source": [
    "inspected_num = {i:0 for i in range(len(monkeys))}\n",
    "\n",
    "for _ in range(20):\n",
    "    for i,m in enumerate(monkeys):\n",
    "        if actions := m.action():\n",
    "            for level,monkey_num in actions:\n",
    "                inspected_num[i] += 1\n",
    "                monkeys[monkey_num].items.append(level)"
   ]
  },
  {
   "cell_type": "code",
   "execution_count": 47,
   "metadata": {},
   "outputs": [
    {
     "name": "stdout",
     "output_type": "stream",
     "text": [
      "[5, 5, 5, 3, 3, 3, 3, 3, 3, 19]\n",
      "[64, 7, 7, 7, 7, 7, 7, 9, 5, 270023884279, 3]\n",
      "[]\n",
      "[8, 8, 8, 8, 8, 535519, 5, 5, 3, 3, 3, 3, 3, 3, 3]\n",
      "[]\n",
      "[]\n",
      "[]\n",
      "[]\n"
     ]
    }
   ],
   "source": [
    "for m in monkeys:\n",
    "    print(m.items)"
   ]
  },
  {
   "cell_type": "code",
   "execution_count": 48,
   "metadata": {},
   "outputs": [
    {
     "data": {
      "text/plain": [
       "69918"
      ]
     },
     "execution_count": 48,
     "metadata": {},
     "output_type": "execute_result"
    }
   ],
   "source": [
    "a,b = sorted(inspected_num.values())[-2:]\n",
    "a*b"
   ]
  },
  {
   "cell_type": "markdown",
   "metadata": {},
   "source": [
    "# Second part"
   ]
  },
  {
   "cell_type": "code",
   "execution_count": 110,
   "metadata": {},
   "outputs": [],
   "source": [
    "class CalmMonkey:\n",
    "    items = None\n",
    "    def __init__(self, items, operation, test, true, false, name) -> None:\n",
    "        self.items = [int(x) for x in items.split(',')]\n",
    "        self.operation = operation\n",
    "        self.test = test\n",
    "        self.test_true_monkey = int(true)\n",
    "        self.test_false_monkey = int(false)\n",
    "        self.name = int(name)\n",
    "\n",
    "    def action(self, mod):\n",
    "        ret = []\n",
    "        while self.items:\n",
    "            item = self.items.pop(0)%mod\n",
    "            item = int(eval(self.operation.replace('old',str(item))))\n",
    "            # item = item *item\n",
    "            if (item % self.test) == 0:\n",
    "                ret.append((item,self.test_true_monkey))\n",
    "            else:\n",
    "                ret.append((item,self.test_false_monkey))\n",
    "        return ret\n"
   ]
  },
  {
   "cell_type": "code",
   "execution_count": 116,
   "metadata": {},
   "outputs": [],
   "source": [
    "file1 = open('11.txt', 'r')\n",
    "lines = file1.readlines()\n",
    "\n",
    "monkeys = []\n",
    "\n",
    "name = 0\n",
    "items = ''\n",
    "operation = ''\n",
    "test = ''\n",
    "test_true_monkey = ''\n",
    "test_false_monkey = ''\n",
    "\n",
    "tests_product = 1\n",
    "\n",
    "for l in lines:\n",
    "    l_split = l.replace('\\n','').split(':')\n",
    "    l_split[0] = l_split[0].strip()\n",
    "    # print(l_split)\n",
    "\n",
    "    if len(l_split) == 1:\n",
    "        monkeys.append(CalmMonkey(items,operation,test,test_true_monkey,test_false_monkey,name))\n",
    "        name += 1\n",
    "        items = ''\n",
    "        operation = ''\n",
    "        test = ''\n",
    "        test_true_monkey = ''\n",
    "        test_false_monkey = ''\n",
    "    elif l_split[0] == 'Starting items':\n",
    "        items = l_split[1]\n",
    "    elif l_split[0] == 'Operation':\n",
    "        operation = l_split[1].split('=')[1]\n",
    "    elif l_split[0] == 'Test':\n",
    "        test = int(l_split[1].split(' ')[-1])\n",
    "        tests_product *= test\n",
    "    elif l_split[0] == 'If true':\n",
    "        test_true_monkey = l_split[1].split(' ')[-1]\n",
    "    elif l_split[0] == 'If false':\n",
    "        test_false_monkey = l_split[1].split(' ')[-1]"
   ]
  },
  {
   "cell_type": "code",
   "execution_count": 117,
   "metadata": {},
   "outputs": [
    {
     "name": "stdout",
     "output_type": "stream",
     "text": [
      "[3003901, 451351, 8161697, 4281821, 8451371, 4281821, 2043431, 4044857]\n",
      "[749795, 7268615, 3176184, 2895288, 2149158, 2149158, 8161689, 8161689, 5466843, 5466843, 471279, 471279, 6126246, 2246370, 9032226, 5655006]\n",
      "[33838617507409, 6157628842849, 3752825202841, 51267475937161, 45902955629584, 45902955629584, 78576452720896, 37530988072516, 2492571548944]\n",
      "[2357339, 6715693, 3809713]\n",
      "[]\n",
      "[]\n",
      "[]\n",
      "[]\n"
     ]
    }
   ],
   "source": [
    "sys.set_int_max_str_digits(1000000)\n",
    "\n",
    "inspected_num = {i:0 for i in range(len(monkeys))}\n",
    "\n",
    "for _ in range(10000):\n",
    "    for i,m in enumerate(monkeys):\n",
    "        if actions := m.action(tests_product):\n",
    "            for level,monkey_num in actions:\n",
    "                inspected_num[i] += 1\n",
    "                monkeys[monkey_num].items.append(level)\n",
    "\n",
    "for m in monkeys:\n",
    "    print(m.items)"
   ]
  },
  {
   "cell_type": "code",
   "execution_count": 118,
   "metadata": {},
   "outputs": [
    {
     "data": {
      "text/plain": [
       "dict_values([80160, 139887, 99585, 139923, 119975, 19972, 99605, 40344])"
      ]
     },
     "execution_count": 118,
     "metadata": {},
     "output_type": "execute_result"
    }
   ],
   "source": [
    "inspected_num.values()"
   ]
  },
  {
   "cell_type": "code",
   "execution_count": 119,
   "metadata": {},
   "outputs": [
    {
     "data": {
      "text/plain": [
       "19573408701"
      ]
     },
     "execution_count": 119,
     "metadata": {},
     "output_type": "execute_result"
    }
   ],
   "source": [
    "a,b = sorted(inspected_num.values())[-2:]\n",
    "a*b"
   ]
  },
  {
   "cell_type": "code",
   "execution_count": null,
   "metadata": {},
   "outputs": [],
   "source": []
  }
 ],
 "metadata": {
  "kernelspec": {
   "display_name": "Python 3.11.0 64-bit",
   "language": "python",
   "name": "python3"
  },
  "language_info": {
   "codemirror_mode": {
    "name": "ipython",
    "version": 3
   },
   "file_extension": ".py",
   "mimetype": "text/x-python",
   "name": "python",
   "nbconvert_exporter": "python",
   "pygments_lexer": "ipython3",
   "version": "3.11.0"
  },
  "orig_nbformat": 4,
  "vscode": {
   "interpreter": {
    "hash": "aee8b7b246df8f9039afb4144a1f6fd8d2ca17a180786b69acc140d282b71a49"
   }
  }
 },
 "nbformat": 4,
 "nbformat_minor": 2
}
