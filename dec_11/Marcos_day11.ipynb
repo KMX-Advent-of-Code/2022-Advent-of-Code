{
 "cells": [
  {
   "cell_type": "code",
   "execution_count": 1,
   "id": "4bbd4e39",
   "metadata": {},
   "outputs": [],
   "source": [
    "import sys\n",
    "sys.path.append(\"../../aoc_2022/\")"
   ]
  },
  {
   "cell_type": "code",
   "execution_count": 2,
   "id": "1cb8aa17",
   "metadata": {
    "ExecuteTime": {
     "end_time": "2022-12-11T04:54:47.787416Z",
     "start_time": "2022-12-11T04:54:47.743302Z"
    }
   },
   "outputs": [],
   "source": [
    "from helpers import get_input"
   ]
  },
  {
   "cell_type": "code",
   "execution_count": 3,
   "id": "816e89f7",
   "metadata": {
    "ExecuteTime": {
     "end_time": "2022-12-11T05:01:01.727446Z",
     "start_time": "2022-12-11T05:01:01.544500Z"
    }
   },
   "outputs": [
    {
     "name": "stdout",
     "output_type": "stream",
     "text": [
      "Retrieved from File marcosh_input_day11.txt\n"
     ]
    }
   ],
   "source": [
    "input_text, input_list = get_input()"
   ]
  },
  {
   "cell_type": "markdown",
   "id": "21a85742",
   "metadata": {},
   "source": [
    "## Part 1"
   ]
  },
  {
   "cell_type": "code",
   "execution_count": 4,
   "id": "c5a9d71f",
   "metadata": {
    "ExecuteTime": {
     "end_time": "2022-12-11T05:29:45.123766Z",
     "start_time": "2022-12-11T05:29:45.075702Z"
    }
   },
   "outputs": [],
   "source": [
    "class Monkey():\n",
    "    def __init__(self,rows):\n",
    "        self.inspections = 0\n",
    "        self.id = rows[0].strip()\n",
    "        _, itemstring = rows[1].split(':')\n",
    "        self.items = [int(x) for x in itemstring.split(',')]\n",
    "        _, self.op = [x.strip() for x in rows[2].split(':')]\n",
    "        _,self.op = self.op.split('=')\n",
    "        self.op = self.op.strip()\n",
    "        _, self.test = [x.strip() for x in rows[3].split(':')]\n",
    "        \n",
    "        self.test = int(self.test.split(' ')[-1])\n",
    "        self.test_true_dest = int(rows[4][-1])\n",
    "        self.test_false_dest = int(rows[5][-1])\n",
    "    \n",
    "    def inspect_item(self,old):\n",
    "        self.inspections += 1\n",
    "        new = eval(self.op)\n",
    "        new = new // 3\n",
    "        if (new % self.test) == 0:\n",
    "            return new, self.test_true_dest\n",
    "        else:\n",
    "\n",
    "            return new, self.test_false_dest"
   ]
  },
  {
   "cell_type": "code",
   "execution_count": 5,
   "id": "b99b9583",
   "metadata": {
    "ExecuteTime": {
     "end_time": "2022-12-11T05:25:30.431365Z",
     "start_time": "2022-12-11T05:25:30.386803Z"
    }
   },
   "outputs": [],
   "source": [
    "test_data = \"\"\"Monkey 0:\n",
    "  Starting items: 79, 98\n",
    "  Operation: new = old * 19\n",
    "  Test: divisible by 23\n",
    "    If true: throw to monkey 2\n",
    "    If false: throw to monkey 3\n",
    "\n",
    "Monkey 1:\n",
    "  Starting items: 54, 65, 75, 74\n",
    "  Operation: new = old + 6\n",
    "  Test: divisible by 19\n",
    "    If true: throw to monkey 2\n",
    "    If false: throw to monkey 0\n",
    "\n",
    "Monkey 2:\n",
    "  Starting items: 79, 60, 97\n",
    "  Operation: new = old * old\n",
    "  Test: divisible by 13\n",
    "    If true: throw to monkey 1\n",
    "    If false: throw to monkey 3\n",
    "\n",
    "Monkey 3:\n",
    "  Starting items: 74\n",
    "  Operation: new = old + 3\n",
    "  Test: divisible by 17\n",
    "    If true: throw to monkey 0\n",
    "    If false: throw to monkey 1\"\"\""
   ]
  },
  {
   "cell_type": "code",
   "execution_count": 6,
   "id": "7fef1d56",
   "metadata": {
    "ExecuteTime": {
     "end_time": "2022-12-11T05:25:30.768953Z",
     "start_time": "2022-12-11T05:25:30.725356Z"
    }
   },
   "outputs": [],
   "source": [
    "monkeys = [x.split('\\n') for x in test_data.split(\"\\n\\n\")]\n",
    "\n",
    "monkey_clasess  = [Monkey(x) for x in monkeys]"
   ]
  },
  {
   "cell_type": "code",
   "execution_count": 7,
   "id": "3b18f5cb",
   "metadata": {
    "ExecuteTime": {
     "end_time": "2022-12-11T05:30:21.956549Z",
     "start_time": "2022-12-11T05:30:21.914373Z"
    }
   },
   "outputs": [],
   "source": [
    "def process_monkeys(ms):\n",
    "    for monkey in ms:\n",
    "        while monkey.items:\n",
    "            present = monkey.items.pop(0)\n",
    "            new, new_dest = monkey.inspect_item(present)\n",
    "            ms[new_dest].items.append(new)\n"
   ]
  },
  {
   "cell_type": "code",
   "execution_count": 8,
   "id": "70f2f93e",
   "metadata": {
    "ExecuteTime": {
     "end_time": "2022-12-11T05:31:30.401168Z",
     "start_time": "2022-12-11T05:31:30.358201Z"
    }
   },
   "outputs": [],
   "source": [
    "monkeys = [x.split('\\n') for x in input_text.split(\"\\n\\n\")]\n",
    "\n",
    "monkey_clasess  = [Monkey(x) for x in monkeys]"
   ]
  },
  {
   "cell_type": "code",
   "execution_count": 9,
   "id": "6e906b6f",
   "metadata": {
    "ExecuteTime": {
     "end_time": "2022-12-11T05:31:46.740438Z",
     "start_time": "2022-12-11T05:31:46.684327Z"
    },
    "collapsed": true
   },
   "outputs": [],
   "source": [
    "for i in range(20):\n",
    "    process_monkeys(monkey_clasess)"
   ]
  },
  {
   "cell_type": "code",
   "execution_count": 10,
   "id": "cc1619c4",
   "metadata": {
    "ExecuteTime": {
     "end_time": "2022-12-11T05:32:29.509434Z",
     "start_time": "2022-12-11T05:32:29.466062Z"
    }
   },
   "outputs": [
    {
     "data": {
      "text/plain": [
       "[8, 16, 57, 270, 305, 315, 316, 321]"
      ]
     },
     "execution_count": 10,
     "metadata": {},
     "output_type": "execute_result"
    }
   ],
   "source": [
    "sorted([x.inspections for x in monkey_clasess])"
   ]
  },
  {
   "cell_type": "code",
   "execution_count": 11,
   "id": "22efc55c",
   "metadata": {
    "ExecuteTime": {
     "end_time": "2022-12-11T05:32:36.490531Z",
     "start_time": "2022-12-11T05:32:36.447791Z"
    }
   },
   "outputs": [
    {
     "data": {
      "text/plain": [
       "101436"
      ]
     },
     "execution_count": 11,
     "metadata": {},
     "output_type": "execute_result"
    }
   ],
   "source": [
    "321*316"
   ]
  },
  {
   "cell_type": "markdown",
   "id": "90f3308d",
   "metadata": {},
   "source": [
    "## Part 2"
   ]
  },
  {
   "cell_type": "code",
   "execution_count": 12,
   "id": "9f281d7c",
   "metadata": {
    "ExecuteTime": {
     "end_time": "2022-12-11T05:43:21.339757Z",
     "start_time": "2022-12-11T05:43:21.226353Z"
    }
   },
   "outputs": [],
   "source": [
    "class Monkey2():\n",
    "    def __init__(self,rows):\n",
    "        self.inspections = 0\n",
    "        self.id = rows[0].strip()\n",
    "        _, itemstring = rows[1].split(':')\n",
    "        self.items = [int(x) for x in itemstring.split(',')]\n",
    "        _, self.op = [x.strip() for x in rows[2].split(':')]\n",
    "        _,self.op = self.op.split('=')\n",
    "        self.op = self.op.strip()\n",
    "        _, self.test = [x.strip() for x in rows[3].split(':')]\n",
    "        \n",
    "        self.test = int(self.test.split(' ')[-1])\n",
    "        self.test_true_dest = int(rows[4][-1])\n",
    "        self.test_false_dest = int(rows[5][-1])\n",
    "    \n",
    "    def inspect_item(self,old):\n",
    "        self.inspections += 1\n",
    "        new = eval(self.op)\n",
    "        if (new % self.test) == 0:\n",
    "            return new, self.test_true_dest\n",
    "        else:\n",
    "            return new, self.test_false_dest"
   ]
  },
  {
   "cell_type": "code",
   "execution_count": 13,
   "id": "6a3f216d",
   "metadata": {
    "ExecuteTime": {
     "end_time": "2022-12-11T05:45:14.116635Z",
     "start_time": "2022-12-11T05:45:14.065884Z"
    }
   },
   "outputs": [],
   "source": [
    "monkeys = [x.split('\\n') for x in test_data.split(\"\\n\\n\")]\n",
    "\n",
    "monkey_clasess  = [Monkey2(x) for x in monkeys]"
   ]
  },
  {
   "cell_type": "code",
   "execution_count": 14,
   "id": "3f53c94c",
   "metadata": {
    "ExecuteTime": {
     "end_time": "2022-12-11T05:45:14.346743Z",
     "start_time": "2022-12-11T05:45:14.303788Z"
    }
   },
   "outputs": [],
   "source": [
    "from tqdm.notebook import tqdm"
   ]
  },
  {
   "cell_type": "code",
   "execution_count": 15,
   "id": "97960d77",
   "metadata": {
    "ExecuteTime": {
     "end_time": "2022-12-11T05:46:02.511871Z",
     "start_time": "2022-12-11T05:46:02.436376Z"
    }
   },
   "outputs": [],
   "source": [
    "def process_monkeys2(ms):\n",
    "    all_prods = [x.test for x in ms]\n",
    "    prod = np.prod(all_prods)\n",
    "    for monkey in ms:\n",
    "        while monkey.items:\n",
    "            present = monkey.items.pop(0)\n",
    "            new, new_dest = monkey.inspect_item(present)\n",
    "            new = new % prod\n",
    "            ms[new_dest].items.append(new)\n"
   ]
  },
  {
   "cell_type": "code",
   "execution_count": 16,
   "id": "69970b71",
   "metadata": {
    "ExecuteTime": {
     "end_time": "2022-12-11T05:46:10.593482Z",
     "start_time": "2022-12-11T05:46:10.554847Z"
    }
   },
   "outputs": [],
   "source": [
    "monkeys = [x.split('\\n') for x in input_text.split(\"\\n\\n\")]\n",
    "\n",
    "monkey_clasess  = [Monkey2(x) for x in monkeys]"
   ]
  },
  {
   "cell_type": "code",
   "execution_count": 17,
   "id": "3c38ac32",
   "metadata": {
    "ExecuteTime": {
     "end_time": "2022-12-11T05:46:13.794813Z",
     "start_time": "2022-12-11T05:46:11.510241Z"
    }
   },
   "outputs": [
    {
     "data": {
      "application/vnd.jupyter.widget-view+json": {
       "model_id": "7346e70550944da49a4d2f1c7ddfe497",
       "version_major": 2,
       "version_minor": 0
      },
      "text/plain": [
       "  0%|          | 0/10000 [00:00<?, ?it/s]"
      ]
     },
     "metadata": {},
     "output_type": "display_data"
    }
   ],
   "source": [
    "for i in tqdm(range(10000)):\n",
    "    process_monkeys2(monkey_clasess)"
   ]
  },
  {
   "cell_type": "code",
   "execution_count": 18,
   "id": "2b6cc378",
   "metadata": {
    "ExecuteTime": {
     "end_time": "2022-12-11T05:46:14.316402Z",
     "start_time": "2022-12-11T05:46:14.270871Z"
    }
   },
   "outputs": [
    {
     "data": {
      "text/plain": [
       "[10223, 20908, 67010, 81926, 119168, 122454, 140049, 141054]"
      ]
     },
     "execution_count": 18,
     "metadata": {},
     "output_type": "execute_result"
    }
   ],
   "source": [
    "sorted([x.inspections for x in monkey_clasess])"
   ]
  },
  {
   "cell_type": "code",
   "execution_count": 19,
   "id": "622cebda",
   "metadata": {
    "ExecuteTime": {
     "end_time": "2022-12-11T05:46:20.267302Z",
     "start_time": "2022-12-11T05:46:20.233483Z"
    }
   },
   "outputs": [
    {
     "data": {
      "text/plain": [
       "19754471646"
      ]
     },
     "execution_count": 19,
     "metadata": {},
     "output_type": "execute_result"
    }
   ],
   "source": [
    "140049 * 141054"
   ]
  },
  {
   "cell_type": "code",
   "execution_count": null,
   "id": "8561c089",
   "metadata": {},
   "outputs": [],
   "source": []
  }
 ],
 "metadata": {
  "kernelspec": {
   "display_name": "base",
   "language": "python",
   "name": "python3"
  },
  "language_info": {
   "codemirror_mode": {
    "name": "ipython",
    "version": 3
   },
   "file_extension": ".py",
   "mimetype": "text/x-python",
   "name": "python",
   "nbconvert_exporter": "python",
   "pygments_lexer": "ipython3",
   "version": "3.10.6"
  },
  "toc": {
   "base_numbering": 1,
   "nav_menu": {},
   "number_sections": true,
   "sideBar": true,
   "skip_h1_title": false,
   "title_cell": "Table of Contents",
   "title_sidebar": "Contents",
   "toc_cell": false,
   "toc_position": {},
   "toc_section_display": true,
   "toc_window_display": false
  },
  "vscode": {
   "interpreter": {
    "hash": "d71e3fad4d7ef819ec5614b52b98e2aaeb2a4012f1049388f932022bc4f151d3"
   }
  }
 },
 "nbformat": 4,
 "nbformat_minor": 5
}
