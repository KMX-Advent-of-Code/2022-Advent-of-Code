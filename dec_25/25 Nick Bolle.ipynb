{
 "cells": [
  {
   "cell_type": "markdown",
   "id": "cc902ab4",
   "metadata": {},
   "source": [
    "Organization:\n",
    "- Work\n",
    "  - 1 test: defining functions for part 1, testing on test input\n",
    "  - 1 run: getting answer for part 1\n",
    "  - 2 test: ...\n",
    "  - 2 run: ...\n",
    "- Utilities: functions I think might help parse general inputs\n",
    "- Inputs: where I define the test (_t_) and problem (_s_) inputs"
   ]
  },
  {
   "cell_type": "markdown",
   "id": "d1881444",
   "metadata": {},
   "source": [
    "# Work"
   ]
  },
  {
   "cell_type": "markdown",
   "id": "eb1b228f",
   "metadata": {},
   "source": [
    "## 1 test\n",
    "\n",
    "Converting SNAFU to a decimal is easy. The reverse takes more work, but here's the idea:\n",
    "- Converting to base 5 and \"downshifting\" the characters (4 -> 2, 1 -> -, etc) gives something that's too small by the number 2...2 in base 5 (with the appropriate number of 2s)\n",
    "- So start by adding 2...2 to the original number, and then convert to base 5 with the character downshift\n",
    "- The trick is to choose the right number of digits for this 2...2\n",
    "- This depends on the highest value digit of the original number when written in base 5, but here's a trick: have 2...2 use one more digit than the original number in base 5 (because if we use the same number of digits, carrying can give us a new place). And then at the end if the number starts with 0, drop that."
   ]
  },
  {
   "cell_type": "code",
   "execution_count": 71,
   "id": "6847557b",
   "metadata": {},
   "outputs": [],
   "source": [
    "import math"
   ]
  },
  {
   "cell_type": "code",
   "execution_count": 72,
   "id": "1052c920",
   "metadata": {},
   "outputs": [],
   "source": [
    "# Helper functions to convert, giving decimals as integers and snafu as strings\n",
    "\n",
    "snafu_to_dec_dict = {'2' : 2, '1' : 1, '0' : 0, '-' : -1, '=' : -2}\n",
    "dec_to_snafu_downshift_dict = {4 : '2', 3 : '1', 2 : '0', 1 : '-', 0 : '='}\n",
    "\n",
    "# This one is easy\n",
    "def snafu_to_dec(snafu):\n",
    "    dec = 0\n",
    "    place = 1\n",
    "    for i,char in enumerate(snafu[::-1]):\n",
    "        dec += snafu_to_dec_dict[char] * place\n",
    "        place *= 5\n",
    "    return dec\n",
    "\n",
    "# See above for how this works\n",
    "def dec_to_snafu(dec):\n",
    "    # One more than the number of digits required to express the number in base 5\n",
    "    digits = math.floor(math.log(dec,5)) + 2\n",
    "    \n",
    "    # Add the 2...2 to the input\n",
    "    # Using the general case of 222_5 = (444_5)/2 = (1000_5)/2\n",
    "    x = dec + (5**digits - 1) // 2\n",
    "    \n",
    "    # Convert to base 5 with a downshift on the characters\n",
    "    digits = []\n",
    "    while x:\n",
    "        digits.append(dec_to_snafu_downshift_dict[x%5])\n",
    "        x = x // 5\n",
    "    if digits[-1] == '0':\n",
    "        digits.pop()\n",
    "    snafu = ''.join(digits[::-1])\n",
    "    \n",
    "    return snafu"
   ]
  },
  {
   "cell_type": "code",
   "execution_count": 73,
   "id": "c37da709",
   "metadata": {},
   "outputs": [
    {
     "data": {
      "text/plain": [
       "['1=-0-2',\n",
       " '12111',\n",
       " '2=0=',\n",
       " '21',\n",
       " '2=01',\n",
       " '111',\n",
       " '20012',\n",
       " '112',\n",
       " '1=-1=',\n",
       " '1-12',\n",
       " '12',\n",
       " '1=',\n",
       " '122']"
      ]
     },
     "execution_count": 73,
     "metadata": {},
     "output_type": "execute_result"
    }
   ],
   "source": [
    "split(t)"
   ]
  },
  {
   "cell_type": "code",
   "execution_count": 74,
   "id": "2f4c2d12",
   "metadata": {},
   "outputs": [
    {
     "data": {
      "text/plain": [
       "['1=-0-2',\n",
       " '12111',\n",
       " '2=0=',\n",
       " '21',\n",
       " '2=01',\n",
       " '111',\n",
       " '20012',\n",
       " '112',\n",
       " '1=-1=',\n",
       " '1-12',\n",
       " '12',\n",
       " '1=',\n",
       " '122']"
      ]
     },
     "execution_count": 74,
     "metadata": {},
     "output_type": "execute_result"
    }
   ],
   "source": [
    "apply_func(split(t), [snafu_to_dec, dec_to_snafu])"
   ]
  },
  {
   "cell_type": "code",
   "execution_count": 76,
   "id": "bffc938a",
   "metadata": {},
   "outputs": [
    {
     "data": {
      "text/plain": [
       "'2=-1=0'"
      ]
     },
     "execution_count": 76,
     "metadata": {},
     "output_type": "execute_result"
    }
   ],
   "source": [
    "dec_to_snafu(sum(apply_func(split(t), snafu_to_dec)))"
   ]
  },
  {
   "cell_type": "markdown",
   "id": "97486550",
   "metadata": {},
   "source": [
    "## 1 run"
   ]
  },
  {
   "cell_type": "code",
   "execution_count": 77,
   "id": "c44f4f72",
   "metadata": {},
   "outputs": [
    {
     "data": {
      "text/plain": [
       "'2---1010-0=1220-=010'"
      ]
     },
     "execution_count": 77,
     "metadata": {},
     "output_type": "execute_result"
    }
   ],
   "source": [
    "dec_to_snafu(sum(apply_func(split(s), snafu_to_dec)))"
   ]
  },
  {
   "cell_type": "markdown",
   "id": "46587fe1",
   "metadata": {},
   "source": [
    "# Utilities"
   ]
  },
  {
   "cell_type": "code",
   "execution_count": 1,
   "id": "b0f5c2be",
   "metadata": {},
   "outputs": [],
   "source": [
    "# Remove initial/final \\n characters\n",
    "def clean(s):\n",
    "    return s[1:-1]\n",
    "\n",
    "# Split at \\n characters\n",
    "# If there are \\n\\n characters, split into blocks too\n",
    "def split(s, block_char = '\\n\\n', line_char = '\\n'):\n",
    "    out = [block.split(line_char) for block in clean(s).split(block_char)]\n",
    "    if len(out) == 1:\n",
    "        return out[0]\n",
    "    else:\n",
    "        return out\n",
    "\n",
    "# Apply a function(s) to a list or \"block\" data (2-level list)\n",
    "def apply_func(data, func, nested=False):\n",
    "    if not isinstance(func, list):\n",
    "        func = [func]\n",
    "        \n",
    "    def _func(x):\n",
    "        for f in func:\n",
    "            x = f(x)\n",
    "        return x\n",
    "        \n",
    "    if nested:\n",
    "        return [[_func(x) for x in block] for block in data]\n",
    "    else:\n",
    "        return [_func(x) for x in data]\n",
    "\n",
    "# Split, parsing everything as ints\n",
    "def split_int(s):\n",
    "    return apply_func(split(s), int)\n",
    "\n",
    "# Split, parsing everything as float\n",
    "def split_float(s):\n",
    "    return apply_func(split(s), float)"
   ]
  },
  {
   "cell_type": "markdown",
   "id": "2b2e5b0f",
   "metadata": {},
   "source": [
    "# Inputs"
   ]
  },
  {
   "cell_type": "code",
   "execution_count": 2,
   "id": "6a1455c4",
   "metadata": {},
   "outputs": [],
   "source": [
    "t = \"\"\"\n",
    "1=-0-2\n",
    "12111\n",
    "2=0=\n",
    "21\n",
    "2=01\n",
    "111\n",
    "20012\n",
    "112\n",
    "1=-1=\n",
    "1-12\n",
    "12\n",
    "1=\n",
    "122\n",
    "\"\"\""
   ]
  },
  {
   "cell_type": "code",
   "execution_count": 3,
   "id": "dcf53146",
   "metadata": {},
   "outputs": [],
   "source": [
    "s = \"\"\"\n",
    "22-=0-1-=\n",
    "1-==1200200=22-1==2=\n",
    "2-01=--01==01\n",
    "20-=\n",
    "21=210=002\n",
    "12=-0002\n",
    "1=100-==0\n",
    "1101\n",
    "2==-=0=0110-\n",
    "2=100122==--1-\n",
    "2=1-2==2--1\n",
    "1==0=2=0==1100\n",
    "2=0==-2\n",
    "1=1222202101--=\n",
    "1101=2111-11=\n",
    "1=11=2022-11-0=\n",
    "1=2=1102-\n",
    "1--21=1--=\n",
    "11-\n",
    "1001-10-\n",
    "201222-1-2\n",
    "122--2\n",
    "2-\n",
    "11--2-=20=11-2=0\n",
    "1-000=1221==2-\n",
    "1=-==-=2-0\n",
    "121-\n",
    "1--2-=---0=01\n",
    "1=00=010-1-20\n",
    "1=110=2\n",
    "1110-=01--0-12--0\n",
    "200022-\n",
    "2=-=0=-1==2-=2222\n",
    "20201\n",
    "11-0\n",
    "1==\n",
    "1-=---2==20=01\n",
    "2=2=-1\n",
    "1==01-100\n",
    "1-=----=--=\n",
    "1-011--20=1-==2121\n",
    "101---1=-1--0=21--2\n",
    "221=0100--020=11\n",
    "1=-121=2=-1-=\n",
    "11210-\n",
    "1=0=2=22-==-==-\n",
    "2=2220210221-202\n",
    "1--1=---00-11\n",
    "2=0--\n",
    "1=-2=-1==2=0\n",
    "1=0=0=\n",
    "122012210-=010=1\n",
    "21-1-220=21-=-00\n",
    "2-=2==0\n",
    "1220\n",
    "20\n",
    "1=0=22=-21101\n",
    "2-===0==1-210\n",
    "1=-220=121=----2\n",
    "21=0=-=0---0===1=--\n",
    "202-22112---0-2=\n",
    "10=0\n",
    "11\n",
    "102120--=0-021-121\n",
    "100--221=\n",
    "2--011=-=202\n",
    "1=-\n",
    "110=0-0-021-\n",
    "121\n",
    "1-0210-0\n",
    "2-10=2\n",
    "2=-0-1=00--22\n",
    "121-=2\n",
    "12-212110-022-2211\n",
    "1=222==11=-=-01=10\n",
    "200-0120=\n",
    "1-00===12=-1=-0--\n",
    "100-1\n",
    "102-2201\n",
    "10-=0-==2=2==2=0\n",
    "12=01\n",
    "1012-2\n",
    "1=0-02=21=1==1\n",
    "2=021-\n",
    "1-001-\n",
    "10202-00=12===11-1\n",
    "1=\n",
    "20=11=0112=\n",
    "2--1=1-1121\n",
    "2-2=---222\n",
    "1=-001==-0-\n",
    "1-=112-=\n",
    "11011\n",
    "1=2==1\n",
    "1-=2=2201\n",
    "2==222-==\n",
    "101-0-=2\n",
    "1-10-0212-0==0-10\n",
    "1-2-1-=01100\n",
    "121=0-12-2\n",
    "20=0=0-0\n",
    "22000-==0-1-2=0=0=\n",
    "10=\n",
    "2101102\n",
    "1120===10=2-2=02-\n",
    "1-=10--211\n",
    "2===-01==1=--===-\n",
    "1=21-201-==200=\n",
    "1=-=2=10\n",
    "220-120=-0-1010\n",
    "12011\n",
    "1-0=2\n",
    "1---01\n",
    "1=-=1=021=0=0=011\n",
    "1=10-212-0\n",
    "2=\n",
    "10-0=-1=\n",
    "1-21=22=1101000-1-\n",
    "11=00222-=100--\n",
    "\"\"\""
   ]
  },
  {
   "cell_type": "code",
   "execution_count": null,
   "id": "e7de8682",
   "metadata": {},
   "outputs": [],
   "source": []
  }
 ],
 "metadata": {
  "kernelspec": {
   "display_name": "Python 3 (ipykernel)",
   "language": "python",
   "name": "python3"
  },
  "language_info": {
   "codemirror_mode": {
    "name": "ipython",
    "version": 3
   },
   "file_extension": ".py",
   "mimetype": "text/x-python",
   "name": "python",
   "nbconvert_exporter": "python",
   "pygments_lexer": "ipython3",
   "version": "3.11.1"
  }
 },
 "nbformat": 4,
 "nbformat_minor": 5
}
