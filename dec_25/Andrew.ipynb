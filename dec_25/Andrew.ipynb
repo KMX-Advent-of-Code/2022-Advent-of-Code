{
 "cells": [
  {
   "cell_type": "code",
   "execution_count": 1,
   "metadata": {},
   "outputs": [],
   "source": [
    "import numpy as np\n",
    "import pandas as pd\n",
    "import math\n",
    "import scipy\n",
    "import sys\n",
    "from tqdm import tqdm\n",
    "import functools\n",
    "import networkx as nx\n",
    "import itertools\n",
    "\n",
    "import portion as P\n",
    "import re\n",
    "import datetime\n",
    "import queue\n",
    "import sympy as sym\n",
    "\n",
    "# interval = P.empty()\n",
    "# for i, j in [(0, 1), (2, 4), (6, 7), (3, 5)]:\n",
    "#     interval = interval | P.closed(i, j)\n",
    "# print(interval)"
   ]
  },
  {
   "cell_type": "code",
   "execution_count": 2,
   "metadata": {},
   "outputs": [
    {
     "data": {
      "text/plain": [
       "'1121-1110-1=0'"
      ]
     },
     "execution_count": 2,
     "metadata": {},
     "output_type": "execute_result"
    }
   ],
   "source": [
    "def to_decimal(snafu):\n",
    "    digits = {\n",
    "        '2': 2,\n",
    "        '1': 1,\n",
    "        '0': 0,\n",
    "        '-': -1,\n",
    "        '=': -2\n",
    "        }\n",
    "    num = 0\n",
    "    for i,s in enumerate(snafu[::-1]):\n",
    "        num += digits[s] * (5**i)\n",
    "    return num\n",
    "\n",
    "def to_snafu(num):\n",
    "    from_digits = {\n",
    "        2: '2',\n",
    "        1: '1',\n",
    "        0: '0',\n",
    "        -1: '-',\n",
    "        -2: '='\n",
    "        }\n",
    "\n",
    "    snafu = ''\n",
    "    i = 0 ## num of chars\n",
    "    while num > sum([2*(5**x) for x in range(i)]):\n",
    "        i += 1\n",
    "\n",
    "    i -= 1\n",
    "    num += sum([2*(5**x) for x in range(i)])\n",
    "\n",
    "    while i >= 0:\n",
    "        snafu += from_digits[num // (5**i)]\n",
    "        num -= (num // (5**i)) * (5**i) + 2*5**(i-1)\n",
    "        i -= 1\n",
    "    return snafu\n",
    "\n",
    "to_decimal('22')    ## 12\n",
    "# to_decimal('1==') ## 13\n",
    "to_snafu(314159265)"
   ]
  },
  {
   "cell_type": "code",
   "execution_count": 5,
   "metadata": {},
   "outputs": [
    {
     "data": {
      "text/plain": [
       "'2-0-020-1==1021=--01'"
      ]
     },
     "execution_count": 5,
     "metadata": {},
     "output_type": "execute_result"
    }
   ],
   "source": [
    "\n",
    "file1 = open('25.txt', 'r')\n",
    "lines = file1.readlines()\n",
    "\n",
    "s = 0\n",
    "\n",
    "for l in lines:\n",
    "    snafu = l.replace('\\n','')\n",
    "    s += to_decimal(snafu)\n",
    "    # print(s)\n",
    "\n",
    "\n",
    "to_snafu(s)\n"
   ]
  }
 ],
 "metadata": {
  "kernelspec": {
   "display_name": "Python 3",
   "language": "python",
   "name": "python3"
  },
  "language_info": {
   "codemirror_mode": {
    "name": "ipython",
    "version": 3
   },
   "file_extension": ".py",
   "mimetype": "text/x-python",
   "name": "python",
   "nbconvert_exporter": "python",
   "pygments_lexer": "ipython3",
   "version": "3.11.0"
  },
  "orig_nbformat": 4,
  "vscode": {
   "interpreter": {
    "hash": "aee8b7b246df8f9039afb4144a1f6fd8d2ca17a180786b69acc140d282b71a49"
   }
  }
 },
 "nbformat": 4,
 "nbformat_minor": 2
}
