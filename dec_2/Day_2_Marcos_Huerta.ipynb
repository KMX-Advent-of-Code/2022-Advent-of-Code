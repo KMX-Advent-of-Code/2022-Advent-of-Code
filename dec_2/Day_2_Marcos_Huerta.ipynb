{
 "cells": [
  {
   "cell_type": "code",
   "execution_count": 82,
   "id": "c7009257",
   "metadata": {
    "ExecuteTime": {
     "end_time": "2022-12-02T12:48:10.706439Z",
     "start_time": "2022-12-02T12:48:10.650107Z"
    }
   },
   "outputs": [],
   "source": [
    "df = pd.read_csv('huerta_inputday2.txt',sep=' ',header=None)\n",
    "df.columns=['A','B']"
   ]
  },
  {
   "cell_type": "code",
   "execution_count": 83,
   "id": "14d9c74d",
   "metadata": {
    "ExecuteTime": {
     "end_time": "2022-12-02T12:48:10.730293Z",
     "start_time": "2022-12-02T12:48:10.708333Z"
    }
   },
   "outputs": [],
   "source": [
    "map_to_numbers = {'A':1,'B':2,'C':3,'X':1,'Y':2,'Z':3}"
   ]
  },
  {
   "cell_type": "code",
   "execution_count": 84,
   "id": "22c53057",
   "metadata": {
    "ExecuteTime": {
     "end_time": "2022-12-02T12:48:10.757427Z",
     "start_time": "2022-12-02T12:48:10.731454Z"
    }
   },
   "outputs": [],
   "source": [
    "df['A'] = df['A'].map(map_to_numbers)\n",
    "df['B'] = df['B'].map(map_to_numbers)"
   ]
  },
  {
   "cell_type": "code",
   "execution_count": 85,
   "id": "93e44b5a",
   "metadata": {
    "ExecuteTime": {
     "end_time": "2022-12-02T12:48:10.775750Z",
     "start_time": "2022-12-02T12:48:10.758913Z"
    }
   },
   "outputs": [],
   "source": [
    "score_dict = {(1,2):6,\n",
    "    (1,3):0,\n",
    "    (2,1):0,\n",
    "    (2,3):6,\n",
    "    (3,1):6,\n",
    "    (3,2):0}\n",
    "def get_score(x):\n",
    "    \n",
    "    if x[0] == x[1]:\n",
    "        return 3 + x[1]\n",
    "\n",
    "    return score_dict[x] + x[1] \n"
   ]
  },
  {
   "cell_type": "code",
   "execution_count": 86,
   "id": "40bbc232",
   "metadata": {
    "ExecuteTime": {
     "end_time": "2022-12-02T12:48:10.805500Z",
     "start_time": "2022-12-02T12:48:10.776639Z"
    }
   },
   "outputs": [
    {
     "data": {
      "text/plain": [
       "12276"
      ]
     },
     "execution_count": 86,
     "metadata": {},
     "output_type": "execute_result"
    }
   ],
   "source": [
    "#part 1 answer\n",
    "df.apply(lambda x: get_score((x[0],x[1])),axis=1).sum()"
   ]
  },
  {
   "cell_type": "code",
   "execution_count": 87,
   "id": "23ba6a39",
   "metadata": {
    "ExecuteTime": {
     "end_time": "2022-12-02T12:48:10.823677Z",
     "start_time": "2022-12-02T12:48:10.806514Z"
    }
   },
   "outputs": [],
   "source": [
    "df = pd.read_csv('huerta_inputday2.txt',sep=' ',header=None)\n",
    "df.columns=['A','B']"
   ]
  },
  {
   "cell_type": "code",
   "execution_count": 88,
   "id": "17b789ef",
   "metadata": {
    "ExecuteTime": {
     "end_time": "2022-12-02T12:48:10.841120Z",
     "start_time": "2022-12-02T12:48:10.824427Z"
    }
   },
   "outputs": [],
   "source": [
    "def get_outcome(x,y):\n",
    "    \"\"\"Beautiful isn't it\"\"\"\n",
    "    a = ['A','B','C']\n",
    "    z = a.index(x)\n",
    "    if y == 'X':\n",
    "        i = z - 1\n",
    "    if y == 'Y':\n",
    "        i = z\n",
    "    if y == 'Z':\n",
    "        i = z + 1\n",
    "    if i == 3:\n",
    "        i = 0\n",
    "    if i == -1:\n",
    "        i = 2\n",
    "    return get_score((map_to_numbers[x],map_to_numbers[a[i]]))"
   ]
  },
  {
   "cell_type": "code",
   "execution_count": 89,
   "id": "3f3e7ffa",
   "metadata": {
    "ExecuteTime": {
     "end_time": "2022-12-02T12:48:10.865782Z",
     "start_time": "2022-12-02T12:48:10.842011Z"
    }
   },
   "outputs": [
    {
     "data": {
      "text/plain": [
       "9975"
      ]
     },
     "execution_count": 89,
     "metadata": {},
     "output_type": "execute_result"
    }
   ],
   "source": [
    "df.apply(lambda x: get_outcome(x[0],x[1]),axis=1).sum()"
   ]
  },
  {
   "cell_type": "code",
   "execution_count": null,
   "id": "9a5c4de6",
   "metadata": {},
   "outputs": [],
   "source": []
  }
 ],
 "metadata": {
  "kernelspec": {
   "display_name": "Python 3 (ipykernel)",
   "language": "python",
   "name": "python3"
  },
  "language_info": {
   "codemirror_mode": {
    "name": "ipython",
    "version": 3
   },
   "file_extension": ".py",
   "mimetype": "text/x-python",
   "name": "python",
   "nbconvert_exporter": "python",
   "pygments_lexer": "ipython3",
   "version": "3.10.6"
  },
  "toc": {
   "base_numbering": 1,
   "nav_menu": {},
   "number_sections": true,
   "sideBar": true,
   "skip_h1_title": false,
   "title_cell": "Table of Contents",
   "title_sidebar": "Contents",
   "toc_cell": false,
   "toc_position": {},
   "toc_section_display": true,
   "toc_window_display": false
  }
 },
 "nbformat": 4,
 "nbformat_minor": 5
}
