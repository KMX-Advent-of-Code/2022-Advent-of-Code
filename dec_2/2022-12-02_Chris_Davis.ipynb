{
 "cells": [
  {
   "cell_type": "markdown",
   "id": "c4959bac-3c97-412d-8f33-b27771c860ee",
   "metadata": {},
   "source": [
    "--- Day 2: Rock Paper Scissors ---\n",
    "\n",
    "The Elves begin to set up camp on the beach. To decide whose tent gets to be closest to the snack storage, a giant Rock Paper Scissors tournament is already in progress.\n",
    "\n",
    "Rock Paper Scissors is a game between two players. Each game contains many rounds; in each round, the players each simultaneously choose one of Rock, Paper, or Scissors using a hand shape. Then, a winner for that round is selected: Rock defeats Scissors, Scissors defeats Paper, and Paper defeats Rock. If both players choose the same shape, the round instead ends in a draw.\n",
    "\n",
    "Appreciative of your help yesterday, one Elf gives you an encrypted strategy guide (your puzzle input) that they say will be sure to help you win. \"The first column is what your opponent is going to play: A for Rock, B for Paper, and C for Scissors. The second column--\" Suddenly, the Elf is called away to help with someone's tent.\n",
    "\n",
    "The second column, you reason, must be what you should play in response: X for Rock, Y for Paper, and Z for Scissors. Winning every time would be suspicious, so the responses must have been carefully chosen.\n",
    "\n",
    "The winner of the whole tournament is the player with the highest score. Your total score is the sum of your scores for each round. The score for a single round is the score for the shape you selected (1 for Rock, 2 for Paper, and 3 for Scissors) plus the score for the outcome of the round (0 if you lost, 3 if the round was a draw, and 6 if you won).\n",
    "\n",
    "Since you can't be sure if the Elf is trying to help you or trick you, you should calculate the score you would get if you were to follow the strategy guide.\n",
    "\n",
    "For example, suppose you were given the following strategy guide:\n",
    "\n",
    "A Y\n",
    "B X\n",
    "C Z\n",
    "\n",
    "This strategy guide predicts and recommends the following:\n",
    "\n",
    "    In the first round, your opponent will choose Rock (A), and you should choose Paper (Y). This ends in a win for you with a score of 8 (2 because you chose Paper + 6 because you won).\n",
    "    In the second round, your opponent will choose Paper (B), and you should choose Rock (X). This ends in a loss for you with a score of 1 (1 + 0).\n",
    "    The third round is a draw with both players choosing Scissors, giving you a score of 3 + 3 = 6.\n",
    "\n",
    "In this example, if you were to follow the strategy guide, you would get a total score of 15 (8 + 1 + 6).\n",
    "\n",
    "What would your total score be if everything goes exactly according to your strategy guide?\n"
   ]
  },
  {
   "cell_type": "code",
   "execution_count": 1,
   "id": "d7103d0b-8b8a-4351-9def-5640cd313947",
   "metadata": {
    "execution": {
     "iopub.execute_input": "2022-12-03T02:43:09.260252Z",
     "iopub.status.busy": "2022-12-03T02:43:09.260252Z",
     "iopub.status.idle": "2022-12-03T02:43:09.826269Z",
     "shell.execute_reply": "2022-12-03T02:43:09.825276Z",
     "shell.execute_reply.started": "2022-12-03T02:43:09.260252Z"
    },
    "tags": []
   },
   "outputs": [],
   "source": [
    "import pandas as pd"
   ]
  },
  {
   "cell_type": "code",
   "execution_count": 2,
   "id": "232174de-202b-49e9-9bef-7fdb890a66a0",
   "metadata": {
    "execution": {
     "iopub.execute_input": "2022-12-03T02:43:09.827267Z",
     "iopub.status.busy": "2022-12-03T02:43:09.827267Z",
     "iopub.status.idle": "2022-12-03T02:43:09.841231Z",
     "shell.execute_reply": "2022-12-03T02:43:09.840232Z",
     "shell.execute_reply.started": "2022-12-03T02:43:09.827267Z"
    },
    "tags": []
   },
   "outputs": [],
   "source": [
    "def open_file():\n",
    "    \"\"\"open the input file\"\"\"\n",
    "    with open('chris_davis_input_day2.txt') as f:\n",
    "        input_data = f.readlines()\n",
    "    return input_data"
   ]
  },
  {
   "cell_type": "code",
   "execution_count": 3,
   "id": "dcc2a909-0131-454a-a376-6c1e69085fb8",
   "metadata": {
    "execution": {
     "iopub.execute_input": "2022-12-03T02:43:09.844221Z",
     "iopub.status.busy": "2022-12-03T02:43:09.843224Z",
     "iopub.status.idle": "2022-12-03T02:43:09.855215Z",
     "shell.execute_reply": "2022-12-03T02:43:09.855215Z",
     "shell.execute_reply.started": "2022-12-03T02:43:09.844221Z"
    },
    "tags": []
   },
   "outputs": [],
   "source": [
    "def split_data(input_data):\n",
    "    \"\"\"Split the data into columns for ease of use\"\"\"\n",
    "    enemy_col = []\n",
    "    plan_col = []\n",
    "    for row in input_data:\n",
    "        enemy_col.append(row.split()[0].strip())\n",
    "        plan_col.append(row.split()[1].strip())\n",
    "\n",
    "    return enemy_col, plan_col"
   ]
  },
  {
   "cell_type": "code",
   "execution_count": 4,
   "id": "4048c9e5-e2e7-436d-bbd1-12eb28561853",
   "metadata": {
    "execution": {
     "iopub.execute_input": "2022-12-03T02:43:09.857209Z",
     "iopub.status.busy": "2022-12-03T02:43:09.857209Z",
     "iopub.status.idle": "2022-12-03T02:43:09.872149Z",
     "shell.execute_reply": "2022-12-03T02:43:09.871150Z",
     "shell.execute_reply.started": "2022-12-03T02:43:09.857209Z"
    },
    "tags": []
   },
   "outputs": [],
   "source": [
    "def determine_outcome(their_move, your_move):\n",
    "    \"\"\"Determine the outcome of a move\"\"\"\n",
    "    if their_move == 'A':\n",
    "        if your_move == 'X':\n",
    "            return 'tie'\n",
    "        if your_move == 'Y':\n",
    "            return 'win'\n",
    "        if your_move == 'Z':\n",
    "            return 'lose'\n",
    "    if their_move == 'B':\n",
    "        if your_move == 'X':\n",
    "            return 'lose'\n",
    "        if your_move == 'Y':\n",
    "            return 'tie'\n",
    "        if your_move == 'Z':\n",
    "            return 'win'\n",
    "    if their_move == 'C':\n",
    "        if your_move == 'X':\n",
    "            return 'win'\n",
    "        if your_move == 'Y':\n",
    "            return 'lose'\n",
    "        if your_move == 'Z':\n",
    "            return 'tie'"
   ]
  },
  {
   "cell_type": "code",
   "execution_count": 5,
   "id": "0d8aa969-7f59-4e10-9abb-b6a8a95ff348",
   "metadata": {
    "execution": {
     "iopub.execute_input": "2022-12-03T02:43:09.873145Z",
     "iopub.status.busy": "2022-12-03T02:43:09.873145Z",
     "iopub.status.idle": "2022-12-03T02:43:09.887107Z",
     "shell.execute_reply": "2022-12-03T02:43:09.886134Z",
     "shell.execute_reply.started": "2022-12-03T02:43:09.873145Z"
    },
    "tags": []
   },
   "outputs": [],
   "source": [
    "def determine_score(my_move, outcome):\n",
    "    \"\"\"Determine associated score\"\"\"\n",
    "    if my_move == 'X':\n",
    "        move_score = 1\n",
    "    elif my_move == 'Y':\n",
    "        move_score = 2\n",
    "    elif my_move == 'Z':\n",
    "        move_score = 3\n",
    "        \n",
    "    if outcome == 'lose':\n",
    "        outcome_score = 0\n",
    "    elif outcome == 'tie':\n",
    "        outcome_score = 3\n",
    "    elif outcome == 'win':\n",
    "        outcome_score = 6\n",
    "    \n",
    "    return move_score + outcome_score"
   ]
  },
  {
   "cell_type": "code",
   "execution_count": 6,
   "id": "500e1698-64f7-443f-a31a-a47a34888898",
   "metadata": {
    "execution": {
     "iopub.execute_input": "2022-12-03T02:43:09.888126Z",
     "iopub.status.busy": "2022-12-03T02:43:09.888126Z",
     "iopub.status.idle": "2022-12-03T02:43:09.902071Z",
     "shell.execute_reply": "2022-12-03T02:43:09.902071Z",
     "shell.execute_reply.started": "2022-12-03T02:43:09.888126Z"
    },
    "tags": []
   },
   "outputs": [],
   "source": [
    "input_data = open_file()"
   ]
  },
  {
   "cell_type": "code",
   "execution_count": 7,
   "id": "54e0b30c-e8ba-4924-9375-efa87626ac9a",
   "metadata": {
    "execution": {
     "iopub.execute_input": "2022-12-03T02:43:09.904063Z",
     "iopub.status.busy": "2022-12-03T02:43:09.904063Z",
     "iopub.status.idle": "2022-12-03T02:43:09.918865Z",
     "shell.execute_reply": "2022-12-03T02:43:09.917877Z",
     "shell.execute_reply.started": "2022-12-03T02:43:09.904063Z"
    },
    "tags": []
   },
   "outputs": [],
   "source": [
    "enemy_col, plan_col = split_data(input_data)"
   ]
  },
  {
   "cell_type": "code",
   "execution_count": 8,
   "id": "d5c8e700-6905-4c25-8221-f989859a336e",
   "metadata": {
    "execution": {
     "iopub.execute_input": "2022-12-03T02:43:09.920851Z",
     "iopub.status.busy": "2022-12-03T02:43:09.919873Z",
     "iopub.status.idle": "2022-12-03T02:43:09.934814Z",
     "shell.execute_reply": "2022-12-03T02:43:09.933838Z",
     "shell.execute_reply.started": "2022-12-03T02:43:09.920851Z"
    },
    "tags": []
   },
   "outputs": [],
   "source": [
    "play_df = pd.DataFrame({'enemy_play': enemy_col, 'my_play': plan_col})"
   ]
  },
  {
   "cell_type": "code",
   "execution_count": 9,
   "id": "7f6b4880-c395-4847-9144-124fe32cc3ef",
   "metadata": {
    "execution": {
     "iopub.execute_input": "2022-12-03T02:43:09.935838Z",
     "iopub.status.busy": "2022-12-03T02:43:09.935838Z",
     "iopub.status.idle": "2022-12-03T02:43:09.982703Z",
     "shell.execute_reply": "2022-12-03T02:43:09.981714Z",
     "shell.execute_reply.started": "2022-12-03T02:43:09.935838Z"
    },
    "tags": []
   },
   "outputs": [],
   "source": [
    "play_df['outcome'] = play_df.apply(lambda x: determine_outcome(x['enemy_play'], x['my_play']), axis=1)"
   ]
  },
  {
   "cell_type": "code",
   "execution_count": 10,
   "id": "ba4a9d99-0990-471b-a62f-97a37d17f7fc",
   "metadata": {
    "execution": {
     "iopub.execute_input": "2022-12-03T02:43:09.983683Z",
     "iopub.status.busy": "2022-12-03T02:43:09.983683Z",
     "iopub.status.idle": "2022-12-03T02:43:10.028287Z",
     "shell.execute_reply": "2022-12-03T02:43:10.028287Z",
     "shell.execute_reply.started": "2022-12-03T02:43:09.983683Z"
    },
    "tags": []
   },
   "outputs": [],
   "source": [
    "play_df['points_scored'] = play_df.apply(lambda x: determine_score(x['my_play'], x['outcome']), axis=1)"
   ]
  },
  {
   "cell_type": "code",
   "execution_count": 11,
   "id": "42885c1e-45c5-45a2-959e-90815ee03d6a",
   "metadata": {
    "execution": {
     "iopub.execute_input": "2022-12-03T02:43:10.030262Z",
     "iopub.status.busy": "2022-12-03T02:43:10.029285Z",
     "iopub.status.idle": "2022-12-03T02:43:10.060178Z",
     "shell.execute_reply": "2022-12-03T02:43:10.060178Z",
     "shell.execute_reply.started": "2022-12-03T02:43:10.030262Z"
    },
    "tags": []
   },
   "outputs": [
    {
     "data": {
      "text/html": [
       "<div>\n",
       "<style scoped>\n",
       "    .dataframe tbody tr th:only-of-type {\n",
       "        vertical-align: middle;\n",
       "    }\n",
       "\n",
       "    .dataframe tbody tr th {\n",
       "        vertical-align: top;\n",
       "    }\n",
       "\n",
       "    .dataframe thead th {\n",
       "        text-align: right;\n",
       "    }\n",
       "</style>\n",
       "<table border=\"1\" class=\"dataframe\">\n",
       "  <thead>\n",
       "    <tr style=\"text-align: right;\">\n",
       "      <th></th>\n",
       "      <th>enemy_play</th>\n",
       "      <th>my_play</th>\n",
       "      <th>outcome</th>\n",
       "      <th>points_scored</th>\n",
       "    </tr>\n",
       "  </thead>\n",
       "  <tbody>\n",
       "    <tr>\n",
       "      <th>0</th>\n",
       "      <td>B</td>\n",
       "      <td>X</td>\n",
       "      <td>lose</td>\n",
       "      <td>1</td>\n",
       "    </tr>\n",
       "    <tr>\n",
       "      <th>1</th>\n",
       "      <td>B</td>\n",
       "      <td>Y</td>\n",
       "      <td>tie</td>\n",
       "      <td>5</td>\n",
       "    </tr>\n",
       "    <tr>\n",
       "      <th>2</th>\n",
       "      <td>A</td>\n",
       "      <td>Y</td>\n",
       "      <td>win</td>\n",
       "      <td>8</td>\n",
       "    </tr>\n",
       "    <tr>\n",
       "      <th>3</th>\n",
       "      <td>B</td>\n",
       "      <td>Y</td>\n",
       "      <td>tie</td>\n",
       "      <td>5</td>\n",
       "    </tr>\n",
       "    <tr>\n",
       "      <th>4</th>\n",
       "      <td>B</td>\n",
       "      <td>Y</td>\n",
       "      <td>tie</td>\n",
       "      <td>5</td>\n",
       "    </tr>\n",
       "    <tr>\n",
       "      <th>...</th>\n",
       "      <td>...</td>\n",
       "      <td>...</td>\n",
       "      <td>...</td>\n",
       "      <td>...</td>\n",
       "    </tr>\n",
       "    <tr>\n",
       "      <th>2495</th>\n",
       "      <td>A</td>\n",
       "      <td>Y</td>\n",
       "      <td>win</td>\n",
       "      <td>8</td>\n",
       "    </tr>\n",
       "    <tr>\n",
       "      <th>2496</th>\n",
       "      <td>B</td>\n",
       "      <td>Z</td>\n",
       "      <td>win</td>\n",
       "      <td>9</td>\n",
       "    </tr>\n",
       "    <tr>\n",
       "      <th>2497</th>\n",
       "      <td>A</td>\n",
       "      <td>Y</td>\n",
       "      <td>win</td>\n",
       "      <td>8</td>\n",
       "    </tr>\n",
       "    <tr>\n",
       "      <th>2498</th>\n",
       "      <td>A</td>\n",
       "      <td>Y</td>\n",
       "      <td>win</td>\n",
       "      <td>8</td>\n",
       "    </tr>\n",
       "    <tr>\n",
       "      <th>2499</th>\n",
       "      <td>C</td>\n",
       "      <td>Z</td>\n",
       "      <td>tie</td>\n",
       "      <td>6</td>\n",
       "    </tr>\n",
       "  </tbody>\n",
       "</table>\n",
       "<p>2500 rows × 4 columns</p>\n",
       "</div>"
      ],
      "text/plain": [
       "     enemy_play my_play outcome  points_scored\n",
       "0             B       X    lose              1\n",
       "1             B       Y     tie              5\n",
       "2             A       Y     win              8\n",
       "3             B       Y     tie              5\n",
       "4             B       Y     tie              5\n",
       "...         ...     ...     ...            ...\n",
       "2495          A       Y     win              8\n",
       "2496          B       Z     win              9\n",
       "2497          A       Y     win              8\n",
       "2498          A       Y     win              8\n",
       "2499          C       Z     tie              6\n",
       "\n",
       "[2500 rows x 4 columns]"
      ]
     },
     "execution_count": 11,
     "metadata": {},
     "output_type": "execute_result"
    }
   ],
   "source": [
    "play_df"
   ]
  },
  {
   "cell_type": "code",
   "execution_count": 12,
   "id": "44131e2e-4431-4eb7-8446-688a0bc2cc2e",
   "metadata": {
    "execution": {
     "iopub.execute_input": "2022-12-03T02:43:10.063171Z",
     "iopub.status.busy": "2022-12-03T02:43:10.063171Z",
     "iopub.status.idle": "2022-12-03T02:43:10.077134Z",
     "shell.execute_reply": "2022-12-03T02:43:10.076163Z",
     "shell.execute_reply.started": "2022-12-03T02:43:10.063171Z"
    },
    "tags": []
   },
   "outputs": [
    {
     "data": {
      "text/plain": [
       "15691"
      ]
     },
     "execution_count": 12,
     "metadata": {},
     "output_type": "execute_result"
    }
   ],
   "source": [
    "play_df['points_scored'].sum()"
   ]
  },
  {
   "cell_type": "markdown",
   "id": "70b4f6de-a5d6-427b-a0e2-d933b355ee38",
   "metadata": {},
   "source": [
    "--- Part Two ---\n",
    "\n",
    "The Elf finishes helping with the tent and sneaks back over to you. \"Anyway, the second column says how the round needs to end: X means you need to lose, Y means you need to end the round in a draw, and Z means you need to win. Good luck!\"\n",
    "\n",
    "The total score is still calculated in the same way, but now you need to figure out what shape to choose so the round ends as indicated. The example above now goes like this:\n",
    "\n",
    "    In the first round, your opponent will choose Rock (A), and you need the round to end in a draw (Y), so you also choose Rock. This gives you a score of 1 + 3 = 4.\n",
    "    In the second round, your opponent will choose Paper (B), and you choose Rock so you lose (X) with a score of 1 + 0 = 1.\n",
    "    In the third round, you will defeat your opponent's Scissors with Rock for a score of 1 + 6 = 7.\n",
    "\n",
    "Now that you're correctly decrypting the ultra top secret strategy guide, you would get a total score of 12.\n",
    "\n",
    "Following the Elf's instructions for the second column, what would your total score be if everything goes exactly according to your strategy guide?\n"
   ]
  },
  {
   "cell_type": "code",
   "execution_count": 13,
   "id": "372305f1-ed51-4677-a0f5-08d3bf4dfae4",
   "metadata": {
    "execution": {
     "iopub.execute_input": "2022-12-03T02:43:10.078131Z",
     "iopub.status.busy": "2022-12-03T02:43:10.078131Z",
     "iopub.status.idle": "2022-12-03T02:43:10.093106Z",
     "shell.execute_reply": "2022-12-03T02:43:10.092093Z",
     "shell.execute_reply.started": "2022-12-03T02:43:10.078131Z"
    },
    "tags": []
   },
   "outputs": [],
   "source": [
    "def determine_needed_play(their_move, outcome):\n",
    "    \"\"\"Determine the needed move for a particular outcome\"\"\"\n",
    "    if their_move == 'A':\n",
    "        if outcome == 'tie':\n",
    "            return 'X'\n",
    "        if outcome == 'win':\n",
    "            return 'Y'\n",
    "        if outcome == 'lose':\n",
    "            return 'Z'\n",
    "    if their_move == 'B':\n",
    "        if outcome == 'lose':\n",
    "            return 'X'\n",
    "        if outcome == 'tie':\n",
    "            return 'Y'\n",
    "        if outcome == 'win':\n",
    "            return 'Z'\n",
    "    if their_move == 'C':\n",
    "        if outcome == 'win':\n",
    "            return 'X'\n",
    "        if outcome == 'lose':\n",
    "            return 'Y'\n",
    "        if outcome == 'tie':\n",
    "            return 'Z'"
   ]
  },
  {
   "cell_type": "code",
   "execution_count": 14,
   "id": "65e636a3-833a-40d5-b3ca-0537e6ce94e0",
   "metadata": {
    "execution": {
     "iopub.execute_input": "2022-12-03T02:43:10.094088Z",
     "iopub.status.busy": "2022-12-03T02:43:10.094088Z",
     "iopub.status.idle": "2022-12-03T02:43:10.109055Z",
     "shell.execute_reply": "2022-12-03T02:43:10.108074Z",
     "shell.execute_reply.started": "2022-12-03T02:43:10.094088Z"
    },
    "tags": []
   },
   "outputs": [],
   "source": [
    "play_df['part_2_outcome'] = play_df['my_play'].map({'X': 'lose', 'Y': 'tie', 'Z': 'win'})"
   ]
  },
  {
   "cell_type": "code",
   "execution_count": 15,
   "id": "06a308ef-6587-4f19-80f5-762b4fbe93f1",
   "metadata": {
    "execution": {
     "iopub.execute_input": "2022-12-03T02:43:10.111043Z",
     "iopub.status.busy": "2022-12-03T02:43:10.110051Z",
     "iopub.status.idle": "2022-12-03T02:43:10.155923Z",
     "shell.execute_reply": "2022-12-03T02:43:10.154947Z",
     "shell.execute_reply.started": "2022-12-03T02:43:10.111043Z"
    },
    "tags": []
   },
   "outputs": [],
   "source": [
    "play_df['part_2_play'] = play_df.apply(lambda x: determine_needed_play(x['enemy_play'], x['part_2_outcome']), axis=1)"
   ]
  },
  {
   "cell_type": "code",
   "execution_count": 16,
   "id": "f76e4462-2a79-4881-b273-d2190a4ed924",
   "metadata": {
    "execution": {
     "iopub.execute_input": "2022-12-03T02:43:10.157918Z",
     "iopub.status.busy": "2022-12-03T02:43:10.157918Z",
     "iopub.status.idle": "2022-12-03T02:43:10.202801Z",
     "shell.execute_reply": "2022-12-03T02:43:10.201823Z",
     "shell.execute_reply.started": "2022-12-03T02:43:10.157918Z"
    },
    "tags": []
   },
   "outputs": [],
   "source": [
    "play_df['part_2_points_scored'] = play_df.apply(lambda x: determine_score(x['part_2_play'], x['part_2_outcome']), axis=1)"
   ]
  },
  {
   "cell_type": "code",
   "execution_count": 18,
   "id": "77b5f9e8-efd6-4c91-9ae3-90b35a8a2d4b",
   "metadata": {
    "execution": {
     "iopub.execute_input": "2022-12-03T02:43:22.410541Z",
     "iopub.status.busy": "2022-12-03T02:43:22.410541Z",
     "iopub.status.idle": "2022-12-03T02:43:22.420492Z",
     "shell.execute_reply": "2022-12-03T02:43:22.419494Z",
     "shell.execute_reply.started": "2022-12-03T02:43:22.410541Z"
    },
    "tags": []
   },
   "outputs": [
    {
     "data": {
      "text/plain": [
       "12989"
      ]
     },
     "execution_count": 18,
     "metadata": {},
     "output_type": "execute_result"
    }
   ],
   "source": [
    "play_df['part_2_points_scored'].sum()"
   ]
  },
  {
   "cell_type": "code",
   "execution_count": null,
   "id": "384a130f-89de-45ec-a8f3-5798ff2599c0",
   "metadata": {},
   "outputs": [],
   "source": []
  }
 ],
 "metadata": {
  "kernelspec": {
   "display_name": "Python 3 (ipykernel)",
   "language": "python",
   "name": "python3"
  },
  "language_info": {
   "codemirror_mode": {
    "name": "ipython",
    "version": 3
   },
   "file_extension": ".py",
   "mimetype": "text/x-python",
   "name": "python",
   "nbconvert_exporter": "python",
   "pygments_lexer": "ipython3",
   "version": "3.9.7"
  }
 },
 "nbformat": 4,
 "nbformat_minor": 5
}
