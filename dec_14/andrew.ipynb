{
 "cells": [
  {
   "cell_type": "code",
   "execution_count": 2,
   "metadata": {},
   "outputs": [],
   "source": [
    "import numpy as np\n",
    "import pandas as pd\n",
    "import math\n",
    "import scipy\n",
    "import sys\n",
    "from tqdm import tqdm\n",
    "import functools"
   ]
  },
  {
   "cell_type": "code",
   "execution_count": 265,
   "metadata": {},
   "outputs": [],
   "source": [
    "file1 = open('14.txt', 'r')\n",
    "lines = file1.readlines()\n",
    "\n",
    "paths = []\n",
    "\n",
    "ans1 = []\n",
    "\n",
    "for l in lines:\n",
    "    l = l.replace('\\n','')\n",
    "    paths.append([[int(x) for x in pt.split(',')] for pt in l.split('->') ])\n",
    "    # print(l)\n"
   ]
  },
  {
   "cell_type": "code",
   "execution_count": 266,
   "metadata": {},
   "outputs": [
    {
     "name": "stdout",
     "output_type": "stream",
     "text": [
      "(458, 511) (13, 166)\n"
     ]
    }
   ],
   "source": [
    "x_range = (min([pt[0] for pts in paths for pt in pts]), max([pt[0] for pts in paths for pt in pts]))\n",
    "y_range = (min([pt[1] for pts in paths for pt in pts]), max([pt[1] for pts in paths for pt in pts]))\n",
    "\n",
    "print(x_range, y_range)"
   ]
  },
  {
   "cell_type": "code",
   "execution_count": 267,
   "metadata": {},
   "outputs": [
    {
     "name": "stdout",
     "output_type": "stream",
     "text": [
      "153 194\n"
     ]
    }
   ],
   "source": [
    "width = x_range[1]-x_range[0]+100\n",
    "height = y_range[1]+1+(x_range[1]-x_range[0]+2)//2 # taller in the case the sand will pile up\n",
    "\n",
    "def transform_coor(pt):\n",
    "    return (pt[0]-x_range[0]+1, pt[1])\n",
    "\n",
    "map = np.zeros((width, height)).T\n",
    "print(width, height)\n",
    "# map"
   ]
  },
  {
   "cell_type": "code",
   "execution_count": 268,
   "metadata": {},
   "outputs": [],
   "source": [
    "#draw lines\n",
    "for path in paths:\n",
    "    prev = transform_coor(path[0])\n",
    "    for pt in path[1:]:\n",
    "        pt_coor = transform_coor(pt)\n",
    "        # print(prev[0],pt_coor[0], prev[1],pt_coor[1])\n",
    "        if prev[0] == pt_coor[0]:\n",
    "            map[min(prev[1],pt_coor[1]):max(prev[1],pt_coor[1])+1, prev[0]] = 5\n",
    "        else:\n",
    "            map[pt_coor[1], min(prev[0],pt_coor[0]):max(prev[0],pt_coor[0])+1] = 5\n",
    "        prev = pt_coor\n",
    "    # print(map)\n",
    "    # break\n",
    "# map"
   ]
  },
  {
   "cell_type": "code",
   "execution_count": 269,
   "metadata": {},
   "outputs": [
    {
     "data": {
      "text/plain": [
       "(194, 153)"
      ]
     },
     "execution_count": 269,
     "metadata": {},
     "output_type": "execute_result"
    }
   ],
   "source": [
    "map.shape"
   ]
  },
  {
   "cell_type": "code",
   "execution_count": 270,
   "metadata": {},
   "outputs": [],
   "source": [
    "def sand_fall_coor(drop_pt, map):\n",
    "    pt_x,pt_y = drop_pt\n",
    "    # print(pt_x,pt_y)\n",
    "    if pt_y >= map.shape[0]-1:\n",
    "        return (-1,-1)\n",
    "    elif map[pt_y+1,pt_x] == 0:\n",
    "        return sand_fall_coor((pt_x,pt_y+1), map)\n",
    "    elif map[pt_y+1,pt_x-1] == 0:\n",
    "        return sand_fall_coor((pt_x-1,pt_y+1), map)\n",
    "    elif map[pt_y+1,pt_x+1] == 0:\n",
    "        return sand_fall_coor((pt_x+1,pt_y+1), map)\n",
    "    else:\n",
    "        return drop_pt"
   ]
  },
  {
   "cell_type": "code",
   "execution_count": 271,
   "metadata": {},
   "outputs": [],
   "source": [
    "sand_units = 0\n",
    "while True:\n",
    "    x,y = sand_fall_coor(transform_coor((500,0)), map)\n",
    "    if y < 0:\n",
    "        break\n",
    "    # print(x,y)\n",
    "    map[y,x] = 1\n",
    "    sand_units += 1\n",
    "    map\n"
   ]
  },
  {
   "cell_type": "code",
   "execution_count": 272,
   "metadata": {},
   "outputs": [
    {
     "data": {
      "text/plain": [
       "897"
      ]
     },
     "execution_count": 272,
     "metadata": {},
     "output_type": "execute_result"
    }
   ],
   "source": [
    "sand_units"
   ]
  },
  {
   "cell_type": "markdown",
   "metadata": {},
   "source": [
    "# Second part"
   ]
  },
  {
   "cell_type": "code",
   "execution_count": 276,
   "metadata": {},
   "outputs": [
    {
     "name": "stdout",
     "output_type": "stream",
     "text": [
      "456 169\n"
     ]
    }
   ],
   "source": [
    "x_shift = 200\n",
    "width = x_range[1]-x_range[0]+3 + 2*x_shift\n",
    "height = y_range[1]+3 # taller in the case the sand will pile up\n",
    "\n",
    "def transform_coor(pt):\n",
    "    return (pt[0]-x_range[0]+1+x_shift, pt[1])\n",
    "\n",
    "map = np.zeros((width, height)).T\n",
    "print(width, height)\n",
    "\n",
    "#draw lines\n",
    "for path in paths:\n",
    "    prev = transform_coor(path[0])\n",
    "    for pt in path[1:]:\n",
    "        pt_coor = transform_coor(pt)\n",
    "        # print(prev[0],pt_coor[0], prev[1],pt_coor[1])\n",
    "        if prev[0] == pt_coor[0]:\n",
    "            map[min(prev[1],pt_coor[1]):max(prev[1],pt_coor[1])+1, prev[0]] = 5\n",
    "        else:\n",
    "            map[pt_coor[1], min(prev[0],pt_coor[0]):max(prev[0],pt_coor[0])+1] = 5\n",
    "        prev = pt_coor\n",
    "    # print(map)\n",
    "    # break\n",
    "map[height-1,:] = 5"
   ]
  },
  {
   "cell_type": "code",
   "execution_count": 277,
   "metadata": {},
   "outputs": [],
   "source": [
    "sand_units = 0\n",
    "while True:\n",
    "    x,y = sand_fall_coor(transform_coor((500,0)), map)\n",
    "    if y <= 0:\n",
    "        break\n",
    "    # print(x,y)\n",
    "    map[y,x] = 1\n",
    "    sand_units += 1\n",
    "    map\n"
   ]
  },
  {
   "cell_type": "code",
   "execution_count": 278,
   "metadata": {},
   "outputs": [
    {
     "data": {
      "text/plain": [
       "26683"
      ]
     },
     "execution_count": 278,
     "metadata": {},
     "output_type": "execute_result"
    }
   ],
   "source": [
    "sand_units +1 "
   ]
  },
  {
   "cell_type": "code",
   "execution_count": 280,
   "metadata": {},
   "outputs": [],
   "source": [
    "##print a tree!!\n",
    "\n",
    "# for y in range(height):\n",
    "#     l = ''\n",
    "#     for x in range(width):\n",
    "#         if map[y,x] == 0:\n",
    "#             l += ' '\n",
    "#         elif map[y,x] == 5:\n",
    "#             l += '#'\n",
    "#         elif map[y,x] == 1:\n",
    "#             l += 'o'\n",
    "#     print(l)"
   ]
  },
  {
   "cell_type": "code",
   "execution_count": null,
   "metadata": {},
   "outputs": [],
   "source": []
  }
 ],
 "metadata": {
  "kernelspec": {
   "display_name": "Python 3.11.0 64-bit",
   "language": "python",
   "name": "python3"
  },
  "language_info": {
   "codemirror_mode": {
    "name": "ipython",
    "version": 3
   },
   "file_extension": ".py",
   "mimetype": "text/x-python",
   "name": "python",
   "nbconvert_exporter": "python",
   "pygments_lexer": "ipython3",
   "version": "3.11.0"
  },
  "orig_nbformat": 4,
  "vscode": {
   "interpreter": {
    "hash": "aee8b7b246df8f9039afb4144a1f6fd8d2ca17a180786b69acc140d282b71a49"
   }
  }
 },
 "nbformat": 4,
 "nbformat_minor": 2
}
