{
 "cells": [
  {
   "cell_type": "code",
   "execution_count": 2,
   "id": "66c32330",
   "metadata": {
    "ExecuteTime": {
     "end_time": "2022-12-07T05:00:52.054002Z",
     "start_time": "2022-12-07T05:00:51.897965Z"
    }
   },
   "outputs": [
    {
     "name": "stdout",
     "output_type": "stream",
     "text": [
      "Retrieved from File marcosh_input_day7.txt\n"
     ]
    }
   ],
   "source": [
    "from helpers import get_input\n",
    "\n",
    "input_text, input_list = get_input()"
   ]
  },
  {
   "cell_type": "code",
   "execution_count": 3,
   "id": "9b29b3b6",
   "metadata": {
    "ExecuteTime": {
     "end_time": "2022-12-07T05:19:46.503333Z",
     "start_time": "2022-12-07T05:19:46.460123Z"
    }
   },
   "outputs": [],
   "source": [
    "test_input = \"\"\"$ cd /\n",
    "$ ls\n",
    "dir a\n",
    "14848514 b.txt\n",
    "8504156 c.dat\n",
    "dir d\n",
    "$ cd a\n",
    "$ ls\n",
    "dir e\n",
    "29116 f\n",
    "2557 g\n",
    "62596 h.lst\n",
    "$ cd e\n",
    "$ ls\n",
    "584 i\n",
    "$ cd ..\n",
    "$ cd ..\n",
    "$ cd d\n",
    "$ ls\n",
    "4060174 j\n",
    "8033020 d.log\n",
    "5626152 d.ext\n",
    "7214296 k\"\"\".split('\\n')"
   ]
  },
  {
   "cell_type": "code",
   "execution_count": 29,
   "id": "9b05e993",
   "metadata": {
    "ExecuteTime": {
     "end_time": "2022-12-07T05:19:55.631253Z",
     "start_time": "2022-12-07T05:19:55.587150Z"
    }
   },
   "outputs": [
    {
     "data": {
      "text/plain": [
       "['$ cd /',\n",
       " '$ ls',\n",
       " 'dir a',\n",
       " '14848514 b.txt',\n",
       " '8504156 c.dat',\n",
       " 'dir d',\n",
       " '$ cd a',\n",
       " '$ ls',\n",
       " 'dir e',\n",
       " '29116 f',\n",
       " '2557 g',\n",
       " '62596 h.lst',\n",
       " '$ cd e',\n",
       " '$ ls',\n",
       " '584 i',\n",
       " '$ cd ..',\n",
       " '$ cd ..',\n",
       " '$ cd d',\n",
       " '$ ls',\n",
       " '4060174 j',\n",
       " '8033020 d.log',\n",
       " '5626152 d.ext',\n",
       " '7214296 k']"
      ]
     },
     "execution_count": 29,
     "metadata": {},
     "output_type": "execute_result"
    }
   ],
   "source": [
    "test_input"
   ]
  },
  {
   "cell_type": "code",
   "execution_count": 6,
   "id": "24ea80f3",
   "metadata": {
    "ExecuteTime": {
     "end_time": "2022-12-07T05:51:20.017645Z",
     "start_time": "2022-12-07T05:51:19.974004Z"
    }
   },
   "outputs": [],
   "source": [
    "from copy import deepcopy"
   ]
  },
  {
   "cell_type": "code",
   "execution_count": 8,
   "id": "6a051ac4",
   "metadata": {
    "ExecuteTime": {
     "end_time": "2022-12-07T12:44:31.332354Z",
     "start_time": "2022-12-07T12:44:31.284244Z"
    }
   },
   "outputs": [
    {
     "data": {
      "text/plain": [
       "1325919"
      ]
     },
     "execution_count": 8,
     "metadata": {},
     "output_type": "execute_result"
    }
   ],
   "source": [
    "\n",
    "\n",
    "out = []\n",
    "i = 0\n",
    "full_path = []\n",
    "all_paths = []\n",
    "\n",
    "\n",
    "while True and i < len(input_list):\n",
    "    line = input_list[i]\n",
    "    if line.startswith('$ cd'):\n",
    "        try:\n",
    "            _, new_dir = line.split('cd ')\n",
    "        except ValueError:\n",
    "            print(f'wtf {line}')\n",
    "        new_dir = new_dir.strip()\n",
    "        if new_dir != \"..\":\n",
    "            myhash = '#'.join(full_path)\n",
    "             # because folder names are not unique nor is their depth so I need something that \n",
    "                #says what versionthe folder\n",
    "                #initially just appended\n",
    "            full_path.append(new_dir+myhash)\n",
    "            all_paths.append(new_dir+myhash)\n",
    "\n",
    "        elif new_dir == \"..\":\n",
    "            _ = full_path.pop()\n",
    "    elif not line.startswith('$'):\n",
    "        size = 0\n",
    "        if line[0].isdigit():\n",
    "            size, _ = line.split(' ')\n",
    "            size = int(size)\n",
    "        # I don't understand python because without deepcopy this list I kept appending just wouldn't work\n",
    "        mydict = {'full_path':deepcopy(full_path),'full_path_string':'/'.join(full_path),'file':line,'size':size}\n",
    "        out.append(mydict)\n",
    "    i = i + 1\n",
    "all_paths = set(all_paths)\n",
    "folder_sizes = []\n",
    "for d in all_paths:\n",
    "    fs = sum(x['size'] for x in out if d in x['full_path'])\n",
    "    folder_sizes.append({'directory':d,'size':fs})\n",
    "df = pd.DataFrame(folder_sizes).sort_values('size')\n",
    "df.query('size < 100000')['size'].sum()\n"
   ]
  },
  {
   "cell_type": "code",
   "execution_count": 9,
   "id": "b26a346f",
   "metadata": {
    "ExecuteTime": {
     "end_time": "2022-12-07T14:11:03.700675Z",
     "start_time": "2022-12-07T14:11:03.667281Z"
    }
   },
   "outputs": [],
   "source": [
    "\n",
    "from marcos_day7 import process_input2"
   ]
  },
  {
   "cell_type": "code",
   "execution_count": 11,
   "id": "aabb5d78",
   "metadata": {
    "ExecuteTime": {
     "end_time": "2022-12-07T14:11:03.915423Z",
     "start_time": "2022-12-07T14:11:03.886588Z"
    }
   },
   "outputs": [
    {
     "data": {
      "text/plain": [
       "1325919"
      ]
     },
     "execution_count": 11,
     "metadata": {},
     "output_type": "execute_result"
    }
   ],
   "source": [
    "out,all_paths = process_input2(input_list)\n",
    "folder_sizes = []\n",
    "for d in all_paths:\n",
    "    fs = sum(x['size'] for x in out if x['full_path_string'].startswith(d))\n",
    "    folder_sizes.append({'directory':d,'size':fs})\n",
    "df = pd.DataFrame(folder_sizes).sort_values('size')\n",
    "df.query('size < 100000')['size'].sum()"
   ]
  },
  {
   "cell_type": "code",
   "execution_count": 373,
   "id": "b5c2d118",
   "metadata": {
    "ExecuteTime": {
     "end_time": "2022-12-07T14:11:59.747059Z",
     "start_time": "2022-12-07T14:11:59.709873Z"
    }
   },
   "outputs": [
    {
     "data": {
      "text/html": [
       "<div>\n",
       "<style scoped>\n",
       "    .dataframe tbody tr th:only-of-type {\n",
       "        vertical-align: middle;\n",
       "    }\n",
       "\n",
       "    .dataframe tbody tr th {\n",
       "        vertical-align: top;\n",
       "    }\n",
       "\n",
       "    .dataframe thead th {\n",
       "        text-align: right;\n",
       "    }\n",
       "</style>\n",
       "<table border=\"1\" class=\"dataframe\">\n",
       "  <thead>\n",
       "    <tr style=\"text-align: right;\">\n",
       "      <th></th>\n",
       "      <th>directory</th>\n",
       "      <th>size</th>\n",
       "    </tr>\n",
       "  </thead>\n",
       "  <tbody>\n",
       "    <tr>\n",
       "      <th>63</th>\n",
       "      <td>//smfzmmhc</td>\n",
       "      <td>15722729</td>\n",
       "    </tr>\n",
       "    <tr>\n",
       "      <th>83</th>\n",
       "      <td>//vrdrsj</td>\n",
       "      <td>12534602</td>\n",
       "    </tr>\n",
       "    <tr>\n",
       "      <th>56</th>\n",
       "      <td>//vrdrsj/pnds</td>\n",
       "      <td>11738277</td>\n",
       "    </tr>\n",
       "    <tr>\n",
       "      <th>6</th>\n",
       "      <td>//vrdrsj/pnds/jwcjpt</td>\n",
       "      <td>10038718</td>\n",
       "    </tr>\n",
       "    <tr>\n",
       "      <th>86</th>\n",
       "      <td>//smfzmmhc/pvnbj</td>\n",
       "      <td>8980615</td>\n",
       "    </tr>\n",
       "    <tr>\n",
       "      <th>...</th>\n",
       "      <td>...</td>\n",
       "      <td>...</td>\n",
       "    </tr>\n",
       "    <tr>\n",
       "      <th>143</th>\n",
       "      <td>//vrdrsj/pnds/jwcjpt/dcmcgc/fhdvgvtz/lrsjg/jgf...</td>\n",
       "      <td>17063</td>\n",
       "    </tr>\n",
       "    <tr>\n",
       "      <th>103</th>\n",
       "      <td>//vrdrsj/pnds/jwcjpt/rfh/smfzmmhc/vrdrsj/tjrpwhc</td>\n",
       "      <td>13802</td>\n",
       "    </tr>\n",
       "    <tr>\n",
       "      <th>19</th>\n",
       "      <td>//mwmlf/rlf/qpgmrj/hrvlgmjb</td>\n",
       "      <td>7858</td>\n",
       "    </tr>\n",
       "    <tr>\n",
       "      <th>167</th>\n",
       "      <td>//ngn/fqbph/bgtbmzj/jmvzv/smfzmmhc/gqms/frbs/m...</td>\n",
       "      <td>7382</td>\n",
       "    </tr>\n",
       "    <tr>\n",
       "      <th>94</th>\n",
       "      <td>//bqc</td>\n",
       "      <td>5693</td>\n",
       "    </tr>\n",
       "  </tbody>\n",
       "</table>\n",
       "<p>177 rows × 2 columns</p>\n",
       "</div>"
      ],
      "text/plain": [
       "                                             directory      size\n",
       "63                                          //smfzmmhc  15722729\n",
       "83                                            //vrdrsj  12534602\n",
       "56                                       //vrdrsj/pnds  11738277\n",
       "6                                 //vrdrsj/pnds/jwcjpt  10038718\n",
       "86                                    //smfzmmhc/pvnbj   8980615\n",
       "..                                                 ...       ...\n",
       "143  //vrdrsj/pnds/jwcjpt/dcmcgc/fhdvgvtz/lrsjg/jgf...     17063\n",
       "103   //vrdrsj/pnds/jwcjpt/rfh/smfzmmhc/vrdrsj/tjrpwhc     13802\n",
       "19                         //mwmlf/rlf/qpgmrj/hrvlgmjb      7858\n",
       "167  //ngn/fqbph/bgtbmzj/jmvzv/smfzmmhc/gqms/frbs/m...      7382\n",
       "94                                               //bqc      5693\n",
       "\n",
       "[177 rows x 2 columns]"
      ]
     },
     "execution_count": 373,
     "metadata": {},
     "output_type": "execute_result"
    }
   ],
   "source": [
    "df.query(\"size < 30000000\").sort_values('size',ascending=False)"
   ]
  },
  {
   "cell_type": "code",
   "execution_count": 376,
   "id": "68ca8f96",
   "metadata": {
    "ExecuteTime": {
     "end_time": "2022-12-07T14:12:02.661238Z",
     "start_time": "2022-12-07T14:12:02.629702Z"
    }
   },
   "outputs": [],
   "source": [
    "unused = 70000000 - 42036703"
   ]
  },
  {
   "cell_type": "code",
   "execution_count": 377,
   "id": "0ea20473",
   "metadata": {
    "ExecuteTime": {
     "end_time": "2022-12-07T14:12:03.067209Z",
     "start_time": "2022-12-07T14:12:03.032451Z"
    }
   },
   "outputs": [
    {
     "data": {
      "text/plain": [
       "2036703"
      ]
     },
     "execution_count": 377,
     "metadata": {},
     "output_type": "execute_result"
    }
   ],
   "source": [
    "30000000 - unused"
   ]
  },
  {
   "cell_type": "code",
   "execution_count": 378,
   "id": "85e93d86",
   "metadata": {
    "ExecuteTime": {
     "end_time": "2022-12-07T14:12:03.451037Z",
     "start_time": "2022-12-07T14:12:03.415730Z"
    }
   },
   "outputs": [
    {
     "data": {
      "text/plain": [
       "2050735"
      ]
     },
     "execution_count": 378,
     "metadata": {},
     "output_type": "execute_result"
    }
   ],
   "source": [
    "df.query(\"size > 2036703\")['size'].iloc[0]"
   ]
  }
 ],
 "metadata": {
  "kernelspec": {
   "display_name": "Python 3.10.6 64-bit",
   "language": "python",
   "name": "python3"
  },
  "language_info": {
   "codemirror_mode": {
    "name": "ipython",
    "version": 3
   },
   "file_extension": ".py",
   "mimetype": "text/x-python",
   "name": "python",
   "nbconvert_exporter": "python",
   "pygments_lexer": "ipython3",
   "version": "3.10.6"
  },
  "toc": {
   "base_numbering": 1,
   "nav_menu": {},
   "number_sections": true,
   "sideBar": true,
   "skip_h1_title": false,
   "title_cell": "Table of Contents",
   "title_sidebar": "Contents",
   "toc_cell": false,
   "toc_position": {},
   "toc_section_display": true,
   "toc_window_display": false
  },
  "vscode": {
   "interpreter": {
    "hash": "aee8b7b246df8f9039afb4144a1f6fd8d2ca17a180786b69acc140d282b71a49"
   }
  }
 },
 "nbformat": 4,
 "nbformat_minor": 5
}
