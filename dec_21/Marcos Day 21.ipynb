{
 "cells": [
  {
   "cell_type": "code",
   "execution_count": 1,
   "id": "80497261",
   "metadata": {
    "ExecuteTime": {
     "end_time": "2022-12-21T05:29:49.162762Z",
     "start_time": "2022-12-21T05:29:49.069178Z"
    }
   },
   "outputs": [],
   "source": [
    "from helpers import get_input"
   ]
  },
  {
   "cell_type": "code",
   "execution_count": 2,
   "id": "5490f12a",
   "metadata": {
    "ExecuteTime": {
     "end_time": "2022-12-21T05:29:49.433197Z",
     "start_time": "2022-12-21T05:29:49.392260Z"
    }
   },
   "outputs": [
    {
     "name": "stdout",
     "output_type": "stream",
     "text": [
      "Retrieved from File marcosh_input_day21.txt\n"
     ]
    }
   ],
   "source": [
    "input_text, input_list = get_input()"
   ]
  },
  {
   "cell_type": "code",
   "execution_count": 9,
   "id": "8821adc7",
   "metadata": {
    "ExecuteTime": {
     "end_time": "2022-12-21T05:30:18.255407Z",
     "start_time": "2022-12-21T05:30:18.199703Z"
    }
   },
   "outputs": [],
   "source": [
    "sample_list = \"\"\"root: pppw + sjmn\n",
    "dbpl: 5\n",
    "cczh: sllz + lgvd\n",
    "zczc: 2\n",
    "ptdq: humn - dvpt\n",
    "dvpt: 3\n",
    "lfqf: 4\n",
    "humn: 5\n",
    "ljgn: 2\n",
    "sjmn: drzm * dbpl\n",
    "sllz: 4\n",
    "pppw: cczh / lfqf\n",
    "lgvd: ljgn * ptdq\n",
    "drzm: hmdt - zczc\n",
    "hmdt: 32\"\"\".split('\\n')"
   ]
  },
  {
   "cell_type": "code",
   "execution_count": 10,
   "id": "c5751d8b",
   "metadata": {
    "ExecuteTime": {
     "end_time": "2022-12-21T05:30:18.500086Z",
     "start_time": "2022-12-21T05:30:18.460712Z"
    }
   },
   "outputs": [],
   "source": [
    "import re"
   ]
  },
  {
   "cell_type": "code",
   "execution_count": 321,
   "id": "f1db03c3",
   "metadata": {
    "ExecuteTime": {
     "end_time": "2022-12-21T15:21:33.445857Z",
     "start_time": "2022-12-21T15:21:33.371800Z"
    }
   },
   "outputs": [],
   "source": [
    "#sample\n",
    "out = {}\n",
    "for x in sample_list:\n",
    "    a, b = x.split(':')\n",
    "    out.update({a.strip():b.strip()})"
   ]
  },
  {
   "cell_type": "code",
   "execution_count": 244,
   "id": "b90ad5dd",
   "metadata": {
    "ExecuteTime": {
     "end_time": "2022-12-21T12:22:29.410626Z",
     "start_time": "2022-12-21T12:22:29.346039Z"
    }
   },
   "outputs": [],
   "source": [
    "start = out['root']"
   ]
  },
  {
   "cell_type": "code",
   "execution_count": 245,
   "id": "b928a112",
   "metadata": {
    "ExecuteTime": {
     "end_time": "2022-12-21T12:22:30.116519Z",
     "start_time": "2022-12-21T12:22:30.051902Z"
    }
   },
   "outputs": [],
   "source": [
    "out = {}\n",
    "for x in input_list:\n",
    "    a, b = x.split(':')\n",
    "    out.update({a.strip():b.strip()})"
   ]
  },
  {
   "cell_type": "code",
   "execution_count": 320,
   "id": "068a17bb",
   "metadata": {
    "ExecuteTime": {
     "end_time": "2022-12-21T15:21:32.111562Z",
     "start_time": "2022-12-21T15:21:32.034000Z"
    }
   },
   "outputs": [],
   "source": [
    "    def process_root(start):\n",
    "        if start.isdigit():\n",
    "            return start\n",
    "        if res := out.get(start):\n",
    "            return process_root(res)\n",
    "        if res := re.findall(r\"[a-z]{4}\", start):\n",
    "            return '(' + ''.join(\n",
    "                [process_root(res[0]), start[5],\n",
    "                 process_root(res[1])]) + ')'"
   ]
  },
  {
   "cell_type": "code",
   "execution_count": 315,
   "id": "815186c1",
   "metadata": {
    "ExecuteTime": {
     "end_time": "2022-12-21T15:19:37.087886Z",
     "start_time": "2022-12-21T15:19:37.008562Z"
    }
   },
   "outputs": [
    {
     "data": {
      "text/plain": [
       "'(((4+(2*(5-3)))/4)+((32-2)*5))'"
      ]
     },
     "execution_count": 315,
     "metadata": {},
     "output_type": "execute_result"
    }
   ],
   "source": [
    "process_root(out['root'])"
   ]
  },
  {
   "cell_type": "code",
   "execution_count": 247,
   "id": "3d59af2c",
   "metadata": {
    "ExecuteTime": {
     "end_time": "2022-12-21T12:22:34.087791Z",
     "start_time": "2022-12-21T12:22:34.024174Z"
    }
   },
   "outputs": [
    {
     "data": {
      "text/plain": [
       "152"
      ]
     },
     "execution_count": 247,
     "metadata": {},
     "output_type": "execute_result"
    }
   ],
   "source": [
    "\n",
    "out = {}\n",
    "for x in sample_list:\n",
    "    a, b = x.split(':')\n",
    "    out.update({a.strip():b.strip()})\n",
    "\n",
    "eval(process_root(out['root']).replace('/','//')) #works with floats fine"
   ]
  },
  {
   "cell_type": "markdown",
   "id": "d2e46ea7",
   "metadata": {
    "ExecuteTime": {
     "end_time": "2022-12-21T12:22:04.766169Z",
     "start_time": "2022-12-21T12:22:04.670068Z"
    }
   },
   "source": [
    "### PART 1, make string and eval"
   ]
  },
  {
   "cell_type": "code",
   "execution_count": 236,
   "id": "5e2dbe89",
   "metadata": {
    "ExecuteTime": {
     "end_time": "2022-12-21T12:20:52.434079Z",
     "start_time": "2022-12-21T12:20:52.366381Z"
    }
   },
   "outputs": [],
   "source": [
    "out = {}\n",
    "for x in input_list:\n",
    "    a, b = x.split(':')\n",
    "    out.update({a.strip():b.strip()})\n",
    "\n"
   ]
  },
  {
   "cell_type": "code",
   "execution_count": 239,
   "id": "2307fcd9",
   "metadata": {
    "ExecuteTime": {
     "end_time": "2022-12-21T12:21:27.695470Z",
     "start_time": "2022-12-21T12:21:27.625540Z"
    }
   },
   "outputs": [
    {
     "data": {
      "text/plain": [
       "104272990112064"
      ]
     },
     "execution_count": 239,
     "metadata": {},
     "output_type": "execute_result"
    }
   ],
   "source": [
    "eval(process_root(out['root']).replace('/','//')) #works with floats fine"
   ]
  },
  {
   "cell_type": "markdown",
   "id": "158c021a",
   "metadata": {},
   "source": [
    "### Part 2"
   ]
  },
  {
   "cell_type": "code",
   "execution_count": 34,
   "id": "81767a14",
   "metadata": {
    "ExecuteTime": {
     "end_time": "2022-12-21T05:35:47.845387Z",
     "start_time": "2022-12-21T05:35:47.759574Z"
    }
   },
   "outputs": [],
   "source": [
    "from tqdm.notebook import tqdm"
   ]
  },
  {
   "cell_type": "markdown",
   "id": "9c02b9cc",
   "metadata": {},
   "source": [
    "#### What I actually did was plot and examine the output of scans of ints by 1E6 to look at the plots and find the 0"
   ]
  },
  {
   "cell_type": "code",
   "execution_count": 316,
   "id": "9b4a8ce2",
   "metadata": {
    "ExecuteTime": {
     "end_time": "2022-12-21T15:19:52.287086Z",
     "start_time": "2022-12-21T15:19:52.212052Z"
    }
   },
   "outputs": [
    {
     "data": {
      "text/plain": [
       "'((8*((((((((2*((((((3*((((((((2*4)+(3*7))*(((11*2)+11)-((4*2)+2)))+(((20*2)+7)*7))/2)*(((2*(((13*2)*2)/2))*2)+((4*(2*((5*2)+1)))-16)))/2)-(((3*3)+4)*((16+(5*3))+(2*((3*7)+(2*((2*(5+2))+(2+((3*2)*5))))))))))/3)*(5*5))+((((2*((3*10)+7))+(11+12))*3)*((((2*13)+((18*3)+((4*((3*2)+2))+(8+3))))+(((13*2)+(3*9))*2))*4)))*2)/2))/2)*3)*(((((2*((3*(2*7))+(5*((7*3)+2))))+((((((((((2*7)*2)-5)+8)*2)/2)+2)+5)+((5*(5*2))+3))*3))-(((8+15)+8)*3))+((4*(((2*((2*(7*3))/2))+14)/2))+((((1+(((((2*11)*3)/3)/2)*2))+(((((((2*16)+15)*2)+(7*(3*(7+2))))+(3+((5*12)+(7*7))))-((3*(2+11))*3))+2))+(6*10))+(2*((((((4+3)-1)*16)/(2*4))+7)-2)))))*((((4+(5*5))*3)*3)+((5+(16+(2*(3+(2*5)))))*(4*((((((3*2)+5)*3)+(5*(3*3)))/6)+4))))))+(((((10+(9*3))*((14+((2*(14+3))-2))+((10*(2+11))+((((6*19)/3)+(13+((3*(3*3))+(3+16))))*3))))*(((((3*3)+(((5*(1+5))+6)+(6+((3*5)+2))))+(3*(9*9)))*3)*(3*2)))+(13*((((((8*5)+(5*2))-(2+11))*(2*(((16+(1+(10*3)))*2)-5)))*((2*((((3*7)+(2*(3+(14*(10-3)))))*2)+(((2*((5+((2*(5+(2*4)))+(4*2)))+(4*(9+1))))/2)*3)))/2))-(((18+(4*5))*((((((((5*9)+(((9*(2+14))+((((5*((2*4)+4))+(1+(3*2)))+12)+(((2*((5+12)-4))+3)*2)))*2))+((((5*7)-6)*((((10+(14+(3*5)))/3)*2)*2))/2))*3)+(((2*((((((3+(5*2))*(17*2))+(((((((((4*12)-5)*2)/2)-2)*2)+(6*(4+2)))/2)*4))+(19+18))+((2*7)*14))*3))-(13*((((7*3)+8)*4)-7)))+((((3+((1+12)+11))+((2*11)*2))*13)+(4*((2*((((((8+(3*7))*2)+((3*2)+7))*4)+(2*((2*(3*3))+(((((17-4)+2)+4)*3)-16))))+(5*(5+6))))/2)))))+(5*(((14*(2*6))-(5*5))+(13*(3*12)))))+(((3*3)*(((20*11)+((2*3)+(17*2)))+(11*3)))+(((3*(3+6))+4)*((((4+(((10-2)*7)-13))*((5*(13-2))-(4+5)))-(17*4))/6))))+(3*((3+16)*(((2*((2*19)/2))+((2*7)*(16-5)))-1)))))-(((7*(4+3))*7)*(((13*2)+11)*((15+15)+7)))))))*((((((2*((((((5*(((2*((2*17)-11))+(11*3))*7))-(12*(3*13)))*2)/2)*3)-(((4*((2+13)+(2*4)))-(3*(2*4)))*(7*2))))/2)*3)+((((3*5)*4)-19)*(((2*((3*(((12*3)-8)+3))-(2*13)))/2)*2)))*4)+(((2*((3*13)+(((1+16)*2)*2)))/2)*((((17+(2*((2*4)-1)))+(20*2))*2)+(3*(((((((12/2)+((2*7)+2))/2)*2)/2)+(19+4))+(((3*3)+10)*7))))))))-((((2*((((((8+((((5+4)-3)*15)/2))-10)+(((12+((5*6)-((5*7)/5)))*(6*4))+(5*13)))+(((17+2)*13)*5))+(((((3*(2*8))+(10+(3*(3+4))))*(7+(((3*(6+5))+(13+4))+4)))+(3*(((2+((((9+2)*3)*3)-((2*5)*2)))-((1+(2*5))*2))*(((4+3)*((((3*2)*2)/2)+1))+(5*2)))))/2))/7))/4)+(((6+((3*(((2+5)*((((2*3)+1)*2)/2))/(4+3)))+(4*13)))+((2*(8*4))+4))+(((((3*((((3*19)*2)+((5*13)+(3*(5+12))))+(((2*((15*6)+(((((((5*4)+(((4*(12+7))+(3+(3*(10-3))))+((3*3)*2)))+3)+((2*5)*4))+((((((5+2)*19)+((3+14)*4))+((((((4*(17*2))/2)+(2*(17*2)))+(((3+4)*13)+(((((5*11)/5)+2)-4)*(2*5))))*2)-((5*(5*5))+((3*(2*5))+19))))*2)/2))+((((((((4*(2*(4+19)))+(5*(5*(3+4))))*2)/2)+(((2*(((6*((2*(((3*5)*3)+((2+5)*(5+2))))-((18+1)*3)))/2)+(((10*(((((((5+2)*14)+(2*((((2*(((((((7+10)*((((3*2)+1)+((6+4)+12))+12))+((((((3*4)*3)+(2*((3*((((1+(5+2))*5)+1)*2))+(((((((7*(((((((((3*2)*7)+19)*2)*2)*2)+(((((5*2)*2)*5)*(((9999-((((5*(((((5*((2+((5*3)-4))+15))+((5+2)*11))+(4*(2*5)))+(6*5))/(5+2)))/5)+(4*4))*(7+2)))/4)+((5*(3*2))*((8+3)+((5+1)*2)))))+(((((5*5)*5)+(3*(5*5)))-(4*(8+3)))+(7*(((11*3)-4)+(14*3))))))/7)-((((20+2)+(((((4*2)*((20*2)+(3*2)))/8)+1)*3))+((((5*5)*(((4*13)*2)/(4*2)))+(((5*5)-(2+(3*2)))+(2*((((2*7)*3)/7)*2))))/2))*2)))-6)*2)+((17*((7+(7+(4*2)))/2))*5))/3)-((10*3)+(13+10)))/2))))*2)-(2*(((5*5)+(2*((20+17)+(4*4))))+((((5+3)*(3*3))+5)+((3*5)*7)))))/(2*3)))/3)-((((((3*(3*3))*3)-(11*2))*2)/2)*14))*12)+((17*20)+(((2*(7*11))+(2*19))+(((5*5)+(4*((5*5)+(2*3))))-((3*5)+(10+(3*2))))))))-(4*(((((2+((3*((3*(2*(((2*(3*2))+((3+(2*5))-2))+6)))/(3*2)))/3))-6)+6)+(2*(5+6)))+(((5+2)*3)*4))))/4)-(((19+3)+(3*3))*((7*5)-6)))))/5)-((2*(((2*(((7*16)/2)+((16+(3+10))-6)))/2)+(2*15)))*2))/3)+((((2*(7+16))/2)*4)*7)))-((((2*11)*2)-(3*4))+(((7-1)*2)*(1+(4+(16*2))))))/2)))-((((((1+(2*8))*3)+(14*(20/2)))*8)-(8*((((2*3)*11)+16)/2)))/2))/5))*(3*3))-((((15*3)-(1+5))+(2*(12+5)))+((3*4)+((((7*(3*3))-20)*5)+((((((17*2)+(5*(5+((1+(3*2))-1))))*4)+(14*(4+8)))/2)+15)))))*2))/2)))-(((((7*3)+5)*2)-((((3*4)*3)/(2+4))+5))*16))/5)))-((((2*(20+(3*(1+(5*2)))))+(((3*9)+2)+2))*2)+(11*(((2+(11*2))+10)/2))))/5)-(5*((2*9)+((2*(8+(3+3)))+13))))*2)))/2))/4)+(11+(2*3))))-((12*20)*((((((((((((9*2)+5)*3)*5)+((((2*6)*3)*(9*4))-((2*(19+((3*7)*4)))/2)))-((3*4)*(2*(10+(3*3)))))*3)+((((((14+(2*3))*6)+17)-(((2*4)+((2*5)+(3+16)))-6))+((((1+(17*12))+(2*(((5*3)*2)+(6+(5*5)))))*4)/4))*(1+10)))*(18-5))*(((2*((((4+(3*2))+16)+3)-(12/2)))+((13*2)+1))*(2*(((3*((4*5)+((5*((3*15)+(2*((3+(5+1))+(5*2)))))+((14*2)*(8+3)))))+(3*(((((5*5)*5)-((17+2)+4))+(((((((((2+((2*5)+(10+((3*3)+2))))/3)*2)*2)/4)+2)*(((3*2)+1)+1))/4)+3))*3)))-((((5+(4*17))+(((((3*3)+10)+2)*5)+(((((9+(((20+((3*5)+(3*2)))*2)*4))*2)/2)-7)+(((5*5)+6)+(13*6)))))-(5*2))+(((7*(((((8*(17-3))/(4*2))*2)+(3*(5+((3*2)*3))))+10))/7)+(((3*3)*5)-(2*7))))))))+((3*((((((11*((2*3)+(2+((4*3)+11))))*3)+((19*(12+1))+((3*7)+(5*(5+7)))))+((2*(1+(3*(2*(1+((4*((3+4)+(3*5)))/4))))))*6))*5)+(((5*(6+5))*(2*(3+((((4*2)+12)+2)*10))))+(((6+((((17*3)/3)*5)/5))*3)*((((5+(5+1))*(((3*3)-2)+4))+(19+(7*4)))+((18+11)*2))))))*(17*(5*(((19*2)*((12*3)+(5*5)))-((3+20)*(10+13)))))))*2)))'"
      ]
     },
     "execution_count": 316,
     "metadata": {},
     "output_type": "execute_result"
    }
   ],
   "source": [
    "mystr"
   ]
  },
  {
   "cell_type": "code",
   "execution_count": 284,
   "id": "dd794d74",
   "metadata": {
    "ExecuteTime": {
     "end_time": "2022-12-21T12:29:09.085917Z",
     "start_time": "2022-12-21T12:29:09.022794Z"
    }
   },
   "outputs": [],
   "source": [
    "out = {}\n",
    "for x in input_list:\n",
    "    a, b = x.split(':')\n",
    "    out.update({a.strip():b.strip()})\n",
    "\n",
    "out['root'] = 'zhfp = hghd'"
   ]
  },
  {
   "cell_type": "code",
   "execution_count": 322,
   "id": "47de1712",
   "metadata": {
    "ExecuteTime": {
     "end_time": "2022-12-21T15:21:39.741451Z",
     "start_time": "2022-12-21T15:21:39.642857Z"
    }
   },
   "outputs": [
    {
     "data": {
      "application/vnd.jupyter.widget-view+json": {
       "model_id": "7a8bc264a5cc4044b143731fbbf611e9",
       "version_major": 2,
       "version_minor": 0
      },
      "text/plain": [
       "  0%|          | 0/1000 [00:00<?, ?it/s]"
      ]
     },
     "metadata": {},
     "output_type": "display_data"
    }
   ],
   "source": [
    "out['humn'] = '9999'\n",
    "mystr = process_root(out['root']).replace('=','-')\n",
    "res = {}\n",
    "for i in tqdm(range(int(1E9),int(1E13),int(10E9))):\n",
    "    test = mystr.replace('9999',str(i))\n",
    "    t = eval(test)\n",
    "    res[i] = t"
   ]
  },
  {
   "cell_type": "code",
   "execution_count": 297,
   "id": "5455c47e",
   "metadata": {
    "ExecuteTime": {
     "end_time": "2022-12-21T12:31:51.276446Z",
     "start_time": "2022-12-21T12:31:51.244994Z"
    }
   },
   "outputs": [],
   "source": [
    "df = pd.DataFrame(pd.Series(res)).reset_index()\n",
    "\n",
    "df.columns = ['x','y']\n",
    "\n",
    "df['y_abs'] = np.abs(df['y'])"
   ]
  },
  {
   "cell_type": "code",
   "execution_count": 301,
   "id": "71815f71",
   "metadata": {
    "ExecuteTime": {
     "end_time": "2022-12-21T12:32:48.086265Z",
     "start_time": "2022-12-21T12:32:47.122993Z"
    }
   },
   "outputs": [
    {
     "data": {
      "image/png": "[encoded data removed]"
     },
     "metadata": {},
     "output_type": "display_data"
    }
   ],
   "source": [
    "fig =df.plot.scatter(x='x',y='y')\n",
    "fig.show(renderer='png')"
   ]
  },
  {
   "cell_type": "code",
   "execution_count": 323,
   "id": "cfc902f0",
   "metadata": {
    "ExecuteTime": {
     "end_time": "2022-12-21T15:21:51.554139Z",
     "start_time": "2022-12-21T15:21:51.466548Z"
    }
   },
   "outputs": [
    {
     "data": {
      "text/plain": [
       "[{'x': 3221000000000, 'y': -78411097.6015625, 'y_abs': 78411097.6015625},\n",
       " {'x': 3211000000000, 'y': 127921588902.39844, 'y_abs': 127921588902.39844},\n",
       " {'x': 3231000000000, 'y': -128078411097.60156, 'y_abs': 128078411097.60156},\n",
       " {'x': 3201000000000, 'y': 255921588902.39844, 'y_abs': 255921588902.39844},\n",
       " {'x': 3241000000000, 'y': -256078411097.60156, 'y_abs': 256078411097.60156},\n",
       " {'x': 3191000000000, 'y': 383921588902.39844, 'y_abs': 383921588902.39844},\n",
       " {'x': 3251000000000, 'y': -384078411097.60156, 'y_abs': 384078411097.60156},\n",
       " {'x': 3181000000000, 'y': 511921588902.39844, 'y_abs': 511921588902.39844},\n",
       " {'x': 3261000000000, 'y': -512078411097.6094, 'y_abs': 512078411097.6094},\n",
       " {'x': 3171000000000, 'y': 639921588902.3984, 'y_abs': 639921588902.3984}]"
      ]
     },
     "execution_count": 323,
     "metadata": {},
     "output_type": "execute_result"
    }
   ],
   "source": [
    "#get new bounds\n",
    "df.sort_values('y_abs').head(10).to_dict('records')\n",
    "\n",
    "#manually repeat a few times with the two x values here"
   ]
  },
  {
   "cell_type": "code",
   "execution_count": 318,
   "id": "62dd2084",
   "metadata": {
    "ExecuteTime": {
     "end_time": "2022-12-21T15:20:51.417791Z",
     "start_time": "2022-12-21T15:20:51.344774Z"
    }
   },
   "outputs": [],
   "source": [
    "mystr = process_root(out['root']).replace('=','-')"
   ]
  },
  {
   "cell_type": "code",
   "execution_count": 326,
   "id": "33cbd3b3",
   "metadata": {
    "ExecuteTime": {
     "end_time": "2022-12-21T15:22:59.574314Z",
     "start_time": "2022-12-21T15:22:59.497215Z"
    }
   },
   "outputs": [],
   "source": [
    "out = {}\n",
    "for x in input_list:\n",
    "    a, b = x.split(':')\n",
    "    out.update({a.strip():b.strip()})\n",
    "\n",
    "out['root'] = 'zhfp = hghd'"
   ]
  },
  {
   "cell_type": "code",
   "execution_count": null,
   "id": "780de613",
   "metadata": {},
   "outputs": [],
   "source": []
  },
  {
   "cell_type": "code",
   "execution_count": 330,
   "id": "160893a8",
   "metadata": {
    "ExecuteTime": {
     "end_time": "2022-12-21T15:23:35.596661Z",
     "start_time": "2022-12-21T15:23:35.343572Z"
    }
   },
   "outputs": [
    {
     "data": {
      "application/vnd.jupyter.widget-view+json": {
       "model_id": "c79734a4f965461eb51b53157dadfdc9",
       "version_major": 2,
       "version_minor": 0
      },
      "text/plain": [
       "  0%|          | 0/1000 [00:00<?, ?it/s]"
      ]
     },
     "metadata": {},
     "output_type": "display_data"
    },
    {
     "name": "stdout",
     "output_type": "stream",
     "text": [
      "3220993874133\n"
     ]
    }
   ],
   "source": [
    "##eventually\n",
    "out['humn'] = '9999'\n",
    "\n",
    "mystr = process_root(out['root']).replace('=','==')\n",
    "res = {}\n",
    "for i in tqdm(range(3220993874000,3220993875000,1)):\n",
    "    test = mystr.replace('9999',str(i))\n",
    "    t = eval(test)\n",
    "    if t:\n",
    "        print(i)\n",
    "        break\n",
    "        \n",
    "    res[i] = t"
   ]
  },
  {
   "cell_type": "markdown",
   "id": "3329e743",
   "metadata": {},
   "source": [
    "#### Better, use scipy.minimize_scalar"
   ]
  },
  {
   "cell_type": "code",
   "execution_count": 305,
   "id": "ae33b044",
   "metadata": {
    "ExecuteTime": {
     "end_time": "2022-12-21T12:34:22.235490Z",
     "start_time": "2022-12-21T12:34:22.168599Z"
    }
   },
   "outputs": [],
   "source": [
    "    out['humn'] = '9999'\n",
    "    mystr = process_root(out['root']).replace('=','-')\n",
    "    def myfunc(i):\n",
    "        test  = mystr.replace('9999',str(i))\n",
    "        return int(abs(eval(test)))\n"
   ]
  },
  {
   "cell_type": "code",
   "execution_count": 306,
   "id": "49d7ddf5",
   "metadata": {
    "ExecuteTime": {
     "end_time": "2022-12-21T12:34:22.534687Z",
     "start_time": "2022-12-21T12:34:22.469768Z"
    }
   },
   "outputs": [
    {
     "data": {
      "text/plain": [
       "41228721590182"
      ]
     },
     "execution_count": 306,
     "metadata": {},
     "output_type": "execute_result"
    }
   ],
   "source": [
    "myfunc(-100)"
   ]
  },
  {
   "cell_type": "code",
   "execution_count": 221,
   "id": "63023578",
   "metadata": {
    "ExecuteTime": {
     "end_time": "2022-12-21T12:17:06.088686Z",
     "start_time": "2022-12-21T12:17:06.022378Z"
    }
   },
   "outputs": [],
   "source": [
    "from scipy.optimize import minimize_scalar"
   ]
  },
  {
   "cell_type": "code",
   "execution_count": 310,
   "id": "dbc5fba0",
   "metadata": {
    "ExecuteTime": {
     "end_time": "2022-12-21T12:34:53.941701Z",
     "start_time": "2022-12-21T12:34:53.789097Z"
    }
   },
   "outputs": [
    {
     "data": {
      "text/plain": [
       "     fun: 0\n",
       " message: '\\nOptimization terminated successfully;\\nThe returned value satisfies the termination criteria\\n(using xtol = 1e-15 )'\n",
       "    nfev: 67\n",
       "     nit: 52\n",
       " success: True\n",
       "       x: 3220993874133.0557"
      ]
     },
     "execution_count": 310,
     "metadata": {},
     "output_type": "execute_result"
    },
    {
     "data": {
      "text/plain": [
       "3220993874133"
      ]
     },
     "execution_count": 310,
     "metadata": {},
     "output_type": "execute_result"
    }
   ],
   "source": [
    "    from scipy.optimize import minimize_scalar\n",
    "\n",
    "    minimized = minimize_scalar(myfunc, bounds=[1E6, 1E12], tol=1E-15)\n",
    "    int(minimized['x'])"
   ]
  },
  {
   "cell_type": "code",
   "execution_count": 172,
   "id": "f4572df8",
   "metadata": {
    "ExecuteTime": {
     "end_time": "2022-12-21T06:02:53.168664Z",
     "start_time": "2022-12-21T06:02:53.104332Z"
    }
   },
   "outputs": [],
   "source": [
    "df = pd.DataFrame(pd.Series(res)).reset_index()\n",
    "\n",
    "df.columns = ['x','y']\n",
    "\n",
    "df['y_abs'] = np.abs(df['y'])"
   ]
  },
  {
   "cell_type": "code",
   "execution_count": 175,
   "id": "91de07d0",
   "metadata": {
    "ExecuteTime": {
     "end_time": "2022-12-21T06:02:54.106501Z",
     "start_time": "2022-12-21T06:02:54.042282Z"
    }
   },
   "outputs": [
    {
     "data": {
      "text/plain": [
       "[{'x': 3220993874000, 'y': 1702.3984375, 'y_abs': 1702.3984375},\n",
       " {'x': 3220993875000, 'y': -11097.6015625, 'y_abs': 11097.6015625},\n",
       " {'x': 3220993873000, 'y': 14502.3984375, 'y_abs': 14502.3984375},\n",
       " {'x': 3220993876000, 'y': -23897.6015625, 'y_abs': 23897.6015625},\n",
       " {'x': 3220993872000, 'y': 27302.3984375, 'y_abs': 27302.3984375},\n",
       " {'x': 3220993877000, 'y': -36697.6015625, 'y_abs': 36697.6015625},\n",
       " {'x': 3220993871000, 'y': 40102.3984375, 'y_abs': 40102.3984375},\n",
       " {'x': 3220993878000, 'y': -49497.6015625, 'y_abs': 49497.6015625},\n",
       " {'x': 3220993870000, 'y': 52902.3984375, 'y_abs': 52902.3984375},\n",
       " {'x': 3220993879000, 'y': -62297.6015625, 'y_abs': 62297.6015625},\n",
       " {'x': 3220993869000, 'y': 65702.3984375, 'y_abs': 65702.3984375},\n",
       " {'x': 3220993880000, 'y': -75097.6015625, 'y_abs': 75097.6015625},\n",
       " {'x': 3220993868000, 'y': 78502.3984375, 'y_abs': 78502.3984375},\n",
       " {'x': 3220993881000, 'y': -87897.6015625, 'y_abs': 87897.6015625},\n",
       " {'x': 3220993867000, 'y': 91302.3984375, 'y_abs': 91302.3984375},\n",
       " {'x': 3220993882000, 'y': -100697.6015625, 'y_abs': 100697.6015625},\n",
       " {'x': 3220993866000, 'y': 104102.3984375, 'y_abs': 104102.3984375},\n",
       " {'x': 3220993883000, 'y': -113497.6015625, 'y_abs': 113497.6015625},\n",
       " {'x': 3220993865000, 'y': 116902.3984375, 'y_abs': 116902.3984375},\n",
       " {'x': 3220993884000, 'y': -126297.609375, 'y_abs': 126297.609375},\n",
       " {'x': 3220993864000, 'y': 129702.3984375, 'y_abs': 129702.3984375},\n",
       " {'x': 3220993885000, 'y': -139097.6015625, 'y_abs': 139097.6015625},\n",
       " {'x': 3220993863000, 'y': 142502.3984375, 'y_abs': 142502.3984375},\n",
       " {'x': 3220993886000, 'y': -151897.6015625, 'y_abs': 151897.6015625},\n",
       " {'x': 3220993862000, 'y': 155302.3984375, 'y_abs': 155302.3984375},\n",
       " {'x': 3220993887000, 'y': -164697.5859375, 'y_abs': 164697.5859375},\n",
       " {'x': 3220993861000, 'y': 168102.3984375, 'y_abs': 168102.3984375},\n",
       " {'x': 3220993888000, 'y': -177497.6015625, 'y_abs': 177497.6015625},\n",
       " {'x': 3220993860000, 'y': 180902.4140625, 'y_abs': 180902.4140625},\n",
       " {'x': 3220993889000, 'y': -190297.6015625, 'y_abs': 190297.6015625},\n",
       " {'x': 3220993859000, 'y': 193702.3984375, 'y_abs': 193702.3984375},\n",
       " {'x': 3220993890000, 'y': -203097.6015625, 'y_abs': 203097.6015625},\n",
       " {'x': 3220993858000, 'y': 206502.3984375, 'y_abs': 206502.3984375},\n",
       " {'x': 3220993891000, 'y': -215897.6015625, 'y_abs': 215897.6015625},\n",
       " {'x': 3220993857000, 'y': 219302.390625, 'y_abs': 219302.390625},\n",
       " {'x': 3220993892000, 'y': -228697.6015625, 'y_abs': 228697.6015625},\n",
       " {'x': 3220993856000, 'y': 232102.3984375, 'y_abs': 232102.3984375},\n",
       " {'x': 3220993893000, 'y': -241497.6015625, 'y_abs': 241497.6015625},\n",
       " {'x': 3220993855000, 'y': 244902.3984375, 'y_abs': 244902.3984375},\n",
       " {'x': 3220993894000, 'y': -254297.6015625, 'y_abs': 254297.6015625},\n",
       " {'x': 3220993854000, 'y': 257702.3984375, 'y_abs': 257702.3984375},\n",
       " {'x': 3220993895000, 'y': -267097.6015625, 'y_abs': 267097.6015625},\n",
       " {'x': 3220993853000, 'y': 270502.3984375, 'y_abs': 270502.3984375},\n",
       " {'x': 3220993896000, 'y': -279897.6015625, 'y_abs': 279897.6015625},\n",
       " {'x': 3220993852000, 'y': 283302.3984375, 'y_abs': 283302.3984375},\n",
       " {'x': 3220993897000, 'y': -292697.6015625, 'y_abs': 292697.6015625},\n",
       " {'x': 3220993851000, 'y': 296102.3984375, 'y_abs': 296102.3984375},\n",
       " {'x': 3220993898000, 'y': -305497.6015625, 'y_abs': 305497.6015625},\n",
       " {'x': 3220993850000, 'y': 308902.3984375, 'y_abs': 308902.3984375},\n",
       " {'x': 3220993899000, 'y': -318297.6015625, 'y_abs': 318297.6015625}]"
      ]
     },
     "execution_count": 175,
     "metadata": {},
     "output_type": "execute_result"
    }
   ],
   "source": []
  },
  {
   "cell_type": "code",
   "execution_count": null,
   "id": "6daa3c74",
   "metadata": {},
   "outputs": [],
   "source": []
  }
 ],
 "metadata": {
  "kernelspec": {
   "display_name": "Python 3 (ipykernel)",
   "language": "python",
   "name": "python3"
  },
  "language_info": {
   "codemirror_mode": {
    "name": "ipython",
    "version": 3
   },
   "file_extension": ".py",
   "mimetype": "text/x-python",
   "name": "python",
   "nbconvert_exporter": "python",
   "pygments_lexer": "ipython3",
   "version": "3.10.8"
  },
  "toc": {
   "base_numbering": 1,
   "nav_menu": {},
   "number_sections": true,
   "sideBar": true,
   "skip_h1_title": false,
   "title_cell": "Table of Contents",
   "title_sidebar": "Contents",
   "toc_cell": false,
   "toc_position": {},
   "toc_section_display": true,
   "toc_window_display": false
  }
 },
 "nbformat": 4,
 "nbformat_minor": 5
}
