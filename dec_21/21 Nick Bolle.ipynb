{
 "cells": [
  {
   "cell_type": "markdown",
   "id": "cc902ab4",
   "metadata": {},
   "source": [
    "Organization:\n",
    "- Work\n",
    "  - 1 test: defining functions for part 1, testing on test input\n",
    "  - 1 run: getting answer for part 1\n",
    "  - 2 test: ...\n",
    "  - 2 run: ...\n",
    "- Utilities: functions I think might help parse general inputs\n",
    "- Inputs: where I define the test (_t_) and problem (_s_) inputs"
   ]
  },
  {
   "cell_type": "markdown",
   "id": "d1881444",
   "metadata": {},
   "source": [
    "# Work"
   ]
  },
  {
   "cell_type": "markdown",
   "id": "eb1b228f",
   "metadata": {},
   "source": [
    "## 1 test\n",
    "\n",
    "Idea: recursive calls to get the values of monkeys. Implemented with a dictionary (for monkey memoization)."
   ]
  },
  {
   "cell_type": "code",
   "execution_count": 40,
   "id": "2f4c2d12",
   "metadata": {},
   "outputs": [
    {
     "data": {
      "text/plain": [
       "[('root', 'pppw + sjmn'),\n",
       " ('dbpl', 5),\n",
       " ('cczh', 'sllz + lgvd'),\n",
       " ('zczc', 2),\n",
       " ('ptdq', 'humn - dvpt'),\n",
       " ('dvpt', 3),\n",
       " ('lfqf', 4),\n",
       " ('humn', 5),\n",
       " ('ljgn', 2),\n",
       " ('sjmn', 'drzm * dbpl'),\n",
       " ('sllz', 4),\n",
       " ('pppw', 'cczh / lfqf'),\n",
       " ('lgvd', 'ljgn * ptdq'),\n",
       " ('drzm', 'hmdt - zczc'),\n",
       " ('hmdt', 32)]"
      ]
     },
     "execution_count": 40,
     "metadata": {},
     "output_type": "execute_result"
    }
   ],
   "source": [
    "# Parse the input, making sure it looks like we expect\n",
    "def parse(line):\n",
    "    out = line.split(': ')\n",
    "    try:\n",
    "        out[1] = int(out[1])\n",
    "    except:\n",
    "        assert ('+' in out[1]) or ('-' in out[1]) or ('*' in out[1]) or ('/' in out[1])\n",
    "    return tuple(out)\n",
    "\n",
    "monke = [parse(line) for line in split(t)]\n",
    "monke"
   ]
  },
  {
   "cell_type": "code",
   "execution_count": 41,
   "id": "2bcaccaa",
   "metadata": {},
   "outputs": [],
   "source": [
    "# Make a dictionary of the monkey values (or expressions)\n",
    "monkey_values = dict(monke)"
   ]
  },
  {
   "cell_type": "code",
   "execution_count": 42,
   "id": "bb563ee1",
   "metadata": {},
   "outputs": [],
   "source": [
    "# A recursive function to get the value of a given monkey\n",
    "def value(monkey):\n",
    "    global monkey_values\n",
    "    \n",
    "    expr = monkey_values[monkey]\n",
    "    \n",
    "    # Base case: value exists\n",
    "    if isinstance(expr, int):\n",
    "        return expr\n",
    "    \n",
    "    # Otherwise, recurse\n",
    "    monkeyL, op, monkeyR = tuple(expr.split())\n",
    "    L, R = value(monkeyL), value(monkeyR)\n",
    "    monkey_values[monkey] = int(eval(f'L {op} R'))\n",
    "    \n",
    "    return monkey_values[monkey]"
   ]
  },
  {
   "cell_type": "code",
   "execution_count": 43,
   "id": "67f1079a",
   "metadata": {},
   "outputs": [
    {
     "data": {
      "text/plain": [
       "152"
      ]
     },
     "execution_count": 43,
     "metadata": {},
     "output_type": "execute_result"
    }
   ],
   "source": [
    "value('root')"
   ]
  },
  {
   "cell_type": "markdown",
   "id": "97486550",
   "metadata": {},
   "source": [
    "## 1 run"
   ]
  },
  {
   "cell_type": "code",
   "execution_count": 45,
   "id": "c44f4f72",
   "metadata": {},
   "outputs": [
    {
     "data": {
      "text/plain": [
       "78342931359552"
      ]
     },
     "execution_count": 45,
     "metadata": {},
     "output_type": "execute_result"
    }
   ],
   "source": [
    "monke = [parse(line) for line in split(s)]\n",
    "\n",
    "monkey_values = dict(monke)\n",
    "\n",
    "value('root')"
   ]
  },
  {
   "cell_type": "markdown",
   "id": "cf29851d",
   "metadata": {},
   "source": [
    "## 2 test\n",
    "\n",
    "Run the same thing as the previous part on each of the monkeys that **root** calls, except the monkey **humn** should return **x** so that all the monkey's above it have expressions involving **x**. Then solve it somewhat manually, since setting up a sort of reverse recursion for this might be a pain. This should be faster."
   ]
  },
  {
   "cell_type": "code",
   "execution_count": 113,
   "id": "c4d7c66e",
   "metadata": {},
   "outputs": [
    {
     "name": "stdout",
     "output_type": "stream",
     "text": [
      "Root expression: pppw + sjmn\n"
     ]
    }
   ],
   "source": [
    "monke = [parse(line) for line in split(t)]\n",
    "\n",
    "monkey_values = dict(monke)\n",
    "print(f'Root expression: {monkey_values[\"root\"]}')\n",
    "monkey_values['humn'] = 'x'\n",
    "del monkey_values['root']"
   ]
  },
  {
   "cell_type": "code",
   "execution_count": 114,
   "id": "b2ee00ea",
   "metadata": {},
   "outputs": [],
   "source": [
    "# A recursive function to get the value of a given monkey, allowing for humn = x and xs throughout\n",
    "def value_humn(monkey):\n",
    "    global monkey_values\n",
    "    \n",
    "    expr = monkey_values[monkey]\n",
    "    \n",
    "    # Base case: value exists or it's the human\n",
    "    if isinstance(expr, int) or monkey == 'humn':\n",
    "        return expr\n",
    "    \n",
    "    # Otherwise, recurse\n",
    "    monkeyL, op, monkeyR = tuple(expr.split())\n",
    "    L, R = value_humn(monkeyL), value_humn(monkeyR)\n",
    "    \n",
    "    # For the math, form the expression and try evaluating it\n",
    "    # Evaluation might fail because of an x\n",
    "    expr = f'({L} {op} {R})'\n",
    "    try:\n",
    "        expr = int(eval(expr))\n",
    "    except:\n",
    "        pass\n",
    "    monkey_values[monkey] = expr\n",
    "    \n",
    "    return expr"
   ]
  },
  {
   "cell_type": "code",
   "execution_count": 115,
   "id": "72da25ac",
   "metadata": {},
   "outputs": [
    {
     "data": {
      "text/plain": [
       "'((4 + (2 * (x - 3))) / 4)'"
      ]
     },
     "execution_count": 115,
     "metadata": {},
     "output_type": "execute_result"
    }
   ],
   "source": [
    "expr = value_humn('pppw')\n",
    "expr"
   ]
  },
  {
   "cell_type": "code",
   "execution_count": 116,
   "id": "72b1fb8c",
   "metadata": {},
   "outputs": [
    {
     "data": {
      "text/plain": [
       "150"
      ]
     },
     "execution_count": 116,
     "metadata": {},
     "output_type": "execute_result"
    }
   ],
   "source": [
    "val = value_humn('sjmn')\n",
    "val"
   ]
  },
  {
   "cell_type": "markdown",
   "id": "681a3de0",
   "metadata": {},
   "source": [
    "WolframAlpha solves it to get **x=301**\n",
    "\n",
    "Or in Python, we know this is linear so write **y = mx + b** and use **x=0,1** to solve for **m,b**"
   ]
  },
  {
   "cell_type": "code",
   "execution_count": 118,
   "id": "8aea3e1d",
   "metadata": {},
   "outputs": [],
   "source": [
    "# The function to solve equal to zero\n",
    "f = lambda x: eval(expr.replace('x', str(x))) - val"
   ]
  },
  {
   "cell_type": "code",
   "execution_count": 123,
   "id": "9aef5146",
   "metadata": {},
   "outputs": [
    {
     "data": {
      "text/plain": [
       "301.0"
      ]
     },
     "execution_count": 123,
     "metadata": {},
     "output_type": "execute_result"
    }
   ],
   "source": [
    "# Solve\n",
    "b = f(0)\n",
    "m = f(1) - b\n",
    "-b/m"
   ]
  },
  {
   "cell_type": "code",
   "execution_count": 124,
   "id": "325059ae",
   "metadata": {},
   "outputs": [
    {
     "data": {
      "text/plain": [
       "0.0"
      ]
     },
     "execution_count": 124,
     "metadata": {},
     "output_type": "execute_result"
    }
   ],
   "source": [
    "# Check\n",
    "f(301)"
   ]
  },
  {
   "cell_type": "markdown",
   "id": "a2c20e06",
   "metadata": {},
   "source": [
    "## 2 run"
   ]
  },
  {
   "cell_type": "code",
   "execution_count": 130,
   "id": "8a2a7cd9",
   "metadata": {},
   "outputs": [
    {
     "name": "stdout",
     "output_type": "stream",
     "text": [
      "Root expression: lvvf + rqgq\n"
     ]
    }
   ],
   "source": [
    "monke = [parse(line) for line in split(s)]\n",
    "\n",
    "monkey_values = dict(monke)\n",
    "print(f'Root expression: {monkey_values[\"root\"]}')\n",
    "monkey_values['humn'] = 'x'\n",
    "del monkey_values['root']"
   ]
  },
  {
   "cell_type": "code",
   "execution_count": 131,
   "id": "5f1a3d18",
   "metadata": {},
   "outputs": [
    {
     "data": {
      "text/plain": [
       "'(8 * (6862813426220 - ((((141 + ((((((((((((((((((((165 + ((346 + (((29 + (((2 * (((((((573 + ((((((2 * (982 + (2 * ((((2 * (45 + ((((((528 + (((614 + ((((577 + ((x - 961) * 29)) / 7) - 507) * 9)) + 281) / 2)) / 2) - 153) * 3) - 769) / 5))) - 826) / 2) + 147)))) - 158) / 2) - 104) + 835) / 3)) * 8) - 890) / 2) + 124) * 2) - 233)) + 752) / 2)) * 2) - 675)) / 3)) / 2) - 866) * 3) - 999) * 2) + 404) / 2) - 56) * 2) + 944) / 2) - 822) * 2) + 964) / 4) - 459) * 2) + 639) + 546)) / 5) + 378) / 5)))'"
      ]
     },
     "execution_count": 131,
     "metadata": {},
     "output_type": "execute_result"
    }
   ],
   "source": [
    "expr = value_humn('lvvf')\n",
    "expr"
   ]
  },
  {
   "cell_type": "code",
   "execution_count": 132,
   "id": "eabb671d",
   "metadata": {},
   "outputs": [
    {
     "data": {
      "text/plain": [
       "23440423968672"
      ]
     },
     "execution_count": 132,
     "metadata": {},
     "output_type": "execute_result"
    }
   ],
   "source": [
    "val = value_humn('rqgq')\n",
    "val"
   ]
  },
  {
   "cell_type": "code",
   "execution_count": 133,
   "id": "36f9e07d",
   "metadata": {},
   "outputs": [],
   "source": [
    "# The function to solve equal to zero\n",
    "f = lambda x: eval(expr.replace('x', str(x))) - val"
   ]
  },
  {
   "cell_type": "code",
   "execution_count": 134,
   "id": "ce1468a2",
   "metadata": {},
   "outputs": [
    {
     "data": {
      "text/plain": [
       "3295537382559.77"
      ]
     },
     "execution_count": 134,
     "metadata": {},
     "output_type": "execute_result"
    }
   ],
   "source": [
    "# Solve: lmao precision issues!\n",
    "b = f(0)\n",
    "m = f(1) - b\n",
    "-b/m"
   ]
  },
  {
   "cell_type": "markdown",
   "id": "5e70765c",
   "metadata": {},
   "source": [
    "Scipy will do it for me"
   ]
  },
  {
   "cell_type": "code",
   "execution_count": 156,
   "id": "0ec2795d",
   "metadata": {},
   "outputs": [],
   "source": [
    "from scipy.optimize import bisect"
   ]
  },
  {
   "cell_type": "code",
   "execution_count": 164,
   "id": "baf37346",
   "metadata": {},
   "outputs": [
    {
     "data": {
      "text/plain": [
       "3296135418820.0"
      ]
     },
     "execution_count": 164,
     "metadata": {},
     "output_type": "execute_result"
    }
   ],
   "source": [
    "bisect(f, 1000000000000, 10000000000000)"
   ]
  },
  {
   "cell_type": "code",
   "execution_count": 165,
   "id": "48337303",
   "metadata": {},
   "outputs": [
    {
     "data": {
      "text/plain": [
       "0.0"
      ]
     },
     "execution_count": 165,
     "metadata": {},
     "output_type": "execute_result"
    }
   ],
   "source": [
    "f(3296135418820)"
   ]
  },
  {
   "cell_type": "markdown",
   "id": "46587fe1",
   "metadata": {},
   "source": [
    "# Utilities"
   ]
  },
  {
   "cell_type": "code",
   "execution_count": 1,
   "id": "b0f5c2be",
   "metadata": {},
   "outputs": [],
   "source": [
    "# Remove initial/final \\n characters\n",
    "def clean(s):\n",
    "    return s[1:-1]\n",
    "\n",
    "# Split at \\n characters\n",
    "# If there are \\n\\n characters, split into blocks too\n",
    "def split(s, block_char = '\\n\\n', line_char = '\\n'):\n",
    "    out = [block.split(line_char) for block in clean(s).split(block_char)]\n",
    "    if len(out) == 1:\n",
    "        return out[0]\n",
    "    else:\n",
    "        return out\n",
    "\n",
    "# Apply a function(s) to a list or \"block\" data (2-level list)\n",
    "def apply_func(data, func, nested=False):\n",
    "    if not isinstance(func, list):\n",
    "        func = [func]\n",
    "        \n",
    "    def _func(x):\n",
    "        for f in func:\n",
    "            x = f(x)\n",
    "        return x\n",
    "        \n",
    "    if nested:\n",
    "        return [[_func(x) for x in block] for block in data]\n",
    "    else:\n",
    "        return [_func(x) for x in data]\n",
    "\n",
    "# Split, parsing everything as ints\n",
    "def split_int(s):\n",
    "    return apply_func(split(s), int)\n",
    "\n",
    "# Split, parsing everything as float\n",
    "def split_float(s):\n",
    "    return apply_func(split(s), float)"
   ]
  },
  {
   "cell_type": "markdown",
   "id": "2b2e5b0f",
   "metadata": {},
   "source": [
    "# Inputs"
   ]
  },
  {
   "cell_type": "code",
   "execution_count": 2,
   "id": "6a1455c4",
   "metadata": {},
   "outputs": [],
   "source": [
    "t = \"\"\"\n",
    "root: pppw + sjmn\n",
    "...\n",
    "hmdt: 32\n",
    "\"\"\""
   ]
  },
  {
   "cell_type": "code",
   "execution_count": 3,
   "id": "dcf53146",
   "metadata": {},
   "outputs": [],
   "source": [
    "s = \"\"\"\n",
    "lfrh: 2\n",
    "...\n",
    "zfqn: zdcs * hvrb\n",
    "\"\"\""
   ]
  },
  {
   "cell_type": "code",
   "execution_count": null,
   "id": "e7de8682",
   "metadata": {},
   "outputs": [],
   "source": []
  }
 ],
 "metadata": {
  "kernelspec": {
   "display_name": "Python 3 (ipykernel)",
   "language": "python",
   "name": "python3"
  },
  "language_info": {
   "codemirror_mode": {
    "name": "ipython",
    "version": 3
   },
   "file_extension": ".py",
   "mimetype": "text/x-python",
   "name": "python",
   "nbconvert_exporter": "python",
   "pygments_lexer": "ipython3",
   "version": "3.11.1"
  }
 },
 "nbformat": 4,
 "nbformat_minor": 5
}
