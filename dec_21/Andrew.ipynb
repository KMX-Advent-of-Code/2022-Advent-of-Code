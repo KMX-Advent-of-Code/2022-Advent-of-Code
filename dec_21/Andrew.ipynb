{
 "cells": [
  {
   "cell_type": "code",
   "execution_count": 1,
   "metadata": {},
   "outputs": [],
   "source": [
    "import numpy as np\n",
    "import pandas as pd\n",
    "import math\n",
    "import scipy\n",
    "import sys\n",
    "from tqdm import tqdm\n",
    "import functools\n",
    "import networkx as nx\n",
    "import itertools\n",
    "\n",
    "import portion as P\n",
    "import re\n",
    "import datetime\n",
    "import queue\n",
    "\n",
    "# interval = P.empty()\n",
    "# for i, j in [(0, 1), (2, 4), (6, 7), (3, 5)]:\n",
    "#     interval = interval | P.closed(i, j)\n",
    "# print(interval)"
   ]
  },
  {
   "cell_type": "code",
   "execution_count": 2,
   "metadata": {},
   "outputs": [
    {
     "data": {
      "text/plain": [
       "array([[1, 4, 2],\n",
       "       [4, 5, 2],\n",
       "       [2, 2, 0]])"
      ]
     },
     "execution_count": 2,
     "metadata": {},
     "output_type": "execute_result"
    }
   ],
   "source": [
    "scipy.signal.correlate2d(np.array([\n",
    "    [1,2,0],\n",
    "    [1,0,0],\n",
    "    [1,0,0]]), np.array([[1,1,1],\n",
    "                         [1,1,0],\n",
    "                         [1,0,0]]), mode='same')"
   ]
  },
  {
   "cell_type": "code",
   "execution_count": 12,
   "metadata": {},
   "outputs": [],
   "source": [
    "class Monkey:\n",
    "    def __init__(self, name, operation, items) -> None:\n",
    "        self.operation = operation\n",
    "        self.name = name\n",
    "        self.items = items"
   ]
  },
  {
   "cell_type": "code",
   "execution_count": 16,
   "metadata": {},
   "outputs": [
    {
     "data": {
      "text/plain": [
       "True"
      ]
     },
     "execution_count": 16,
     "metadata": {},
     "output_type": "execute_result"
    }
   ],
   "source": [
    "'23'.isdigit()"
   ]
  },
  {
   "cell_type": "code",
   "execution_count": 186,
   "metadata": {},
   "outputs": [
    {
     "data": {
      "text/plain": [
       "299983725663456"
      ]
     },
     "execution_count": 186,
     "metadata": {},
     "output_type": "execute_result"
    }
   ],
   "source": [
    "file1 = open('21.txt', 'r')\n",
    "lines = file1.readlines()\n",
    "\n",
    "nodes = {}\n",
    "\n",
    "for l in lines:\n",
    "    name, ops = l.replace('\\n','').split(': ')\n",
    "    nodes[name] = Monkey(name,ops,nodes)\n",
    "    # print(name, ops)\n",
    "\n",
    "g = nx.DiGraph()\n",
    "g.add_nodes_from(nodes.values())\n",
    "for n in nodes.values():\n",
    "    if not n.operation.isdigit():\n",
    "        # print(n.operation)\n",
    "        n1 = n.operation.split(' ')[0]\n",
    "        n2 = n.operation.split(' ')[2]\n",
    "        g.add_edge(n,nodes[n1])\n",
    "        g.add_edge(n,nodes[n2])\n",
    "\n",
    "\n",
    "cnt = True\n",
    "while cnt:\n",
    "    cnt = False\n",
    "    # print(nodes['root'].operation)\n",
    "    graph_nodes = [n for n in g.nodes()]\n",
    "    # print(f'nodes: {graph_nodes}')\n",
    "    for n in graph_nodes:\n",
    "        if g.out_degree(n) == 0:\n",
    "            # print(f'removing {n}')\n",
    "            # print(f'removing {n.name}')\n",
    "            cnt = True\n",
    "            for neighbor in g.predecessors(n):\n",
    "                # print(nodes[n])\n",
    "                # print(f'before: {neighbor.operation}')\n",
    "                neighbor.operation = neighbor.operation.replace(n.name,n.operation)\n",
    "                ##check for arithmetic\n",
    "                split = neighbor.operation.split(' ')\n",
    "                if len(split) > 1 and split[0].isdigit() and split[2].isdigit():\n",
    "                    # print(f'{neighbor.name}: {neighbor.operation} -> {eval(neighbor.operation)}')\n",
    "                    neighbor.operation = str(int(eval(neighbor.operation)))\n",
    "                # print(f'after: {neighbor.operation}')\n",
    "            # print(f'removed: {n}')\n",
    "            g.remove_node(n)\n",
    "\n",
    "eval(nodes['root'].operation)\n",
    "\n",
    "\n"
   ]
  },
  {
   "cell_type": "markdown",
   "metadata": {},
   "source": [
    "# Second part"
   ]
  },
  {
   "attachments": {},
   "cell_type": "markdown",
   "metadata": {},
   "source": [
    "The same idea as part 1 but we'll use sympy to perform arithmetics with \"humn\""
   ]
  },
  {
   "cell_type": "code",
   "execution_count": 129,
   "metadata": {},
   "outputs": [],
   "source": [
    "import sympy as sym\n",
    "\n",
    "humn = sym.Symbol('humn')\n",
    "\n",
    "# sym.simplify((x + x * y) / x)"
   ]
  },
  {
   "cell_type": "code",
   "execution_count": 179,
   "metadata": {},
   "outputs": [
    {
     "name": "stdout",
     "output_type": "stream",
     "text": [
      "sjth: psbp + humn -> humn + psbp\n"
     ]
    },
    {
     "data": {
      "text/plain": [
       "'lttc = pfjc'"
      ]
     },
     "execution_count": 179,
     "metadata": {},
     "output_type": "execute_result"
    }
   ],
   "source": [
    "file1 = open('21.txt', 'r')\n",
    "lines = file1.readlines()\n",
    "\n",
    "nodes = {}\n",
    "\n",
    "for l in lines:\n",
    "    name, ops = l.replace('\\n','').split(': ')\n",
    "    nodes[name] = Monkey(name,ops,nodes)\n",
    "\n",
    "nodes['root'].operation = nodes['root'].operation.replace('+','=')\n",
    "\n",
    "g = nx.DiGraph()\n",
    "g.add_nodes_from(nodes.values())\n",
    "for n in nodes.values():\n",
    "    if not n.operation.isdigit():\n",
    "        # print(n.operation)\n",
    "        n1 = n.operation.split(' ')[0]\n",
    "        n2 = n.operation.split(' ')[2]\n",
    "        g.add_edge(n,nodes[n1])\n",
    "        g.add_edge(n,nodes[n2])\n",
    "        \n",
    "nodes['humn'].operation = humn\n",
    "\n",
    "cnt = True\n",
    "while cnt:\n",
    "    cnt = False\n",
    "    # print(nodes['root'].operation)\n",
    "    graph_nodes = [n for n in g.nodes()]\n",
    "    # print(f'nodes: {graph_nodes}')\n",
    "    # print(f\"tpzq: {nodes['tpzq'].operation}\")\n",
    "    for n in graph_nodes:\n",
    "        if g.out_degree(n) == 0 and n.name != 'root':\n",
    "            # print(f'removing {n}')\n",
    "            # print(f'removing {n.name}')\n",
    "            cnt = True\n",
    "            for neighbor in g.predecessors(n):\n",
    "                if neighbor.name != 'root':\n",
    "                    # print(nodes[n])\n",
    "                    # print(f'before: {neighbor.operation}')\n",
    "                    try:\n",
    "                        if 'humn' not in n.operation:\n",
    "                            neighbor.operation = neighbor.operation.replace(n.name,n.operation)\n",
    "                        else:\n",
    "                            neighbor.operation = neighbor.operation.replace(n.name,f'({n.operation})')\n",
    "                        ##check for arithmetic\n",
    "                        split = neighbor.operation.split(' ')\n",
    "                        if len(split) > 1 and split[0].isdigit() and split[2].isdigit():\n",
    "                            # print(f'{neighbor.name}: {neighbor.operation} -> {eval(neighbor.operation)}')\n",
    "                            neighbor.operation = str(int(eval(neighbor.operation)))\n",
    "                    except TypeError:\n",
    "                        print(f'{neighbor.name}: {neighbor.operation} -> {sym.simplify(neighbor.operation)}')\n",
    "                        # print(sym.simplify(neighbor.operation))\n",
    "                        neighbor.operation = str(sym.simplify(neighbor.operation))\n",
    "\n",
    "                # print(f'after: {neighbor.operation}')\n",
    "            # print(f'removed: {n}')\n",
    "            g.remove_node(n)\n",
    "\n",
    "nodes['root'].operation"
   ]
  },
  {
   "cell_type": "code",
   "execution_count": 180,
   "metadata": {},
   "outputs": [
    {
     "data": {
      "text/plain": [
       "'2 * (105161115450707 - ((649 + ((425 + (((((((((2 * (((854 + ((((464 + (87 + (((((2 * ((11 * (((((((((((723 + (((660 + ((2 * ((((((2 * (((((515 + ((955 + (2 * ((93 * (((220 + ((797 + (((8 * (humn + 505)) - 704) / 8)) + 990)) / 3) - 147)) - 178))) / 5)) / 6) - 322) * 20) + 692)) - 631) + 420) + 213) / 2) + 696)) - 919)) + 110) / 3)) * 2) - 343) / 3) + 112) * 2) - 522) / 3) - 331) / 3) + 78)) + 508)) - 542) / 4) - 564) * 2))) / 3) - 687) / 2)) * 2) + 698)) - 954) / 2) - 210) * 2) + 28) / 3) - 744) / 11)) * 43)) / 2))'"
      ]
     },
     "execution_count": 180,
     "metadata": {},
     "output_type": "execute_result"
    }
   ],
   "source": [
    "nodes['lttc'].operation"
   ]
  },
  {
   "cell_type": "code",
   "execution_count": 181,
   "metadata": {},
   "outputs": [
    {
     "data": {
      "text/plain": [
       "'89661494901968'"
      ]
     },
     "execution_count": 181,
     "metadata": {},
     "output_type": "execute_result"
    }
   ],
   "source": [
    "nodes['pfjc'].operation"
   ]
  },
  {
   "cell_type": "code",
   "execution_count": 183,
   "metadata": {},
   "outputs": [
    {
     "data": {
      "text/plain": [
       "{humn: 3093175982595}"
      ]
     },
     "execution_count": 183,
     "metadata": {},
     "output_type": "execute_result"
    }
   ],
   "source": [
    "sym.solve([2 * (105161115450707 - ((649 + ((425 + (((((((((2 * (((854 + ((((464 + (87 + (((((2 * ((11 * (((((((((((723 + (((660 + ((2 * ((((((2 * (((((515 + ((955 + (2 * ((93 * (((220 + ((797 + (((8 * (humn + 505)) - 704) / 8)) + 990)) / 3) - 147)) - 178))) / 5)) / 6) - 322) * 20) + 692)) - 631) + 420) + 213) / 2) + 696)) - 919)) + 110) / 3)) * 2) - 343) / 3) + 112) * 2) - 522) / 3) - 331) / 3) + 78)) + 508)) - 542) / 4) - 564) * 2))) / 3) - 687) / 2)) * 2) + 698)) - 954) / 2) - 210) * 2) + 28) / 3) - 744) / 11)) * 43)) / 2)) - 89661494901968])"
   ]
  },
  {
   "cell_type": "markdown",
   "metadata": {},
   "source": [
    "# check"
   ]
  },
  {
   "cell_type": "code",
   "execution_count": 184,
   "metadata": {},
   "outputs": [],
   "source": [
    "ans = 3093175982595"
   ]
  },
  {
   "cell_type": "code",
   "execution_count": 185,
   "metadata": {},
   "outputs": [
    {
     "data": {
      "text/plain": [
       "'89661494901968 + 89661494901968'"
      ]
     },
     "execution_count": 185,
     "metadata": {},
     "output_type": "execute_result"
    }
   ],
   "source": [
    "file1 = open('21.txt', 'r')\n",
    "lines = file1.readlines()\n",
    "\n",
    "nodes = {}\n",
    "\n",
    "for l in lines:\n",
    "    name, ops = l.replace('\\n','').split(': ')\n",
    "    nodes[name] = Monkey(name,ops,nodes)\n",
    "    # print(name, ops)\n",
    "\n",
    "g = nx.DiGraph()\n",
    "g.add_nodes_from(nodes.values())\n",
    "for n in nodes.values():\n",
    "    if not n.operation.isdigit():\n",
    "        # print(n.operation)\n",
    "        n1 = n.operation.split(' ')[0]\n",
    "        n2 = n.operation.split(' ')[2]\n",
    "        g.add_edge(n,nodes[n1])\n",
    "        g.add_edge(n,nodes[n2])\n",
    "\n",
    "nodes['humn'].operation = str(ans)\n",
    "\n",
    "\n",
    "cnt = True\n",
    "while cnt:\n",
    "    cnt = False\n",
    "    # print(nodes['root'].operation)\n",
    "    graph_nodes = [n for n in g.nodes()]\n",
    "    # print(f'nodes: {graph_nodes}')\n",
    "    for n in graph_nodes:\n",
    "        if g.out_degree(n) == 0:\n",
    "            # print(f'removing {n}')\n",
    "            # print(f'removing {n.name}')\n",
    "            cnt = True\n",
    "            for neighbor in g.predecessors(n):\n",
    "                # print(nodes[n])\n",
    "                # print(f'before: {neighbor.operation}')\n",
    "                neighbor.operation = neighbor.operation.replace(n.name,n.operation)\n",
    "                if neighbor.name != 'root':\n",
    "                    ##check for arithmetic\n",
    "                    split = neighbor.operation.split(' ')\n",
    "                    if len(split) > 1 and split[0].isdigit() and split[2].isdigit():\n",
    "                        # print(f'{neighbor.name}: {neighbor.operation} -> {eval(neighbor.operation)}')\n",
    "                        neighbor.operation = str(int(eval(neighbor.operation)))\n",
    "                # print(f'after: {neighbor.operation}')\n",
    "            # print(f'removed: {n}')\n",
    "            g.remove_node(n)\n",
    "\n",
    "nodes['root'].operation"
   ]
  },
  {
   "cell_type": "code",
   "execution_count": null,
   "metadata": {},
   "outputs": [],
   "source": []
  }
 ],
 "metadata": {
  "kernelspec": {
   "display_name": "Python 3",
   "language": "python",
   "name": "python3"
  },
  "language_info": {
   "codemirror_mode": {
    "name": "ipython",
    "version": 3
   },
   "file_extension": ".py",
   "mimetype": "text/x-python",
   "name": "python",
   "nbconvert_exporter": "python",
   "pygments_lexer": "ipython3",
   "version": "3.11.0"
  },
  "orig_nbformat": 4,
  "vscode": {
   "interpreter": {
    "hash": "aee8b7b246df8f9039afb4144a1f6fd8d2ca17a180786b69acc140d282b71a49"
   }
  }
 },
 "nbformat": 4,
 "nbformat_minor": 2
}
