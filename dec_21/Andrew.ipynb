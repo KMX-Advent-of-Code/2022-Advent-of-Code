{
 "cells": [
  {
   "cell_type": "code",
   "execution_count": null,
   "metadata": {},
   "outputs": [],
   "source": [
    "import numpy as np\n",
    "import pandas as pd\n",
    "import math\n",
    "import scipy\n",
    "import sys\n",
    "from tqdm import tqdm\n",
    "import functools\n",
    "import networkx as nx\n",
    "import itertools\n",
    "\n",
    "import portion as P\n",
    "import re\n",
    "import datetime\n",
    "import queue\n",
    "import sympy as sym\n",
    "\n",
    "# interval = P.empty()\n",
    "# for i, j in [(0, 1), (2, 4), (6, 7), (3, 5)]:\n",
    "#     interval = interval | P.closed(i, j)\n",
    "# print(interval)"
   ]
  },
  {
   "attachments": {},
   "cell_type": "markdown",
   "metadata": {},
   "source": [
    "# Much better solutions:"
   ]
  },
  {
   "cell_type": "markdown",
   "metadata": {},
   "source": [
    "over what I originally wrote"
   ]
  },
  {
   "cell_type": "code",
   "execution_count": 5,
   "metadata": {},
   "outputs": [
    {
     "data": {
      "text/latex": [
       "$\\displaystyle 299983725663456$"
      ],
      "text/plain": [
       "299983725663456"
      ]
     },
     "execution_count": 5,
     "metadata": {},
     "output_type": "execute_result"
    }
   ],
   "source": [
    "##  part 1:\n",
    "file1 = open('21.txt', 'r')\n",
    "lines = file1.readlines()\n",
    "\n",
    "nodes = {}\n",
    "\n",
    "for l in lines:\n",
    "    name, ops = l.replace('\\n','').split(': ')\n",
    "    nodes[name] = ops\n",
    "\n",
    "ans = 'root'\n",
    "while re.findall(r'[a-z]{4}',ans):\n",
    "    for name in re.findall(r'[a-z]{4}',ans):\n",
    "        ans = ans.replace(name, f'({nodes[name]})')\n",
    "\n",
    "sym.simplify(ans)"
   ]
  },
  {
   "cell_type": "code",
   "execution_count": 6,
   "metadata": {},
   "outputs": [
    {
     "name": "stdout",
     "output_type": "stream",
     "text": [
      "153324906259249552/729 - 85312*humn/2187\n",
      "89661494901968\n"
     ]
    }
   ],
   "source": [
    "## part 2:\n",
    "nodes['humn'] = 'humn'\n",
    "\n",
    "\n",
    "ans = 'lttc'\n",
    "while (re.findall(r'[a-z]{4}',ans) != ['humn']):\n",
    "    for name in re.findall(r'[a-z]{4}',ans):\n",
    "        ans = ans.replace(name, f'({nodes[name]})')\n",
    "print(sym.simplify(ans))\n",
    "\n",
    "ans = 'pfjc'\n",
    "while re.findall(r'[a-z]{4}',ans):\n",
    "    for name in re.findall(r'[a-z]{4}',ans):\n",
    "        ans = ans.replace(name, f'({nodes[name]})')\n",
    "print(sym.simplify(ans))\n"
   ]
  },
  {
   "cell_type": "code",
   "execution_count": 8,
   "metadata": {},
   "outputs": [
    {
     "data": {
      "text/plain": [
       "{humn: 3093175982594.99}"
      ]
     },
     "execution_count": 8,
     "metadata": {},
     "output_type": "execute_result"
    }
   ],
   "source": [
    "humn = sym.Symbol('humn')\n",
    "sym.solve([153324906259249552/729 - 85312*humn/2187 - 89661494901968])"
   ]
  },
  {
   "attachments": {},
   "cell_type": "markdown",
   "metadata": {},
   "source": [
    "## check"
   ]
  },
  {
   "cell_type": "code",
   "execution_count": 184,
   "metadata": {},
   "outputs": [],
   "source": [
    "ans = 3093175982595"
   ]
  },
  {
   "cell_type": "code",
   "execution_count": 185,
   "metadata": {},
   "outputs": [
    {
     "data": {
      "text/plain": [
       "'89661494901968 + 89661494901968'"
      ]
     },
     "execution_count": 185,
     "metadata": {},
     "output_type": "execute_result"
    }
   ],
   "source": [
    "file1 = open('21.txt', 'r')\n",
    "lines = file1.readlines()\n",
    "\n",
    "nodes = {}\n",
    "\n",
    "for l in lines:\n",
    "    name, ops = l.replace('\\n','').split(': ')\n",
    "    nodes[name] = Monkey(name,ops,nodes)\n",
    "    # print(name, ops)\n",
    "\n",
    "g = nx.DiGraph()\n",
    "g.add_nodes_from(nodes.values())\n",
    "for n in nodes.values():\n",
    "    if not n.operation.isdigit():\n",
    "        # print(n.operation)\n",
    "        n1 = n.operation.split(' ')[0]\n",
    "        n2 = n.operation.split(' ')[2]\n",
    "        g.add_edge(n,nodes[n1])\n",
    "        g.add_edge(n,nodes[n2])\n",
    "\n",
    "nodes['humn'].operation = str(ans)\n",
    "\n",
    "\n",
    "cnt = True\n",
    "while cnt:\n",
    "    cnt = False\n",
    "    # print(nodes['root'].operation)\n",
    "    graph_nodes = [n for n in g.nodes()]\n",
    "    # print(f'nodes: {graph_nodes}')\n",
    "    for n in graph_nodes:\n",
    "        if g.out_degree(n) == 0:\n",
    "            # print(f'removing {n}')\n",
    "            # print(f'removing {n.name}')\n",
    "            cnt = True\n",
    "            for neighbor in g.predecessors(n):\n",
    "                # print(nodes[n])\n",
    "                # print(f'before: {neighbor.operation}')\n",
    "                neighbor.operation = neighbor.operation.replace(n.name,n.operation)\n",
    "                if neighbor.name != 'root':\n",
    "                    ##check for arithmetic\n",
    "                    split = neighbor.operation.split(' ')\n",
    "                    if len(split) > 1 and split[0].isdigit() and split[2].isdigit():\n",
    "                        # print(f'{neighbor.name}: {neighbor.operation} -> {eval(neighbor.operation)}')\n",
    "                        neighbor.operation = str(int(eval(neighbor.operation)))\n",
    "                # print(f'after: {neighbor.operation}')\n",
    "            # print(f'removed: {n}')\n",
    "            g.remove_node(n)\n",
    "\n",
    "nodes['root'].operation"
   ]
  },
  {
   "cell_type": "code",
   "execution_count": null,
   "metadata": {},
   "outputs": [],
   "source": []
  }
 ],
 "metadata": {
  "kernelspec": {
   "display_name": "Python 3",
   "language": "python",
   "name": "python3"
  },
  "language_info": {
   "codemirror_mode": {
    "name": "ipython",
    "version": 3
   },
   "file_extension": ".py",
   "mimetype": "text/x-python",
   "name": "python",
   "nbconvert_exporter": "python",
   "pygments_lexer": "ipython3",
   "version": "3.11.0"
  },
  "orig_nbformat": 4,
  "vscode": {
   "interpreter": {
    "hash": "aee8b7b246df8f9039afb4144a1f6fd8d2ca17a180786b69acc140d282b71a49"
   }
  }
 },
 "nbformat": 4,
 "nbformat_minor": 2
}
