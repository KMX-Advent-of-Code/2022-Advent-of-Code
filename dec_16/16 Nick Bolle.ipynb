{
 "cells": [
  {
   "cell_type": "markdown",
   "id": "cc902ab4",
   "metadata": {},
   "source": [
    "Organization:\n",
    "- Work\n",
    "  - 1 test: defining functions for part 1, testing on test input\n",
    "  - 1 run: getting answer for part 1\n",
    "  - 2 test: ...\n",
    "  - 2 run: ...\n",
    "- Utilities: functions I think might help parse general inputs\n",
    "- Inputs: where I define the test (_t_) and problem (_s_) inputs"
   ]
  },
  {
   "cell_type": "markdown",
   "id": "d1881444",
   "metadata": {},
   "source": [
    "# Work"
   ]
  },
  {
   "cell_type": "markdown",
   "id": "eb1b228f",
   "metadata": {},
   "source": [
    "## 1 test\n",
    "\n",
    "Thoughts:\n",
    "- Solving the problem iteratively for 1, 2, ..., 30 won't work: possible ex. the optimal first step if you have 2 minutes is to open a nearby valve, but if you have 30 minutes it's to move a few steps farther to a big valve, since any benefit from the small valve is beat by the big valve being open for 1 minute longer\n",
    "- For 10 valves there's 10! < 4,000,000 orders to open valves, so it's somewhat feasible to check every order of opening valves using (precomputed) graph shortest paths to figure out when each valve is opened. But this would not work for 61 valves.\n",
    "- This general method should work though\n",
    "  - DFS on the tree of n! paths, using precomputed graph shortest paths for travel times\n",
    "  - To open a valve costs time to get there + 1 and you \"earn\" its flow rate * minutes left in value from it\n",
    "  - Keep a list of the valves not yet visited (remove valves that have 0 flow; this means there's effectively on 14 valves for the main problem)\n",
    "  - Record the current value of the actions taken (in amount of pressure they'll have relieved by the end of the 30 minutes) and an overestimate for the maximum value possible (given by the sum of unopened flows * the time left)\n",
    "  - After each step (before branching), abort if the surrogate max value is below the best value found so far\n",
    "  - If we're at the end of the path, possibly update the best total flow"
   ]
  },
  {
   "cell_type": "code",
   "execution_count": 105,
   "id": "0c03afb0",
   "metadata": {},
   "outputs": [],
   "source": [
    "# A bit hacky, just parsing a single line of the input\n",
    "def parse(line):\n",
    "    aux = line.split(' ')\n",
    "    me = aux[1]\n",
    "    flow = int(aux[4].split('=')[1].split(';')[0])\n",
    "    others = [other.strip(',') for other in aux[9:]]\n",
    "    return (me, flow, others)"
   ]
  },
  {
   "cell_type": "code",
   "execution_count": 106,
   "id": "2f4c2d12",
   "metadata": {},
   "outputs": [
    {
     "data": {
      "text/plain": [
       "[('AA', 0, ['DD', 'II', 'BB']),\n",
       " ('BB', 13, ['CC', 'AA']),\n",
       " ('CC', 2, ['DD', 'BB']),\n",
       " ('DD', 20, ['CC', 'AA', 'EE']),\n",
       " ('EE', 3, ['FF', 'DD']),\n",
       " ('FF', 0, ['EE', 'GG']),\n",
       " ('GG', 0, ['FF', 'HH']),\n",
       " ('HH', 22, ['GG']),\n",
       " ('II', 0, ['AA', 'JJ']),\n",
       " ('JJ', 21, ['II'])]"
      ]
     },
     "execution_count": 106,
     "metadata": {},
     "output_type": "execute_result"
    }
   ],
   "source": [
    "valves = [parse(line) for line in split(t)]\n",
    "valves"
   ]
  },
  {
   "cell_type": "code",
   "execution_count": 107,
   "id": "2c18d3fb",
   "metadata": {},
   "outputs": [
    {
     "data": {
      "text/plain": [
       "{'AA': 0,\n",
       " 'BB': 1,\n",
       " 'CC': 2,\n",
       " 'DD': 3,\n",
       " 'EE': 4,\n",
       " 'FF': 5,\n",
       " 'GG': 6,\n",
       " 'HH': 7,\n",
       " 'II': 8,\n",
       " 'JJ': 9}"
      ]
     },
     "execution_count": 107,
     "metadata": {},
     "output_type": "execute_result"
    }
   ],
   "source": [
    "vertices = {}\n",
    "names = {}\n",
    "for i, valve in zip(range(len(valves)), valves):\n",
    "    vertices[valve[0]] = i\n",
    "    names[i] = valve[0]\n",
    "vertices"
   ]
  },
  {
   "cell_type": "code",
   "execution_count": 108,
   "id": "087a87ab",
   "metadata": {},
   "outputs": [],
   "source": [
    "import numpy as np"
   ]
  },
  {
   "cell_type": "code",
   "execution_count": 109,
   "id": "fbed4c53",
   "metadata": {},
   "outputs": [
    {
     "data": {
      "text/plain": [
       "array([[0, 1, 0, 1, 0, 0, 0, 0, 1, 0],\n",
       "       [1, 0, 1, 0, 0, 0, 0, 0, 0, 0],\n",
       "       [0, 1, 0, 1, 0, 0, 0, 0, 0, 0],\n",
       "       [1, 0, 1, 0, 1, 0, 0, 0, 0, 0],\n",
       "       [0, 0, 0, 1, 0, 1, 0, 0, 0, 0],\n",
       "       [0, 0, 0, 0, 1, 0, 1, 0, 0, 0],\n",
       "       [0, 0, 0, 0, 0, 1, 0, 1, 0, 0],\n",
       "       [0, 0, 0, 0, 0, 0, 1, 0, 0, 0],\n",
       "       [1, 0, 0, 0, 0, 0, 0, 0, 0, 1],\n",
       "       [0, 0, 0, 0, 0, 0, 0, 0, 1, 0]])"
      ]
     },
     "execution_count": 109,
     "metadata": {},
     "output_type": "execute_result"
    }
   ],
   "source": [
    "# Form the adjacency matrix and check for symmetry and no diagonal\n",
    "# Also did this for the 2nd input and the checks also passed\n",
    "n = len(valves)\n",
    "A = np.zeros((n,n), dtype=int)\n",
    "for me, flow, others in valves:\n",
    "    for other in others:\n",
    "        A[vertices[me], vertices[other]] = 1\n",
    "A"
   ]
  },
  {
   "cell_type": "code",
   "execution_count": 110,
   "id": "465003b0",
   "metadata": {},
   "outputs": [
    {
     "data": {
      "text/plain": [
       "True"
      ]
     },
     "execution_count": 110,
     "metadata": {},
     "output_type": "execute_result"
    }
   ],
   "source": [
    "(A == A.transpose()).all()"
   ]
  },
  {
   "cell_type": "code",
   "execution_count": 111,
   "id": "8070910c",
   "metadata": {},
   "outputs": [],
   "source": [
    "from scipy.sparse.csgraph import shortest_path"
   ]
  },
  {
   "cell_type": "code",
   "execution_count": 112,
   "id": "fc7e8299",
   "metadata": {},
   "outputs": [
    {
     "data": {
      "text/plain": [
       "array([[0, 1, 2, 1, 2, 3, 4, 5, 1, 2],\n",
       "       [1, 0, 1, 2, 3, 4, 5, 6, 2, 3],\n",
       "       [2, 1, 0, 1, 2, 3, 4, 5, 3, 4],\n",
       "       [1, 2, 1, 0, 1, 2, 3, 4, 2, 3],\n",
       "       [2, 3, 2, 1, 0, 1, 2, 3, 3, 4],\n",
       "       [3, 4, 3, 2, 1, 0, 1, 2, 4, 5],\n",
       "       [4, 5, 4, 3, 2, 1, 0, 1, 5, 6],\n",
       "       [5, 6, 5, 4, 3, 2, 1, 0, 6, 7],\n",
       "       [1, 2, 3, 2, 3, 4, 5, 6, 0, 1],\n",
       "       [2, 3, 4, 3, 4, 5, 6, 7, 1, 0]])"
      ]
     },
     "execution_count": 112,
     "metadata": {},
     "output_type": "execute_result"
    }
   ],
   "source": [
    "D = shortest_path(A).astype(int)\n",
    "D"
   ]
  },
  {
   "cell_type": "code",
   "execution_count": 113,
   "id": "0435f023",
   "metadata": {},
   "outputs": [
    {
     "data": {
      "text/plain": [
       "[0, 13, 2, 20, 3, 0, 0, 22, 0, 21]"
      ]
     },
     "execution_count": 113,
     "metadata": {},
     "output_type": "execute_result"
    }
   ],
   "source": [
    "flows = [flow for me, flow, others in valves]\n",
    "flows"
   ]
  },
  {
   "cell_type": "code",
   "execution_count": 114,
   "id": "e0630bc3",
   "metadata": {},
   "outputs": [
    {
     "data": {
      "text/plain": [
       "[1, 2, 3, 4, 7, 9]"
      ]
     },
     "execution_count": 114,
     "metadata": {},
     "output_type": "execute_result"
    }
   ],
   "source": [
    "can_open = [i for i in range(n) if flows[i] > 0]\n",
    "can_open"
   ]
  },
  {
   "cell_type": "code",
   "execution_count": 116,
   "id": "fcd6ef07",
   "metadata": {},
   "outputs": [
    {
     "name": "stdout",
     "output_type": "stream",
     "text": [
      "1651\n",
      "['DD', 'BB', 'JJ', 'HH', 'EE', 'CC']\n"
     ]
    }
   ],
   "source": [
    "max_value = 0\n",
    "\n",
    "# Launch a DFS from vertex i with t minutes left\n",
    "# value gives the value of the actions performed so far\n",
    "# can_open gives valves we can still open\n",
    "def DFS(i, t, value, can_open, history):\n",
    "    global max_value, max_history\n",
    "    \n",
    "    # Iterate over possible valves to open\n",
    "    for j in can_open:\n",
    "        # If we have enough time to get to and open this valve and have it open at least 1 minute, try opening it\n",
    "        time_to_open = D[i,j] + 1\n",
    "        if time_to_open < t:\n",
    "            # Parameters for the new DFS node\n",
    "            new_t = t - time_to_open\n",
    "            new_value = value + flows[j] * new_t\n",
    "            new_can_open = [k for k in can_open if k != j]\n",
    "            \n",
    "            # Pruning: check if we already cannot achieve the max_value found so far\n",
    "            new_total_value_est = new_value + sum([flows[k] for k in new_can_open]) * (new_t - 2)\n",
    "            if new_total_value_est > max_value:\n",
    "                # Continue DFS\n",
    "                DFS(j, new_t, new_value, new_can_open, history + [names[j]])\n",
    "    \n",
    "    # Once we get here, we've tried opening all valves worth opening\n",
    "    # This also includes the case where there were no valves to open or time ran out\n",
    "    # So check if we achieved a new record value\n",
    "    if value > max_value:\n",
    "        max_value = value\n",
    "        max_history = history\n",
    "\n",
    "DFS(vertices['AA'], 30, 0, can_open, [])\n",
    "print(max_value)\n",
    "print(max_history)"
   ]
  },
  {
   "cell_type": "markdown",
   "id": "97486550",
   "metadata": {},
   "source": [
    "## 1 run"
   ]
  },
  {
   "cell_type": "code",
   "execution_count": 117,
   "id": "c44f4f72",
   "metadata": {},
   "outputs": [],
   "source": [
    "valves = [parse(line) for line in split(s)]\n",
    "\n",
    "vertices = {}\n",
    "names = {}\n",
    "for i, valve in zip(range(len(valves)), valves):\n",
    "    vertices[valve[0]] = i\n",
    "    names[i] = valve[0]\n",
    "\n",
    "n = len(valves)\n",
    "A = np.zeros((n,n), dtype=int)\n",
    "for me, flow, others in valves:\n",
    "    for other in others:\n",
    "        A[vertices[me], vertices[other]] = 1\n",
    "\n",
    "D = shortest_path(A).astype(int)\n",
    "\n",
    "flows = [flow for me, flow, others in valves]\n",
    "\n",
    "can_open = [i for i in range(n) if flows[i] > 0]"
   ]
  },
  {
   "cell_type": "code",
   "execution_count": 119,
   "id": "4b5e7c5e",
   "metadata": {},
   "outputs": [
    {
     "name": "stdout",
     "output_type": "stream",
     "text": [
      "1857\n",
      "['MA', 'II', 'AS', 'RU', 'PM', 'KQ', 'ED']\n"
     ]
    }
   ],
   "source": [
    "max_value = 0\n",
    "DFS(vertices['AA'], 30, 0, can_open, [])\n",
    "print(max_value)\n",
    "print(max_history)"
   ]
  },
  {
   "cell_type": "markdown",
   "id": "cf29851d",
   "metadata": {},
   "source": [
    "## 2 test\n",
    "\n",
    "- With the elephant, movements won't be in sync: I might move to a vertex to open a valve, but the elephant would be on its way to another vertex to open a valve\n",
    "- One solution: for each step move either me or the elephant to a valve, and the other goes to any other vertex. WLOG everyone is constantly moving until all time runs out so this doesn't mess up on any weird edge cases.\n",
    "- Another one: plan my route first, and once that's done I'll plan the elephant's route (making sure it doesn't flip any valves I flipped)\n",
    "- I opted for the 2nd one, doing DFS for my route first and then DFS for the elephant's route. Took at most 2 minutes to run. Some details:\n",
    "  - Whatever valves me and the elephant visit in the optimal route, each of us must take the fastest path from one to the next and we must open disjoint sets of valves.\n",
    "  - We can find each of our paths by searching the tree of paths, but note that we don't necessarily need to search to the leaves: it's possible my path in isolation could have an extra valve opening tacked on at the end, but the elephant was planning on opening that valve earlier on than me so I should forgo opening that valve. It's not \"locally optimal\" for just me, but it is optimal when the elephant wants to open it.\n",
    "  - With those in mind, I can do a DFS for my path and then a DFS for the elephant's path, restricting the elephant to valves I did not open. But for my DFS, initiate an elephant DFS after each of my valve openings in case the best path for me is not \"locally optimal\"."
   ]
  },
  {
   "cell_type": "code",
   "execution_count": 133,
   "id": "e304a636",
   "metadata": {},
   "outputs": [],
   "source": [
    "valves = [parse(line) for line in split(t)]\n",
    "\n",
    "vertices = {}\n",
    "names = {}\n",
    "for i, valve in zip(range(len(valves)), valves):\n",
    "    vertices[valve[0]] = i\n",
    "    names[i] = valve[0]\n",
    "\n",
    "n = len(valves)\n",
    "A = np.zeros((n,n), dtype=int)\n",
    "for me, flow, others in valves:\n",
    "    for other in others:\n",
    "        A[vertices[me], vertices[other]] = 1\n",
    "\n",
    "D = shortest_path(A).astype(int)\n",
    "\n",
    "flows = [flow for me, flow, others in valves]\n",
    "\n",
    "can_open = [i for i in range(n) if flows[i] > 0]"
   ]
  },
  {
   "cell_type": "code",
   "execution_count": 135,
   "id": "5d3ee2b5",
   "metadata": {},
   "outputs": [
    {
     "name": "stdout",
     "output_type": "stream",
     "text": [
      "1244\n",
      "1601\n",
      "1623\n",
      "1643\n",
      "1644\n",
      "1653\n",
      "1655\n",
      "1656\n",
      "1696\n",
      "1704\n",
      "1705\n",
      "1706\n",
      "1707\n",
      "1707\n",
      "['DD', 'HH', 'EE', '', 'JJ', 'BB', 'CC']\n"
     ]
    }
   ],
   "source": [
    "max_value = 0\n",
    "\n",
    "def DFS_me(i, t, value, can_open, history):\n",
    "    global max_value\n",
    "    \n",
    "    for j in can_open:\n",
    "        time_to_open = D[i,j] + 1\n",
    "        if time_to_open < t:\n",
    "            new_t = t - time_to_open\n",
    "            new_value = value + flows[j] * new_t\n",
    "            new_can_open = [k for k in can_open if k != j]\n",
    "            \n",
    "            # Make sure to account for the elephant in the overestimate of total value!\n",
    "            # i.e. That the elephant could open any of the unopened valves and have it on for 24 minutes\n",
    "            new_total_value_est = new_value + sum([flows[k] for k in new_can_open]) * 24\n",
    "            if new_total_value_est > max_value:\n",
    "                DFS_me(j, new_t, new_value, new_can_open, history + [names[j]])\n",
    "    \n",
    "    # Now have the elephant plan its route\n",
    "    # (Since it's possible I don't \"complete\" my route, and I leave a valve closed for the elephant to open in the past)\n",
    "    DFS_elephant(vertices['AA'], 26, value, can_open, history + [''])\n",
    "\n",
    "def DFS_elephant(i, t, value, can_open, history):\n",
    "    global max_value, max_history\n",
    "    \n",
    "    # Flag for whether the elephant is done opening valves\n",
    "    # Flip to false if we end up opening a valve from here\n",
    "    done = True\n",
    "    \n",
    "    for j in can_open:\n",
    "        time_to_open = D[i,j] + 1\n",
    "        if time_to_open < t:\n",
    "            new_t = t - time_to_open\n",
    "            new_value = value + flows[j] * new_t\n",
    "            new_can_open = [k for k in can_open if k != j]\n",
    "            \n",
    "            new_total_value_est = new_value + sum([flows[k] for k in new_can_open]) * (new_t - 2)\n",
    "            if new_total_value_est > max_value:\n",
    "                done = False\n",
    "                DFS_elephant(j, new_t, new_value, new_can_open, history + [names[j]])\n",
    "    \n",
    "    # If we opened no valves, the elephant's route is done\n",
    "    # Check if we improved on the best route so far\n",
    "    if done and value > max_value:\n",
    "        max_value = value\n",
    "        max_history = history\n",
    "        print(max_value)\n",
    "\n",
    "DFS_me(vertices['AA'], 26, 0, can_open, [])\n",
    "print(max_value)\n",
    "print(max_history)"
   ]
  },
  {
   "cell_type": "markdown",
   "id": "a2c20e06",
   "metadata": {},
   "source": [
    "## 2 run"
   ]
  },
  {
   "cell_type": "code",
   "execution_count": 136,
   "id": "18afc751",
   "metadata": {},
   "outputs": [],
   "source": [
    "valves = [parse(line) for line in split(s)]\n",
    "\n",
    "vertices = {}\n",
    "names = {}\n",
    "for i, valve in zip(range(len(valves)), valves):\n",
    "    vertices[valve[0]] = i\n",
    "    names[i] = valve[0]\n",
    "\n",
    "n = len(valves)\n",
    "A = np.zeros((n,n), dtype=int)\n",
    "for me, flow, others in valves:\n",
    "    for other in others:\n",
    "        A[vertices[me], vertices[other]] = 1\n",
    "\n",
    "D = shortest_path(A).astype(int)\n",
    "\n",
    "flows = [flow for me, flow, others in valves]\n",
    "\n",
    "can_open = [i for i in range(n) if flows[i] > 0]"
   ]
  },
  {
   "cell_type": "code",
   "execution_count": 137,
   "id": "d0eeee35",
   "metadata": {},
   "outputs": [
    {
     "name": "stdout",
     "output_type": "stream",
     "text": [
      "1270\n",
      "1294\n",
      "1307\n",
      "1324\n",
      "1329\n",
      "1344\n",
      "1402\n",
      "1407\n",
      "1442\n",
      "1478\n",
      "1480\n",
      "1508\n",
      "1514\n",
      "1516\n",
      "1542\n",
      "1544\n",
      "1554\n",
      "1576\n",
      "1580\n",
      "1594\n",
      "1624\n",
      "1633\n",
      "1639\n",
      "1646\n",
      "1661\n",
      "1665\n",
      "1679\n",
      "1709\n",
      "1718\n",
      "1724\n",
      "1731\n",
      "1732\n",
      "1736\n",
      "1750\n",
      "1780\n",
      "1789\n",
      "1795\n",
      "1802\n",
      "1861\n",
      "1866\n",
      "1868\n",
      "1874\n",
      "1897\n",
      "1905\n",
      "1910\n",
      "1912\n",
      "1917\n",
      "1919\n",
      "1921\n",
      "1932\n",
      "1945\n",
      "1959\n",
      "1963\n",
      "1971\n",
      "1977\n",
      "1981\n",
      "1989\n",
      "1990\n",
      "1994\n",
      "2006\n",
      "2031\n",
      "2033\n",
      "2047\n",
      "2059\n",
      "2067\n",
      "2070\n",
      "2095\n",
      "2097\n",
      "2111\n",
      "2123\n",
      "2131\n",
      "2166\n",
      "2176\n",
      "2230\n",
      "2240\n",
      "2276\n",
      "2286\n",
      "2288\n",
      "2293\n",
      "2316\n",
      "2325\n",
      "2333\n",
      "2343\n",
      "2344\n",
      "2395\n",
      "2405\n",
      "2419\n",
      "2435\n",
      "2446\n",
      "2454\n",
      "2467\n",
      "2469\n",
      "2509\n",
      "2526\n",
      "2536\n",
      "2536\n",
      "['HR', 'DW', 'XO', 'VI', 'MW', 'FQ', '', 'MA', 'II', 'AS', 'RU', 'PM', 'KQ']\n"
     ]
    }
   ],
   "source": [
    "max_value = 0\n",
    "\n",
    "def DFS_me(i, t, value, can_open, history):\n",
    "    global max_value\n",
    "    \n",
    "    for j in can_open:\n",
    "        time_to_open = D[i,j] + 1\n",
    "        if time_to_open < t:\n",
    "            new_t = t - time_to_open\n",
    "            new_value = value + flows[j] * new_t\n",
    "            new_can_open = [k for k in can_open if k != j]\n",
    "            \n",
    "            # Make sure to account for the elephant in the overestimate of total value!\n",
    "            # i.e. That the elephant could open any of the unopened valves and have it on for 24 minutes\n",
    "            new_total_value_est = new_value + sum([flows[k] for k in new_can_open]) * 24\n",
    "            if new_total_value_est > max_value:\n",
    "                DFS_me(j, new_t, new_value, new_can_open, history + [names[j]])\n",
    "    \n",
    "    # Now have the elephant plan its route\n",
    "    # (Since it's possible I don't \"complete\" my route, and I leave a valve closed for the elephant to open in the past)\n",
    "    DFS_elephant(vertices['AA'], 26, value, can_open, history + [''])\n",
    "\n",
    "def DFS_elephant(i, t, value, can_open, history):\n",
    "    global max_value, max_history\n",
    "    \n",
    "    # Flag for whether the elephant is done opening valves\n",
    "    # Flip to false if we end up opening a valve from here\n",
    "    done = True\n",
    "    \n",
    "    for j in can_open:\n",
    "        time_to_open = D[i,j] + 1\n",
    "        if time_to_open < t:\n",
    "            new_t = t - time_to_open\n",
    "            new_value = value + flows[j] * new_t\n",
    "            new_can_open = [k for k in can_open if k != j]\n",
    "            \n",
    "            new_total_value_est = new_value + sum([flows[k] for k in new_can_open]) * (new_t - 2)\n",
    "            if new_total_value_est > max_value:\n",
    "                done = False\n",
    "                DFS_elephant(j, new_t, new_value, new_can_open, history + [names[j]])\n",
    "    \n",
    "    # If we opened no valves, the elephant's route is done\n",
    "    # Check if we improved on the best route so far\n",
    "    if done and value > max_value:\n",
    "        max_value = value\n",
    "        max_history = history\n",
    "        print(max_value)\n",
    "\n",
    "DFS_me(vertices['AA'], 26, 0, can_open, [])\n",
    "print(max_value)\n",
    "print(max_history)"
   ]
  },
  {
   "cell_type": "markdown",
   "id": "46587fe1",
   "metadata": {},
   "source": [
    "# Utilities"
   ]
  },
  {
   "cell_type": "code",
   "execution_count": 1,
   "id": "b0f5c2be",
   "metadata": {},
   "outputs": [],
   "source": [
    "# Remove initial/final \\n characters\n",
    "def clean(s):\n",
    "    return s[1:-1]\n",
    "\n",
    "# Split at \\n characters\n",
    "# If there are \\n\\n characters, split into blocks too\n",
    "def split(s, block_char = '\\n\\n', line_char = '\\n'):\n",
    "    out = [block.split(line_char) for block in clean(s).split(block_char)]\n",
    "    if len(out) == 1:\n",
    "        return out[0]\n",
    "    else:\n",
    "        return out\n",
    "\n",
    "# Apply a function(s) to a list or \"block\" data (2-level list)\n",
    "def apply_func(data, func, nested=False):\n",
    "    if not isinstance(func, list):\n",
    "        func = [func]\n",
    "        \n",
    "    def _func(x):\n",
    "        for f in func:\n",
    "            x = f(x)\n",
    "        return x\n",
    "        \n",
    "    if nested:\n",
    "        return [[_func(x) for x in block] for block in data]\n",
    "    else:\n",
    "        return [_func(x) for x in data]\n",
    "\n",
    "# Split, parsing everything as ints\n",
    "def split_int(s):\n",
    "    return apply_func(split(s), int)\n",
    "\n",
    "# Split, parsing everything as float\n",
    "def split_float(s):\n",
    "    return apply_func(split(s), float)"
   ]
  },
  {
   "cell_type": "markdown",
   "id": "2b2e5b0f",
   "metadata": {},
   "source": [
    "# Inputs"
   ]
  },
  {
   "cell_type": "code",
   "execution_count": 2,
   "id": "6a1455c4",
   "metadata": {},
   "outputs": [],
   "source": [
    "t = \"\"\"\n",
    "Valve AA has flow rate=0; tunnels lead to valves DD, II, BB\n",
    "...\n",
    "Valve JJ has flow rate=21; tunnel leads to valve II\n",
    "\"\"\""
   ]
  },
  {
   "cell_type": "code",
   "execution_count": 3,
   "id": "dcf53146",
   "metadata": {},
   "outputs": [],
   "source": [
    "s = \"\"\"\n",
    "Valve WT has flow rate=0; tunnels lead to valves BD, FQ\n",
    "...\n",
    "Valve FQ has flow rate=12; tunnels lead to valves QN, WT, UG, RQ, QM\n",
    "\"\"\""
   ]
  },
  {
   "cell_type": "code",
   "execution_count": null,
   "id": "e7de8682",
   "metadata": {},
   "outputs": [],
   "source": []
  }
 ],
 "metadata": {
  "kernelspec": {
   "display_name": "Python 3 (ipykernel)",
   "language": "python",
   "name": "python3"
  },
  "language_info": {
   "codemirror_mode": {
    "name": "ipython",
    "version": 3
   },
   "file_extension": ".py",
   "mimetype": "text/x-python",
   "name": "python",
   "nbconvert_exporter": "python",
   "pygments_lexer": "ipython3",
   "version": "3.11.1"
  }
 },
 "nbformat": 4,
 "nbformat_minor": 5
}
