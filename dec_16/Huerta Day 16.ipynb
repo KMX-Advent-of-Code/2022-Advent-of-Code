{
 "cells": [
  {
   "cell_type": "code",
   "execution_count": 1,
   "id": "3eece4ab",
   "metadata": {
    "ExecuteTime": {
     "end_time": "2022-12-16T21:43:37.625023Z",
     "start_time": "2022-12-16T21:43:37.511664Z"
    }
   },
   "outputs": [],
   "source": [
    "import networkx as nx\n",
    "from tqdm.notebook import tqdm\n",
    "import re\n",
    "import itertools"
   ]
  },
  {
   "cell_type": "code",
   "execution_count": 2,
   "id": "42e3d475",
   "metadata": {
    "ExecuteTime": {
     "end_time": "2022-12-16T21:43:37.678862Z",
     "start_time": "2022-12-16T21:43:37.627247Z"
    }
   },
   "outputs": [],
   "source": [
    "from helpers import get_input"
   ]
  },
  {
   "cell_type": "code",
   "execution_count": 3,
   "id": "072652e4",
   "metadata": {
    "ExecuteTime": {
     "end_time": "2022-12-16T21:43:37.697882Z",
     "start_time": "2022-12-16T21:43:37.679604Z"
    }
   },
   "outputs": [
    {
     "name": "stdout",
     "output_type": "stream",
     "text": [
      "Retrieved from File marcosh_input_day16.txt\n"
     ]
    }
   ],
   "source": [
    "input_text,input_list = get_input()"
   ]
  },
  {
   "cell_type": "code",
   "execution_count": 4,
   "id": "550c18c1",
   "metadata": {
    "ExecuteTime": {
     "end_time": "2022-12-16T21:43:37.717107Z",
     "start_time": "2022-12-16T21:43:37.700267Z"
    }
   },
   "outputs": [],
   "source": [
    "sample_input = \"\"\"Valve AA has flow rate=0; tunnels lead to valves DD, II, BB\n",
    "Valve BB has flow rate=13; tunnels lead to valves CC, AA\n",
    "Valve CC has flow rate=2; tunnels lead to valves DD, BB\n",
    "Valve DD has flow rate=20; tunnels lead to valves CC, AA, EE\n",
    "Valve EE has flow rate=3; tunnels lead to valves FF, DD\n",
    "Valve FF has flow rate=0; tunnels lead to valves EE, GG\n",
    "Valve GG has flow rate=0; tunnels lead to valves FF, HH\n",
    "Valve HH has flow rate=22; tunnel leads to valve GG\n",
    "Valve II has flow rate=0; tunnels lead to valves AA, JJ\n",
    "Valve JJ has flow rate=21; tunnel leads to valve II\"\"\".split('\\n')"
   ]
  },
  {
   "cell_type": "code",
   "execution_count": 5,
   "id": "0289cda9",
   "metadata": {
    "ExecuteTime": {
     "end_time": "2022-12-16T21:43:37.735243Z",
     "start_time": "2022-12-16T21:43:37.717895Z"
    }
   },
   "outputs": [],
   "source": [
    "def make_graph(sample_input):\n",
    "    valves = [re.findall(r\"[A-Z]{2}\",x) for x in sample_input]\n",
    "    flow_rates = [int(re.findall(r\"\\d+\",x)[0]) for x in sample_input]\n",
    "    flow_rate_dict = {key:val for key,val in zip([x[0] for x in valves],flow_rates) }\n",
    "    G = nx.Graph()\n",
    "    for i, line in enumerate(valves.copy()):\n",
    "        start = line.pop(0)\n",
    "        elist = ([(start,end) for end in line ])\n",
    "        G.add_edges_from(elist)\n",
    "    print(flow_rate_dict)\n",
    "    for node in G:\n",
    "        G.nodes[node]['flow_rate'] = flow_rate_dict[node]\n",
    "    return G"
   ]
  },
  {
   "cell_type": "code",
   "execution_count": null,
   "id": "b9d9fec5",
   "metadata": {
    "ExecuteTime": {
     "end_time": "2022-12-16T18:24:51.125073Z",
     "start_time": "2022-12-16T18:24:51.086761Z"
    }
   },
   "outputs": [],
   "source": []
  },
  {
   "cell_type": "code",
   "execution_count": 6,
   "id": "2b62bdbd",
   "metadata": {
    "ExecuteTime": {
     "end_time": "2022-12-16T21:43:38.374665Z",
     "start_time": "2022-12-16T21:43:38.318929Z"
    }
   },
   "outputs": [],
   "source": [
    "def make_distance_dict(G):\n",
    "    node_list = [x for x in G.nodes if G.nodes[x]['flow_rate'] > 0] + ['AA']\n",
    "    paths = list(itertools.permutations(node_list,2))\n",
    "    distance_dict = {f\"{source}_{target}\": nx.shortest_path_length(G,source=source,target=target) for source,target in paths}\n",
    "    return distance_dict, node_list"
   ]
  },
  {
   "cell_type": "code",
   "execution_count": 7,
   "id": "75909a00",
   "metadata": {
    "ExecuteTime": {
     "end_time": "2022-12-16T21:43:38.728458Z",
     "start_time": "2022-12-16T21:43:38.671352Z"
    }
   },
   "outputs": [],
   "source": [
    "def get_potential_flow(flow,distance,t_remaining):\n",
    "    flow_time = t_remaining - distance - 1 #time to open and time to travel\n",
    "    return flow*flow_time "
   ]
  },
  {
   "cell_type": "code",
   "execution_count": 8,
   "id": "19fecec4",
   "metadata": {
    "ExecuteTime": {
     "end_time": "2022-12-16T21:43:38.992490Z",
     "start_time": "2022-12-16T21:43:38.936160Z"
    }
   },
   "outputs": [],
   "source": [
    "def get_potential_flow_node_pair(source,target,t_remaining):\n",
    "    distance = distance_dict.get(f\"{source}_{target}\",0)\n",
    "    flow = G.nodes[target]['flow_rate']\n",
    "    return get_potential_flow(flow,distance,t_remaining),distance"
   ]
  },
  {
   "cell_type": "code",
   "execution_count": 9,
   "id": "7f5b4400",
   "metadata": {
    "ExecuteTime": {
     "end_time": "2022-12-16T21:43:39.470289Z",
     "start_time": "2022-12-16T21:43:39.432880Z"
    }
   },
   "outputs": [],
   "source": [
    "def compute_flow_for_path(path):\n",
    "    start = 'AA'\n",
    "    total_flow = 0\n",
    "    t = 30\n",
    "    path_list = list(path)\n",
    "\n",
    "    while path_list:\n",
    "        \n",
    "        target = path_list.pop(0)\n",
    "        flow,distance = get_potential_flow_node_pair(start,target,t)\n",
    "\n",
    "        t = t-distance-1\n",
    "        if t <= 0:\n",
    "         #   print('broke early')\n",
    "            break\n",
    "        total_flow += flow\n",
    "        start = target\n",
    "\n",
    "        \n",
    "    return total_flow,path"
   ]
  },
  {
   "cell_type": "code",
   "execution_count": 55,
   "id": "b5ba1ce7",
   "metadata": {
    "ExecuteTime": {
     "end_time": "2022-12-16T21:48:53.018794Z",
     "start_time": "2022-12-16T21:48:52.960854Z"
    }
   },
   "outputs": [],
   "source": [
    "def get_path_total_cost(path,start='AA',existing_cost=0):\n",
    "    path = [start] + list(path)\n",
    "    total_cost = len(path) + existing_cost\n",
    "    for i in range(len(path)-1):\n",
    "      #  print(f\"{path[i]}_{path[i+1]}\")\n",
    "      #  print(distance_dict.get(f\"{path[i]}_{path[i+1]}\",0))\n",
    "        total_cost += distance_dict.get(f\"{path[i]}_{path[i+1]}\",0)\n",
    "    return total_cost\n",
    "\n",
    "def get_path_total_cost2(path,start='AA',existing_cost=0):\n",
    "    \n",
    "    total_cost = existing_cost\n",
    "    total_cost = total_cost + len(path)\n",
    "    if path[0] != start:\n",
    "        path = [start] + list(path)\n",
    "    \n",
    "    #print(f\"turn on cost {total_cost}\")\n",
    "\n",
    "    for i in range(len(path)-1):\n",
    "        new_cost = distance_dict.get(f\"{path[i]}_{path[i+1]}\",0)\n",
    "       # print(f\"{path[i]}_{path[i+1]}\",new_cost)\n",
    "        total_cost += new_cost\n",
    "    return total_cost"
   ]
  },
  {
   "cell_type": "markdown",
   "id": "ad7963e7",
   "metadata": {
    "ExecuteTime": {
     "end_time": "2022-12-16T17:54:23.567285Z",
     "start_time": "2022-12-16T17:54:23.518828Z"
    }
   },
   "source": [
    "## Part 1"
   ]
  },
  {
   "cell_type": "code",
   "execution_count": 11,
   "id": "037395c4",
   "metadata": {
    "ExecuteTime": {
     "end_time": "2022-12-16T21:43:43.029728Z",
     "start_time": "2022-12-16T21:43:42.530759Z"
    }
   },
   "outputs": [
    {
     "name": "stdout",
     "output_type": "stream",
     "text": [
      "{'TZ': 0, 'LH': 0, 'AA': 0, 'GP': 0, 'GN': 0, 'QO': 0, 'JT': 22, 'DF': 0, 'UM': 0, 'KJ': 0, 'UX': 23, 'ZI': 0, 'YF': 0, 'SX': 0, 'KZ': 0, 'IH': 0, 'EL': 0, 'CD': 0, 'OR': 0, 'EK': 19, 'UE': 0, 'WQ': 0, 'XI': 0, 'GO': 0, 'IR': 0, 'WY': 0, 'JH': 0, 'WM': 0, 'OS': 0, 'AE': 0, 'LG': 0, 'IS': 0, 'XU': 0, 'KL': 0, 'LV': 0, 'UI': 0, 'IL': 0, 'XY': 0, 'JF': 15, 'UK': 18, 'CA': 13, 'BL': 0, 'GW': 16, 'CQ': 0, 'HK': 0, 'BO': 4, 'TU': 11, 'AZ': 0, 'FP': 5, 'LE': 14, 'IE': 0, 'NZ': 0, 'DM': 3, 'YH': 21, 'BK': 0, 'LK': 0, 'AR': 20, 'ZJ': 9, 'FR': 0}\n"
     ]
    },
    {
     "data": {
      "image/png": "[encoded data removed]",
      "text/plain": [
       "<Figure size 432x288 with 1 Axes>"
      ]
     },
     "metadata": {},
     "output_type": "display_data"
    }
   ],
   "source": [
    "G = make_graph(input_list)\n",
    "nx.draw(G,with_labels=True)"
   ]
  },
  {
   "cell_type": "code",
   "execution_count": 12,
   "id": "770086e4",
   "metadata": {
    "ExecuteTime": {
     "end_time": "2022-12-16T21:43:46.546589Z",
     "start_time": "2022-12-16T21:43:46.482835Z"
    }
   },
   "outputs": [],
   "source": [
    "distance_dict,node_list = make_distance_dict(G)\n",
    "node_list_no_start = [x for x in G.nodes if G.nodes[x]['flow_rate'] > 0] \n",
    "all_paths = itertools.permutations(node_list_no_start,8)\n"
   ]
  },
  {
   "cell_type": "markdown",
   "id": "1232ecef",
   "metadata": {
    "ExecuteTime": {
     "end_time": "2022-12-16T21:13:10.546050Z",
     "start_time": "2022-12-16T21:13:07.563007Z"
    }
   },
   "source": [
    "I deleted my orig Part 1 accidentally but I was looping through the abov all_paths (250mil)\n",
    "and it took 3-4 minutes, it was this:\n",
    "\n",
    "```python\n",
    "max(compute_flow_for_path(x) for x in tqdm(all_paths))\n",
    "```\n",
    "\n",
    "I got lucky that it happened to be exactly 8 nodes travelled."
   ]
  },
  {
   "cell_type": "markdown",
   "id": "144d66d5",
   "metadata": {
    "ExecuteTime": {
     "end_time": "2022-12-16T21:14:45.950815Z",
     "start_time": "2022-12-16T21:14:45.891349Z"
    }
   },
   "source": [
    "### Part 1 a smarter way"
   ]
  },
  {
   "cell_type": "code",
   "execution_count": 29,
   "id": "1d9894e3",
   "metadata": {
    "ExecuteTime": {
     "end_time": "2022-12-16T21:45:41.727917Z",
     "start_time": "2022-12-16T21:45:39.521380Z"
    }
   },
   "outputs": [],
   "source": [
    "def get_paths_part1(starting_paths, n=3):\n",
    "    cost_list_dict = {}\n",
    "    out = []\n",
    "    for starting_path, existing_cost in starting_paths:\n",
    "        nodes_to_remove = set(starting_path)\n",
    "        start = starting_path[0]\n",
    "        all_paths = itertools.permutations(\n",
    "            set(node_list_no_start).difference(nodes_to_remove), n)\n",
    "        cost_list = [\n",
    "            (starting_path + list(x), cost) for x in all_paths\n",
    "            if (cost := (get_path_total_cost2(\n",
    "                starting_path + list(x), start=start, existing_cost=0))) <= 30\n",
    "        ]\n",
    "        out.extend(cost_list)\n",
    "    return out\n",
    "\n",
    "all_paths = get_paths_part1([(['AA'], 0)], n=4)  ## star with itertools, then prune and add on paths that aren't too long\n",
    "more = all_paths\n",
    "for i in range(4):\n",
    "    more = get_paths_part1(more,1)\n",
    "    all_paths.extend(more.copy())\n"
   ]
  },
  {
   "cell_type": "code",
   "execution_count": 30,
   "id": "b9e4bec2",
   "metadata": {
    "ExecuteTime": {
     "end_time": "2022-12-16T21:45:47.248950Z",
     "start_time": "2022-12-16T21:45:47.169063Z"
    }
   },
   "outputs": [],
   "source": [
    "just_paths = [x[0][1:] for x in all_paths] # remove the AA at the start"
   ]
  },
  {
   "cell_type": "code",
   "execution_count": 31,
   "id": "839ccad7",
   "metadata": {
    "ExecuteTime": {
     "end_time": "2022-12-16T21:45:47.669236Z",
     "start_time": "2022-12-16T21:45:47.452755Z"
    }
   },
   "outputs": [
    {
     "data": {
      "text/plain": [
       "148318"
      ]
     },
     "execution_count": 31,
     "metadata": {},
     "output_type": "execute_result"
    }
   ],
   "source": [
    "just_paths = [x for x in just_paths if get_path_total_cost(x)<=30]\n",
    "len(just_paths)"
   ]
  },
  {
   "cell_type": "code",
   "execution_count": 32,
   "id": "9f1d40a4",
   "metadata": {
    "ExecuteTime": {
     "end_time": "2022-12-16T21:45:48.697839Z",
     "start_time": "2022-12-16T21:45:48.179116Z"
    }
   },
   "outputs": [],
   "source": [
    "res = [compute_flow_for_path(x) for x in just_paths]"
   ]
  },
  {
   "cell_type": "code",
   "execution_count": 33,
   "id": "743b0a03",
   "metadata": {
    "ExecuteTime": {
     "end_time": "2022-12-16T21:45:52.062415Z",
     "start_time": "2022-12-16T21:45:51.999374Z"
    }
   },
   "outputs": [
    {
     "data": {
      "text/plain": [
       "(1720, ['CA', 'JF', 'LE', 'FP', 'YH', 'UX', 'AR', 'DM'])"
      ]
     },
     "execution_count": 33,
     "metadata": {},
     "output_type": "execute_result"
    }
   ],
   "source": [
    "max(res)"
   ]
  },
  {
   "cell_type": "markdown",
   "id": "fef07206",
   "metadata": {
    "ExecuteTime": {
     "end_time": "2022-12-16T18:20:18.790592Z",
     "start_time": "2022-12-16T18:20:18.653250Z"
    }
   },
   "source": [
    "## Part 2"
   ]
  },
  {
   "cell_type": "code",
   "execution_count": 34,
   "id": "2cf7368e",
   "metadata": {
    "ExecuteTime": {
     "end_time": "2022-12-16T21:45:54.132286Z",
     "start_time": "2022-12-16T21:45:54.073214Z"
    }
   },
   "outputs": [],
   "source": [
    "def compute_flow_for_path2(path):\n",
    "    start = 'AA'\n",
    "    total_flow = 0\n",
    "    t = 26\n",
    "    path_list = list(path)\n",
    "    #print(path_list)\n",
    "\n",
    "    while path_list:\n",
    "        \n",
    "        target = path_list.pop(0)\n",
    "        #print(start,target)\n",
    "\n",
    "        flow,distance = get_potential_flow_node_pair(start,target,t)\n",
    "        #print(t,distance,1)\n",
    "        t = t-distance-1\n",
    "        if t <= 0:\n",
    "         #   print('broke early')\n",
    "            break\n",
    "        #print(target,flow,distance,t)\n",
    "        total_flow += flow\n",
    "        start = target\n",
    "\n",
    "        \n",
    "    return total_flow,path"
   ]
  },
  {
   "cell_type": "code",
   "execution_count": 67,
   "id": "10ef1cc0",
   "metadata": {
    "ExecuteTime": {
     "end_time": "2022-12-16T21:49:24.364436Z",
     "start_time": "2022-12-16T21:49:22.402210Z"
    }
   },
   "outputs": [],
   "source": [
    "def get_paths(starting_paths, n=3):\n",
    "    \"\"\"start with itertools, trim, and keep going\"\"\"\n",
    "    cost_list_dict = {}\n",
    "    out = []\n",
    "    for starting_path, existing_cost in starting_paths:\n",
    "        nodes_to_remove = set(starting_path)\n",
    "        start = starting_path[0]\n",
    "        all_paths = itertools.permutations(\n",
    "            set(node_list_no_start).difference(nodes_to_remove), n)\n",
    "        cost_list = [\n",
    "            (starting_path + list(x), cost) for x in all_paths\n",
    "            if (cost := (get_path_total_cost2(\n",
    "                starting_path + list(x), start=start, existing_cost=0))) <= 26\n",
    "        ]\n",
    "        out.extend(cost_list)\n",
    "    return out\n",
    "\n",
    "\n",
    "\n",
    "all_paths = get_paths_part1([(['AA'], 0)], n=4)  ## star with itertools, then prune and add on paths that aren't too long\n",
    "more = all_paths\n",
    "for i in range(4):\n",
    "    more = get_paths_part1(more,1)\n",
    "    all_paths.extend(more.copy())\n",
    "\n",
    "\n",
    "#all_paths = out + more + yet_more + even_more + still_more  ##Cleaned this up in part 2"
   ]
  },
  {
   "cell_type": "code",
   "execution_count": 68,
   "id": "4bb1d82e",
   "metadata": {
    "ExecuteTime": {
     "end_time": "2022-12-16T21:49:24.844020Z",
     "start_time": "2022-12-16T21:49:24.760692Z"
    }
   },
   "outputs": [],
   "source": [
    "just_paths = [x[0][1:] for x in all_paths]"
   ]
  },
  {
   "cell_type": "code",
   "execution_count": 75,
   "id": "d986076b",
   "metadata": {
    "ExecuteTime": {
     "end_time": "2022-12-16T21:50:15.576102Z",
     "start_time": "2022-12-16T21:50:15.518596Z"
    }
   },
   "outputs": [
    {
     "data": {
      "text/plain": [
       "26"
      ]
     },
     "execution_count": 75,
     "metadata": {},
     "output_type": "execute_result"
    }
   ],
   "source": [
    "get_path_total_cost2(all_paths[0][0])"
   ]
  },
  {
   "cell_type": "code",
   "execution_count": 76,
   "id": "65cdb89c",
   "metadata": {
    "ExecuteTime": {
     "end_time": "2022-12-16T21:50:42.036313Z",
     "start_time": "2022-12-16T21:50:41.979693Z"
    }
   },
   "outputs": [
    {
     "data": {
      "text/plain": [
       "148318"
      ]
     },
     "execution_count": 76,
     "metadata": {},
     "output_type": "execute_result"
    }
   ],
   "source": [
    "len(just_paths) ## hmm, thought this was shorter"
   ]
  },
  {
   "cell_type": "code",
   "execution_count": 77,
   "id": "8a1aa66c",
   "metadata": {
    "ExecuteTime": {
     "end_time": "2022-12-16T21:50:43.173767Z",
     "start_time": "2022-12-16T21:50:42.498769Z"
    }
   },
   "outputs": [
    {
     "data": {
      "application/vnd.jupyter.widget-view+json": {
       "model_id": "061fa141a0c74a549cb80f7986b49fdf",
       "version_major": 2,
       "version_minor": 0
      },
      "text/plain": [
       "  0%|          | 0/148318 [00:00<?, ?it/s]"
      ]
     },
     "metadata": {},
     "output_type": "display_data"
    },
    {
     "data": {
      "text/plain": [
       "(1307, ['TU', 'UK', 'EK', 'GW', 'JT'])"
      ]
     },
     "execution_count": 77,
     "metadata": {},
     "output_type": "execute_result"
    }
   ],
   "source": [
    "out = [compute_flow_for_path2(path) for path in tqdm(just_paths)]  ## get all scores and paths\n",
    "\n",
    "top = sorted(out,key=lambda x: -x[0])[:1000] ## JUST LOOK AT TOP 1000\n",
    "\n",
    "top[0]\n",
    "\n",
    "my_totals = []\n",
    "for path1,path2 in itertools.combinations(top,2):\n",
    "    if not (blargh := set(path1[1]).intersection(path2[1])):  #grab pairs that have no overlap\n",
    "        my_totals.append((path1[0]+path2[0],path1,path2))  #get pair scores\n"
   ]
  },
  {
   "cell_type": "code",
   "execution_count": 78,
   "id": "7dc36198",
   "metadata": {
    "ExecuteTime": {
     "end_time": "2022-12-16T21:50:43.448206Z",
     "start_time": "2022-12-16T21:50:43.386589Z"
    }
   },
   "outputs": [
    {
     "data": {
      "text/plain": [
       "(2582,\n",
       " (1307, ['TU', 'UK', 'EK', 'GW', 'JT']),\n",
       " (1275, ['CA', 'YH', 'UX', 'AR', 'FP', 'LE']))"
      ]
     },
     "execution_count": 78,
     "metadata": {},
     "output_type": "execute_result"
    }
   ],
   "source": [
    "my_totals[0]"
   ]
  },
  {
   "cell_type": "code",
   "execution_count": null,
   "id": "2ddf1bc9",
   "metadata": {},
   "outputs": [],
   "source": []
  },
  {
   "cell_type": "code",
   "execution_count": null,
   "id": "752e2ebf",
   "metadata": {},
   "outputs": [],
   "source": []
  }
 ],
 "metadata": {
  "kernelspec": {
   "display_name": "Python 3 (ipykernel)",
   "language": "python",
   "name": "python3"
  },
  "language_info": {
   "codemirror_mode": {
    "name": "ipython",
    "version": 3
   },
   "file_extension": ".py",
   "mimetype": "text/x-python",
   "name": "python",
   "nbconvert_exporter": "python",
   "pygments_lexer": "ipython3",
   "version": "3.10.6"
  },
  "toc": {
   "base_numbering": 1,
   "nav_menu": {},
   "number_sections": true,
   "sideBar": true,
   "skip_h1_title": false,
   "title_cell": "Table of Contents",
   "title_sidebar": "Contents",
   "toc_cell": false,
   "toc_position": {},
   "toc_section_display": true,
   "toc_window_display": false
  }
 },
 "nbformat": 4,
 "nbformat_minor": 5
}
