{
 "cells": [
  {
   "cell_type": "markdown",
   "id": "e9f1203a-b5d6-4b71-b46b-ad20326351e5",
   "metadata": {
    "execution": {
     "iopub.execute_input": "2022-12-03T21:57:42.510097Z",
     "iopub.status.busy": "2022-12-03T21:57:42.510097Z",
     "iopub.status.idle": "2022-12-03T21:57:42.545004Z",
     "shell.execute_reply": "2022-12-03T21:57:42.544036Z",
     "shell.execute_reply.started": "2022-12-03T21:57:42.510097Z"
    }
   },
   "source": [
    "One Elf has the important job of loading all of the rucksacks with supplies for the jungle journey. Unfortunately, that Elf didn't quite follow the packing instructions, and so a few items now need to be rearranged.\n",
    "\n",
    "Each rucksack has two large compartments. All items of a given type are meant to go into exactly one of the two compartments. The Elf that did the packing failed to follow this rule for exactly one item type per rucksack.\n",
    "\n",
    "The Elves have made a list of all of the items currently in each rucksack (your puzzle input), but they need your help finding the errors. Every item type is identified by a single lowercase or uppercase letter (that is, a and A refer to different types of items).\n",
    "\n",
    "The list of items for each rucksack is given as characters all on a single line. A given rucksack always has the same number of items in each of its two compartments, so the first half of the characters represent items in the first compartment, while the second half of the characters represent items in the second compartment.\n",
    "\n",
    "For example, suppose you have the following list of contents from six rucksacks:\n",
    "\n",
    "vJrwpWtwJgWrhcsFMMfFFhFp\n",
    "jqHRNqRjqzjGDLGLrsFMfFZSrLrFZsSL\n",
    "PmmdzqPrVvPwwTWBwg\n",
    "wMqvLMZHhHMvwLHjbvcjnnSBnvTQFn\n",
    "ttgJtRGJQctTZtZT\n",
    "CrZsJsPPZsGzwwsLwLmpwMDw\n",
    "\n",
    "    The first rucksack contains the items vJrwpWtwJgWrhcsFMMfFFhFp, which means its first compartment contains the items vJrwpWtwJgWr, while the second compartment contains the items hcsFMMfFFhFp. The only item type that appears in both compartments is lowercase p.\n",
    "    The second rucksack's compartments contain jqHRNqRjqzjGDLGL and rsFMfFZSrLrFZsSL. The only item type that appears in both compartments is uppercase L.\n",
    "    The third rucksack's compartments contain PmmdzqPrV and vPwwTWBwg; the only common item type is uppercase P.\n",
    "    The fourth rucksack's compartments only share item type v.\n",
    "    The fifth rucksack's compartments only share item type t.\n",
    "    The sixth rucksack's compartments only share item type s.\n",
    "\n",
    "To help prioritize item rearrangement, every item type can be converted to a priority:\n",
    "\n",
    "    Lowercase item types a through z have priorities 1 through 26.\n",
    "    Uppercase item types A through Z have priorities 27 through 52.\n",
    "\n",
    "In the above example, the priority of the item type that appears in both compartments of each rucksack is 16 (p), 38 (L), 42 (P), 22 (v), 20 (t), and 19 (s); the sum of these is 157.\n",
    "\n",
    "Find the item type that appears in both compartments of each rucksack. What is the sum of the priorities of those item types?"
   ]
  },
  {
   "cell_type": "code",
   "execution_count": 95,
   "id": "abc4ef73-2a12-450c-9f7d-2e33920647c4",
   "metadata": {
    "execution": {
     "iopub.execute_input": "2022-12-03T22:26:29.113566Z",
     "iopub.status.busy": "2022-12-03T22:26:29.113566Z",
     "iopub.status.idle": "2022-12-03T22:26:29.127558Z",
     "shell.execute_reply": "2022-12-03T22:26:29.126533Z",
     "shell.execute_reply.started": "2022-12-03T22:26:29.113566Z"
    },
    "tags": []
   },
   "outputs": [],
   "source": [
    "import pandas as pd\n",
    "import math"
   ]
  },
  {
   "cell_type": "code",
   "execution_count": 5,
   "id": "d1a0dbf9-6bb1-4f31-9ea3-236eac26fa6b",
   "metadata": {
    "execution": {
     "iopub.execute_input": "2022-12-03T22:00:37.477156Z",
     "iopub.status.busy": "2022-12-03T22:00:37.476153Z",
     "iopub.status.idle": "2022-12-03T22:00:37.486129Z",
     "shell.execute_reply": "2022-12-03T22:00:37.485142Z",
     "shell.execute_reply.started": "2022-12-03T22:00:37.477156Z"
    },
    "tags": []
   },
   "outputs": [],
   "source": [
    "def open_file():\n",
    "    \"\"\"open the input file\"\"\"\n",
    "    with open('chris_davis_input_day3.txt') as f:\n",
    "        input_data = f.readlines()\n",
    "    return input_data"
   ]
  },
  {
   "cell_type": "code",
   "execution_count": 29,
   "id": "10af095b-10c2-46ad-800a-a9b3e03441db",
   "metadata": {
    "execution": {
     "iopub.execute_input": "2022-12-03T22:05:49.066314Z",
     "iopub.status.busy": "2022-12-03T22:05:49.066314Z",
     "iopub.status.idle": "2022-12-03T22:05:49.075267Z",
     "shell.execute_reply": "2022-12-03T22:05:49.074271Z",
     "shell.execute_reply.started": "2022-12-03T22:05:49.066314Z"
    },
    "tags": []
   },
   "outputs": [],
   "source": [
    "def split_data(input_data):\n",
    "    \"\"\"Split the data into columns for ease of use\"\"\"\n",
    "    compartment_A = []\n",
    "    compartment_B = []\n",
    "    for row in input_data:\n",
    "        stripped_row = row.strip()\n",
    "        compartment_A.append(stripped_row[:int(len(stripped_row)/2)])\n",
    "        compartment_B.append(stripped_row[int(len(stripped_row)/2):])\n",
    "    return compartment_A, compartment_B"
   ]
  },
  {
   "cell_type": "code",
   "execution_count": 38,
   "id": "b8bffb6a-5d95-4789-aa8e-c99370528bcc",
   "metadata": {
    "execution": {
     "iopub.execute_input": "2022-12-03T22:07:53.454350Z",
     "iopub.status.busy": "2022-12-03T22:07:53.454350Z",
     "iopub.status.idle": "2022-12-03T22:07:53.470307Z",
     "shell.execute_reply": "2022-12-03T22:07:53.469310Z",
     "shell.execute_reply.started": "2022-12-03T22:07:53.454350Z"
    }
   },
   "outputs": [],
   "source": [
    "def find_thing_in_both_packs(compartment_A, compartment_B):\n",
    "    \"\"\"Determine which item(s) are shared in each pack\"\"\"\n",
    "    shared_list = [x for x in compartment_A if x in compartment_B]\n",
    "    return shared_list"
   ]
  },
  {
   "cell_type": "code",
   "execution_count": 83,
   "id": "20f22ef1-760c-4225-827b-71462f96d820",
   "metadata": {
    "execution": {
     "iopub.execute_input": "2022-12-03T22:22:29.925083Z",
     "iopub.status.busy": "2022-12-03T22:22:29.925083Z",
     "iopub.status.idle": "2022-12-03T22:22:29.942014Z",
     "shell.execute_reply": "2022-12-03T22:22:29.941037Z",
     "shell.execute_reply.started": "2022-12-03T22:22:29.925083Z"
    },
    "tags": []
   },
   "outputs": [],
   "source": [
    "def get_item_priority(duplicate_item_list):\n",
    "    \"\"\"Determine the priority of the item in each pack\"\"\"\n",
    "    item = set(duplicate_item_list).pop()\n",
    "    \n",
    "    if item.islower():\n",
    "        return determine_priority(item, 'a', 1)\n",
    "    else:\n",
    "        return determine_priority(item, 'A', 27)"
   ]
  },
  {
   "cell_type": "code",
   "execution_count": 84,
   "id": "e43e6a24-2378-4848-9492-dea1e36699cb",
   "metadata": {
    "execution": {
     "iopub.execute_input": "2022-12-03T22:23:00.123832Z",
     "iopub.status.busy": "2022-12-03T22:23:00.122835Z",
     "iopub.status.idle": "2022-12-03T22:23:00.142780Z",
     "shell.execute_reply": "2022-12-03T22:23:00.141785Z",
     "shell.execute_reply.started": "2022-12-03T22:23:00.123832Z"
    },
    "tags": []
   },
   "outputs": [],
   "source": [
    "def determine_priority(letter, start_letter, start_number):\n",
    "    \"\"\"Determine the priority of a letter, using the given rules for lower- and uppercase\"\"\"\n",
    "    return ord(letter) - ord(start_letter) + start_number"
   ]
  },
  {
   "cell_type": "code",
   "execution_count": 75,
   "id": "59c02b5f-88d2-4897-8e52-4ce7fc999dbf",
   "metadata": {
    "execution": {
     "iopub.execute_input": "2022-12-03T22:20:17.204762Z",
     "iopub.status.busy": "2022-12-03T22:20:17.204762Z",
     "iopub.status.idle": "2022-12-03T22:20:17.211742Z",
     "shell.execute_reply": "2022-12-03T22:20:17.210743Z",
     "shell.execute_reply.started": "2022-12-03T22:20:17.204762Z"
    },
    "tags": []
   },
   "outputs": [],
   "source": [
    "input_data = open_file()"
   ]
  },
  {
   "cell_type": "code",
   "execution_count": 76,
   "id": "302a17ba-d9e5-4d2e-8a35-2364db52e730",
   "metadata": {
    "execution": {
     "iopub.execute_input": "2022-12-03T22:20:17.331307Z",
     "iopub.status.busy": "2022-12-03T22:20:17.330312Z",
     "iopub.status.idle": "2022-12-03T22:20:17.350238Z",
     "shell.execute_reply": "2022-12-03T22:20:17.349231Z",
     "shell.execute_reply.started": "2022-12-03T22:20:17.331307Z"
    },
    "tags": []
   },
   "outputs": [],
   "source": [
    "compartment_A, compartment_B = split_data(input_data)"
   ]
  },
  {
   "cell_type": "code",
   "execution_count": 77,
   "id": "4b7e19b3-268d-4d9a-be30-59f5ed911c93",
   "metadata": {
    "execution": {
     "iopub.execute_input": "2022-12-03T22:20:17.478592Z",
     "iopub.status.busy": "2022-12-03T22:20:17.478592Z",
     "iopub.status.idle": "2022-12-03T22:20:17.490560Z",
     "shell.execute_reply": "2022-12-03T22:20:17.489561Z",
     "shell.execute_reply.started": "2022-12-03T22:20:17.478592Z"
    },
    "tags": []
   },
   "outputs": [],
   "source": [
    "pack_df = pd.DataFrame({'compartment_A': compartment_A, 'compartment_B': compartment_B})"
   ]
  },
  {
   "cell_type": "code",
   "execution_count": 78,
   "id": "e1922fdb-13f6-48f1-ab5d-bb17db593909",
   "metadata": {
    "execution": {
     "iopub.execute_input": "2022-12-03T22:20:17.630419Z",
     "iopub.status.busy": "2022-12-03T22:20:17.629422Z",
     "iopub.status.idle": "2022-12-03T22:20:17.644380Z",
     "shell.execute_reply": "2022-12-03T22:20:17.643384Z",
     "shell.execute_reply.started": "2022-12-03T22:20:17.630419Z"
    },
    "tags": []
   },
   "outputs": [],
   "source": [
    "pack_df['shared_items'] = pack_df.apply(lambda x: find_thing_in_both_packs(x['compartment_A'], x['compartment_B']), axis=1)"
   ]
  },
  {
   "cell_type": "code",
   "execution_count": 79,
   "id": "329dc865-4de9-4b2f-beb1-93187018a927",
   "metadata": {
    "execution": {
     "iopub.execute_input": "2022-12-03T22:20:17.795813Z",
     "iopub.status.busy": "2022-12-03T22:20:17.794817Z",
     "iopub.status.idle": "2022-12-03T22:20:17.816762Z",
     "shell.execute_reply": "2022-12-03T22:20:17.815771Z",
     "shell.execute_reply.started": "2022-12-03T22:20:17.795813Z"
    },
    "tags": []
   },
   "outputs": [
    {
     "data": {
      "text/html": [
       "<div>\n",
       "<style scoped>\n",
       "    .dataframe tbody tr th:only-of-type {\n",
       "        vertical-align: middle;\n",
       "    }\n",
       "\n",
       "    .dataframe tbody tr th {\n",
       "        vertical-align: top;\n",
       "    }\n",
       "\n",
       "    .dataframe thead th {\n",
       "        text-align: right;\n",
       "    }\n",
       "</style>\n",
       "<table border=\"1\" class=\"dataframe\">\n",
       "  <thead>\n",
       "    <tr style=\"text-align: right;\">\n",
       "      <th></th>\n",
       "      <th>compartment_A</th>\n",
       "      <th>compartment_B</th>\n",
       "      <th>shared_items</th>\n",
       "    </tr>\n",
       "  </thead>\n",
       "  <tbody>\n",
       "    <tr>\n",
       "      <th>0</th>\n",
       "      <td>rNZNWvMZZmDDmwqNdZrWTq</td>\n",
       "      <td>hJMhhgzggBhzBJBchQzzJJ</td>\n",
       "      <td>[M]</td>\n",
       "    </tr>\n",
       "    <tr>\n",
       "      <th>1</th>\n",
       "      <td>pHlSVbVbFH</td>\n",
       "      <td>gHBzzhQHqg</td>\n",
       "      <td>[H, H]</td>\n",
       "    </tr>\n",
       "    <tr>\n",
       "      <th>2</th>\n",
       "      <td>nVsqGpbbt</td>\n",
       "      <td>DtTNmrmfZ</td>\n",
       "      <td>[t]</td>\n",
       "    </tr>\n",
       "    <tr>\n",
       "      <th>3</th>\n",
       "      <td>zrBMnbzBchshsttfbMRB</td>\n",
       "      <td>gmJggmmCHGgDhDgNDGHL</td>\n",
       "      <td>[h, h]</td>\n",
       "    </tr>\n",
       "    <tr>\n",
       "      <th>4</th>\n",
       "      <td>VddZqQqdvSQM</td>\n",
       "      <td>JHJGdCDCDDmH</td>\n",
       "      <td>[d, d, d]</td>\n",
       "    </tr>\n",
       "    <tr>\n",
       "      <th>...</th>\n",
       "      <td>...</td>\n",
       "      <td>...</td>\n",
       "      <td>...</td>\n",
       "    </tr>\n",
       "    <tr>\n",
       "      <th>295</th>\n",
       "      <td>SNNvcGNSZSTDtGDccz</td>\n",
       "      <td>JJBmzbjBJjmppbppms</td>\n",
       "      <td>[z]</td>\n",
       "    </tr>\n",
       "    <tr>\n",
       "      <th>296</th>\n",
       "      <td>cDtfDVNTGGGNN</td>\n",
       "      <td>rwLLwHdqLhfLs</td>\n",
       "      <td>[f]</td>\n",
       "    </tr>\n",
       "    <tr>\n",
       "      <th>297</th>\n",
       "      <td>ngghZCChzh</td>\n",
       "      <td>NjjNbbJfdh</td>\n",
       "      <td>[h, h, h]</td>\n",
       "    </tr>\n",
       "    <tr>\n",
       "      <th>298</th>\n",
       "      <td>slPPRLlBBlVRMvRllLL</td>\n",
       "      <td>HvcpcdFfJjvdFpfHfcZ</td>\n",
       "      <td>[v]</td>\n",
       "    </tr>\n",
       "    <tr>\n",
       "      <th>299</th>\n",
       "      <td>RDZPZBLmPVWDVr</td>\n",
       "      <td>QtnzSTmgTwmTSg</td>\n",
       "      <td>[m]</td>\n",
       "    </tr>\n",
       "  </tbody>\n",
       "</table>\n",
       "<p>300 rows × 3 columns</p>\n",
       "</div>"
      ],
      "text/plain": [
       "              compartment_A           compartment_B shared_items\n",
       "0    rNZNWvMZZmDDmwqNdZrWTq  hJMhhgzggBhzBJBchQzzJJ          [M]\n",
       "1                pHlSVbVbFH              gHBzzhQHqg       [H, H]\n",
       "2                 nVsqGpbbt               DtTNmrmfZ          [t]\n",
       "3      zrBMnbzBchshsttfbMRB    gmJggmmCHGgDhDgNDGHL       [h, h]\n",
       "4              VddZqQqdvSQM            JHJGdCDCDDmH    [d, d, d]\n",
       "..                      ...                     ...          ...\n",
       "295      SNNvcGNSZSTDtGDccz      JJBmzbjBJjmppbppms          [z]\n",
       "296           cDtfDVNTGGGNN           rwLLwHdqLhfLs          [f]\n",
       "297              ngghZCChzh              NjjNbbJfdh    [h, h, h]\n",
       "298     slPPRLlBBlVRMvRllLL     HvcpcdFfJjvdFpfHfcZ          [v]\n",
       "299          RDZPZBLmPVWDVr          QtnzSTmgTwmTSg          [m]\n",
       "\n",
       "[300 rows x 3 columns]"
      ]
     },
     "execution_count": 79,
     "metadata": {},
     "output_type": "execute_result"
    }
   ],
   "source": [
    "pack_df"
   ]
  },
  {
   "cell_type": "code",
   "execution_count": 80,
   "id": "afbfcd0d-1429-483f-840c-dc8304e5b46e",
   "metadata": {
    "execution": {
     "iopub.execute_input": "2022-12-03T22:20:17.929779Z",
     "iopub.status.busy": "2022-12-03T22:20:17.928804Z",
     "iopub.status.idle": "2022-12-03T22:20:17.941742Z",
     "shell.execute_reply": "2022-12-03T22:20:17.940745Z",
     "shell.execute_reply.started": "2022-12-03T22:20:17.929779Z"
    },
    "tags": []
   },
   "outputs": [],
   "source": [
    "pack_df['shared_item_priority'] = pack_df['shared_items'].apply(get_item_priority)"
   ]
  },
  {
   "cell_type": "code",
   "execution_count": 82,
   "id": "abd652ca-f439-4d33-ad86-78f68c3a8a29",
   "metadata": {
    "execution": {
     "iopub.execute_input": "2022-12-03T22:21:07.357221Z",
     "iopub.status.busy": "2022-12-03T22:21:07.356221Z",
     "iopub.status.idle": "2022-12-03T22:21:07.369186Z",
     "shell.execute_reply": "2022-12-03T22:21:07.368216Z",
     "shell.execute_reply.started": "2022-12-03T22:21:07.357221Z"
    },
    "tags": []
   },
   "outputs": [
    {
     "data": {
      "text/plain": [
       "7691"
      ]
     },
     "execution_count": 82,
     "metadata": {},
     "output_type": "execute_result"
    }
   ],
   "source": [
    "pack_df.shared_item_priority.sum()"
   ]
  },
  {
   "cell_type": "markdown",
   "id": "7a64faae-b887-4a68-adff-868c99071c20",
   "metadata": {},
   "source": [
    "--- Part Two ---\n",
    "\n",
    "As you finish identifying the misplaced items, the Elves come to you with another issue.\n",
    "\n",
    "For safety, the Elves are divided into groups of three. Every Elf carries a badge that identifies their group. For efficiency, within each group of three Elves, the badge is the only item type carried by all three Elves. That is, if a group's badge is item type B, then all three Elves will have item type B somewhere in their rucksack, and at most two of the Elves will be carrying any other item type.\n",
    "\n",
    "The problem is that someone forgot to put this year's updated authenticity sticker on the badges. All of the badges need to be pulled out of the rucksacks so the new authenticity stickers can be attached.\n",
    "\n",
    "Additionally, nobody wrote down which item type corresponds to each group's badges. The only way to tell which item type is the right one is by finding the one item type that is common between all three Elves in each group.\n",
    "\n",
    "Every set of three lines in your list corresponds to a single group, but each group can have a different badge item type. So, in the above example, the first group's rucksacks are the first three lines:\n",
    "\n",
    "vJrwpWtwJgWrhcsFMMfFFhFp\n",
    "jqHRNqRjqzjGDLGLrsFMfFZSrLrFZsSL\n",
    "PmmdzqPrVvPwwTWBwg\n",
    "\n",
    "And the second group's rucksacks are the next three lines:\n",
    "\n",
    "wMqvLMZHhHMvwLHjbvcjnnSBnvTQFn\n",
    "ttgJtRGJQctTZtZT\n",
    "CrZsJsPPZsGzwwsLwLmpwMDw\n",
    "\n",
    "In the first group, the only item type that appears in all three rucksacks is lowercase r; this must be their badges. In the second group, their badge item type must be Z.\n",
    "\n",
    "Priorities for these items must still be found to organize the sticker attachment efforts: here, they are 18 (r) for the first group and 52 (Z) for the second group. The sum of these is 70.\n",
    "\n",
    "Find the item type that corresponds to the badges of each three-Elf group. What is the sum of the priorities of those item types?\n"
   ]
  },
  {
   "cell_type": "code",
   "execution_count": 116,
   "id": "af1d1860-0272-40b0-a0a6-d3a6a054e588",
   "metadata": {
    "execution": {
     "iopub.execute_input": "2022-12-03T22:39:40.409148Z",
     "iopub.status.busy": "2022-12-03T22:39:40.408128Z",
     "iopub.status.idle": "2022-12-03T22:39:40.422091Z",
     "shell.execute_reply": "2022-12-03T22:39:40.422091Z",
     "shell.execute_reply.started": "2022-12-03T22:39:40.409148Z"
    },
    "tags": []
   },
   "outputs": [],
   "source": [
    "def get_item_shared_in_three_packs(list_of_packs):\n",
    "    \"\"\"get item shared in three packs, as a list\"\"\"\n",
    "    shared_items_in_first_packs = find_thing_in_both_packs(list_of_packs[0], list_of_packs[1])\n",
    "    return find_thing_in_both_packs(shared_items_in_first_packs, list_of_packs[2])"
   ]
  },
  {
   "cell_type": "code",
   "execution_count": 85,
   "id": "35d47f26-6d2f-4bc0-aafb-a003664d7fff",
   "metadata": {
    "execution": {
     "iopub.execute_input": "2022-12-03T22:24:54.688291Z",
     "iopub.status.busy": "2022-12-03T22:24:54.688291Z",
     "iopub.status.idle": "2022-12-03T22:24:54.708216Z",
     "shell.execute_reply": "2022-12-03T22:24:54.707245Z",
     "shell.execute_reply.started": "2022-12-03T22:24:54.688291Z"
    }
   },
   "outputs": [],
   "source": [
    "pack_df['full_pack'] = pack_df['compartment_A'] + pack_df['compartment_B']"
   ]
  },
  {
   "cell_type": "code",
   "execution_count": 92,
   "id": "17b2253d-9222-4c5a-81fb-a87d1cedc8fe",
   "metadata": {
    "execution": {
     "iopub.execute_input": "2022-12-03T22:25:43.868353Z",
     "iopub.status.busy": "2022-12-03T22:25:43.868353Z",
     "iopub.status.idle": "2022-12-03T22:25:43.877329Z",
     "shell.execute_reply": "2022-12-03T22:25:43.877329Z",
     "shell.execute_reply.started": "2022-12-03T22:25:43.868353Z"
    },
    "tags": []
   },
   "outputs": [],
   "source": [
    "pack_df = pack_df.reset_index()"
   ]
  },
  {
   "cell_type": "code",
   "execution_count": 97,
   "id": "5f675f64-c59d-4af1-819e-bc5ba1d580f5",
   "metadata": {
    "execution": {
     "iopub.execute_input": "2022-12-03T22:26:57.832668Z",
     "iopub.status.busy": "2022-12-03T22:26:57.831671Z",
     "iopub.status.idle": "2022-12-03T22:26:57.846632Z",
     "shell.execute_reply": "2022-12-03T22:26:57.845635Z",
     "shell.execute_reply.started": "2022-12-03T22:26:57.832668Z"
    },
    "tags": []
   },
   "outputs": [],
   "source": [
    "pack_df['elf_group'] = pack_df['index'].apply(lambda x: math.floor(x / 3.0))"
   ]
  },
  {
   "cell_type": "code",
   "execution_count": 100,
   "id": "c96ea773-26c9-452d-8ccc-21b3e9b3215f",
   "metadata": {
    "execution": {
     "iopub.execute_input": "2022-12-03T22:32:19.373340Z",
     "iopub.status.busy": "2022-12-03T22:32:19.373340Z",
     "iopub.status.idle": "2022-12-03T22:32:19.395278Z",
     "shell.execute_reply": "2022-12-03T22:32:19.395278Z",
     "shell.execute_reply.started": "2022-12-03T22:32:19.373340Z"
    }
   },
   "outputs": [
    {
     "data": {
      "text/html": [
       "<div>\n",
       "<style scoped>\n",
       "    .dataframe tbody tr th:only-of-type {\n",
       "        vertical-align: middle;\n",
       "    }\n",
       "\n",
       "    .dataframe tbody tr th {\n",
       "        vertical-align: top;\n",
       "    }\n",
       "\n",
       "    .dataframe thead th {\n",
       "        text-align: right;\n",
       "    }\n",
       "</style>\n",
       "<table border=\"1\" class=\"dataframe\">\n",
       "  <thead>\n",
       "    <tr style=\"text-align: right;\">\n",
       "      <th></th>\n",
       "      <th>index</th>\n",
       "      <th>compartment_A</th>\n",
       "      <th>compartment_B</th>\n",
       "      <th>shared_items</th>\n",
       "      <th>shared_item_priority</th>\n",
       "      <th>full_pack</th>\n",
       "      <th>elf_group</th>\n",
       "    </tr>\n",
       "  </thead>\n",
       "  <tbody>\n",
       "    <tr>\n",
       "      <th>0</th>\n",
       "      <td>0</td>\n",
       "      <td>rNZNWvMZZmDDmwqNdZrWTq</td>\n",
       "      <td>hJMhhgzggBhzBJBchQzzJJ</td>\n",
       "      <td>[M]</td>\n",
       "      <td>39</td>\n",
       "      <td>rNZNWvMZZmDDmwqNdZrWTqhJMhhgzggBhzBJBchQzzJJ</td>\n",
       "      <td>0</td>\n",
       "    </tr>\n",
       "    <tr>\n",
       "      <th>1</th>\n",
       "      <td>1</td>\n",
       "      <td>pHlSVbVbFH</td>\n",
       "      <td>gHBzzhQHqg</td>\n",
       "      <td>[H, H]</td>\n",
       "      <td>34</td>\n",
       "      <td>pHlSVbVbFHgHBzzhQHqg</td>\n",
       "      <td>0</td>\n",
       "    </tr>\n",
       "    <tr>\n",
       "      <th>2</th>\n",
       "      <td>2</td>\n",
       "      <td>nVsqGpbbt</td>\n",
       "      <td>DtTNmrmfZ</td>\n",
       "      <td>[t]</td>\n",
       "      <td>20</td>\n",
       "      <td>nVsqGpbbtDtTNmrmfZ</td>\n",
       "      <td>0</td>\n",
       "    </tr>\n",
       "    <tr>\n",
       "      <th>3</th>\n",
       "      <td>3</td>\n",
       "      <td>zrBMnbzBchshsttfbMRB</td>\n",
       "      <td>gmJggmmCHGgDhDgNDGHL</td>\n",
       "      <td>[h, h]</td>\n",
       "      <td>8</td>\n",
       "      <td>zrBMnbzBchshsttfbMRBgmJggmmCHGgDhDgNDGHL</td>\n",
       "      <td>1</td>\n",
       "    </tr>\n",
       "    <tr>\n",
       "      <th>4</th>\n",
       "      <td>4</td>\n",
       "      <td>VddZqQqdvSQM</td>\n",
       "      <td>JHJGdCDCDDmH</td>\n",
       "      <td>[d, d, d]</td>\n",
       "      <td>4</td>\n",
       "      <td>VddZqQqdvSQMJHJGdCDCDDmH</td>\n",
       "      <td>1</td>\n",
       "    </tr>\n",
       "    <tr>\n",
       "      <th>...</th>\n",
       "      <td>...</td>\n",
       "      <td>...</td>\n",
       "      <td>...</td>\n",
       "      <td>...</td>\n",
       "      <td>...</td>\n",
       "      <td>...</td>\n",
       "      <td>...</td>\n",
       "    </tr>\n",
       "    <tr>\n",
       "      <th>295</th>\n",
       "      <td>295</td>\n",
       "      <td>SNNvcGNSZSTDtGDccz</td>\n",
       "      <td>JJBmzbjBJjmppbppms</td>\n",
       "      <td>[z]</td>\n",
       "      <td>26</td>\n",
       "      <td>SNNvcGNSZSTDtGDcczJJBmzbjBJjmppbppms</td>\n",
       "      <td>98</td>\n",
       "    </tr>\n",
       "    <tr>\n",
       "      <th>296</th>\n",
       "      <td>296</td>\n",
       "      <td>cDtfDVNTGGGNN</td>\n",
       "      <td>rwLLwHdqLhfLs</td>\n",
       "      <td>[f]</td>\n",
       "      <td>6</td>\n",
       "      <td>cDtfDVNTGGGNNrwLLwHdqLhfLs</td>\n",
       "      <td>98</td>\n",
       "    </tr>\n",
       "    <tr>\n",
       "      <th>297</th>\n",
       "      <td>297</td>\n",
       "      <td>ngghZCChzh</td>\n",
       "      <td>NjjNbbJfdh</td>\n",
       "      <td>[h, h, h]</td>\n",
       "      <td>8</td>\n",
       "      <td>ngghZCChzhNjjNbbJfdh</td>\n",
       "      <td>99</td>\n",
       "    </tr>\n",
       "    <tr>\n",
       "      <th>298</th>\n",
       "      <td>298</td>\n",
       "      <td>slPPRLlBBlVRMvRllLL</td>\n",
       "      <td>HvcpcdFfJjvdFpfHfcZ</td>\n",
       "      <td>[v]</td>\n",
       "      <td>22</td>\n",
       "      <td>slPPRLlBBlVRMvRllLLHvcpcdFfJjvdFpfHfcZ</td>\n",
       "      <td>99</td>\n",
       "    </tr>\n",
       "    <tr>\n",
       "      <th>299</th>\n",
       "      <td>299</td>\n",
       "      <td>RDZPZBLmPVWDVr</td>\n",
       "      <td>QtnzSTmgTwmTSg</td>\n",
       "      <td>[m]</td>\n",
       "      <td>13</td>\n",
       "      <td>RDZPZBLmPVWDVrQtnzSTmgTwmTSg</td>\n",
       "      <td>99</td>\n",
       "    </tr>\n",
       "  </tbody>\n",
       "</table>\n",
       "<p>300 rows × 7 columns</p>\n",
       "</div>"
      ],
      "text/plain": [
       "     index           compartment_A           compartment_B shared_items  \\\n",
       "0        0  rNZNWvMZZmDDmwqNdZrWTq  hJMhhgzggBhzBJBchQzzJJ          [M]   \n",
       "1        1              pHlSVbVbFH              gHBzzhQHqg       [H, H]   \n",
       "2        2               nVsqGpbbt               DtTNmrmfZ          [t]   \n",
       "3        3    zrBMnbzBchshsttfbMRB    gmJggmmCHGgDhDgNDGHL       [h, h]   \n",
       "4        4            VddZqQqdvSQM            JHJGdCDCDDmH    [d, d, d]   \n",
       "..     ...                     ...                     ...          ...   \n",
       "295    295      SNNvcGNSZSTDtGDccz      JJBmzbjBJjmppbppms          [z]   \n",
       "296    296           cDtfDVNTGGGNN           rwLLwHdqLhfLs          [f]   \n",
       "297    297              ngghZCChzh              NjjNbbJfdh    [h, h, h]   \n",
       "298    298     slPPRLlBBlVRMvRllLL     HvcpcdFfJjvdFpfHfcZ          [v]   \n",
       "299    299          RDZPZBLmPVWDVr          QtnzSTmgTwmTSg          [m]   \n",
       "\n",
       "     shared_item_priority                                     full_pack  \\\n",
       "0                      39  rNZNWvMZZmDDmwqNdZrWTqhJMhhgzggBhzBJBchQzzJJ   \n",
       "1                      34                          pHlSVbVbFHgHBzzhQHqg   \n",
       "2                      20                            nVsqGpbbtDtTNmrmfZ   \n",
       "3                       8      zrBMnbzBchshsttfbMRBgmJggmmCHGgDhDgNDGHL   \n",
       "4                       4                      VddZqQqdvSQMJHJGdCDCDDmH   \n",
       "..                    ...                                           ...   \n",
       "295                    26          SNNvcGNSZSTDtGDcczJJBmzbjBJjmppbppms   \n",
       "296                     6                    cDtfDVNTGGGNNrwLLwHdqLhfLs   \n",
       "297                     8                          ngghZCChzhNjjNbbJfdh   \n",
       "298                    22        slPPRLlBBlVRMvRllLLHvcpcdFfJjvdFpfHfcZ   \n",
       "299                    13                  RDZPZBLmPVWDVrQtnzSTmgTwmTSg   \n",
       "\n",
       "     elf_group  \n",
       "0            0  \n",
       "1            0  \n",
       "2            0  \n",
       "3            1  \n",
       "4            1  \n",
       "..         ...  \n",
       "295         98  \n",
       "296         98  \n",
       "297         99  \n",
       "298         99  \n",
       "299         99  \n",
       "\n",
       "[300 rows x 7 columns]"
      ]
     },
     "execution_count": 100,
     "metadata": {},
     "output_type": "execute_result"
    }
   ],
   "source": [
    "pack_df"
   ]
  },
  {
   "cell_type": "code",
   "execution_count": 105,
   "id": "8b24f626-9a00-44cf-a0e3-7223632355ad",
   "metadata": {
    "execution": {
     "iopub.execute_input": "2022-12-03T22:34:38.483515Z",
     "iopub.status.busy": "2022-12-03T22:34:38.483515Z",
     "iopub.status.idle": "2022-12-03T22:34:38.505456Z",
     "shell.execute_reply": "2022-12-03T22:34:38.504460Z",
     "shell.execute_reply.started": "2022-12-03T22:34:38.483515Z"
    },
    "tags": []
   },
   "outputs": [],
   "source": [
    "group_df = pack_df['full_pack'].groupby(pack_df['elf_group']).apply(list).reset_index()"
   ]
  },
  {
   "cell_type": "code",
   "execution_count": 110,
   "id": "16ba89b2-51fa-4740-9e7f-1bd7a38acf2d",
   "metadata": {
    "execution": {
     "iopub.execute_input": "2022-12-03T22:37:47.430059Z",
     "iopub.status.busy": "2022-12-03T22:37:47.429062Z",
     "iopub.status.idle": "2022-12-03T22:37:47.441056Z",
     "shell.execute_reply": "2022-12-03T22:37:47.441056Z",
     "shell.execute_reply.started": "2022-12-03T22:37:47.430059Z"
    }
   },
   "outputs": [
    {
     "data": {
      "text/html": [
       "<div>\n",
       "<style scoped>\n",
       "    .dataframe tbody tr th:only-of-type {\n",
       "        vertical-align: middle;\n",
       "    }\n",
       "\n",
       "    .dataframe tbody tr th {\n",
       "        vertical-align: top;\n",
       "    }\n",
       "\n",
       "    .dataframe thead th {\n",
       "        text-align: right;\n",
       "    }\n",
       "</style>\n",
       "<table border=\"1\" class=\"dataframe\">\n",
       "  <thead>\n",
       "    <tr style=\"text-align: right;\">\n",
       "      <th></th>\n",
       "      <th>elf_group</th>\n",
       "      <th>full_pack</th>\n",
       "    </tr>\n",
       "  </thead>\n",
       "  <tbody>\n",
       "    <tr>\n",
       "      <th>0</th>\n",
       "      <td>0</td>\n",
       "      <td>[rNZNWvMZZmDDmwqNdZrWTqhJMhhgzggBhzBJBchQzzJJ,...</td>\n",
       "    </tr>\n",
       "    <tr>\n",
       "      <th>1</th>\n",
       "      <td>1</td>\n",
       "      <td>[zrBMnbzBchshsttfbMRBgmJggmmCHGgDhDgNDGHL, Vdd...</td>\n",
       "    </tr>\n",
       "    <tr>\n",
       "      <th>2</th>\n",
       "      <td>2</td>\n",
       "      <td>[NnjjRlnWNSWWbGwccbcchfPfTvfjfTBBpvmdMjTfvB, F...</td>\n",
       "    </tr>\n",
       "    <tr>\n",
       "      <th>3</th>\n",
       "      <td>3</td>\n",
       "      <td>[rPZtvtFrFPgWjQvCBlcqMzlqQC, QGVDJJnLnVTCJBczq...</td>\n",
       "    </tr>\n",
       "    <tr>\n",
       "      <th>4</th>\n",
       "      <td>4</td>\n",
       "      <td>[SvmlrVrCvmNhSSVZVCrsgqPfbwGFwwwsflbbGb, QHffd...</td>\n",
       "    </tr>\n",
       "    <tr>\n",
       "      <th>...</th>\n",
       "      <td>...</td>\n",
       "      <td>...</td>\n",
       "    </tr>\n",
       "    <tr>\n",
       "      <th>95</th>\n",
       "      <td>95</td>\n",
       "      <td>[pllpztRqBBvvGPpG, QQhhZQbVcZQTPMWWGbvvbMHM, c...</td>\n",
       "    </tr>\n",
       "    <tr>\n",
       "      <th>96</th>\n",
       "      <td>96</td>\n",
       "      <td>[bgcLPvvpcbdsbpSsHRTCqsRfWfsHRm, lZlQtthrnlVMm...</td>\n",
       "    </tr>\n",
       "    <tr>\n",
       "      <th>97</th>\n",
       "      <td>97</td>\n",
       "      <td>[jvGbvLLQDSGlRmmSLjlDmRQggFBrMCwWdsBFWBFjdrrWr...</td>\n",
       "    </tr>\n",
       "    <tr>\n",
       "      <th>98</th>\n",
       "      <td>98</td>\n",
       "      <td>[CQQCshCMwgQhMdjWJFBPpbjgmmWj, SNNvcGNSZSTDtGD...</td>\n",
       "    </tr>\n",
       "    <tr>\n",
       "      <th>99</th>\n",
       "      <td>99</td>\n",
       "      <td>[ngghZCChzhNjjNbbJfdh, slPPRLlBBlVRMvRllLLHvcp...</td>\n",
       "    </tr>\n",
       "  </tbody>\n",
       "</table>\n",
       "<p>100 rows × 2 columns</p>\n",
       "</div>"
      ],
      "text/plain": [
       "    elf_group                                          full_pack\n",
       "0           0  [rNZNWvMZZmDDmwqNdZrWTqhJMhhgzggBhzBJBchQzzJJ,...\n",
       "1           1  [zrBMnbzBchshsttfbMRBgmJggmmCHGgDhDgNDGHL, Vdd...\n",
       "2           2  [NnjjRlnWNSWWbGwccbcchfPfTvfjfTBBpvmdMjTfvB, F...\n",
       "3           3  [rPZtvtFrFPgWjQvCBlcqMzlqQC, QGVDJJnLnVTCJBczq...\n",
       "4           4  [SvmlrVrCvmNhSSVZVCrsgqPfbwGFwwwsflbbGb, QHffd...\n",
       "..        ...                                                ...\n",
       "95         95  [pllpztRqBBvvGPpG, QQhhZQbVcZQTPMWWGbvvbMHM, c...\n",
       "96         96  [bgcLPvvpcbdsbpSsHRTCqsRfWfsHRm, lZlQtthrnlVMm...\n",
       "97         97  [jvGbvLLQDSGlRmmSLjlDmRQggFBrMCwWdsBFWBFjdrrWr...\n",
       "98         98  [CQQCshCMwgQhMdjWJFBPpbjgmmWj, SNNvcGNSZSTDtGD...\n",
       "99         99  [ngghZCChzhNjjNbbJfdh, slPPRLlBBlVRMvRllLLHvcp...\n",
       "\n",
       "[100 rows x 2 columns]"
      ]
     },
     "execution_count": 110,
     "metadata": {},
     "output_type": "execute_result"
    }
   ],
   "source": [
    "group_df"
   ]
  },
  {
   "cell_type": "code",
   "execution_count": 111,
   "id": "bd1de57c-52fd-4116-a2e7-57cb70b9ccbe",
   "metadata": {
    "execution": {
     "iopub.execute_input": "2022-12-03T22:38:17.796890Z",
     "iopub.status.busy": "2022-12-03T22:38:17.796890Z",
     "iopub.status.idle": "2022-12-03T22:38:17.802875Z",
     "shell.execute_reply": "2022-12-03T22:38:17.801900Z",
     "shell.execute_reply.started": "2022-12-03T22:38:17.796890Z"
    }
   },
   "outputs": [],
   "source": [
    "group_df['shared_items'] = group_df['full_pack'].apply(get_item_shared_in_three_packs)"
   ]
  },
  {
   "cell_type": "code",
   "execution_count": 113,
   "id": "521792e7-90cb-4410-8c13-9bc395851c57",
   "metadata": {
    "execution": {
     "iopub.execute_input": "2022-12-03T22:38:48.925273Z",
     "iopub.status.busy": "2022-12-03T22:38:48.925273Z",
     "iopub.status.idle": "2022-12-03T22:38:48.936217Z",
     "shell.execute_reply": "2022-12-03T22:38:48.935219Z",
     "shell.execute_reply.started": "2022-12-03T22:38:48.925273Z"
    },
    "tags": []
   },
   "outputs": [],
   "source": [
    "group_df['shared_item_priority'] = group_df['shared_items'].apply(get_item_priority)"
   ]
  },
  {
   "cell_type": "code",
   "execution_count": 115,
   "id": "65eed3e4-3718-4ac6-9c2b-00d5b7c29c7e",
   "metadata": {
    "execution": {
     "iopub.execute_input": "2022-12-03T22:39:04.953272Z",
     "iopub.status.busy": "2022-12-03T22:39:04.953272Z",
     "iopub.status.idle": "2022-12-03T22:39:04.966259Z",
     "shell.execute_reply": "2022-12-03T22:39:04.966259Z",
     "shell.execute_reply.started": "2022-12-03T22:39:04.953272Z"
    },
    "tags": []
   },
   "outputs": [
    {
     "data": {
      "text/plain": [
       "2508"
      ]
     },
     "execution_count": 115,
     "metadata": {},
     "output_type": "execute_result"
    }
   ],
   "source": [
    "group_df.shared_item_priority.sum()"
   ]
  },
  {
   "cell_type": "code",
   "execution_count": null,
   "id": "31f0ec45-37e3-4752-a3d4-9c4d4cd4a700",
   "metadata": {},
   "outputs": [],
   "source": []
  }
 ],
 "metadata": {
  "kernelspec": {
   "display_name": "Python 3 (ipykernel)",
   "language": "python",
   "name": "python3"
  },
  "language_info": {
   "codemirror_mode": {
    "name": "ipython",
    "version": 3
   },
   "file_extension": ".py",
   "mimetype": "text/x-python",
   "name": "python",
   "nbconvert_exporter": "python",
   "pygments_lexer": "ipython3",
   "version": "3.9.7"
  }
 },
 "nbformat": 4,
 "nbformat_minor": 5
}
