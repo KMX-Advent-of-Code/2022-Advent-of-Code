{
 "cells": [
  {
   "cell_type": "code",
   "execution_count": 61,
   "id": "1723e51e",
   "metadata": {
    "ExecuteTime": {
     "end_time": "2022-12-03T12:16:13.198181Z",
     "start_time": "2022-12-03T12:16:13.029908Z"
    }
   },
   "outputs": [],
   "source": [
    "with open('huerta_input_day3.txt','r') as f:\n",
    "    myinput = f.read().strip().splitlines()"
   ]
  },
  {
   "cell_type": "code",
   "execution_count": 62,
   "id": "5dbf0756",
   "metadata": {
    "ExecuteTime": {
     "end_time": "2022-12-03T12:16:18.313699Z",
     "start_time": "2022-12-03T12:16:18.281609Z"
    }
   },
   "outputs": [],
   "source": [
    "test_input = \"\"\"vJrwpWtwJgWrhcsFMMfFFhFp\n",
    "jqHRNqRjqzjGDLGLrsFMfFZSrLrFZsSL\n",
    "PmmdzqPrVvPwwTWBwg\n",
    "wMqvLMZHhHMvwLHjbvcjnnSBnvTQFn\n",
    "ttgJtRGJQctTZtZT\n",
    "CrZsJsPPZsGzwwsLwLmpwMDw\"\"\".split('\\n')"
   ]
  },
  {
   "cell_type": "code",
   "execution_count": 63,
   "id": "4fc5bba3",
   "metadata": {
    "ExecuteTime": {
     "end_time": "2022-12-03T12:16:18.619217Z",
     "start_time": "2022-12-03T12:16:18.578028Z"
    }
   },
   "outputs": [],
   "source": [
    "def split_string(x):\n",
    "    len(x) // 2\n",
    "    return x[:len(x) // 2],x[len(x) // 2:]"
   ]
  },
  {
   "cell_type": "code",
   "execution_count": 64,
   "id": "a74ecc15",
   "metadata": {
    "ExecuteTime": {
     "end_time": "2022-12-03T12:16:19.025843Z",
     "start_time": "2022-12-03T12:16:18.982887Z"
    }
   },
   "outputs": [],
   "source": [
    "def find_mutual(x):\n",
    "    s1, s2 = split_string(x)\n",
    "    y = list(set(list(s1)).intersection(set(list(s2))))\n",
    "    assert y, f\"wtf {x}\"\n",
    "    return y[0]"
   ]
  },
  {
   "cell_type": "code",
   "execution_count": 65,
   "id": "d7b29115",
   "metadata": {
    "ExecuteTime": {
     "end_time": "2022-12-03T12:16:21.518600Z",
     "start_time": "2022-12-03T12:16:21.483154Z"
    }
   },
   "outputs": [
    {
     "data": {
      "text/plain": [
       "'p'"
      ]
     },
     "execution_count": 65,
     "metadata": {},
     "output_type": "execute_result"
    }
   ],
   "source": [
    "find_mutual('vJrwpWtwJgWrhcsFMMfFFhFp')"
   ]
  },
  {
   "cell_type": "code",
   "execution_count": 67,
   "id": "c5f424fd",
   "metadata": {
    "ExecuteTime": {
     "end_time": "2022-12-03T12:16:22.408869Z",
     "start_time": "2022-12-03T12:16:22.363876Z"
    }
   },
   "outputs": [],
   "source": [
    "import string"
   ]
  },
  {
   "cell_type": "code",
   "execution_count": 68,
   "id": "c53aa980",
   "metadata": {
    "ExecuteTime": {
     "end_time": "2022-12-03T12:16:26.045583Z",
     "start_time": "2022-12-03T12:16:26.001950Z"
    }
   },
   "outputs": [],
   "source": [
    "score_dict = {key:val for key, val in zip(string.ascii_lowercase,range(1,27))}"
   ]
  },
  {
   "cell_type": "code",
   "execution_count": 69,
   "id": "bce7d393",
   "metadata": {
    "ExecuteTime": {
     "end_time": "2022-12-03T12:16:26.550534Z",
     "start_time": "2022-12-03T12:16:26.507569Z"
    }
   },
   "outputs": [],
   "source": [
    "score_dict.update({key:val for key, val in zip(string.ascii_uppercase,range(27,53))})"
   ]
  },
  {
   "cell_type": "code",
   "execution_count": 70,
   "id": "7fd6075d",
   "metadata": {
    "ExecuteTime": {
     "end_time": "2022-12-03T12:16:26.788844Z",
     "start_time": "2022-12-03T12:16:26.745733Z"
    }
   },
   "outputs": [
    {
     "data": {
      "text/plain": [
       "{'a': 1,\n",
       " 'b': 2,\n",
       " 'c': 3,\n",
       " 'd': 4,\n",
       " 'e': 5,\n",
       " 'f': 6,\n",
       " 'g': 7,\n",
       " 'h': 8,\n",
       " 'i': 9,\n",
       " 'j': 10,\n",
       " 'k': 11,\n",
       " 'l': 12,\n",
       " 'm': 13,\n",
       " 'n': 14,\n",
       " 'o': 15,\n",
       " 'p': 16,\n",
       " 'q': 17,\n",
       " 'r': 18,\n",
       " 's': 19,\n",
       " 't': 20,\n",
       " 'u': 21,\n",
       " 'v': 22,\n",
       " 'w': 23,\n",
       " 'x': 24,\n",
       " 'y': 25,\n",
       " 'z': 26,\n",
       " 'A': 27,\n",
       " 'B': 28,\n",
       " 'C': 29,\n",
       " 'D': 30,\n",
       " 'E': 31,\n",
       " 'F': 32,\n",
       " 'G': 33,\n",
       " 'H': 34,\n",
       " 'I': 35,\n",
       " 'J': 36,\n",
       " 'K': 37,\n",
       " 'L': 38,\n",
       " 'M': 39,\n",
       " 'N': 40,\n",
       " 'O': 41,\n",
       " 'P': 42,\n",
       " 'Q': 43,\n",
       " 'R': 44,\n",
       " 'S': 45,\n",
       " 'T': 46,\n",
       " 'U': 47,\n",
       " 'V': 48,\n",
       " 'W': 49,\n",
       " 'X': 50,\n",
       " 'Y': 51,\n",
       " 'Z': 52}"
      ]
     },
     "execution_count": 70,
     "metadata": {},
     "output_type": "execute_result"
    }
   ],
   "source": [
    "score_dict"
   ]
  },
  {
   "cell_type": "code",
   "execution_count": 71,
   "id": "4cc9aa23",
   "metadata": {
    "ExecuteTime": {
     "end_time": "2022-12-03T12:16:29.301820Z",
     "start_time": "2022-12-03T12:16:29.262188Z"
    }
   },
   "outputs": [
    {
     "data": {
      "text/plain": [
       "7917"
      ]
     },
     "execution_count": 71,
     "metadata": {},
     "output_type": "execute_result"
    }
   ],
   "source": [
    "sum([score_dict.get(find_mutual(x)) for x in myinput])"
   ]
  },
  {
   "cell_type": "code",
   "execution_count": 75,
   "id": "a39d5b0e",
   "metadata": {
    "ExecuteTime": {
     "end_time": "2022-12-03T12:16:50.597447Z",
     "start_time": "2022-12-03T12:16:50.567065Z"
    }
   },
   "outputs": [
    {
     "data": {
      "text/plain": [
       "{'a', 'b', 'c'}"
      ]
     },
     "execution_count": 75,
     "metadata": {},
     "output_type": "execute_result"
    }
   ],
   "source": [
    "set(\"abc\") #in which I realize I didn't need to wrap the strings in list() first"
   ]
  },
  {
   "cell_type": "code",
   "execution_count": 76,
   "id": "faaae900",
   "metadata": {
    "ExecuteTime": {
     "end_time": "2022-12-03T12:16:50.830006Z",
     "start_time": "2022-12-03T12:16:50.789980Z"
    }
   },
   "outputs": [],
   "source": [
    "out = []\n",
    "for i in range(0,len(myinput),3):\n",
    "    a,b,c = myinput[i:i+3]\n",
    "    y = list(set(a).intersection(set(b)).intersection(set(c)))[0]\n",
    "    out.append(score_dict[y])"
   ]
  },
  {
   "cell_type": "code",
   "execution_count": 77,
   "id": "e6ddcc0e",
   "metadata": {
    "ExecuteTime": {
     "end_time": "2022-12-03T12:16:51.136833Z",
     "start_time": "2022-12-03T12:16:51.104023Z"
    }
   },
   "outputs": [
    {
     "data": {
      "text/plain": [
       "2585"
      ]
     },
     "execution_count": 77,
     "metadata": {},
     "output_type": "execute_result"
    }
   ],
   "source": [
    "sum(out)"
   ]
  },
  {
   "cell_type": "code",
   "execution_count": null,
   "id": "75812839",
   "metadata": {},
   "outputs": [],
   "source": []
  }
 ],
 "metadata": {
  "kernelspec": {
   "display_name": "Python 3 (ipykernel)",
   "language": "python",
   "name": "python3"
  },
  "language_info": {
   "codemirror_mode": {
    "name": "ipython",
    "version": 3
   },
   "file_extension": ".py",
   "mimetype": "text/x-python",
   "name": "python",
   "nbconvert_exporter": "python",
   "pygments_lexer": "ipython3",
   "version": "3.10.6"
  },
  "toc": {
   "base_numbering": 1,
   "nav_menu": {},
   "number_sections": true,
   "sideBar": true,
   "skip_h1_title": false,
   "title_cell": "Table of Contents",
   "title_sidebar": "Contents",
   "toc_cell": false,
   "toc_position": {},
   "toc_section_display": true,
   "toc_window_display": false
  }
 },
 "nbformat": 4,
 "nbformat_minor": 5
}
