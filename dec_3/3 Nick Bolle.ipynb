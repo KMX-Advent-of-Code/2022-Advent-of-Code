{
 "cells": [
  {
   "cell_type": "markdown",
   "id": "d1881444",
   "metadata": {},
   "source": [
    "### Work"
   ]
  },
  {
   "cell_type": "markdown",
   "id": "a6ebe036",
   "metadata": {},
   "source": [
    "1"
   ]
  },
  {
   "cell_type": "code",
   "execution_count": 29,
   "id": "97a074d6",
   "metadata": {},
   "outputs": [
    {
     "data": {
      "text/plain": [
       "(97, 122, 65, 90)"
      ]
     },
     "execution_count": 29,
     "metadata": {},
     "output_type": "execute_result"
    }
   ],
   "source": [
    "ord('a'), ord('z'), ord('A'), ord('Z')"
   ]
  },
  {
   "cell_type": "code",
   "execution_count": 38,
   "id": "28c62f1f",
   "metadata": {},
   "outputs": [],
   "source": [
    "def get_common_char(rucksack):\n",
    "    n = len(rucksack)\n",
    "    return list(set(rucksack[:n//2]) & set(rucksack[n//2:]))[0]\n",
    "\n",
    "def char_value(char):\n",
    "    i = ord(char)\n",
    "    if i > 90:\n",
    "        return i - 96\n",
    "    else:\n",
    "        return i - 64 + 26"
   ]
  },
  {
   "cell_type": "code",
   "execution_count": 39,
   "id": "71ed39af",
   "metadata": {},
   "outputs": [
    {
     "name": "stdout",
     "output_type": "stream",
     "text": [
      "['a', 'b', 'c', 'd', 'e', 'f', 'g', 'h', 'i', 'j', 'k', 'l', 'm', 'n', 'o', 'p', 'q', 'r', 's', 't', 'u', 'v', 'w', 'x', 'y', 'z', 'A', 'B', 'C', 'D', 'E', 'F', 'G', 'H', 'I', 'J', 'K', 'L', 'M', 'N', 'O', 'P', 'Q', 'R', 'S', 'T', 'U', 'V', 'W', 'X', 'Y', 'Z']\n",
      "[1, 2, 3, 4, 5, 6, 7, 8, 9, 10, 11, 12, 13, 14, 15, 16, 17, 18, 19, 20, 21, 22, 23, 24, 25, 26, 27, 28, 29, 30, 31, 32, 33, 34, 35, 36, 37, 38, 39, 40, 41, 42, 43, 44, 45, 46, 47, 48, 49, 50, 51, 52]\n"
     ]
    }
   ],
   "source": [
    "import string\n",
    "chars = list(string.ascii_lowercase + string.ascii_uppercase)\n",
    "print(chars)\n",
    "print(apply_func(chars, char_value))"
   ]
  },
  {
   "cell_type": "code",
   "execution_count": 21,
   "id": "fb80d6cf",
   "metadata": {},
   "outputs": [
    {
     "data": {
      "text/plain": [
       "['p', 'L', 'P', 'v', 't', 's']"
      ]
     },
     "execution_count": 21,
     "metadata": {},
     "output_type": "execute_result"
    }
   ],
   "source": [
    "apply_func(split(f), get_common_char)"
   ]
  },
  {
   "cell_type": "code",
   "execution_count": 42,
   "id": "3ce856ae",
   "metadata": {},
   "outputs": [
    {
     "data": {
      "text/plain": [
       "157"
      ]
     },
     "execution_count": 42,
     "metadata": {},
     "output_type": "execute_result"
    }
   ],
   "source": [
    "sum(apply_func(apply_func(split(f), get_common_char), char_value))"
   ]
  },
  {
   "cell_type": "code",
   "execution_count": 43,
   "id": "34118d19",
   "metadata": {},
   "outputs": [
    {
     "data": {
      "text/plain": [
       "7967"
      ]
     },
     "execution_count": 43,
     "metadata": {},
     "output_type": "execute_result"
    }
   ],
   "source": [
    "sum(apply_func(apply_func(split(s), get_common_char), char_value))"
   ]
  },
  {
   "cell_type": "markdown",
   "id": "46eb81f2",
   "metadata": {},
   "source": [
    "2"
   ]
  },
  {
   "cell_type": "code",
   "execution_count": 46,
   "id": "66880818",
   "metadata": {},
   "outputs": [],
   "source": [
    "def get_badge_char(t):\n",
    "    return list(set(t[0]) & set(t[1]) & set(t[2]))[0]"
   ]
  },
  {
   "cell_type": "code",
   "execution_count": 47,
   "id": "161d806a",
   "metadata": {},
   "outputs": [],
   "source": [
    "rucksacks = split(f)\n",
    "n = len(rucksacks) // 3\n",
    "grouped = [tuple(rucksacks[3*i : 3*(i+1)]) for i in range(n)]"
   ]
  },
  {
   "cell_type": "code",
   "execution_count": 50,
   "id": "cf67daca",
   "metadata": {},
   "outputs": [
    {
     "data": {
      "text/plain": [
       "70"
      ]
     },
     "execution_count": 50,
     "metadata": {},
     "output_type": "execute_result"
    }
   ],
   "source": [
    "sum(apply_func(apply_func(grouped, get_badge_char), char_value))"
   ]
  },
  {
   "cell_type": "code",
   "execution_count": 51,
   "id": "940e22bf",
   "metadata": {},
   "outputs": [],
   "source": [
    "rucksacks = split(s)\n",
    "n = len(rucksacks) // 3\n",
    "grouped = [tuple(rucksacks[3*i : 3*(i+1)]) for i in range(n)]"
   ]
  },
  {
   "cell_type": "code",
   "execution_count": 52,
   "id": "a8391472",
   "metadata": {},
   "outputs": [
    {
     "data": {
      "text/plain": [
       "2716"
      ]
     },
     "execution_count": 52,
     "metadata": {},
     "output_type": "execute_result"
    }
   ],
   "source": [
    "sum(apply_func(apply_func(grouped, get_badge_char), char_value))"
   ]
  },
  {
   "cell_type": "markdown",
   "id": "46587fe1",
   "metadata": {},
   "source": [
    "### Utilities"
   ]
  },
  {
   "cell_type": "code",
   "execution_count": 4,
   "id": "b0f5c2be",
   "metadata": {},
   "outputs": [],
   "source": [
    "# Remove initial/final \\n characters\n",
    "def clean(s):\n",
    "    return s[1:-1]\n",
    "\n",
    "# Split at \\n characters\n",
    "# If there are \\n\\n characters, split into blocks too\n",
    "def split(s):\n",
    "    out = [block.split('\\n') for block in clean(s).split('\\n\\n')]\n",
    "    if len(out) == 1:\n",
    "        return out[0]\n",
    "    else:\n",
    "        return out\n",
    "\n",
    "# Apply a function to a list or \"block\" data (2-level list)\n",
    "def apply_func(data, func):\n",
    "    if isinstance(data[0], list):\n",
    "        return [[func(x) for x in block] for block in data]\n",
    "    else:\n",
    "        return [func(x) for x in data]\n",
    "\n",
    "# Split, parsing everything as ints\n",
    "def split_int(s):\n",
    "    return apply_func(split(s), int)\n",
    "\n",
    "# Split, parsing everything as float\n",
    "def split_float(s):\n",
    "    return apply_func(split(s), float)"
   ]
  },
  {
   "cell_type": "markdown",
   "id": "2b2e5b0f",
   "metadata": {},
   "source": [
    "### Input"
   ]
  },
  {
   "cell_type": "code",
   "execution_count": 2,
   "id": "1daa49f9",
   "metadata": {},
   "outputs": [],
   "source": [
    "f = \"\"\"\n",
    "vJrwpWtwJgWrhcsFMMfFFhFp\n",
    "jqHRNqRjqzjGDLGLrsFMfFZSrLrFZsSL\n",
    "PmmdzqPrVvPwwTWBwg\n",
    "wMqvLMZHhHMvwLHjbvcjnnSBnvTQFn\n",
    "ttgJtRGJQctTZtZT\n",
    "CrZsJsPPZsGzwwsLwLmpwMDw\n",
    "\"\"\""
   ]
  },
  {
   "cell_type": "code",
   "execution_count": 3,
   "id": "dcf53146",
   "metadata": {},
   "outputs": [],
   "source": [
    "s = \"\"\"\n",
    "lDDWVvlVVQfDMlWjGJTRjQCgTGLCLj\n",
    "ZLZpwzLBhwZhSLBsjntGCtgJRjbnJgSG\n",
    "qppdZzzsdsmZphrNsNwZhllDHLcVVDWFPvFWcWdFlv\n",
    "ztdhgJDBJghmQtPFQPpmbw\n",
    "lVlLRcnfllcfVcccGnSQVLcsTPFbpwsPFspTSqmbpswpbF\n",
    "cCHRGcGcCRGlGrGcVGnrdWHWBDzBNhhQZWWNBhJz\n",
    "NfnSSQpdnRSSpvWdSsjZDGNDjGDwTGTjHG\n",
    "wlPzPqzPFbMmqPCFCJmbsjbHLDDHDZjDjbGHsT\n",
    "gwMlgmtmPcqVVvhVnvcRnn\n",
    "cBNBBCHhbhNhblBcCCvcBHSwTwDQSqRwDQpDRsjHST\n",
    "dPmzMVWdmmMnnZJtZVdqjTSrjTjrpQrsTTVwQRSj\n",
    "qzmZMmdZPtnGqclblGlbGvgBFc\n",
    "ZfpmNDfRhzbbqDnD\n",
    "SFtFjTTZVTFvVTjHrsVvqGBJqhnSSnbJznLGJwJq\n",
    "TjdPPtdMPPWCcZgW\n",
    "qsbmGCsjHNhmhmhzTDznpnlQZlbWlZ\n",
    "LTSSfSvggVVgBgfLtvvtTSczzpWnZQZnlnzpBcnWpQWc\n",
    "FrLvrrrVPgdPftSHHdNsjTHjmGThhm\n",
    "wGQlMjvMwpvjvZjZTZlWjplWJJTggDTgfCnntPgTJPbtPgSP\n",
    "qNhJmcVmdJqhHnPnDNtnPDCg\n",
    "LrrchqhRdLVzRdmhJcFFQWGGMjpGlvZzlQQv\n",
    "ZqZMbZMfQZptpjlF\n",
    "PJCggvHlwWHvSSvCJNvSPvDBtFDQThFQjtRQhhFTsVThQtsF\n",
    "PwWCnBBCClcMMznMdG\n",
    "rNwwQJrJrnQswrQrRRwCShBSLndZpdnhpGFSdhBp\n",
    "PvzzWVzbclGFhLFGdZll\n",
    "VWjPWvbjcVbVcGVzjcgzgwQQRRRrqwRJQwwstCRR\n",
    "zjBMMzznjbssrBrMBbvHDmrlprlrpwGpwQDV\n",
    "LhRwPPTLLNRZqScPWPWPTSmQvQQDGGdQHVDlmVpQGD\n",
    "NtfhNwhLLNwRwRNcTBgnJMCBzsBFjsJfCz\n",
    "jZjsWNDlPfClfMlM\n",
    "GjqbVSqjhgvgSVSBCPmMmCmfpwTBfh\n",
    "nGbjqtqcGzsLDFcJLs\n",
    "ZQtmZdtdQcLndRncdQQLFjWWDHNPfhpnqhqsHNNDnpHs\n",
    "TrMBGbJTwwlmDPPPWshWHfJq\n",
    "wmVzbrwbwvBlBlVGtSVLSdFjdFtdjLVR\n",
    "LBhZFhRPbbnPddMdPPlD\n",
    "NQszQNczlCSlJSsg\n",
    "mwmrVQwpQVWwTlvBpHHHFhZj\n",
    "pzzDffWpQBzMpHvzMfRnTNhZdrdBcnLrcdrTLZ\n",
    "msgJgtmbgmqJJcdrGcJjGn\n",
    "bSVPgwntmVnngQWvWSSMpMMHWH\n",
    "gmGMDHHdpngdrGmGcwbNCCnNcbbCSLwL\n",
    "zQPPPffQQlVlsPFQFzQchZZbLZNVcbqbNqbZgq\n",
    "PRjQzfRgRfjQBTfJQTlPFRHWmmvmWHGWrWvWWtjrdHpD\n",
    "vfrHfqrLfLwwNHdvnthpnnFFpstn\n",
    "gWcMclgmcRcWgDMWgBgGGFnntqQnGphdQhtbdFnh\n",
    "qRWmRDlcDqWBBPwPNrZHrwSHjTfr\n",
    "HVVbhdCdndhZSShMzRrzSM\n",
    "qBjWqvtWvDJjTjjGJtJtnqBvZMrgSGZlgfSgSRrMQGQRMgMR\n",
    "wmwtJsvjtTJwsNnVsHpdnsHdds\n",
    "FCJNZDMPNCNvzqQJHqzGqv\n",
    "hwjWcSTHwRpSWnQtGgQgGStgQQ\n",
    "WpwhRHTRpcLRjwlwwTWBcWdlFbCrsPrrLCMDrZCFsCDPrZPM\n",
    "DJjjShSGhGDSNdpfrWWcLFzrDWrDlF\n",
    "wtqZgwMBBPVMCBPQggMwqMMzfLlWrWLLzsWcFzTzVTzLss\n",
    "tgtwQqZBQQZbBZtPgbHpNJnJShcmJppSHh\n",
    "tHrWmrdzzdHflmHmHrSmqswlqhqNgssMhGgghssn\n",
    "pJcCBPPQPCcPpRpgwZNZBMnDhMsMBw\n",
    "RJCvRRVcQpjLpCJPWrftWvSnrFffWbrz\n",
    "jzlwwzDzTlQftzlWjfrBGBgVHBgpgBtPGVtP\n",
    "vhsshbMbNhZpgZrrrpHcZr\n",
    "qhdMqqSLSSbSJMqqSwwjzFzmjFQQFfHzLQ\n",
    "gDhHNnphPPPNCprHFhHFdbdczzjNqbzjVcdbQTcc\n",
    "tVJWBtVVZRWtjQbctjqcdj\n",
    "RfvlGLvLLLlLMZBmZBRhHDVPnVHPHCgFCnhlpn\n",
    "RFhZFTZvFdjlqqlRNCPwSSPCNPBSwC\n",
    "spHGswpnWgJLLJCPGg\n",
    "cWpDrVVbWfWbVfbsdQqcQzjjzlhdwqll\n",
    "WWJPpQwWdQQPNpQvqlvvCblbvbvwLL\n",
    "cmRMBMBTbSrTDRMcGBscTGfLZfvfvsCqhLlChZlLhfsC\n",
    "TVbzGSMGVVgdpdPJpQ\n",
    "lwsFfsZWGsGmsnlGQcPdBBdMbcPHfcCN\n",
    "RVvSLtSTrTVrTFPcBdCHRcPHbNNb\n",
    "LrqzLFTLrgSJLLLtTgJjVJvWlDDnjDWnWWlhlGWGhZWZhn\n",
    "GQJCMGbrMbbCGrrGtcwhctGjNSvWpVVVRjNJqVqqBBRRJq\n",
    "ssnglHHsnHzFmHnzHFPVDDSDRgVjvWDNpSSNpB\n",
    "PZfHmndFzzfPZPZfCdwchwGcbwwhCdMW\n",
    "DRGVQGmGQVnnGVmnnFpNbzCNRbRttCbpLztC\n",
    "qdqHBdjTqPlcTchBjJMvvvLtLCcLggLvtmgb\n",
    "fqhlHjdwqjjJTwldDmDmrGrrWFrDGZwD\n",
    "wFscLVLrrVhwWgZPrcswgZWFTnQdtTMnpQtjdpqdqvqQMt\n",
    "JRbHmmbDDSzDmDNpTnBBdpMHQtqtvp\n",
    "JmCCbvRGzbbGJsLgZsVhgLwwGW\n",
    "WDQwsBzWbBlMjdVpzTJVMj\n",
    "fncRngntnPCpJgmdFpFWgm\n",
    "RGZPZtZCfvWSvRZGSLvPccHwsrHbwHLrwHHQQsBDbllB\n",
    "PlNZhwgpppccgrqVvttbBfrlls\n",
    "CznSDDdHDRnRStVsVfDvfrtDZq\n",
    "QCddZFSFLTmccQmw\n",
    "rnwfVnclGPPFfSPSqBWZvvBBWqZvqWFh\n",
    "zLgLQgJssspmQTJmsgjZNmqqzqdHbthDdDDWHbhqBBqb\n",
    "QgmmjpNgCCZpjJLpmTrfrSrVRPfnrClfPwnS\n",
    "zDzPPwvwqvPPBqjnqvDqBffSfcSNJpNVfccLLNffBR\n",
    "MdTMZbgbmmTWGGdmssRCSNsSNVVVcJsNppsC\n",
    "MJghbhHhbtMMdWhbJhHgdmWvnFzHDQPDjQDvHHwvQwvzwF\n",
    "gGbqqRDrqDMdcBpVlpMG\n",
    "WzhPCnWfqMcpBnnNLZ\n",
    "fCqPHHJCfJhStwhWHbrrgvjFgbQbSbmbQs\n",
    "fhcchnSpfsNpjVVqnqjrGHqq\n",
    "zzlFLlPLWdggFqRBjqsrHrBTzz\n",
    "FDwgFLZWlbbchpwshsCNcw\n",
    "CmPlqqRJDHRDDsFv\n",
    "MfSpBQQNNfBfrfVZsmVVdzzrHZmH\n",
    "QSBSLSgmQBmwPCtgClhjPP\n",
    "NPNsHHHNsPsvHwDqgpwlqt\n",
    "rTRWSRrWRzgTzZrRVVLRQzjpbtmmGLlGDDbDwwmtblvDvw\n",
    "nRzSRrjSVRrnjrgZfrfzNdPdMPBfBMhJhhBcPhcJ\n",
    "LLhzQSDHDHNpNzHHJBQBMvMBqBRJBBqw\n",
    "rmbdtmlWCCMnvJrn\n",
    "FTVdmVgtjdtbWsvjjmdLSDcgHpDzShzDLPLSHh\n",
    "VFFJQVWHtQVHHWbJRRRHwqPvpMLpLZZWLwlwMllL\n",
    "jsngsdGssLvlqnZqZw\n",
    "hhmfDjDsmDNjjNRNVqNVJRtQHJ\n",
    "jvTnffrgFTwvqMzqGdMMSW\n",
    "sPbCtCCQQLffZGdWNLWDDzLzGM\n",
    "PQPBBtfZCZsmJPPplwwmTwpcTcmcgj\n",
    "NBmBRCCsBTRNTndGdswnlwvwnw\n",
    "fvbqrbPLqpGwScGGwbbb\n",
    "HJDPJFJLJtpJHCvCFBBBBNNWvF\n",
    "HJHgNQJBSlRRbJDRDb\n",
    "RptsfnshscWMLMZDZp\n",
    "njmrnPznnsTRTtPzFzRTswgQwqvVVwBNwwvjqCHqHq\n",
    "CBMgBJCTNgQcsQspPpWjRrWrsWsn\n",
    "mwLvHLGbdHbGzSHmvmvHzrhjjjPptjWGqZPPZhPRWWGP\n",
    "vbbrLFwLFDJFDfFN\n",
    "TnPvZSnQgQPHnnnQvgMSWppWNfWRpWfMtthMNDhN\n",
    "wLJmLBmGFBFdLBbCBbVCVlsGsWhtHqthRRhqhtHHGqqf\n",
    "LmHLbCjjBLVZzZSgzQgjrc\n",
    "wdSwfpBhtFbStpftjSVhBwFrGrsQnQgnGrQmqCPmDrmmDb\n",
    "zJvzLJLNZNscLzNHHLrGPvGGPrDDqGgDPDgC\n",
    "RWsNNRMsHTHLHTlMczLHZLWtpFwfpthSjFtwFhjSVplwtj\n",
    "QbrBDLGGRJMQJQJDbQbGvNscWNnTdvnvtnLcccvl\n",
    "fqZgpVPZHPmfgPPjBFgcscvNNccdddtdNvdFTs\n",
    "CgPpghfjjPgVmfBMMCRJQQJzJBwM\n",
    "jLWDqLdWdwLfHwJwzSSfwS\n",
    "gCgRRltMrlrCcCMzcBSVfZQfVNZNVSBVNNNh\n",
    "gMrcPntccGgzgTMlMPrtDWFvLqqdLnDsmLLFFqvp\n",
    "ttHJNccRRwmnsnHnHWMSwqfgvgfwSQZfQf\n",
    "ShpLhhzTPBMpQqQgvM\n",
    "zhbFjVdrjFjVljrVbdPddSTPHNssHnHlRNCHtRtsctJtGsRJ\n",
    "zMVTscVhQhGGhClv\n",
    "LfMJmgSBpLRfHmBPgpmJPSBdvQNtlHvrHvNNtNNNClGdGN\n",
    "JFJmmSFFbFFbRJPBgFPmSBPMzzWWTDjjTsTqqwjVWbjjVVsZ\n",
    "HZpCnwnggfFggbgLDcTb\n",
    "SjvWjGzNGGzRjSGmMcLhvhMhFMCcmv\n",
    "rjrVJNjVrzVNPrwtPwPCHBPB\n",
    "SWwFbTzsSjPzpjFbsWPTWTcWLCLgLgLBZjGVDjCVBBgCBGCZ\n",
    "lrJJttQcHqrHrvggHVBgBLffBC\n",
    "lnhhcqNRJWzhTdsWFz\n",
    "vzldvzlclbFjFvmtjZ\n",
    "DDNMNStMsSsGnhSMwQjTQVgVbwMbVTTQ\n",
    "DsDSCNNGpLtsNLpnNsqLppDzCBcdJHBzllcJfzJBPBdBlR\n",
    "qWNfDvffbJBFDpNfmpbwhGhwjLgTrGwhbGGwrj\n",
    "ZctMVCcVVQtTpthlnLtppw\n",
    "QMcRSPMZcpCZqDFNRFHNJFFF\n",
    "RmztpGSssNMzJRpCvqsCrqdHCBlBdw\n",
    "gffPFDcqVbgqWgjlPlwCCrdBdllnBH\n",
    "cFFZcbcqfQhgbcNJZRSMRtmNJptS\n",
    "PZthPBWlPNPSPtmHHggFGgBJJbwg\n",
    "qqzDvLLrfDpvvDLzqvnLzqpzbrCRGJRHwFCmHRwGwgwbbRCj\n",
    "nnpnMfpMLTVqfmthmsMNSScMhS\n",
    "dflvbdvpfffzpnNLNbWqtblqHjmVhVRhHrwrwrswhHnjsmwh\n",
    "gSGMdMcJBgMTGPSPDVZhHhHZmDZhrwwjVm\n",
    "CPJQGBGGPcSTFcTCScFtLLdWvptWLbNpNzvWQL\n",
    "WThqhvvRDJDRhwcrscNDNFgDHNct\n",
    "fnrZVnfVjrSGGLzZbnLzZLjVHstHHHQtgQbPpPcpHsscsFpN\n",
    "SVjZSzZdndVCdSSZmTRvMWBRWvvWlrvmhJ\n",
    "BcllhPPmMMBPcbRwgQtgHHgtmwgzmt\n",
    "rpLqbrbTnNvqjLqLNqrNLvHzDtwpDCzFwggttFFHCQFQ\n",
    "LrrrNLqjZSTsZZsvjbLjPhcBBlBsBcGPPcPlPVGP\n",
    "HHhrggvSHDtCDsfF\n",
    "ZMpLblppNZBDBwLzLLpMssCntfWdCFCnfCCtRNtq\n",
    "lbmJlzzLMPMmlBzhSJVccSJhTvSTDh\n",
    "sdjBBFqHscFnHTzCnRSnzgVTlC\n",
    "LpWWtvZfrpbLpZpWftprLCCNMzCZMmmzTNNTmSSVSM\n",
    "pLVtrtbGvpbpGLfPddHBscBQJJGcwsQq\n",
    "hLcLnVVcfQBLZPVZnThfVVmjqjHNjgvNfdvpNdrrvvfp\n",
    "lbRlWFHJtGNGpqmrqrCN\n",
    "DzRRDFsbDtFtDJtWRztzJZVBQMhTsLhQZMZHVLcLcP\n",
    "WgbdmgMmWDDvcPcpbz\n",
    "jffpllHSpHRptRRGRntSVwvLSCCJDzcCcDLvCzPP\n",
    "tRFrnlGfZrQpBpgQQsgF\n",
    "TpbBZbCCHCGZNHbzGqgFdNlcFSdNlStSqg\n",
    "wvWnWwLCPjJPJhMWtWdMfFSMgcdM\n",
    "hhmvmJrJLJJJPvvhDjswCRGHHrHzBBHGVRQBzRRQ\n",
    "zChCSBbpSsQscDHHQh\n",
    "LNJJRgGltJDvfcrfgHfZ\n",
    "lJNRGlLnNJtTGVMlFTbwSWqjBbzWWHSW\n",
    "NDTJQDVwCTCJhVGDLfbBbBfbGqbfHBfBHb\n",
    "lMgMrggMrmmtzMcgWdlmMlbsRjSRBsTRBWsSHSBTHRBj\n",
    "cMPlgztzrPMznnMPpgddgdzpwDDNNwhNFCTwNZQFLTVTwV\n",
    "ZgshQgzQnnwMtDwBwv\n",
    "SFWFlFZRRcmlWmWRBCDwvwwftBtLmfLf\n",
    "PjRFdTdWGddrGlPjcsJZpJzTqhzQJzNHhz\n",
    "PgHQgddszgdGPWpMjljMcj\n",
    "bSqTqnZLnDJSmnmZmtllGsnVtnWjGGWtjl\n",
    "fqSLDbRSfBdHsRwsFdHd\n",
    "RwHWZpCWhHvwvHCBMBpJMJGPJJnJgc\n",
    "lztljTFljRRBBzBnBMnJMS\n",
    "QbRljFtQfljbbFqNFrdZVrZfdCCwVwvddH\n",
    "sHzztVzLTgnssPggHHsnCtzBmfBMrMccBBmqmrBqBCRqMf\n",
    "ZhDQJhFDqjmSMrRF\n",
    "dZpwDhNhhZpQJdDQpwnsGttGwLtRRTLRts\n",
    "QJNhClVgPTTtPNCJJCtJhlNPZZRVZfvfzZzmvvzvsmZsvmzR\n",
    "blBWBpdbLBDqBpszzffRsvdzjvvd\n",
    "BLWpqBbqnDHqBbGlnWGBPcPJcHTTPrhtgNtCtgPc\n",
    "jWVJqVwgsJcHCVlQVVQNBp\n",
    "vGhGhTPtSSNCddSBCH\n",
    "ZCCDtbDftZsqrrcnWW\n",
    "hJThjThhVzVTZZwnNZRdgmzt\n",
    "lrbSSddsrbPQpsvNtgPRmtHmvtnR\n",
    "GQrspWdSGbDcsFFLBhCGVBjhjj\n",
    "rHdlHdZDlTcflcNfcrCgcTWWpWQFsRWsFjRCsCjWCmhF\n",
    "BnqbvQPLGLBPwqGmsVshsSWShGms\n",
    "PzzPPQJPMJtJbbznPnDdrHlNldDNltrgtfDg\n",
    "SmmMQhPSlmTwPpmnpllMSMPrccFDqFrDFGgqrDcCwfDgwq\n",
    "bVdLLNvdQWVbJbQLVGfGDGfDgrFrqgqJgg\n",
    "vjjWsbQdBsszhsHlhhPPSHsM\n",
    "PqzJqNzsJgsgNqPdLJPPPNVpMMVWGlFWNFGMpWppGF\n",
    "ZnZBjttQZcQZRTQDjQwGFlWMlGdGWVrWWlGn\n",
    "ZRDBRSZDSdSLsqJHfSbzzL\n",
    "rljJqtZlJqlJcvBNJBNQfQ\n",
    "TVMWznvPMTFWznwPFFvwFbbBNBgbcNpQdNcBFQpb\n",
    "mDnLWsPLvLMnnnmTzLzVCtlRRtjSljCZhDlhtqSq\n",
    "fgWMHClGMWfgRWWWGCfmfgCSVQNTDFHTtddVQQDZNLDZtVVL\n",
    "wSqbsvzpwpbpdFTNLQwLNTFN\n",
    "zscjPnPqsJlmPJCJSC\n",
    "GZSwQjGwGrCGwrTjdCTwdTBpqqlmNmVpNrNvplJqNNpl\n",
    "zMfJnDcbRRDRFbzDFRLFBtqNmqqtNBmNBvNm\n",
    "sHcJRRHzzfQTjjCjQjCH\n",
    "wJCVVbJgCLCwGsMbbGTlsRWHsztZPZWtPrPrWrHzrz\n",
    "DBqdvfqDBqFpWZFrtppZJp\n",
    "djqNfQcjDQjMgbbwLjlJGn\n",
    "TSwfZMfpQwcCCCCrbbCZ\n",
    "PLJmGJnjqjrsCjMMVj\n",
    "LnNNLLLnFFWmLFMGNMDgfRpDQSfwSfgQzBHwTS\n",
    "CdjNCMmdCrVmCjJdVjFNMtMzhWwpGbpBhPZZZDbGPpDhpr\n",
    "QSfHzlvgTQffSSHHclgfHnqPbPPPppBhpWDhwWvPhvbwwh\n",
    "cQfQRgQnQsnsQSgHRQJsCFMsCjLzJJFjCdNC\n",
    "ltLlJttmQdfVRhNmhB\n",
    "gWWDrPSvCSWgMMMZBVBdTQPQZNZVPR\n",
    "vCbwQzcQrCrLFHwJpHHGpp\n",
    "VbRVvVHRbJVTzVLBVPtt\n",
    "cSdgSZSZZFhnFcFwdDQcZZhgzpTlzLDzlWTvBWLztBtpLplT\n",
    "hZZvdrcSZQZSSwncdHCqHmGHqJrCJqbNbq\n",
    "lwWmsQlDbCZbVWZq\n",
    "rRShhhhPjTsjTRvHhqfzqfqvBZZvBCZffC\n",
    "scPThhRSjQmmNpplcg\n",
    "FChtDTThDqZtjppjvgNvjl\n",
    "LBwsVdVHLVvvpVGjjgjS\n",
    "BbHLBfRcsHcBdMbdWJQPWFCQCZZhWrJPQp\n",
    "zMtWCstzNrQLpbplFwQwhb\n",
    "gDTDHGvvHVfVdGZVJGDGdnmbwmWFwfhpbnfjwwjpLl\n",
    "GJcHVJdvZJVGZWHSSvTZMCzrzzRNSBtBNPBMqNBB\n",
    "pLzZVVGGZmZVlmDsQglgsllc\n",
    "WSvrjRjrMMFFnFjnrnrdjBRRgdsblQQPbpggsclNDDbPstDs\n",
    "SMWRBrrrvSRBSSvWWWBTMTCqpZzLCCTCwJZwwzGZzqHL\n",
    "TvfGwGZpPnSNgSSnGh\n",
    "srLVHLcjsjVtHqjjrjFjcCqPBggqNQQnMqhgngnznNNB\n",
    "VtdmPHLmtVHFLdmZWRJlWpWWWlmWfp\n",
    "SbSbdTsrVrdhfSdDGJWGmNwWWPwTGP\n",
    "BqlRpBMmllpmnpvvDJPZWPJwZcJgDD\n",
    "FFRMCnRFtCMRlMplqMBRBppVbtzdrdhssrmHzVVSsVhVHz\n",
    "dNrhhLsrshSmmRcPhm\n",
    "WMCngCzCvzvMMpplQvzWlRBPcVStSmTSQbbVSPQmwm\n",
    "MpzvWnllglJfqfMgsNdZHqNjdDsPHqqZ\n",
    "rNvGZRsRcRRBtBCttB\n",
    "DwPPQWnWWnPQnJlPhmTtBFBmqzhpmnFh\n",
    "QwQQQlbPPMWwDdDwlVDJJPPdvdSjrjdrsgssLLsZLNBrNNNr\n",
    "VjMMVzngnjQQfJDchZqGNqFPcg\n",
    "SWBwTtWSFTHwFClHHmwBPcJJDhNGPJNPPhPPGhJt\n",
    "CBvSBBBWHdmRTvRWRQFLQRnjnfLLzVbs\n",
    "flSpvLlmZpCpZmVSBtlvHHjFHTdssZdjHFdTWdNh\n",
    "RmQMQJRQJQmPgrzJrPcRQRJcWdNTGTGGFhGTdFhHThHGMTsF\n",
    "RzJrqqcqPRqqJDDqttCpmtlwBpDflSLt\n",
    "hBjPZbPBbWvTRnLRWntD\n",
    "MNGQNsQwfzsdGfgTGfzQwwffmnCRDVmJLRLCvnvLDvJCDgRL\n",
    "wTTdFldNHzTMljjFqphrBqhrZb\n",
    "wDcMCbZbzPDcZDWQdrJLrQrZBLRBQr\n",
    "FFSHStjtHgllgFdSNmlfFStBqRRssRsRJrLrjrrJBRVhLJ\n",
    "fGggtfHtgWMwbCGdCT\n",
    "RQrQDDbVGrRSfbVbGtmGtwHFWsCCzsJSJJHsJPJvWC\n",
    "hphQnhZQNjlBBcMMpCsHwFjvvHWHWsFvjC\n",
    "ppcnnBZqllTQfmrffbtGTDGt\n",
    "dsDFsBZBhCFhshFrpBFnmLQmHmRgRbLqmmmRQDLm\n",
    "PPBBNNNtGTwJNfTJffNttfLQgqLgHvHbqRwlgmblRvll\n",
    "NSNTGTJTWPjGWMPSJJzrBSpzdFSddCFdncrs\n",
    "bPzRlMPTzTMldJMnhswcjzfQVccQhc\n",
    "HCCqNmNmQQmQssJn\n",
    "pHptprtgRStTtMJt\n",
    "nTmhrsPMsTfmHHGcSgtj\n",
    "bJJwdlrJQLlvwlQDDwSbgffGVNjfgjNtVbcf\n",
    "QlpDQFJdvdFqJdFpLvDFpLLnzZMnBMRRzMTqnrzqTRPznz\n",
    "qRVRqBzgwqRpqRgVqQRPpQJJPrPhPGJnsGrCFdFJrZdG\n",
    "ZvWDmMvmSvCndssrsJ\n",
    "WcZcNWlcMjBQpzNTqVBp\n",
    "DpLPZLDDlcgmDmhVgfgfWWRwhwwt\n",
    "VrVMdbCrrBTjCMQQtMwQNSqMQW\n",
    "VCBHdJHdvrrFsbsdrBJTdTzZcpmZGDGPlmzmlccFDZDn\n",
    "\"\"\""
   ]
  },
  {
   "cell_type": "code",
   "execution_count": null,
   "id": "e7de8682",
   "metadata": {},
   "outputs": [],
   "source": []
  }
 ],
 "metadata": {
  "kernelspec": {
   "display_name": "Python 3 (ipykernel)",
   "language": "python",
   "name": "python3"
  },
  "language_info": {
   "codemirror_mode": {
    "name": "ipython",
    "version": 3
   },
   "file_extension": ".py",
   "mimetype": "text/x-python",
   "name": "python",
   "nbconvert_exporter": "python",
   "pygments_lexer": "ipython3",
   "version": "3.9.7"
  }
 },
 "nbformat": 4,
 "nbformat_minor": 5
}
