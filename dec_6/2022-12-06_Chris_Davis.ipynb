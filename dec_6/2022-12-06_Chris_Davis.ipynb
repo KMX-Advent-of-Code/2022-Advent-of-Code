{
 "cells": [
  {
   "cell_type": "markdown",
   "id": "9d731246-d4db-4f37-b4e1-213753de3f2d",
   "metadata": {},
   "source": [
    "--- Day 6: Tuning Trouble ---\n",
    "\n",
    "The preparations are finally complete; you and the Elves leave camp on foot and begin to make your way toward the star fruit grove.\n",
    "\n",
    "As you move through the dense undergrowth, one of the Elves gives you a handheld device. He says that it has many fancy features, but the most important one to set up right now is the communication system.\n",
    "\n",
    "However, because he's heard you have significant experience dealing with signal-based systems, he convinced the other Elves that it would be okay to give you their one malfunctioning device - surely you'll have no problem fixing it.\n",
    "\n",
    "As if inspired by comedic timing, the device emits a few colorful sparks.\n",
    "\n",
    "To be able to communicate with the Elves, the device needs to lock on to their signal. The signal is a series of seemingly-random characters that the device receives one at a time.\n",
    "\n",
    "To fix the communication system, you need to add a subroutine to the device that detects a start-of-packet marker in the datastream. In the protocol being used by the Elves, the start of a packet is indicated by a sequence of four characters that are all different.\n",
    "\n",
    "The device will send your subroutine a datastream buffer (your puzzle input); your subroutine needs to identify the first position where the four most recently received characters were all different. Specifically, it needs to report the number of characters from the beginning of the buffer to the end of the first such four-character marker.\n",
    "\n",
    "For example, suppose you receive the following datastream buffer:\n",
    "\n",
    "mjqjpqmgbljsphdztnvjfqwrcgsmlb\n",
    "\n",
    "After the first three characters (mjq) have been received, there haven't been enough characters received yet to find the marker. The first time a marker could occur is after the fourth character is received, making the most recent four characters mjqj. Because j is repeated, this isn't a marker.\n",
    "\n",
    "The first time a marker appears is after the seventh character arrives. Once it does, the last four characters received are jpqm, which are all different. In this case, your subroutine should report the value 7, because the first start-of-packet marker is complete after 7 characters have been processed.\n",
    "\n",
    "Here are a few more examples:\n",
    "\n",
    "    bvwbjplbgvbhsrlpgdmjqwftvncz: first marker after character 5\n",
    "    nppdvjthqldpwncqszvftbrmjlhg: first marker after character 6\n",
    "    nznrnfrfntjfmvfwmzdfjlvtqnbhcprsg: first marker after character 10\n",
    "    zcfzfwzzqfrljwzlrfnpqdbhtmscgvjw: first marker after character 11\n",
    "\n",
    "How many characters need to be processed before the first start-of-packet marker is detected?\n"
   ]
  },
  {
   "cell_type": "code",
   "execution_count": 1,
   "id": "b2adb42a-65c0-4433-bb47-48a9f8dd082c",
   "metadata": {
    "execution": {
     "iopub.execute_input": "2022-12-07T01:25:52.935691Z",
     "iopub.status.busy": "2022-12-07T01:25:52.934697Z",
     "iopub.status.idle": "2022-12-07T01:25:52.958631Z",
     "shell.execute_reply": "2022-12-07T01:25:52.957632Z",
     "shell.execute_reply.started": "2022-12-07T01:25:52.935691Z"
    },
    "tags": []
   },
   "outputs": [],
   "source": [
    "def open_file():\n",
    "    \"\"\"open the input file\"\"\"\n",
    "    with open('chris_davis_input_day6.txt') as f:\n",
    "        input_data = f.readlines()\n",
    "    return input_data"
   ]
  },
  {
   "cell_type": "code",
   "execution_count": 21,
   "id": "c0e49ce7-5332-4b17-bbf0-6ef67cf43ac6",
   "metadata": {
    "execution": {
     "iopub.execute_input": "2022-12-07T01:27:48.544287Z",
     "iopub.status.busy": "2022-12-07T01:27:48.543298Z",
     "iopub.status.idle": "2022-12-07T01:27:48.559226Z",
     "shell.execute_reply": "2022-12-07T01:27:48.558257Z",
     "shell.execute_reply.started": "2022-12-07T01:27:48.544287Z"
    },
    "tags": []
   },
   "outputs": [],
   "source": [
    "def is_starting_packet(position, list_to_investigate, packet_size):\n",
    "    \"\"\"\n",
    "    Determines if the position in the input data is a starting packet signal.\n",
    "    Starting packets are given by having 3 prior characters that are all distinct (including the current).\n",
    "    \n",
    "    Counts position in a non-pythonic way (1, 2, 3, etc)\n",
    "    \"\"\"\n",
    "    \n",
    "    #print(len(set(list_to_investigate[position-packet_size:position])), packet_size)\n",
    "    if position < packet_size:\n",
    "        return 0\n",
    "    if len(set(list_to_investigate[position-packet_size:position])) == packet_size:\n",
    "        print(list_to_investigate[position-packet_size:position])\n",
    "        return 1\n",
    "    return 0"
   ]
  },
  {
   "cell_type": "code",
   "execution_count": 22,
   "id": "851de89e-df44-47b9-9bdf-30d8ff8f9382",
   "metadata": {
    "execution": {
     "iopub.execute_input": "2022-12-07T01:27:48.729646Z",
     "iopub.status.busy": "2022-12-07T01:27:48.729646Z",
     "iopub.status.idle": "2022-12-07T01:27:48.745600Z",
     "shell.execute_reply": "2022-12-07T01:27:48.744602Z",
     "shell.execute_reply.started": "2022-12-07T01:27:48.729646Z"
    },
    "tags": []
   },
   "outputs": [],
   "source": [
    "input_data = open_file()"
   ]
  },
  {
   "cell_type": "code",
   "execution_count": 23,
   "id": "2735550b-7d8f-4584-b37b-1dfaf437be56",
   "metadata": {
    "execution": {
     "iopub.execute_input": "2022-12-07T01:27:48.908863Z",
     "iopub.status.busy": "2022-12-07T01:27:48.907864Z",
     "iopub.status.idle": "2022-12-07T01:27:48.928827Z",
     "shell.execute_reply": "2022-12-07T01:27:48.927831Z",
     "shell.execute_reply.started": "2022-12-07T01:27:48.908863Z"
    },
    "tags": []
   },
   "outputs": [],
   "source": [
    "input_list = [x for x in input_data[0]]"
   ]
  },
  {
   "cell_type": "code",
   "execution_count": 25,
   "id": "9957191c-5707-499e-81d9-a6b4091af69d",
   "metadata": {
    "execution": {
     "iopub.execute_input": "2022-12-07T01:27:52.984525Z",
     "iopub.status.busy": "2022-12-07T01:27:52.984525Z",
     "iopub.status.idle": "2022-12-07T01:27:52.997488Z",
     "shell.execute_reply": "2022-12-07T01:27:52.996490Z",
     "shell.execute_reply.started": "2022-12-07T01:27:52.984525Z"
    },
    "tags": []
   },
   "outputs": [
    {
     "name": "stdout",
     "output_type": "stream",
     "text": [
      "['b', 'd', 'j', 'q']\n",
      "1578\n"
     ]
    }
   ],
   "source": [
    "for i in range(0, len(input_list)):\n",
    "    position = i + 1\n",
    "    if is_starting_packet(position, input_list, 4) == 1:\n",
    "        print(position)\n",
    "        break"
   ]
  },
  {
   "cell_type": "markdown",
   "id": "bdbd0a78-3dcc-4b51-865c-a4b20d100092",
   "metadata": {},
   "source": [
    "--- Part Two ---\n",
    "\n",
    "Your device's communication system is correctly detecting packets, but still isn't working. It looks like it also needs to look for messages.\n",
    "\n",
    "A start-of-message marker is just like a start-of-packet marker, except it consists of 14 distinct characters rather than 4.\n",
    "\n",
    "Here are the first positions of start-of-message markers for all of the above examples:\n",
    "\n",
    "    mjqjpqmgbljsphdztnvjfqwrcgsmlb: first marker after character 19\n",
    "    bvwbjplbgvbhsrlpgdmjqwftvncz: first marker after character 23\n",
    "    nppdvjthqldpwncqszvftbrmjlhg: first marker after character 23\n",
    "    nznrnfrfntjfmvfwmzdfjlvtqnbhcprsg: first marker after character 29\n",
    "    zcfzfwzzqfrljwzlrfnpqdbhtmscgvjw: first marker after character 26\n",
    "\n",
    "How many characters need to be processed before the first start-of-message marker is detected?\n"
   ]
  },
  {
   "cell_type": "code",
   "execution_count": 26,
   "id": "aeebf7c4-2b46-42c3-8acc-eb9b11c3f85d",
   "metadata": {
    "execution": {
     "iopub.execute_input": "2022-12-07T01:28:45.443439Z",
     "iopub.status.busy": "2022-12-07T01:28:45.442426Z",
     "iopub.status.idle": "2022-12-07T01:28:45.457385Z",
     "shell.execute_reply": "2022-12-07T01:28:45.456387Z",
     "shell.execute_reply.started": "2022-12-07T01:28:45.443439Z"
    }
   },
   "outputs": [
    {
     "name": "stdout",
     "output_type": "stream",
     "text": [
      "['m', 'd', 'c', 'b', 'n', 'w', 'q', 'g', 's', 'h', 'p', 'v', 'f', 'j']\n",
      "2178\n"
     ]
    }
   ],
   "source": [
    "for i in range(0, len(input_list)):\n",
    "    position = i + 1\n",
    "    if is_starting_packet(position, input_list, 14) == 1:\n",
    "        print(position)\n",
    "        break"
   ]
  },
  {
   "cell_type": "code",
   "execution_count": null,
   "id": "61e63af5-f6eb-4181-9304-252e340c040a",
   "metadata": {},
   "outputs": [],
   "source": []
  }
 ],
 "metadata": {
  "kernelspec": {
   "display_name": "Python 3 (ipykernel)",
   "language": "python",
   "name": "python3"
  },
  "language_info": {
   "codemirror_mode": {
    "name": "ipython",
    "version": 3
   },
   "file_extension": ".py",
   "mimetype": "text/x-python",
   "name": "python",
   "nbconvert_exporter": "python",
   "pygments_lexer": "ipython3",
   "version": "3.9.7"
  }
 },
 "nbformat": 4,
 "nbformat_minor": 5
}
