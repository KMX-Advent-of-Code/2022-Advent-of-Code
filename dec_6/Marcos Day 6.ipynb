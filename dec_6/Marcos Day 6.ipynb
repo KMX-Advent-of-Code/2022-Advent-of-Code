{
 "cells": [
  {
   "cell_type": "code",
   "execution_count": 1,
   "id": "7f07d3a0",
   "metadata": {
    "ExecuteTime": {
     "end_time": "2022-12-06T04:51:55.513596Z",
     "start_time": "2022-12-06T04:51:55.468973Z"
    }
   },
   "outputs": [],
   "source": [
    "from helpers import get_input"
   ]
  },
  {
   "cell_type": "code",
   "execution_count": 2,
   "id": "26be4a10",
   "metadata": {
    "ExecuteTime": {
     "end_time": "2022-12-06T05:00:53.391018Z",
     "start_time": "2022-12-06T05:00:53.263785Z"
    }
   },
   "outputs": [
    {
     "name": "stdout",
     "output_type": "stream",
     "text": [
      "Retrieving Url\n",
      "Wrote to marcosh_input_day6.txt\n"
     ]
    }
   ],
   "source": [
    "input_text, input_list = get_input()"
   ]
  },
  {
   "cell_type": "code",
   "execution_count": 11,
   "id": "937bf727",
   "metadata": {
    "ExecuteTime": {
     "end_time": "2022-12-06T05:05:13.382020Z",
     "start_time": "2022-12-06T05:05:13.333260Z"
    }
   },
   "outputs": [],
   "source": [
    "def get_chars(x):\n",
    "    for i in range(len(x)):\n",
    "        if len(set(x[i:i+4])) == 4:\n",
    "            break\n",
    "    return(i+4)"
   ]
  },
  {
   "cell_type": "code",
   "execution_count": 13,
   "id": "2909bd42",
   "metadata": {
    "ExecuteTime": {
     "end_time": "2022-12-06T05:05:20.311309Z",
     "start_time": "2022-12-06T05:05:20.266943Z"
    }
   },
   "outputs": [
    {
     "data": {
      "text/plain": [
       "11"
      ]
     },
     "execution_count": 13,
     "metadata": {},
     "output_type": "execute_result"
    }
   ],
   "source": [
    "get_chars('zcfzfwzzqfrljwzlrfnpqdbhtmscgvjw')"
   ]
  },
  {
   "cell_type": "code",
   "execution_count": 14,
   "id": "bff09f42",
   "metadata": {
    "ExecuteTime": {
     "end_time": "2022-12-06T05:05:25.873614Z",
     "start_time": "2022-12-06T05:05:25.828265Z"
    }
   },
   "outputs": [
    {
     "data": {
      "text/plain": [
       "1647"
      ]
     },
     "execution_count": 14,
     "metadata": {},
     "output_type": "execute_result"
    }
   ],
   "source": [
    "get_chars(input_text)"
   ]
  },
  {
   "cell_type": "code",
   "execution_count": 15,
   "id": "b55060ae",
   "metadata": {
    "ExecuteTime": {
     "end_time": "2022-12-06T05:06:13.880120Z",
     "start_time": "2022-12-06T05:06:13.839514Z"
    }
   },
   "outputs": [],
   "source": [
    "def get_chars2(x):\n",
    "    for i in range(len(x)):\n",
    "        if len(set(x[i:i+14])) == 14:\n",
    "            break\n",
    "    return(i+14)"
   ]
  },
  {
   "cell_type": "code",
   "execution_count": 17,
   "id": "fdba273e",
   "metadata": {
    "ExecuteTime": {
     "end_time": "2022-12-06T05:06:26.659384Z",
     "start_time": "2022-12-06T05:06:26.612401Z"
    }
   },
   "outputs": [
    {
     "data": {
      "text/plain": [
       "26"
      ]
     },
     "execution_count": 17,
     "metadata": {},
     "output_type": "execute_result"
    }
   ],
   "source": [
    "get_chars2('zcfzfwzzqfrljwzlrfnpqdbhtmscgvjw')"
   ]
  },
  {
   "cell_type": "code",
   "execution_count": 18,
   "id": "7ba20ef7",
   "metadata": {
    "ExecuteTime": {
     "end_time": "2022-12-06T05:06:34.958273Z",
     "start_time": "2022-12-06T05:06:34.913749Z"
    }
   },
   "outputs": [
    {
     "data": {
      "text/plain": [
       "2447"
      ]
     },
     "execution_count": 18,
     "metadata": {},
     "output_type": "execute_result"
    }
   ],
   "source": [
    "get_chars2(input_text)"
   ]
  },
  {
   "cell_type": "code",
   "execution_count": 21,
   "id": "3399b64c",
   "metadata": {
    "ExecuteTime": {
     "end_time": "2022-12-06T05:08:53.639401Z",
     "start_time": "2022-12-06T05:08:53.594028Z"
    }
   },
   "outputs": [],
   "source": [
    "def get_chars_general(x,n=4):\n",
    "    for i in range(len(x)):\n",
    "        if len(set(x[i:i+n])) == n:\n",
    "            break\n",
    "    return(i+n)"
   ]
  },
  {
   "cell_type": "code",
   "execution_count": 39,
   "id": "36ba5b54",
   "metadata": {
    "ExecuteTime": {
     "end_time": "2022-12-06T12:32:21.930659Z",
     "start_time": "2022-12-06T12:32:21.895015Z"
    }
   },
   "outputs": [
    {
     "data": {
      "text/plain": [
       "1647"
      ]
     },
     "execution_count": 39,
     "metadata": {},
     "output_type": "execute_result"
    },
    {
     "data": {
      "text/plain": [
       "2447"
      ]
     },
     "execution_count": 39,
     "metadata": {},
     "output_type": "execute_result"
    }
   ],
   "source": [
    "get_chars_general(input_text,4)\n",
    "get_chars_general(input_text,14)"
   ]
  },
  {
   "cell_type": "markdown",
   "id": "a83052fd",
   "metadata": {},
   "source": [
    "### Without sets"
   ]
  },
  {
   "cell_type": "code",
   "execution_count": 41,
   "id": "4c49debe",
   "metadata": {
    "ExecuteTime": {
     "end_time": "2022-12-06T12:37:45.476004Z",
     "start_time": "2022-12-06T12:37:45.409009Z"
    }
   },
   "outputs": [
    {
     "data": {
      "text/plain": [
       "False"
      ]
     },
     "execution_count": 41,
     "metadata": {},
     "output_type": "execute_result"
    },
    {
     "data": {
      "text/plain": [
       "1647"
      ]
     },
     "execution_count": 41,
     "metadata": {},
     "output_type": "execute_result"
    },
    {
     "data": {
      "text/plain": [
       "2447"
      ]
     },
     "execution_count": 41,
     "metadata": {},
     "output_type": "execute_result"
    }
   ],
   "source": [
    "    import itertools\n",
    "\n",
    "    def all_different(x):\n",
    "        return all(z != y for z,y in itertools.combinations(x,2))\n",
    "\n",
    "    all_different(\"ABCA\")\n",
    "\n",
    "\n",
    "\n",
    "    def get_chars_general(x,n=4):\n",
    "        for i in range(len(x)):\n",
    "            if all_different(x[i:i+n]):\n",
    "                break\n",
    "        return(i+n)\n",
    "\n",
    "    get_chars_general(input_text,4)\n",
    "    get_chars_general(input_text,14)"
   ]
  },
  {
   "cell_type": "code",
   "execution_count": null,
   "id": "190aaabc",
   "metadata": {},
   "outputs": [],
   "source": []
  }
 ],
 "metadata": {
  "kernelspec": {
   "display_name": "Python 3 (ipykernel)",
   "language": "python",
   "name": "python3"
  },
  "language_info": {
   "codemirror_mode": {
    "name": "ipython",
    "version": 3
   },
   "file_extension": ".py",
   "mimetype": "text/x-python",
   "name": "python",
   "nbconvert_exporter": "python",
   "pygments_lexer": "ipython3",
   "version": "3.10.6"
  },
  "toc": {
   "base_numbering": 1,
   "nav_menu": {},
   "number_sections": true,
   "sideBar": true,
   "skip_h1_title": false,
   "title_cell": "Table of Contents",
   "title_sidebar": "Contents",
   "toc_cell": false,
   "toc_position": {},
   "toc_section_display": true,
   "toc_window_display": false
  }
 },
 "nbformat": 4,
 "nbformat_minor": 5
}
