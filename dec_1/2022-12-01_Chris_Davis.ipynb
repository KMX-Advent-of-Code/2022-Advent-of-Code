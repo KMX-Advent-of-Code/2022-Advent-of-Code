{
 "cells": [
  {
   "cell_type": "markdown",
   "id": "4c7e74b0-307e-44ab-aeda-583aa77b3d7b",
   "metadata": {},
   "source": [
    "--- Day 1: Calorie Counting ---\n",
    "Santa's reindeer typically eat regular reindeer food, but they need a lot of magical energy to deliver presents on Christmas. For that, their favorite snack is a special type of star fruit that only grows deep in the jungle. The Elves have brought you on their annual expedition to the grove where the fruit grows.\n",
    "\n",
    "To supply enough magical energy, the expedition needs to retrieve a minimum of fifty stars by December 25th. Although the Elves assure you that the grove has plenty of fruit, you decide to grab any fruit you see along the way, just in case.\n",
    "\n",
    "Collect stars by solving puzzles. Two puzzles will be made available on each day in the Advent calendar; the second puzzle is unlocked when you complete the first. Each puzzle grants one star. Good luck!\n",
    "\n",
    "The jungle must be too overgrown and difficult to navigate in vehicles or access from the air; the Elves' expedition traditionally goes on foot. As your boats approach land, the Elves begin taking inventory of their supplies. One important consideration is food - in particular, the number of Calories each Elf is carrying (your puzzle input).\n",
    "\n",
    "The Elves take turns writing down the number of Calories contained by the various meals, snacks, rations, etc. that they've brought with them, one item per line. Each Elf separates their own inventory from the previous Elf's inventory (if any) by a blank line.\n",
    "\n",
    "For example, suppose the Elves finish writing their items' Calories and end up with the following list:\n",
    "\n",
    "1000\n",
    "2000\n",
    "3000\n",
    "\n",
    "4000\n",
    "\n",
    "5000\n",
    "6000\n",
    "\n",
    "7000\n",
    "8000\n",
    "9000\n",
    "\n",
    "10000\n",
    "This list represents the Calories of the food carried by five Elves:\n",
    "\n",
    "The first Elf is carrying food with 1000, 2000, and 3000 Calories, a total of 6000 Calories.\n",
    "The second Elf is carrying one food item with 4000 Calories.\n",
    "The third Elf is carrying food with 5000 and 6000 Calories, a total of 11000 Calories.\n",
    "The fourth Elf is carrying food with 7000, 8000, and 9000 Calories, a total of 24000 Calories.\n",
    "The fifth Elf is carrying one food item with 10000 Calories.\n",
    "In case the Elves get hungry and need extra snacks, they need to know which Elf to ask: they'd like to know how many Calories are being carried by the Elf carrying the most Calories. In the example above, this is 24000 (carried by the fourth Elf).\n",
    "\n",
    "Find the Elf carrying the most Calories. How many total Calories is that Elf carrying?"
   ]
  },
  {
   "cell_type": "code",
   "execution_count": 24,
   "id": "d900531c-4f5b-4db9-9518-65c70fa031f1",
   "metadata": {
    "execution": {
     "iopub.execute_input": "2022-12-01T16:35:48.072697Z",
     "iopub.status.busy": "2022-12-01T16:35:48.072697Z",
     "iopub.status.idle": "2022-12-01T16:35:48.096631Z",
     "shell.execute_reply": "2022-12-01T16:35:48.096631Z",
     "shell.execute_reply.started": "2022-12-01T16:35:48.072697Z"
    }
   },
   "outputs": [],
   "source": [
    "from pprint import pprint"
   ]
  },
  {
   "cell_type": "code",
   "execution_count": 47,
   "id": "76e34f7f-58d4-4a64-b20e-dfe13516bf7c",
   "metadata": {
    "execution": {
     "iopub.execute_input": "2022-12-01T16:42:08.642624Z",
     "iopub.status.busy": "2022-12-01T16:42:08.642624Z",
     "iopub.status.idle": "2022-12-01T16:42:08.660576Z",
     "shell.execute_reply": "2022-12-01T16:42:08.659610Z",
     "shell.execute_reply.started": "2022-12-01T16:42:08.642624Z"
    },
    "tags": []
   },
   "outputs": [],
   "source": [
    "def open_file():\n",
    "    \"\"\"open the input file\"\"\"\n",
    "    with open('input_Chris_Davis.txt') as f:\n",
    "        input_data = f.readlines()\n",
    "    return input_data"
   ]
  },
  {
   "cell_type": "code",
   "execution_count": 48,
   "id": "0b14df6c-e98f-4f78-9197-6040cfeb7d98",
   "metadata": {
    "execution": {
     "iopub.execute_input": "2022-12-01T16:42:14.529177Z",
     "iopub.status.busy": "2022-12-01T16:42:14.529177Z",
     "iopub.status.idle": "2022-12-01T16:42:14.537181Z",
     "shell.execute_reply": "2022-12-01T16:42:14.537181Z",
     "shell.execute_reply.started": "2022-12-01T16:42:14.529177Z"
    },
    "tags": []
   },
   "outputs": [],
   "source": [
    "def clean_input_data(list_of_strings):\n",
    "    \"\"\"basic cleaning\"\"\"\n",
    "    clean_input = [x.strip() for x in list_of_strings]\n",
    "    return clean_input"
   ]
  },
  {
   "cell_type": "code",
   "execution_count": 49,
   "id": "a5eeb7da-0f56-4b69-8c0a-709ef7f966a5",
   "metadata": {
    "execution": {
     "iopub.execute_input": "2022-12-01T16:42:37.747869Z",
     "iopub.status.busy": "2022-12-01T16:42:37.747869Z",
     "iopub.status.idle": "2022-12-01T16:42:37.764856Z",
     "shell.execute_reply": "2022-12-01T16:42:37.764856Z",
     "shell.execute_reply.started": "2022-12-01T16:42:37.747869Z"
    },
    "tags": []
   },
   "outputs": [],
   "source": [
    "def assign_food_to_elves(input_list):\n",
    "    \"\"\"assign the food and calories to each elf as a dict of {elf: [calories of food]}\"\"\"\n",
    "    food_dict = {}\n",
    "    elf_number = 0\n",
    "    calorie_list_for_elf = []\n",
    "    for calories in input_list:\n",
    "        if calories != '':\n",
    "            calorie_list_for_elf.append(int(calories))\n",
    "        else:\n",
    "            food_dict[elf_number] = calorie_list_for_elf.copy()\n",
    "            elf_number += 1\n",
    "            calorie_list_for_elf = []\n",
    "\n",
    "    return food_dict"
   ]
  },
  {
   "cell_type": "code",
   "execution_count": 50,
   "id": "bd32e73e-0db3-4bfb-b4d4-c22e0624dad4",
   "metadata": {
    "execution": {
     "iopub.execute_input": "2022-12-01T16:42:47.347430Z",
     "iopub.status.busy": "2022-12-01T16:42:47.347430Z",
     "iopub.status.idle": "2022-12-01T16:42:47.364383Z",
     "shell.execute_reply": "2022-12-01T16:42:47.363383Z",
     "shell.execute_reply.started": "2022-12-01T16:42:47.347430Z"
    },
    "tags": []
   },
   "outputs": [],
   "source": [
    "def get_calories_per_elf(food_dict):\n",
    "    \"\"\"Sums the calories for each elf\"\"\"\n",
    "    sum_calorie_dict = {}\n",
    "    for elf, calorie_list in food_dict.items():\n",
    "        sum_calorie_dict[elf] = sum(calorie_list)\n",
    "    return sum_calorie_dict"
   ]
  },
  {
   "cell_type": "markdown",
   "id": "9ec170a0-9674-4ce7-bb8e-3fbfa6303678",
   "metadata": {},
   "source": [
    "# Part 1"
   ]
  },
  {
   "cell_type": "code",
   "execution_count": 31,
   "id": "a9e18e41-c072-437f-811c-5c32fe673105",
   "metadata": {
    "execution": {
     "iopub.execute_input": "2022-12-01T16:38:10.877395Z",
     "iopub.status.busy": "2022-12-01T16:38:10.877395Z",
     "iopub.status.idle": "2022-12-01T16:38:10.888360Z",
     "shell.execute_reply": "2022-12-01T16:38:10.887362Z",
     "shell.execute_reply.started": "2022-12-01T16:38:10.877395Z"
    }
   },
   "outputs": [],
   "source": [
    "input_data = open_file()"
   ]
  },
  {
   "cell_type": "code",
   "execution_count": 35,
   "id": "3015f76b-d962-432c-b50d-2012332c4592",
   "metadata": {
    "execution": {
     "iopub.execute_input": "2022-12-01T16:38:33.381447Z",
     "iopub.status.busy": "2022-12-01T16:38:33.381447Z",
     "iopub.status.idle": "2022-12-01T16:38:33.394416Z",
     "shell.execute_reply": "2022-12-01T16:38:33.393417Z",
     "shell.execute_reply.started": "2022-12-01T16:38:33.381447Z"
    },
    "scrolled": true,
    "tags": []
   },
   "outputs": [],
   "source": [
    "clean_data = clean_input_data(input_data)"
   ]
  },
  {
   "cell_type": "code",
   "execution_count": 36,
   "id": "b67fbc0e-39a5-4784-8619-821230b15a04",
   "metadata": {
    "execution": {
     "iopub.execute_input": "2022-12-01T16:38:34.603815Z",
     "iopub.status.busy": "2022-12-01T16:38:34.603815Z",
     "iopub.status.idle": "2022-12-01T16:38:34.777437Z",
     "shell.execute_reply": "2022-12-01T16:38:34.776438Z",
     "shell.execute_reply.started": "2022-12-01T16:38:34.603815Z"
    },
    "tags": []
   },
   "outputs": [],
   "source": [
    "food_dict = assign_food_to_elves(clean_data)"
   ]
  },
  {
   "cell_type": "code",
   "execution_count": 39,
   "id": "c82d24f9-35b1-4dc8-b756-8ebd987232a3",
   "metadata": {
    "execution": {
     "iopub.execute_input": "2022-12-01T16:39:24.903754Z",
     "iopub.status.busy": "2022-12-01T16:39:24.902760Z",
     "iopub.status.idle": "2022-12-01T16:39:24.913728Z",
     "shell.execute_reply": "2022-12-01T16:39:24.912730Z",
     "shell.execute_reply.started": "2022-12-01T16:39:24.903754Z"
    },
    "tags": []
   },
   "outputs": [],
   "source": [
    "sum_calorie_dict = get_calories_per_elf(food_dict)"
   ]
  },
  {
   "cell_type": "code",
   "execution_count": 46,
   "id": "79e9d38c-5a66-48af-a655-4596de94e9a6",
   "metadata": {
    "execution": {
     "iopub.execute_input": "2022-12-01T16:41:50.003995Z",
     "iopub.status.busy": "2022-12-01T16:41:50.003995Z",
     "iopub.status.idle": "2022-12-01T16:41:50.009952Z",
     "shell.execute_reply": "2022-12-01T16:41:50.008962Z",
     "shell.execute_reply.started": "2022-12-01T16:41:50.003995Z"
    },
    "tags": []
   },
   "outputs": [
    {
     "data": {
      "text/plain": [
       "72511"
      ]
     },
     "execution_count": 46,
     "metadata": {},
     "output_type": "execute_result"
    }
   ],
   "source": [
    "sum_calorie_dict[max(sum_calorie_dict, key=sum_calorie_dict.get)]"
   ]
  },
  {
   "cell_type": "markdown",
   "id": "992b81e5-88a1-4fcb-a24d-3c973d69bb16",
   "metadata": {},
   "source": [
    "72511 is the answer to part 1"
   ]
  },
  {
   "cell_type": "code",
   "execution_count": 45,
   "id": "cc37d7f7-3e9f-436b-8a5e-f589ebd98be1",
   "metadata": {
    "execution": {
     "iopub.execute_input": "2022-12-01T16:41:24.877774Z",
     "iopub.status.busy": "2022-12-01T16:41:24.877774Z",
     "iopub.status.idle": "2022-12-01T16:41:24.892620Z",
     "shell.execute_reply": "2022-12-01T16:41:24.891622Z",
     "shell.execute_reply.started": "2022-12-01T16:41:24.877774Z"
    }
   },
   "outputs": [
    {
     "data": {
      "text/plain": [
       "72511"
      ]
     },
     "execution_count": 45,
     "metadata": {},
     "output_type": "execute_result"
    }
   ],
   "source": [
    "sum_calorie_dict[185]"
   ]
  },
  {
   "cell_type": "markdown",
   "id": "a88bf54c-334b-418b-b8e6-307e797379d1",
   "metadata": {},
   "source": [
    "In case the Elves get hungry and need extra snacks, they need to know which Elf to ask: they'd like to know how many Calories are being carried by the Elf carrying the most Calories. In the example above, this is 24000 (carried by the fourth Elf).\n",
    "\n",
    "Find the Elf carrying the most Calories. How many total Calories is that Elf carrying?\n",
    "\n",
    "Your puzzle answer was 72511.\n",
    "\n",
    "The first half of this puzzle is complete! It provides one gold star: *\n",
    "\n",
    "--- Part Two ---\n",
    "By the time you calculate the answer to the Elves' question, they've already realized that the Elf carrying the most Calories of food might eventually run out of snacks.\n",
    "\n",
    "To avoid this unacceptable situation, the Elves would instead like to know the total Calories carried by the top three Elves carrying the most Calories. That way, even if one of those Elves runs out of snacks, they still have two backups.\n",
    "\n",
    "In the example above, the top three Elves are the fourth Elf (with 24000 Calories), then the third Elf (with 11000 Calories), then the fifth Elf (with 10000 Calories). The sum of the Calories carried by these three elves is 45000.\n",
    "\n",
    "Find the top three Elves carrying the most Calories. How many Calories are those Elves carrying in total?"
   ]
  },
  {
   "cell_type": "code",
   "execution_count": 52,
   "id": "8f716b66-a54a-4dc1-9201-fa972dbbeba2",
   "metadata": {
    "execution": {
     "iopub.execute_input": "2022-12-01T16:48:01.179989Z",
     "iopub.status.busy": "2022-12-01T16:48:01.178989Z",
     "iopub.status.idle": "2022-12-01T16:48:01.198937Z",
     "shell.execute_reply": "2022-12-01T16:48:01.197940Z",
     "shell.execute_reply.started": "2022-12-01T16:48:01.179989Z"
    },
    "tags": []
   },
   "outputs": [],
   "source": [
    "def get_top_calorie_elves(sum_calorie_dict, cutoff = 3):\n",
    "    \"\"\"Gets the top elves, determined by cutoff, for having the most calories. Finds the top elf in the group, then removes that elf and finds the next top elf\"\"\"\n",
    "    top_elves = []\n",
    "    calorie_dict = sum_calorie_dict.copy()\n",
    "    for x in range(cutoff):\n",
    "        top_elf = max(calorie_dict, key=calorie_dict.get)\n",
    "        top_elves.append(top_elf)\n",
    "        calorie_dict.pop(top_elf)\n",
    "    return top_elves"
   ]
  },
  {
   "cell_type": "code",
   "execution_count": 56,
   "id": "94b02121-55f1-4477-8f2f-543d0ddc534e",
   "metadata": {
    "execution": {
     "iopub.execute_input": "2022-12-01T16:49:15.222218Z",
     "iopub.status.busy": "2022-12-01T16:49:15.222218Z",
     "iopub.status.idle": "2022-12-01T16:49:15.235180Z",
     "shell.execute_reply": "2022-12-01T16:49:15.234183Z",
     "shell.execute_reply.started": "2022-12-01T16:49:15.222218Z"
    },
    "tags": []
   },
   "outputs": [],
   "source": [
    "def get_total_calories_of_elves(elf_list, sum_calorie_dict):\n",
    "    total_calories = 0\n",
    "    for elf in elf_list:\n",
    "        total_calories += sum_calorie_dict[elf]\n",
    "    return total_calories"
   ]
  },
  {
   "cell_type": "code",
   "execution_count": 54,
   "id": "92299aef-746b-4d30-b89b-1df917724c49",
   "metadata": {
    "execution": {
     "iopub.execute_input": "2022-12-01T16:48:12.404479Z",
     "iopub.status.busy": "2022-12-01T16:48:12.404479Z",
     "iopub.status.idle": "2022-12-01T16:48:12.411461Z",
     "shell.execute_reply": "2022-12-01T16:48:12.410464Z",
     "shell.execute_reply.started": "2022-12-01T16:48:12.404479Z"
    },
    "tags": []
   },
   "outputs": [],
   "source": [
    "top_elves = get_top_calorie_elves(sum_calorie_dict, 3)"
   ]
  },
  {
   "cell_type": "code",
   "execution_count": 57,
   "id": "66bef62c-39d0-4b6e-817c-8f3b806b5b41",
   "metadata": {
    "execution": {
     "iopub.execute_input": "2022-12-01T16:49:24.367968Z",
     "iopub.status.busy": "2022-12-01T16:49:24.367968Z",
     "iopub.status.idle": "2022-12-01T16:49:24.388916Z",
     "shell.execute_reply": "2022-12-01T16:49:24.388916Z",
     "shell.execute_reply.started": "2022-12-01T16:49:24.367968Z"
    }
   },
   "outputs": [
    {
     "data": {
      "text/plain": [
       "212117"
      ]
     },
     "execution_count": 57,
     "metadata": {},
     "output_type": "execute_result"
    }
   ],
   "source": [
    "get_total_calories_of_elves(top_elves, sum_calorie_dict)"
   ]
  },
  {
   "cell_type": "markdown",
   "id": "7beed1ca-24d6-4db2-89d9-bdeadf570ddd",
   "metadata": {},
   "source": [
    "the final answer if 212117"
   ]
  }
 ],
 "metadata": {
  "kernelspec": {
   "display_name": "Python 3 (ipykernel)",
   "language": "python",
   "name": "python3"
  },
  "language_info": {
   "codemirror_mode": {
    "name": "ipython",
    "version": 3
   },
   "file_extension": ".py",
   "mimetype": "text/x-python",
   "name": "python",
   "nbconvert_exporter": "python",
   "pygments_lexer": "ipython3",
   "version": "3.7.3"
  }
 },
 "nbformat": 4,
 "nbformat_minor": 5
}
