{
 "cells": [
  {
   "cell_type": "code",
   "execution_count": 2,
   "id": "9c5ce1ec",
   "metadata": {
    "ExecuteTime": {
     "end_time": "2022-12-12T05:00:45.658656Z",
     "start_time": "2022-12-12T05:00:45.612837Z"
    }
   },
   "outputs": [],
   "source": [
    "from helpers import get_input"
   ]
  },
  {
   "cell_type": "code",
   "execution_count": 3,
   "id": "4df2fe60",
   "metadata": {
    "ExecuteTime": {
     "end_time": "2022-12-12T05:00:55.616195Z",
     "start_time": "2022-12-12T05:00:55.473306Z"
    }
   },
   "outputs": [
    {
     "name": "stdout",
     "output_type": "stream",
     "text": [
      "Retrieving Url\n",
      "Wrote to marcosh_input_day12.txt\n"
     ]
    }
   ],
   "source": [
    "input_text,  input_list =  get_input()"
   ]
  },
  {
   "cell_type": "code",
   "execution_count": 6,
   "id": "8cb94f37",
   "metadata": {
    "ExecuteTime": {
     "end_time": "2022-12-12T05:02:45.164536Z",
     "start_time": "2022-12-12T05:02:45.123308Z"
    }
   },
   "outputs": [],
   "source": [
    "import string"
   ]
  },
  {
   "cell_type": "code",
   "execution_count": 96,
   "id": "3611987b",
   "metadata": {
    "ExecuteTime": {
     "end_time": "2022-12-12T13:07:03.326381Z",
     "start_time": "2022-12-12T13:07:03.252195Z"
    }
   },
   "outputs": [],
   "source": [
    "mapping_dict = {i:k for i,k in zip(string.ascii_lowercase,range(26))}"
   ]
  },
  {
   "cell_type": "code",
   "execution_count": 148,
   "id": "2d86e34c",
   "metadata": {
    "ExecuteTime": {
     "end_time": "2022-12-12T21:54:21.874317Z",
     "start_time": "2022-12-12T21:54:21.815602Z"
    }
   },
   "outputs": [
    {
     "data": {
      "text/plain": [
       "{'a': 0,\n",
       " 'b': 1,\n",
       " 'c': 2,\n",
       " 'd': 3,\n",
       " 'e': 4,\n",
       " 'f': 5,\n",
       " 'g': 6,\n",
       " 'h': 7,\n",
       " 'i': 8,\n",
       " 'j': 9,\n",
       " 'k': 10,\n",
       " 'l': 11,\n",
       " 'm': 12,\n",
       " 'n': 13,\n",
       " 'o': 14,\n",
       " 'p': 15,\n",
       " 'q': 16,\n",
       " 'r': 17,\n",
       " 's': 18,\n",
       " 't': 19,\n",
       " 'u': 20,\n",
       " 'v': 21,\n",
       " 'w': 22,\n",
       " 'x': 23,\n",
       " 'y': 24,\n",
       " 'z': 25,\n",
       " 'S': -1,\n",
       " 'E': 26}"
      ]
     },
     "execution_count": 148,
     "metadata": {},
     "output_type": "execute_result"
    }
   ],
   "source": [
    "mapping_dict\n",
    "mapping_dict.update({'S':-1,'E':26})"
   ]
  },
  {
   "cell_type": "code",
   "execution_count": 118,
   "id": "1acf16cd",
   "metadata": {
    "ExecuteTime": {
     "end_time": "2022-12-12T13:20:25.903030Z",
     "start_time": "2022-12-12T13:20:25.819341Z"
    }
   },
   "outputs": [
    {
     "data": {
      "text/plain": [
       "(array([20]), array([0]))"
      ]
     },
     "execution_count": 118,
     "metadata": {},
     "output_type": "execute_result"
    },
    {
     "data": {
      "text/plain": [
       "(array([20]), array([138]))"
      ]
     },
     "execution_count": 118,
     "metadata": {},
     "output_type": "execute_result"
    }
   ],
   "source": [
    "np.where(myarray == 27)\n",
    "np.where(myarray == -1)"
   ]
  },
  {
   "cell_type": "code",
   "execution_count": 134,
   "id": "ab4d42df",
   "metadata": {
    "ExecuteTime": {
     "end_time": "2022-12-12T13:26:43.921434Z",
     "start_time": "2022-12-12T13:26:43.843284Z"
    }
   },
   "outputs": [],
   "source": [
    "myarray = np.array([[mapping_dict[x] for x in list(x)] for x in input_list])"
   ]
  },
  {
   "cell_type": "markdown",
   "id": "74ef00c3",
   "metadata": {},
   "source": [
    "## Part 1"
   ]
  },
  {
   "cell_type": "code",
   "execution_count": 94,
   "id": "ede57620",
   "metadata": {
    "ExecuteTime": {
     "end_time": "2022-12-12T13:03:28.668655Z",
     "start_time": "2022-12-12T13:03:28.500609Z"
    }
   },
   "outputs": [],
   "source": [
    "import networkx as nx"
   ]
  },
  {
   "cell_type": "code",
   "execution_count": 135,
   "id": "c1f890f7",
   "metadata": {
    "ExecuteTime": {
     "end_time": "2022-12-12T13:26:46.482208Z",
     "start_time": "2022-12-12T13:26:46.382816Z"
    }
   },
   "outputs": [],
   "source": [
    "graph = nx.grid_2d_graph(myarray.shape[0],myarray.shape[1],create_using=nx.DiGraph) #connect everything in the grid"
   ]
  },
  {
   "cell_type": "code",
   "execution_count": 136,
   "id": "37ff4503",
   "metadata": {
    "ExecuteTime": {
     "end_time": "2022-12-12T13:26:46.776731Z",
     "start_time": "2022-12-12T13:26:46.704368Z"
    }
   },
   "outputs": [],
   "source": [
    "#get rid of illegalmoves\n",
    "graph.remove_edges_from([(x,y) for x,y in graph.edges if (myarray[x] - myarray[y]) > 1])"
   ]
  },
  {
   "cell_type": "code",
   "execution_count": 230,
   "id": "97334124",
   "metadata": {
    "ExecuteTime": {
     "end_time": "2022-12-13T04:56:57.421994Z",
     "start_time": "2022-12-13T04:56:57.363081Z"
    }
   },
   "outputs": [],
   "source": [
    "paths = nx.shortest_path_length(graph,(20,138)) #everymin path"
   ]
  },
  {
   "cell_type": "code",
   "execution_count": 231,
   "id": "3dcb7235",
   "metadata": {
    "ExecuteTime": {
     "end_time": "2022-12-13T04:56:57.863803Z",
     "start_time": "2022-12-13T04:56:57.809043Z"
    }
   },
   "outputs": [
    {
     "data": {
      "text/plain": [
       "534"
      ]
     },
     "execution_count": 231,
     "metadata": {},
     "output_type": "execute_result"
    }
   ],
   "source": [
    "paths[(20,0)] # our start"
   ]
  },
  {
   "cell_type": "markdown",
   "id": "3eea5977",
   "metadata": {},
   "source": [
    "## part 2"
   ]
  },
  {
   "cell_type": "code",
   "execution_count": 142,
   "id": "34c1233f",
   "metadata": {
    "ExecuteTime": {
     "end_time": "2022-12-12T13:35:23.532777Z",
     "start_time": "2022-12-12T13:35:23.456823Z"
    }
   },
   "outputs": [
    {
     "data": {
      "text/plain": [
       "525"
      ]
     },
     "execution_count": 142,
     "metadata": {},
     "output_type": "execute_result"
    }
   ],
   "source": [
    "min([paths[a] for a in paths if myarray[a] == 0]) #  min all 0 elevation starts"
   ]
  },
  {
   "cell_type": "markdown",
   "id": "35b6ce49",
   "metadata": {},
   "source": [
    "## none of this worked"
   ]
  },
  {
   "cell_type": "code",
   "execution_count": 143,
   "id": "a84d1ec5",
   "metadata": {
    "ExecuteTime": {
     "end_time": "2022-12-12T21:51:38.236954Z",
     "start_time": "2022-12-12T21:51:38.178767Z"
    }
   },
   "outputs": [],
   "source": [
    "from skimage.graph import MCP_Flexible"
   ]
  },
  {
   "cell_type": "code",
   "execution_count": 223,
   "id": "753eed83",
   "metadata": {
    "ExecuteTime": {
     "end_time": "2022-12-13T04:56:32.789175Z",
     "start_time": "2022-12-13T04:56:32.736112Z"
    }
   },
   "outputs": [],
   "source": [
    "class mymcp(MCP_Flexible):\n",
    "    def travel_cost(self,old_cost,new_cost,offset_length):\n",
    "        if offset_length > 1:\n",
    "            return 10000\n",
    "        if (new_cost - old_cost) > 1:\n",
    "            return 10000\n",
    "        else:\n",
    "            return 1"
   ]
  },
  {
   "cell_type": "code",
   "execution_count": 224,
   "id": "aa466d0b",
   "metadata": {
    "ExecuteTime": {
     "end_time": "2022-12-13T04:56:33.139201Z",
     "start_time": "2022-12-13T04:56:33.083509Z"
    }
   },
   "outputs": [],
   "source": [
    "m = mymcp(myarray,fully_connected=False)"
   ]
  },
  {
   "cell_type": "code",
   "execution_count": 225,
   "id": "149d5c36",
   "metadata": {
    "ExecuteTime": {
     "end_time": "2022-12-13T04:56:33.514574Z",
     "start_time": "2022-12-13T04:56:33.457793Z"
    }
   },
   "outputs": [],
   "source": [
    "costs, traceback = m.find_costs(starts=[[20,0]],ends=[[20,138]])"
   ]
  },
  {
   "cell_type": "code",
   "execution_count": 226,
   "id": "40b49ddc",
   "metadata": {
    "ExecuteTime": {
     "end_time": "2022-12-13T04:56:33.848460Z",
     "start_time": "2022-12-13T04:56:33.791349Z"
    }
   },
   "outputs": [
    {
     "data": {
      "text/plain": [
       "535"
      ]
     },
     "execution_count": 226,
     "metadata": {},
     "output_type": "execute_result"
    }
   ],
   "source": [
    "len(m.traceback([20,138]))  # off by one?!"
   ]
  },
  {
   "cell_type": "code",
   "execution_count": null,
   "id": "6a2a701c",
   "metadata": {},
   "outputs": [],
   "source": []
  }
 ],
 "metadata": {
  "kernelspec": {
   "display_name": "Python 3 (ipykernel)",
   "language": "python",
   "name": "python3"
  },
  "language_info": {
   "codemirror_mode": {
    "name": "ipython",
    "version": 3
   },
   "file_extension": ".py",
   "mimetype": "text/x-python",
   "name": "python",
   "nbconvert_exporter": "python",
   "pygments_lexer": "ipython3",
   "version": "3.10.6"
  },
  "toc": {
   "base_numbering": 1,
   "nav_menu": {},
   "number_sections": true,
   "sideBar": true,
   "skip_h1_title": false,
   "title_cell": "Table of Contents",
   "title_sidebar": "Contents",
   "toc_cell": false,
   "toc_position": {},
   "toc_section_display": true,
   "toc_window_display": false
  }
 },
 "nbformat": 4,
 "nbformat_minor": 5
}
