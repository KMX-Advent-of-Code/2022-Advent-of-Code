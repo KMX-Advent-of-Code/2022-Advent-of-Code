{
 "cells": [
  {
   "cell_type": "code",
   "execution_count": 1,
   "metadata": {},
   "outputs": [],
   "source": [
    "import numpy as np\n",
    "import pandas as pd\n",
    "import math\n",
    "import scipy\n",
    "import sys"
   ]
  },
  {
   "cell_type": "code",
   "execution_count": 51,
   "metadata": {},
   "outputs": [],
   "source": [
    "def visit_side_positions(array_visit, array_in, x, y):\n",
    "    ret = []\n",
    "    for i in range(-1,2):\n",
    "        for j in range(-1,2):\n",
    "            if i != 0 and j != 0:\n",
    "                continue\n",
    "            ii = x+i\n",
    "            jj = y+j\n",
    "            if (ii >= 0) and (ii < array_in.shape[0]) and (jj >= 0) and (jj < array_in.shape[1]):\n",
    "                ## within shape\n",
    "                if ((array_in[ii,jj] - array_in[x,y]) <= 1) and (array_visit[ii,jj] == -1 or array_visit[ii,jj] > array_visit[x,y]+1):\n",
    "                    ret.append((ii,jj))\n",
    "    return ret"
   ]
  },
  {
   "cell_type": "code",
   "execution_count": 86,
   "metadata": {},
   "outputs": [],
   "source": [
    "file1 = open('12.txt', 'r')\n",
    "lines = file1.readlines()\n",
    "start_pt = ()\n",
    "end_pt = ()\n",
    "\n",
    "\n",
    "array_in = np.array([[ord(c)-97 for c in l.replace('\\n','').replace('S','`').replace('E','{')] for l in lines])\n",
    "array_in\n",
    "\n",
    "array_visit = np.zeros(array_in.shape) - 1\n",
    "array_visit\n",
    "\n",
    "for i in range(array_in.shape[0]):\n",
    "    for j in range(array_in.shape[1]):\n",
    "        if array_in[i,j] == -1:\n",
    "            start_pt = (i,j)\n",
    "            array_visit[i,j] = 0\n",
    "        elif array_in[i,j] == 26:\n",
    "            end_pt = (i,j)\n",
    "\n",
    "# for l in lines:\n",
    "#     l_split = l.replace('\\n','')\n"
   ]
  },
  {
   "cell_type": "code",
   "execution_count": 87,
   "metadata": {},
   "outputs": [],
   "source": [
    "# array_visit = np.zeros(array_in.shape)\n",
    "array_visit\n",
    "\n",
    "expanded = True\n",
    "while expanded:\n",
    "    array_visit_new = array_visit.copy()\n",
    "    expanded = False\n",
    "    for i in range(array_in.shape[0]):\n",
    "        for j in range(array_in.shape[1]):\n",
    "            if array_visit[i,j] != -1:\n",
    "                # print(f'({i},{j}) should visit: {visit_side_positions(array_visit,array_in,i,j)}')\n",
    "                for x,y in visit_side_positions(array_visit,array_in,i,j):\n",
    "                    array_visit_new[x,y] = array_visit[i,j] + 1\n",
    "                    expanded = True\n",
    "    # print(array_visit)\n",
    "    array_visit = array_visit_new"
   ]
  },
  {
   "cell_type": "code",
   "execution_count": 88,
   "metadata": {},
   "outputs": [
    {
     "data": {
      "text/plain": [
       "array([[ 0.,  1.,  2., 19., 18., 17., 16., 15.],\n",
       "       [ 1.,  2.,  3., 20., 29., 28., 27., 14.],\n",
       "       [ 2.,  3.,  4., 21., 30., 31., 26., 13.],\n",
       "       [ 3.,  4.,  5., 22., 23., 24., 25., 12.],\n",
       "       [ 4.,  5.,  6.,  7.,  8.,  9., 10., 11.]])"
      ]
     },
     "execution_count": 88,
     "metadata": {},
     "output_type": "execute_result"
    }
   ],
   "source": [
    "array_visit"
   ]
  },
  {
   "cell_type": "code",
   "execution_count": 89,
   "metadata": {},
   "outputs": [
    {
     "data": {
      "text/plain": [
       "array([[-1,  0,  1, 16, 15, 14, 13, 12],\n",
       "       [ 0,  1,  2, 17, 24, 23, 23, 11],\n",
       "       [ 0,  2,  2, 18, 25, 26, 23, 10],\n",
       "       [ 0,  2,  2, 19, 20, 21, 22,  9],\n",
       "       [ 0,  1,  3,  4,  5,  6,  7,  8]])"
      ]
     },
     "execution_count": 89,
     "metadata": {},
     "output_type": "execute_result"
    }
   ],
   "source": [
    "array_in"
   ]
  },
  {
   "cell_type": "code",
   "execution_count": 90,
   "metadata": {},
   "outputs": [
    {
     "data": {
      "text/plain": [
       "31.0"
      ]
     },
     "execution_count": 90,
     "metadata": {},
     "output_type": "execute_result"
    }
   ],
   "source": [
    "array_visit[end_pt]"
   ]
  },
  {
   "cell_type": "markdown",
   "metadata": {},
   "source": [
    "# Second part"
   ]
  },
  {
   "cell_type": "markdown",
   "metadata": {},
   "source": [
    "we need to switch heights and find the minimum from the start pt (old end pt) to any pt with height 25"
   ]
  },
  {
   "cell_type": "code",
   "execution_count": 106,
   "metadata": {},
   "outputs": [],
   "source": [
    "start_pt = ()\n",
    "\n",
    "array_in = np.array([[25 - (ord(c)-97) for c in l.replace('\\n','').replace('S','`').replace('E','{')] for l in lines])\n",
    "array_in\n",
    "\n",
    "array_visit = np.zeros(array_in.shape) - 1\n",
    "array_in\n",
    "\n",
    "for i in range(array_in.shape[0]):\n",
    "    for j in range(array_in.shape[1]):\n",
    "        if array_in[i,j] == -1:\n",
    "            start_pt = (i,j)\n",
    "            array_visit[i,j] = 0\n",
    "\n",
    "# array_in\n"
   ]
  },
  {
   "cell_type": "code",
   "execution_count": 107,
   "metadata": {},
   "outputs": [],
   "source": [
    "# array_visit = np.zeros(array_in.shape)\n",
    "array_visit\n",
    "\n",
    "expanded = True\n",
    "while expanded:\n",
    "    array_visit_new = array_visit.copy()\n",
    "    expanded = False\n",
    "    for i in range(array_in.shape[0]):\n",
    "        for j in range(array_in.shape[1]):\n",
    "            if array_visit[i,j] != -1:\n",
    "                # print(f'({i},{j}) should visit: {visit_side_positions(array_visit,array_in,i,j)}')\n",
    "                for x,y in visit_side_positions(array_visit,array_in,i,j):\n",
    "                    array_visit_new[x,y] = array_visit[i,j] + 1\n",
    "                    expanded = True\n",
    "    # print(array_visit)\n",
    "    array_visit = array_visit_new"
   ]
  },
  {
   "cell_type": "code",
   "execution_count": 108,
   "metadata": {},
   "outputs": [
    {
     "data": {
      "text/plain": [
       "array([[403., 402., 403., ...,  -1.,  -1.,  -1.],\n",
       "       [402., 401., 402., ...,  -1.,  -1.,  -1.],\n",
       "       [401., 400., 401., ...,  -1.,  -1.,  -1.],\n",
       "       ...,\n",
       "       [389., 388., 389., ...,  -1.,  -1.,  -1.],\n",
       "       [390., 389., 390., ...,  -1.,  -1.,  -1.],\n",
       "       [391., 390., 391., ...,  -1.,  -1.,  -1.]])"
      ]
     },
     "execution_count": 108,
     "metadata": {},
     "output_type": "execute_result"
    }
   ],
   "source": [
    "array_visit"
   ]
  },
  {
   "cell_type": "code",
   "execution_count": 109,
   "metadata": {},
   "outputs": [
    {
     "data": {
      "text/plain": [
       "array([[25, 24, 25, ..., 25, 25, 25],\n",
       "       [25, 24, 25, ..., 25, 25, 25],\n",
       "       [25, 24, 25, ..., 25, 25, 25],\n",
       "       ...,\n",
       "       [25, 24, 25, ..., 25, 25, 25],\n",
       "       [25, 24, 23, ..., 25, 25, 25],\n",
       "       [25, 24, 23, ..., 25, 25, 25]])"
      ]
     },
     "execution_count": 109,
     "metadata": {},
     "output_type": "execute_result"
    }
   ],
   "source": [
    "array_in"
   ]
  },
  {
   "cell_type": "code",
   "execution_count": 111,
   "metadata": {},
   "outputs": [
    {
     "name": "stdout",
     "output_type": "stream",
     "text": [
      "old best: 9999, new best: 403.0, start_pt: (20, 43)\n",
      "old best: 403.0, new best: 402.0, start_pt: (20, 43)\n",
      "old best: 402.0, new best: 401.0, start_pt: (20, 43)\n",
      "old best: 401.0, new best: 400.0, start_pt: (20, 43)\n",
      "old best: 400.0, new best: 399.0, start_pt: (20, 43)\n",
      "old best: 399.0, new best: 398.0, start_pt: (20, 43)\n",
      "old best: 398.0, new best: 397.0, start_pt: (20, 43)\n",
      "old best: 397.0, new best: 396.0, start_pt: (20, 43)\n",
      "old best: 396.0, new best: 395.0, start_pt: (20, 43)\n",
      "old best: 395.0, new best: 394.0, start_pt: (20, 43)\n",
      "old best: 394.0, new best: 393.0, start_pt: (20, 43)\n",
      "old best: 393.0, new best: 392.0, start_pt: (20, 43)\n",
      "old best: 392.0, new best: 391.0, start_pt: (20, 43)\n",
      "old best: 391.0, new best: 390.0, start_pt: (20, 43)\n",
      "old best: 390.0, new best: 389.0, start_pt: (20, 43)\n",
      "old best: 389.0, new best: 388.0, start_pt: (20, 43)\n",
      "old best: 388.0, new best: 387.0, start_pt: (20, 43)\n",
      "old best: 387.0, new best: 386.0, start_pt: (20, 43)\n",
      "old best: 386.0, new best: 385.0, start_pt: (20, 43)\n",
      "old best: 385.0, new best: 384.0, start_pt: (20, 43)\n",
      "old best: 384.0, new best: 382.0, start_pt: (20, 43)\n",
      "old best: 382.0, new best: 381.0, start_pt: (20, 43)\n",
      "old best: 381.0, new best: 380.0, start_pt: (20, 43)\n",
      "old best: 380.0, new best: 379.0, start_pt: (20, 43)\n",
      "old best: 379.0, new best: 378.0, start_pt: (20, 43)\n",
      "old best: 378.0, new best: 377.0, start_pt: (20, 43)\n"
     ]
    }
   ],
   "source": [
    "best = 9999\n",
    "\n",
    "for i in range(array_in.shape[0]):\n",
    "    for j in range(array_in.shape[1]):\n",
    "        if array_in[i,j] == 25 and best > array_visit[i,j] and array_visit[i,j] > 0:\n",
    "            print(f'old best: {best}, new best: {array_visit[i,j]}, start_pt: {start_pt}')\n",
    "            best = array_visit[i,j]"
   ]
  },
  {
   "cell_type": "code",
   "execution_count": null,
   "metadata": {},
   "outputs": [],
   "source": []
  }
 ],
 "metadata": {
  "kernelspec": {
   "display_name": "Python 3.11.0 64-bit",
   "language": "python",
   "name": "python3"
  },
  "language_info": {
   "codemirror_mode": {
    "name": "ipython",
    "version": 3
   },
   "file_extension": ".py",
   "mimetype": "text/x-python",
   "name": "python",
   "nbconvert_exporter": "python",
   "pygments_lexer": "ipython3",
   "version": "3.11.0"
  },
  "orig_nbformat": 4,
  "vscode": {
   "interpreter": {
    "hash": "aee8b7b246df8f9039afb4144a1f6fd8d2ca17a180786b69acc140d282b71a49"
   }
  }
 },
 "nbformat": 4,
 "nbformat_minor": 2
}
