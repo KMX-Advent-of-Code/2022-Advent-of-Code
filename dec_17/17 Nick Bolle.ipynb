{
 "cells": [
  {
   "cell_type": "markdown",
   "id": "cc902ab4",
   "metadata": {},
   "source": [
    "Organization:\n",
    "- Work\n",
    "  - 1 test: defining functions for part 1, testing on test input\n",
    "  - 1 run: getting answer for part 1\n",
    "  - 2 test: ...\n",
    "  - 2 run: ...\n",
    "- Utilities: functions I think might help parse general inputs\n",
    "- Inputs: where I define the test (_t_) and problem (_s_) inputs"
   ]
  },
  {
   "cell_type": "markdown",
   "id": "d1881444",
   "metadata": {},
   "source": [
    "# Work"
   ]
  },
  {
   "cell_type": "markdown",
   "id": "eb1b228f",
   "metadata": {},
   "source": [
    "## 1 test\n",
    "\n",
    "The tallest rock is 4 units tall, so after 2022 steps the tower can be at most 8088 blocks tall. So a 8100 x 7 chamber would be enough to store all the data.\n",
    "\n",
    "Start with a floor of rock in the cave, and one by one drop rocks subject to the jets of air."
   ]
  },
  {
   "cell_type": "code",
   "execution_count": 42,
   "id": "742966db",
   "metadata": {},
   "outputs": [
    {
     "data": {
      "text/plain": [
       "'>>><<><>><<<>><>>><<<>>><<<><<<>><>><<>>'"
      ]
     },
     "execution_count": 42,
     "metadata": {},
     "output_type": "execute_result"
    }
   ],
   "source": [
    "# Parse the input\n",
    "jets = clean(t)\n",
    "n = len(jets)\n",
    "jets"
   ]
  },
  {
   "cell_type": "code",
   "execution_count": 43,
   "id": "d329876d",
   "metadata": {},
   "outputs": [],
   "source": [
    "# (i,j) of bottom left corner of the square hitbox\n",
    "def create_rock(i, j, k_rock):\n",
    "    rock = []\n",
    "    match k_rock:\n",
    "        case 0:\n",
    "            rock = [(i,j), (i,j+1), (i,j+2), (i,j+3)]\n",
    "        case 1:\n",
    "            rock = [(i,j+1), (i-1,j), (i-1,j+1), (i-1,j+2), (i-2,j+1)]\n",
    "        case 2:\n",
    "            rock = [(i,j), (i,j+1), (i,j+2), (i-1,j+2), (i-2,j+2)]\n",
    "        case 3:\n",
    "            rock = [(i,j), (i-1,j), (i-2,j), (i-3,j)]\n",
    "        case 4:\n",
    "            rock = [(i,j), (i,j+1), (i-1,j), (i-1,j+1)]\n",
    "    \n",
    "    # Sanity check\n",
    "    assert rock\n",
    "    \n",
    "    return rock\n",
    "\n",
    "# Return the new rock location and a flag for whether we should still be dropping\n",
    "def update(rock, k_jet):\n",
    "    ## Jet\n",
    "    \n",
    "    # Jet direction\n",
    "    if jets[k_jet] == '<':\n",
    "        d = -1\n",
    "    else:\n",
    "        d = 1\n",
    "    \n",
    "    # Tentative new rock\n",
    "    new_rock = [(i,j+d) for i,j in rock]\n",
    "    \n",
    "    # Check if this was valid\n",
    "    valid = True\n",
    "    for i,j in new_rock:\n",
    "        # Out of bounds\n",
    "        if not (0 <= j < 7):\n",
    "            valid = False\n",
    "            break\n",
    "        \n",
    "        # Collide with the cave\n",
    "        if cave[i,j]:\n",
    "            valid = False\n",
    "            break\n",
    "    \n",
    "    # Apply the jet only if the sideways push was valid\n",
    "    if valid:\n",
    "        rock = new_rock\n",
    "    \n",
    "    ## Drop\n",
    "    \n",
    "    # Tentative new rock\n",
    "    new_rock = [(i+1,j) for i,j in rock]\n",
    "    \n",
    "    # Check if this was valid\n",
    "    valid = True\n",
    "    for i,j in new_rock:\n",
    "        # Collide with the cave\n",
    "        if cave[i,j]:\n",
    "            valid = False\n",
    "            break\n",
    "    \n",
    "    # Apply the drop only if valid\n",
    "    # If the drop was valid, we can keep moving this rock\n",
    "    if valid:\n",
    "        rock = new_rock\n",
    "        dropping_flag = True\n",
    "    else:\n",
    "        dropping_flag = False\n",
    "    \n",
    "    return rock, dropping_flag\n",
    "\n",
    "def print_cave(rows):\n",
    "    for row in cave[-rows:,:]:\n",
    "        print(''.join(['#' if b else '.' for b in row]))"
   ]
  },
  {
   "cell_type": "code",
   "execution_count": 44,
   "id": "cc6fd3e3",
   "metadata": {},
   "outputs": [],
   "source": [
    "import numpy as np"
   ]
  },
  {
   "cell_type": "code",
   "execution_count": 66,
   "id": "fbed4c53",
   "metadata": {},
   "outputs": [],
   "source": [
    "# Empty cave\n",
    "cave = np.zeros((8100, 7), dtype=bool)\n",
    "\n",
    "# Rock floor\n",
    "cave[-1,:] = True"
   ]
  },
  {
   "cell_type": "code",
   "execution_count": 67,
   "id": "d0bc7719",
   "metadata": {},
   "outputs": [],
   "source": [
    "# Number of rocks to drop\n",
    "num_rocks = 10\n",
    "\n",
    "# Keep a running counter of which jet we're using next\n",
    "k_jet = 0\n",
    "\n",
    "# And an index for the lowest empty row\n",
    "i_empty = 8098\n",
    "\n",
    "# Iterate through rocks\n",
    "for k in range(num_rocks):\n",
    "    # For peace of mind:\n",
    "    assert i_empty > 10\n",
    "    \n",
    "    # The rock we'll drop\n",
    "    k_rock = k % 5\n",
    "    \n",
    "    # Create the rock as its locations in space\n",
    "    rock = create_rock(i_empty - 3, 2, k_rock)\n",
    "    \n",
    "    # Drop the rock according to the running count of jets\n",
    "    dropping_flag = True\n",
    "    while dropping_flag:\n",
    "        # Try to apply the jets and drop the rock\n",
    "        rock, dropping_flag = update(rock, k_jet)\n",
    "        k_jet = (k_jet + 1) % n\n",
    "    \n",
    "    # Finalize the position of the rock and update the empty row\n",
    "    for i,j in rock:\n",
    "        cave[i,j] = True\n",
    "        i_empty = min(i_empty, i-1)"
   ]
  },
  {
   "cell_type": "code",
   "execution_count": 68,
   "id": "2d0778a5",
   "metadata": {},
   "outputs": [
    {
     "name": "stdout",
     "output_type": "stream",
     "text": [
      ".......\n",
      ".......\n",
      "....#..\n",
      "....#..\n",
      "....##.\n",
      "##..##.\n",
      "######.\n",
      ".###...\n",
      "..#....\n",
      ".####..\n",
      "....##.\n",
      "....##.\n",
      "....#..\n",
      "..#.#..\n",
      "..#.#..\n",
      "#####..\n",
      "..###..\n",
      "...#...\n",
      "..####.\n",
      "#######\n"
     ]
    }
   ],
   "source": [
    "print_cave(20)"
   ]
  },
  {
   "cell_type": "code",
   "execution_count": 69,
   "id": "48dfe2de",
   "metadata": {},
   "outputs": [],
   "source": [
    "# Empty cave\n",
    "cave = np.zeros((8100, 7), dtype=bool)\n",
    "\n",
    "# Rock floor\n",
    "cave[-1,:] = True\n",
    "\n",
    "# Number of rocks to drop\n",
    "num_rocks = 2022\n",
    "\n",
    "# Keep a running counter of which jet we're using next\n",
    "k_jet = 0\n",
    "\n",
    "# And an index for the lowest empty row\n",
    "i_empty = 8098\n",
    "\n",
    "# Iterate through rocks\n",
    "for k in range(num_rocks):\n",
    "    # For peace of mind:\n",
    "    assert i_empty > 10\n",
    "    \n",
    "    # The rock we'll drop\n",
    "    k_rock = k % 5\n",
    "    \n",
    "    # Create the rock as its locations in space\n",
    "    rock = create_rock(i_empty - 3, 2, k_rock)\n",
    "    \n",
    "    # Drop the rock according to the running count of jets\n",
    "    dropping_flag = True\n",
    "    while dropping_flag:\n",
    "        # Try to apply the jets and drop the rock\n",
    "        rock, dropping_flag = update(rock, k_jet)\n",
    "        k_jet = (k_jet + 1) % n\n",
    "    \n",
    "    # Finalize the position of the rock and update the index of the lowest empty row\n",
    "    for i,j in rock:\n",
    "        cave[i,j] = True\n",
    "        i_empty = min(i_empty, i-1)"
   ]
  },
  {
   "cell_type": "code",
   "execution_count": 73,
   "id": "166aa903",
   "metadata": {},
   "outputs": [
    {
     "data": {
      "text/plain": [
       "3068"
      ]
     },
     "execution_count": 73,
     "metadata": {},
     "output_type": "execute_result"
    }
   ],
   "source": [
    "# len(cave) - i_empty is roughly the height of the tower, except\n",
    "# Minus 1 because indices start at zero\n",
    "# Minus 1 because I filled in the floor of the cave\n",
    "len(cave) - i_empty - 2"
   ]
  },
  {
   "cell_type": "markdown",
   "id": "97486550",
   "metadata": {},
   "source": [
    "## 1 run"
   ]
  },
  {
   "cell_type": "code",
   "execution_count": 82,
   "id": "dda9b106",
   "metadata": {},
   "outputs": [],
   "source": [
    "# Parse the input\n",
    "jets = clean(s)\n",
    "n = len(jets)"
   ]
  },
  {
   "cell_type": "code",
   "execution_count": 83,
   "id": "c44f4f72",
   "metadata": {},
   "outputs": [
    {
     "data": {
      "text/plain": [
       "3059"
      ]
     },
     "execution_count": 83,
     "metadata": {},
     "output_type": "execute_result"
    }
   ],
   "source": [
    "# Empty cave\n",
    "cave = np.zeros((8100, 7), dtype=bool)\n",
    "\n",
    "# Rock floor\n",
    "cave[-1,:] = True\n",
    "\n",
    "# Number of rocks to drop\n",
    "num_rocks = 2022\n",
    "\n",
    "# Keep a running counter of which jet we're using next\n",
    "k_jet = 0\n",
    "\n",
    "# And an index for the lowest empty row\n",
    "i_empty = 8098\n",
    "\n",
    "# Iterate through rocks\n",
    "for k in range(num_rocks):\n",
    "    # For peace of mind:\n",
    "    assert i_empty > 10\n",
    "    \n",
    "    # The rock we'll drop\n",
    "    k_rock = k % 5\n",
    "    \n",
    "    # Create the rock as its locations in space\n",
    "    rock = create_rock(i_empty - 3, 2, k_rock)\n",
    "    \n",
    "    # Drop the rock according to the running count of jets\n",
    "    dropping_flag = True\n",
    "    while dropping_flag:\n",
    "        # Try to apply the jets and drop the rock\n",
    "        rock, dropping_flag = update(rock, k_jet)\n",
    "        k_jet = (k_jet + 1) % n\n",
    "    \n",
    "    # Finalize the position of the rock and update the index of the lowest empty row\n",
    "    for i,j in rock:\n",
    "        cave[i,j] = True\n",
    "        i_empty = min(i_empty, i-1)\n",
    "\n",
    "# Answer\n",
    "len(cave) - i_empty - 2"
   ]
  },
  {
   "cell_type": "markdown",
   "id": "cf29851d",
   "metadata": {},
   "source": [
    "## 2 test\n",
    "\n",
    "We're dropping 1 trillion rocks: obviously running the full simulation won't work out! So there has to be a trick:\n",
    "- The rock pattern probably cycles after a certain point\n",
    "- The main input gives 10093 jets (prime) and there are 5 rocks, so at some point it must be true that we get back to rock 0 and jet 0\n",
    "- Let's see how long that takes, and if the rocks cycle after that"
   ]
  },
  {
   "cell_type": "code",
   "execution_count": 135,
   "id": "e0df5f4c",
   "metadata": {},
   "outputs": [],
   "source": [
    "# Parse the input\n",
    "jets = clean(t)\n",
    "n = len(jets)\n",
    "\n",
    "# Empty cave\n",
    "cave = np.zeros((8100, 7), dtype=bool)\n",
    "\n",
    "# Rock floor\n",
    "cave[-1,:] = True\n",
    "\n",
    "# Number of rocks to drop\n",
    "num_rocks = 5000\n",
    "\n",
    "# Keep a running counter of which jet we're using next\n",
    "k_jet = 0\n",
    "\n",
    "# And an index for the lowest empty row\n",
    "i_empty = 8098\n",
    "\n",
    "# Keep track to look for cycles\n",
    "record = []\n",
    "\n",
    "# Iterate through rocks\n",
    "for k in range(num_rocks):    \n",
    "    # For peace of mind:\n",
    "    assert i_empty > 10\n",
    "    \n",
    "    # The rock we'll drop\n",
    "    k_rock = k % 5\n",
    "    \n",
    "    # Before dropping each rock, record the current rock, jet, number of rocks dropped, and height\n",
    "    record += [(k_rock, k_jet, k, i_empty)]\n",
    "    \n",
    "    # Create the rock as its locations in space\n",
    "    rock = create_rock(i_empty - 3, 2, k_rock)\n",
    "    \n",
    "    # Drop the rock according to the running count of jets\n",
    "    dropping_flag = True\n",
    "    while dropping_flag:\n",
    "        # Try to apply the jets and drop the rock\n",
    "        rock, dropping_flag = update(rock, k_jet)\n",
    "        k_jet = (k_jet + 1) % n\n",
    "    \n",
    "    # Finalize the position of the rock and update the index of the lowest empty row\n",
    "    for i,j in rock:\n",
    "        cave[i,j] = True\n",
    "        i_empty = min(i_empty, i-1)"
   ]
  },
  {
   "cell_type": "markdown",
   "id": "3a43946c",
   "metadata": {},
   "source": [
    "It looks like we enter into a cycle of 35 rocks with height 53 pretty quickly! I could verify it by checking the cave, but surely this is not some insane fluke."
   ]
  },
  {
   "cell_type": "code",
   "execution_count": 136,
   "id": "4fb492e8",
   "metadata": {},
   "outputs": [
    {
     "name": "stdout",
     "output_type": "stream",
     "text": [
      "0 2 15 8073\n",
      "0 2 50 8020\n"
     ]
    }
   ],
   "source": [
    "d = {}\n",
    "for rock, jet, k, i in record:\n",
    "    if (rock,jet) in d:\n",
    "        print(*d[(rock,jet)])\n",
    "        print(rock, jet, k, i)\n",
    "        break\n",
    "    d[(rock,jet)] = (rock,jet,k,i)"
   ]
  },
  {
   "cell_type": "code",
   "execution_count": 137,
   "id": "0d5e8d25",
   "metadata": {},
   "outputs": [
    {
     "name": "stdout",
     "output_type": "stream",
     "text": [
      "15 8073\n",
      "50 8020\n",
      "85 7967\n",
      "120 7914\n",
      "155 7861\n",
      "190 7808\n",
      "225 7755\n",
      "260 7702\n",
      "295 7649\n",
      "330 7596\n",
      "365 7543\n",
      "400 7490\n",
      "435 7437\n",
      "470 7384\n",
      "505 7331\n",
      "540 7278\n",
      "575 7225\n",
      "610 7172\n",
      "645 7119\n",
      "680 7066\n",
      "715 7013\n",
      "750 6960\n",
      "785 6907\n",
      "820 6854\n",
      "855 6801\n",
      "890 6748\n",
      "925 6695\n",
      "960 6642\n",
      "995 6589\n",
      "1030 6536\n",
      "1065 6483\n",
      "1100 6430\n",
      "1135 6377\n",
      "1170 6324\n",
      "1205 6271\n",
      "1240 6218\n",
      "1275 6165\n",
      "1310 6112\n",
      "1345 6059\n",
      "1380 6006\n",
      "1415 5953\n",
      "1450 5900\n",
      "1485 5847\n",
      "1520 5794\n",
      "1555 5741\n",
      "1590 5688\n",
      "1625 5635\n",
      "1660 5582\n",
      "1695 5529\n",
      "1730 5476\n",
      "1765 5423\n",
      "1800 5370\n",
      "1835 5317\n",
      "1870 5264\n",
      "1905 5211\n",
      "1940 5158\n",
      "1975 5105\n",
      "2010 5052\n",
      "2045 4999\n",
      "2080 4946\n",
      "2115 4893\n",
      "2150 4840\n",
      "2185 4787\n",
      "2220 4734\n",
      "2255 4681\n",
      "2290 4628\n",
      "2325 4575\n",
      "2360 4522\n",
      "2395 4469\n",
      "2430 4416\n",
      "2465 4363\n",
      "2500 4310\n",
      "2535 4257\n",
      "2570 4204\n",
      "2605 4151\n",
      "2640 4098\n",
      "2675 4045\n",
      "2710 3992\n",
      "2745 3939\n",
      "2780 3886\n",
      "2815 3833\n",
      "2850 3780\n",
      "2885 3727\n",
      "2920 3674\n",
      "2955 3621\n",
      "2990 3568\n",
      "3025 3515\n",
      "3060 3462\n",
      "3095 3409\n",
      "3130 3356\n",
      "3165 3303\n",
      "3200 3250\n",
      "3235 3197\n",
      "3270 3144\n",
      "3305 3091\n",
      "3340 3038\n",
      "3375 2985\n",
      "3410 2932\n",
      "3445 2879\n",
      "3480 2826\n",
      "3515 2773\n",
      "3550 2720\n",
      "3585 2667\n",
      "3620 2614\n",
      "3655 2561\n",
      "3690 2508\n",
      "3725 2455\n",
      "3760 2402\n",
      "3795 2349\n",
      "3830 2296\n",
      "3865 2243\n",
      "3900 2190\n",
      "3935 2137\n",
      "3970 2084\n",
      "4005 2031\n",
      "4040 1978\n",
      "4075 1925\n",
      "4110 1872\n",
      "4145 1819\n",
      "4180 1766\n",
      "4215 1713\n",
      "4250 1660\n",
      "4285 1607\n",
      "4320 1554\n",
      "4355 1501\n",
      "4390 1448\n",
      "4425 1395\n",
      "4460 1342\n",
      "4495 1289\n",
      "4530 1236\n",
      "4565 1183\n",
      "4600 1130\n",
      "4635 1077\n",
      "4670 1024\n",
      "4705 971\n",
      "4740 918\n",
      "4775 865\n",
      "4810 812\n",
      "4845 759\n",
      "4880 706\n",
      "4915 653\n",
      "4950 600\n",
      "4985 547\n"
     ]
    }
   ],
   "source": [
    "# Printing the number of rocks and height along this cycle\n",
    "for rock, jet, k, i in record:\n",
    "    if rock == 0 and jet == 2:\n",
    "        print(k,i)"
   ]
  },
  {
   "cell_type": "code",
   "execution_count": 154,
   "id": "1507dab7",
   "metadata": {},
   "outputs": [
    {
     "name": "stdout",
     "output_type": "stream",
     "text": [
      "1.514285714288\n",
      "1.5142857142857142\n"
     ]
    }
   ],
   "source": [
    "# This matches the expect answer because the average height gained per rock is about equal to 53/35\n",
    "print(1514285714288 / 1000000000000)\n",
    "print(53/35)"
   ]
  },
  {
   "cell_type": "markdown",
   "id": "6ae9da9e",
   "metadata": {},
   "source": [
    "(You even use continued fractions to guess at the cycle length! But that's not precise enough for what we want.)"
   ]
  },
  {
   "cell_type": "markdown",
   "id": "f92d62cc",
   "metadata": {},
   "source": [
    "Now to turn that into an answer, account for the bulk of the height with these cycles and the remaining height through simulation"
   ]
  },
  {
   "cell_type": "code",
   "execution_count": 160,
   "id": "c1be09c5",
   "metadata": {},
   "outputs": [
    {
     "data": {
      "text/plain": [
       "28571428571"
      ]
     },
     "execution_count": 160,
     "metadata": {},
     "output_type": "execute_result"
    }
   ],
   "source": [
    "target_rocks = 1000000000000\n",
    "target_rocks // 35"
   ]
  },
  {
   "cell_type": "code",
   "execution_count": 161,
   "id": "94f90e55",
   "metadata": {},
   "outputs": [
    {
     "data": {
      "text/plain": [
       "999999999950"
      ]
     },
     "execution_count": 161,
     "metadata": {},
     "output_type": "execute_result"
    }
   ],
   "source": [
    "# So let's assume 999999999950 rocks are accounted for via this method\n",
    "# (Being a bit conservative to avoid any edge effects)\n",
    "28571428570 * 35"
   ]
  },
  {
   "cell_type": "code",
   "execution_count": 162,
   "id": "df09d60a",
   "metadata": {},
   "outputs": [
    {
     "data": {
      "text/plain": [
       "1514285714210"
      ]
     },
     "execution_count": 162,
     "metadata": {},
     "output_type": "execute_result"
    }
   ],
   "source": [
    "# That contributes a height of 1514285714210\n",
    "28571428570 * 53"
   ]
  },
  {
   "cell_type": "markdown",
   "id": "b96afa55",
   "metadata": {},
   "source": [
    "Now find the height of the remaining 50 rocks"
   ]
  },
  {
   "cell_type": "code",
   "execution_count": 158,
   "id": "08da32e2",
   "metadata": {},
   "outputs": [],
   "source": [
    "# Parse the input\n",
    "jets = clean(t)\n",
    "n = len(jets)\n",
    "\n",
    "# Empty cave\n",
    "cave = np.zeros((8100, 7), dtype=bool)\n",
    "\n",
    "# Rock floor\n",
    "cave[-1,:] = True\n",
    "\n",
    "# Number of rocks to drop\n",
    "num_rocks = 50\n",
    "\n",
    "# Keep a running counter of which jet we're using next\n",
    "k_jet = 0\n",
    "\n",
    "# And an index for the lowest empty row\n",
    "i_empty = 8098\n",
    "\n",
    "# Iterate through rocks\n",
    "for k in range(num_rocks):    \n",
    "    # For peace of mind:\n",
    "    assert i_empty > 10\n",
    "    \n",
    "    # The rock we'll drop\n",
    "    k_rock = k % 5\n",
    "    \n",
    "    # Create the rock as its locations in space\n",
    "    rock = create_rock(i_empty - 3, 2, k_rock)\n",
    "    \n",
    "    # Drop the rock according to the running count of jets\n",
    "    dropping_flag = True\n",
    "    while dropping_flag:\n",
    "        # Try to apply the jets and drop the rock\n",
    "        rock, dropping_flag = update(rock, k_jet)\n",
    "        k_jet = (k_jet + 1) % n\n",
    "    \n",
    "    # Finalize the position of the rock and update the index of the lowest empty row\n",
    "    for i,j in rock:\n",
    "        cave[i,j] = True\n",
    "        i_empty = min(i_empty, i-1)"
   ]
  },
  {
   "cell_type": "code",
   "execution_count": 159,
   "id": "8ed4bfdb",
   "metadata": {},
   "outputs": [
    {
     "data": {
      "text/plain": [
       "78"
      ]
     },
     "execution_count": 159,
     "metadata": {},
     "output_type": "execute_result"
    }
   ],
   "source": [
    "len(cave) - i_empty - 2"
   ]
  },
  {
   "cell_type": "code",
   "execution_count": 163,
   "id": "bc2c39c0",
   "metadata": {},
   "outputs": [
    {
     "data": {
      "text/plain": [
       "1514285714288"
      ]
     },
     "execution_count": 163,
     "metadata": {},
     "output_type": "execute_result"
    }
   ],
   "source": [
    "# All together\n",
    "1514285714210 + 78"
   ]
  },
  {
   "cell_type": "markdown",
   "id": "83afc96c",
   "metadata": {},
   "source": [
    "It worked!"
   ]
  },
  {
   "cell_type": "markdown",
   "id": "a2c20e06",
   "metadata": {},
   "source": [
    "## 2 run"
   ]
  },
  {
   "cell_type": "markdown",
   "id": "4330ab03",
   "metadata": {},
   "source": [
    "Simluate more to be sure of the cycle"
   ]
  },
  {
   "cell_type": "code",
   "execution_count": 170,
   "id": "86593da3",
   "metadata": {},
   "outputs": [],
   "source": [
    "# Parse the input\n",
    "jets = clean(s)\n",
    "n = len(jets)\n",
    "\n",
    "# Empty cave\n",
    "cave = np.zeros((20000, 7), dtype=bool)\n",
    "\n",
    "# Rock floor\n",
    "cave[-1,:] = True\n",
    "\n",
    "# Number of rocks to drop\n",
    "num_rocks = 10000\n",
    "\n",
    "# Keep a running counter of which jet we're using next\n",
    "k_jet = 0\n",
    "\n",
    "# And an index for the lowest empty row\n",
    "i_empty = 20000-2\n",
    "\n",
    "# Keep track to look for cycles\n",
    "record = []\n",
    "\n",
    "# Iterate through rocks\n",
    "for k in range(num_rocks):    \n",
    "    # For peace of mind:\n",
    "    assert i_empty > 10\n",
    "    \n",
    "    # The rock we'll drop\n",
    "    k_rock = k % 5\n",
    "    \n",
    "    # Before dropping each rock, record the current rock, jet, number of rocks dropped, and height\n",
    "    record += [(k_rock, k_jet, k, i_empty)]\n",
    "    \n",
    "    # Create the rock as its locations in space\n",
    "    rock = create_rock(i_empty - 3, 2, k_rock)\n",
    "    \n",
    "    # Drop the rock according to the running count of jets\n",
    "    dropping_flag = True\n",
    "    while dropping_flag:\n",
    "        # Try to apply the jets and drop the rock\n",
    "        rock, dropping_flag = update(rock, k_jet)\n",
    "        k_jet = (k_jet + 1) % n\n",
    "    \n",
    "    # Finalize the position of the rock and update the index of the lowest empty row\n",
    "    for i,j in rock:\n",
    "        cave[i,j] = True\n",
    "        i_empty = min(i_empty, i-1)"
   ]
  },
  {
   "cell_type": "code",
   "execution_count": 171,
   "id": "ac62bcc6",
   "metadata": {},
   "outputs": [
    {
     "name": "stdout",
     "output_type": "stream",
     "text": [
      "2 934 162 19754\n",
      "2 934 1882 17145\n"
     ]
    }
   ],
   "source": [
    "d = {}\n",
    "for rock, jet, k, i in record:\n",
    "    if (rock,jet) in d:\n",
    "        print(*d[(rock,jet)])\n",
    "        print(rock, jet, k, i)\n",
    "        break\n",
    "    d[(rock,jet)] = (rock,jet,k,i)"
   ]
  },
  {
   "cell_type": "code",
   "execution_count": 172,
   "id": "e013bc6d",
   "metadata": {},
   "outputs": [
    {
     "name": "stdout",
     "output_type": "stream",
     "text": [
      "162 19754\n",
      "1882 17145\n",
      "3597 14571\n",
      "5312 11997\n",
      "7027 9423\n",
      "8742 6849\n"
     ]
    }
   ],
   "source": [
    "# Printing the number of rocks and height along this cycle\n",
    "for rock, jet, k, i in record:\n",
    "    if rock == 2 and jet == 934:\n",
    "        print(k,i)"
   ]
  },
  {
   "cell_type": "code",
   "execution_count": 175,
   "id": "8616f597",
   "metadata": {},
   "outputs": [
    {
     "name": "stdout",
     "output_type": "stream",
     "text": [
      "1720 2609\n",
      "1715 2574\n",
      "1715 2574\n",
      "1715 2574\n",
      "1715 2574\n"
     ]
    }
   ],
   "source": [
    "print(1882 - 162, 19754 - 17145)\n",
    "print(3597  - 1882, 17145 - 14571)\n",
    "print(5312  - 3597 , 14571 - 11997)\n",
    "print(7027  - 5312 , 11997 - 9423)\n",
    "print(8742  - 7027, 9423 - 6849)"
   ]
  },
  {
   "cell_type": "markdown",
   "id": "53f02be6",
   "metadata": {},
   "source": [
    "So after nearly 2000 rocks we enter a cycle of 1715 rocks with height 2574"
   ]
  },
  {
   "cell_type": "code",
   "execution_count": 178,
   "id": "e8074df8",
   "metadata": {},
   "outputs": [
    {
     "data": {
      "text/plain": [
       "1500874635568"
      ]
     },
     "execution_count": 178,
     "metadata": {},
     "output_type": "execute_result"
    }
   ],
   "source": [
    "# Ballpark of expected answer\n",
    "int(1000000000000 / 1715 * 2574)"
   ]
  },
  {
   "cell_type": "code",
   "execution_count": 176,
   "id": "4fbe2630",
   "metadata": {},
   "outputs": [
    {
     "data": {
      "text/plain": [
       "583090379"
      ]
     },
     "execution_count": 176,
     "metadata": {},
     "output_type": "execute_result"
    }
   ],
   "source": [
    "target_rocks = 1000000000000\n",
    "target_rocks // 1715"
   ]
  },
  {
   "cell_type": "code",
   "execution_count": 180,
   "id": "bd4e66cb",
   "metadata": {},
   "outputs": [
    {
     "data": {
      "text/plain": [
       "999999996555"
      ]
     },
     "execution_count": 180,
     "metadata": {},
     "output_type": "execute_result"
    }
   ],
   "source": [
    "# So let's assume 999999996555 rocks are accounted for via this method\n",
    "# (Being a bit conservative to avoid any edge effects)\n",
    "583090377 * 1715"
   ]
  },
  {
   "cell_type": "code",
   "execution_count": 181,
   "id": "8a914530",
   "metadata": {},
   "outputs": [
    {
     "data": {
      "text/plain": [
       "3445"
      ]
     },
     "execution_count": 181,
     "metadata": {},
     "output_type": "execute_result"
    }
   ],
   "source": [
    "# How many are left\n",
    "target_rocks - 999999996555"
   ]
  },
  {
   "cell_type": "code",
   "execution_count": 182,
   "id": "e5aa4bbb",
   "metadata": {},
   "outputs": [
    {
     "data": {
      "text/plain": [
       "1500874630398"
      ]
     },
     "execution_count": 182,
     "metadata": {},
     "output_type": "execute_result"
    }
   ],
   "source": [
    "# Tha accounted for rocks contribute a height of 1500874630398\n",
    "583090377 * 2574"
   ]
  },
  {
   "cell_type": "markdown",
   "id": "7822f856",
   "metadata": {},
   "source": [
    "Now find the height of the remaining 3445 rocks"
   ]
  },
  {
   "cell_type": "code",
   "execution_count": 187,
   "id": "88db4158",
   "metadata": {},
   "outputs": [],
   "source": [
    "# Parse the input\n",
    "jets = clean(s)\n",
    "n = len(jets)\n",
    "\n",
    "# Empty cave\n",
    "cave = np.zeros((20000, 7), dtype=bool)\n",
    "\n",
    "# Rock floor\n",
    "cave[-1,:] = True\n",
    "\n",
    "# Number of rocks to drop\n",
    "num_rocks = 3445\n",
    "\n",
    "# Keep a running counter of which jet we're using next\n",
    "k_jet = 0\n",
    "\n",
    "# And an index for the lowest empty row\n",
    "i_empty = 20000-2\n",
    "\n",
    "# Iterate through rocks\n",
    "for k in range(num_rocks):    \n",
    "    # For peace of mind:\n",
    "    assert i_empty > 10\n",
    "    \n",
    "    # The rock we'll drop\n",
    "    k_rock = k % 5\n",
    "    \n",
    "    # Create the rock as its locations in space\n",
    "    rock = create_rock(i_empty - 3, 2, k_rock)\n",
    "    \n",
    "    # Drop the rock according to the running count of jets\n",
    "    dropping_flag = True\n",
    "    while dropping_flag:\n",
    "        # Try to apply the jets and drop the rock\n",
    "        rock, dropping_flag = update(rock, k_jet)\n",
    "        k_jet = (k_jet + 1) % n\n",
    "    \n",
    "    # Finalize the position of the rock and update the index of the lowest empty row\n",
    "    for i,j in rock:\n",
    "        cave[i,j] = True\n",
    "        i_empty = min(i_empty, i-1)"
   ]
  },
  {
   "cell_type": "code",
   "execution_count": 188,
   "id": "c94ff4a4",
   "metadata": {},
   "outputs": [
    {
     "data": {
      "text/plain": [
       "5189"
      ]
     },
     "execution_count": 188,
     "metadata": {},
     "output_type": "execute_result"
    }
   ],
   "source": [
    "len(cave) - i_empty - 2"
   ]
  },
  {
   "cell_type": "code",
   "execution_count": 189,
   "id": "96132dc3",
   "metadata": {},
   "outputs": [
    {
     "data": {
      "text/plain": [
       "1500874635587"
      ]
     },
     "execution_count": 189,
     "metadata": {},
     "output_type": "execute_result"
    }
   ],
   "source": [
    "# Final answer (really close to the ballpark, which is good)\n",
    "1500874630398 + 5189"
   ]
  },
  {
   "cell_type": "markdown",
   "id": "e996dd69",
   "metadata": {},
   "source": [
    "It worked! Bless. I would not have been excited to figure out where I went wrong, or to be more careful about how I detect cycles. I did implicitly assume if it looked like a cycle then it was a cycle. But unless the cycle breaks down after 4 goes around (which is what I checked up to; and achieving this would take some *insanely* clever problem design), there's no issue.\n",
    "\n",
    "It might look like I just guessed (cycle part) + (manual part) was fine and I got lucky, but there is a rigorous argument there: if you imagine the whole stack of \"moves\" (whatever the reasonable definition of move is here), it's really just a long sequence of the main cycling block bookended by a lead-in and a partial cycle at the end. If we remove the middle stuff, the stuff that's left is an initial sequence of dropping rocks. Hence we can remove the cycle part (and account for its height separately), and what we're left with is a sequence of rock drops that can be directly simulated.\n",
    "\n",
    "Or you can argue that our known cycle implies that same cycle if you start with a later rock (i.e. if rock k is the start of the cycle, rock k+1 is the start of a separate cycle with the same height). So you can instead think that the last rock dropped (rock 1,000,000,000,000) is the last rock of the cycle we care about, so just account for all but the first few rocks as coming from that cycle and simluate the first rocks dropped up until the start of this cycle)."
   ]
  },
  {
   "cell_type": "markdown",
   "id": "46587fe1",
   "metadata": {},
   "source": [
    "# Utilities"
   ]
  },
  {
   "cell_type": "code",
   "execution_count": 3,
   "id": "b0f5c2be",
   "metadata": {},
   "outputs": [],
   "source": [
    "# Remove initial/final \\n characters\n",
    "def clean(s):\n",
    "    return s[1:-1]\n",
    "\n",
    "# Split at \\n characters\n",
    "# If there are \\n\\n characters, split into blocks too\n",
    "def split(s, block_char = '\\n\\n', line_char = '\\n'):\n",
    "    out = [block.split(line_char) for block in clean(s).split(block_char)]\n",
    "    if len(out) == 1:\n",
    "        return out[0]\n",
    "    else:\n",
    "        return out\n",
    "\n",
    "# Apply a function(s) to a list or \"block\" data (2-level list)\n",
    "def apply_func(data, func, nested=False):\n",
    "    if not isinstance(func, list):\n",
    "        func = [func]\n",
    "        \n",
    "    def _func(x):\n",
    "        for f in func:\n",
    "            x = f(x)\n",
    "        return x\n",
    "        \n",
    "    if nested:\n",
    "        return [[_func(x) for x in block] for block in data]\n",
    "    else:\n",
    "        return [_func(x) for x in data]\n",
    "\n",
    "# Split, parsing everything as ints\n",
    "def split_int(s):\n",
    "    return apply_func(split(s), int)\n",
    "\n",
    "# Split, parsing everything as float\n",
    "def split_float(s):\n",
    "    return apply_func(split(s), float)"
   ]
  },
  {
   "cell_type": "markdown",
   "id": "2b2e5b0f",
   "metadata": {},
   "source": [
    "# Inputs"
   ]
  },
  {
   "cell_type": "code",
   "execution_count": 2,
   "id": "6a1455c4",
   "metadata": {},
   "outputs": [],
   "source": [
    "t = \"\"\"\n",
    ">>...>>\n",
    "\"\"\""
   ]
  },
  {
   "cell_type": "code",
   "execution_count": 1,
   "id": "dcf53146",
   "metadata": {},
   "outputs": [],
   "source": [
    "s = \"\"\"\n",
    ">>...>>\n",
    "\"\"\""
   ]
  },
  {
   "cell_type": "code",
   "execution_count": null,
   "id": "e7de8682",
   "metadata": {},
   "outputs": [],
   "source": []
  }
 ],
 "metadata": {
  "kernelspec": {
   "display_name": "Python 3 (ipykernel)",
   "language": "python",
   "name": "python3"
  },
  "language_info": {
   "codemirror_mode": {
    "name": "ipython",
    "version": 3
   },
   "file_extension": ".py",
   "mimetype": "text/x-python",
   "name": "python",
   "nbconvert_exporter": "python",
   "pygments_lexer": "ipython3",
   "version": "3.11.1"
  }
 },
 "nbformat": 4,
 "nbformat_minor": 5
}
