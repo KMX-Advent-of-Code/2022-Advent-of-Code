{
 "cells": [
  {
   "cell_type": "code",
   "execution_count": 3,
   "id": "59833f77",
   "metadata": {
    "ExecuteTime": {
     "end_time": "2022-12-17T16:06:08.669578Z",
     "start_time": "2022-12-17T16:06:08.590425Z"
    }
   },
   "outputs": [],
   "source": [
    "from helpers import get_input"
   ]
  },
  {
   "cell_type": "code",
   "execution_count": 4,
   "id": "f26839b6",
   "metadata": {
    "ExecuteTime": {
     "end_time": "2022-12-17T16:06:08.771860Z",
     "start_time": "2022-12-17T16:06:08.753821Z"
    }
   },
   "outputs": [
    {
     "name": "stdout",
     "output_type": "stream",
     "text": [
      "Retrieved from File marcosh_input_day17.txt\n"
     ]
    }
   ],
   "source": [
    "text_input, list_input = get_input()"
   ]
  },
  {
   "cell_type": "code",
   "execution_count": null,
   "id": "d5b65bfc",
   "metadata": {
    "ExecuteTime": {
     "end_time": "2022-12-17T13:58:04.393427Z",
     "start_time": "2022-12-17T13:58:04.340528Z"
    }
   },
   "outputs": [],
   "source": [
    "len(text_input)"
   ]
  },
  {
   "cell_type": "code",
   "execution_count": null,
   "id": "04727a95",
   "metadata": {
    "ExecuteTime": {
     "end_time": "2022-12-17T13:10:27.462127Z",
     "start_time": "2022-12-17T13:10:27.417557Z"
    }
   },
   "outputs": [],
   "source": [
    "np.array([[0,0],[1,0],[2,0],[3,0]]) + np.array([1,1])"
   ]
  },
  {
   "cell_type": "code",
   "execution_count": null,
   "id": "97e5c118",
   "metadata": {
    "ExecuteTime": {
     "end_time": "2022-12-17T13:42:23.428130Z",
     "start_time": "2022-12-17T13:42:23.375985Z"
    }
   },
   "outputs": [],
   "source": [
    "s.loc"
   ]
  },
  {
   "cell_type": "code",
   "execution_count": 5,
   "id": "fab5d4a1",
   "metadata": {
    "ExecuteTime": {
     "end_time": "2022-12-17T16:06:10.264702Z",
     "start_time": "2022-12-17T16:06:10.226979Z"
    }
   },
   "outputs": [],
   "source": [
    "class Shape():\n",
    "    def __init__(self,shape_name,max_y):\n",
    "        offset_x,offset_y = initial_offset[shape_name]\n",
    "        self.loc = (2+offset_x,max_y+3+offset_y)\n",
    "        self.shape = shape_data[shape_name]\n",
    "    \n",
    "    def occupied(self,loc):\n",
    "        return loc + self.shape\n",
    "    \n",
    "    def occupied_set_current(self):\n",
    "        return {tuple(x) for x in self.occupied(self.loc)}\n",
    "    \n",
    "    def occupied_set(self,loc):\n",
    "        return {tuple(x) for x in self.occupied(loc)}\n",
    "    \n",
    "    def check_collision(self,new_loc,game_area):\n",
    "        \n",
    "        new_set = self.occupied_set(new_loc)\n",
    "        \n",
    "        if any((x < 0 or x > 6 or y < 0) for x,y in new_set):\n",
    "            return True\n",
    "        \n",
    "        if any(part in game_area for part in new_set):\n",
    "            return True\n",
    "        \n",
    "        return False\n",
    "    \n",
    "    def move(self,wind,game_area):\n",
    "        if wind == \"<\":\n",
    "            new_loc = (self.loc[0] - 1,self.loc[1])\n",
    "        elif wind == \">\":\n",
    "            new_loc = (self.loc[0] + 1,self.loc[1])\n",
    "        if not self.check_collision(new_loc,game_area):\n",
    "            self.loc = new_loc\n",
    "        else:\n",
    "            pass\n",
    "        ##gravity\n",
    "        new_loc = (self.loc[0],self.loc[1]-1)\n",
    "        if not self.check_collision(new_loc,game_area):\n",
    "            self.loc = new_loc\n",
    "        else:\n",
    "            return -1\n",
    "        return 1\n",
    "    \n",
    "    def max_y(self):\n",
    "        return max(y for x,y in self.occupied_set_current())\n",
    "    \n",
    "    \n",
    "\n",
    "    "
   ]
  },
  {
   "cell_type": "code",
   "execution_count": 6,
   "id": "bf6e813e",
   "metadata": {
    "ExecuteTime": {
     "end_time": "2022-12-17T16:06:11.928137Z",
     "start_time": "2022-12-17T16:06:11.897109Z"
    }
   },
   "outputs": [],
   "source": [
    "initial_offset = {\n",
    "    'flat': (0,0),\n",
    "    'cross': (0,2),\n",
    "    'el': (0,2),\n",
    "    'straight': (0,3),\n",
    "    'square': (0,1),\n",
    "}"
   ]
  },
  {
   "cell_type": "code",
   "execution_count": 7,
   "id": "c22045b9",
   "metadata": {
    "ExecuteTime": {
     "end_time": "2022-12-17T16:06:12.124753Z",
     "start_time": "2022-12-17T16:06:12.093423Z"
    }
   },
   "outputs": [],
   "source": [
    "shape_data = {\n",
    "    'flat': np.array([[0, 0], [1, 0], [2, 0], [3, 0]]),\n",
    "    'cross': np.array([[1, 0], [0, -1], [1,-1], [2,-1], [1, -2]]),\n",
    "    'el': np.array([[2, 0],[2,-1],[0,-2],[1,-2],[2,-2]]),\n",
    "    'straight': np.array([[0, 0], [0, -1], [0, -2], [0, -3]]),\n",
    "    'square': np.array([[0, 0], [0, -1], [1, -1], [1, 0]]),\n",
    "}"
   ]
  },
  {
   "cell_type": "code",
   "execution_count": 9,
   "id": "f0a762ef",
   "metadata": {
    "ExecuteTime": {
     "end_time": "2022-12-17T16:06:17.552543Z",
     "start_time": "2022-12-17T16:06:17.523082Z"
    }
   },
   "outputs": [],
   "source": [
    "def draw_area(s=None,game_area=None,max_y=200):\n",
    "    test = np.zeros([max_y,7])\n",
    "    if draw_area:\n",
    "        for block in game_area:\n",
    "            test[block[1],block[0]] = 2\n",
    "    if s:\n",
    "        for block in s.occupied_set_current():\n",
    "            test[block[1],block[0]] = 1\n",
    "    return test"
   ]
  },
  {
   "cell_type": "code",
   "execution_count": null,
   "id": "c248ecdb",
   "metadata": {
    "ExecuteTime": {
     "end_time": "2022-12-17T14:55:53.115372Z",
     "start_time": "2022-12-17T14:55:53.048126Z"
    }
   },
   "outputs": [],
   "source": []
  },
  {
   "cell_type": "code",
   "execution_count": 10,
   "id": "66f7411f",
   "metadata": {
    "ExecuteTime": {
     "end_time": "2022-12-17T16:06:19.726929Z",
     "start_time": "2022-12-17T16:06:19.692182Z"
    }
   },
   "outputs": [],
   "source": [
    "def get_shape(i):\n",
    "    \n",
    "    res = i % 5\n",
    "    match res:\n",
    "        case 0:\n",
    "            return 'flat'\n",
    "        case 1:\n",
    "            return 'cross'\n",
    "        case 2:\n",
    "            return 'el'\n",
    "        case 3:\n",
    "            return 'straight'\n",
    "        case 4:\n",
    "            return 'square'"
   ]
  },
  {
   "cell_type": "code",
   "execution_count": 18,
   "id": "d4aba10a",
   "metadata": {
    "ExecuteTime": {
     "end_time": "2022-12-17T16:07:23.165302Z",
     "start_time": "2022-12-17T16:07:23.103538Z"
    }
   },
   "outputs": [],
   "source": [
    "from tqdm.notebook import tqdm"
   ]
  },
  {
   "cell_type": "code",
   "execution_count": 19,
   "id": "a32055eb",
   "metadata": {
    "ExecuteTime": {
     "end_time": "2022-12-17T16:07:23.361825Z",
     "start_time": "2022-12-17T16:07:23.329612Z"
    }
   },
   "outputs": [],
   "source": [
    "from collections import deque"
   ]
  },
  {
   "cell_type": "code",
   "execution_count": null,
   "id": "9b97bab1",
   "metadata": {
    "ExecuteTime": {
     "end_time": "2022-12-17T15:39:40.818017Z",
     "start_time": "2022-12-17T15:39:40.778614Z"
    }
   },
   "outputs": [],
   "source": [
    "10092 % 10091"
   ]
  },
  {
   "cell_type": "code",
   "execution_count": null,
   "id": "444e3e48",
   "metadata": {
    "ExecuteTime": {
     "end_time": "2022-12-17T15:40:34.999690Z",
     "start_time": "2022-12-17T15:40:34.955208Z"
    }
   },
   "outputs": [],
   "source": [
    "text_input[10091]"
   ]
  },
  {
   "cell_type": "code",
   "execution_count": null,
   "id": "a4795333",
   "metadata": {
    "ExecuteTime": {
     "end_time": "2022-12-17T15:38:19.982164Z",
     "start_time": "2022-12-17T15:38:19.938809Z"
    }
   },
   "outputs": [],
   "source": [
    "len(text_input)"
   ]
  },
  {
   "cell_type": "code",
   "execution_count": 300,
   "id": "4675fd30",
   "metadata": {
    "ExecuteTime": {
     "end_time": "2022-12-17T18:35:46.227733Z",
     "start_time": "2022-12-17T18:35:46.194110Z"
    }
   },
   "outputs": [],
   "source": [
    "sample_input = '>>><<><>><<<>><>>><<<>>><<<><<<>><>><<>>'"
   ]
  },
  {
   "cell_type": "code",
   "execution_count": 286,
   "id": "a820e619",
   "metadata": {
    "ExecuteTime": {
     "end_time": "2022-12-17T18:29:08.835507Z",
     "start_time": "2022-12-17T18:29:08.707163Z"
    }
   },
   "outputs": [
    {
     "data": {
      "text/plain": [
       "40"
      ]
     },
     "execution_count": 286,
     "metadata": {},
     "output_type": "execute_result"
    }
   ],
   "source": [
    "len(sample_input)"
   ]
  },
  {
   "cell_type": "code",
   "execution_count": 463,
   "id": "39f5fb98",
   "metadata": {
    "ExecuteTime": {
     "end_time": "2022-12-17T20:04:16.266654Z",
     "start_time": "2022-12-17T20:04:16.226603Z"
    }
   },
   "outputs": [],
   "source": [
    "def max_at_x(x,game_area):\n",
    "    res = [y for y in game_area if y[0] == x]\n",
    "    if res:\n",
    "        return sorted(res,reverse=True)[:min(4,len(res))]\n",
    "    else:\n",
    "        return []"
   ]
  },
  {
   "cell_type": "code",
   "execution_count": 596,
   "id": "229093f8",
   "metadata": {
    "ExecuteTime": {
     "end_time": "2022-12-18T02:01:23.490060Z",
     "start_time": "2022-12-18T02:01:23.327043Z"
    }
   },
   "outputs": [],
   "source": [
    "def max_at_x2(x,game_area,max_y=0):\n",
    "    res = [y for y in game_area if y[0] == x]\n",
    "    if res:\n",
    "        res = sorted(res,reverse=True)[:min(20,len(res))]\n",
    "        return [(x,y-max_y) for x,y in res]\n",
    "    else:\n",
    "        return []"
   ]
  },
  {
   "cell_type": "code",
   "execution_count": 496,
   "id": "66920dcb",
   "metadata": {
    "ExecuteTime": {
     "end_time": "2022-12-17T20:09:48.015306Z",
     "start_time": "2022-12-17T20:09:47.968657Z"
    }
   },
   "outputs": [],
   "source": [
    "def flatten_list(list_of_lists):\n",
    "    return [y for x in list_of_lists for y in x]\n"
   ]
  },
  {
   "cell_type": "code",
   "execution_count": 413,
   "id": "19de8894",
   "metadata": {
    "ExecuteTime": {
     "end_time": "2022-12-17T19:38:26.162197Z",
     "start_time": "2022-12-17T19:38:26.119762Z"
    }
   },
   "outputs": [],
   "source": [
    "def just_max_at_x(x,game_area,max_y=0):\n",
    "    res = [y for y in game_area if y[0] == x]\n",
    "    if res:\n",
    "        max_res = max(res)\n",
    "        return (max_res[0],max_res[1]-max_y)\n",
    "    return (x,0)"
   ]
  },
  {
   "cell_type": "code",
   "execution_count": 414,
   "id": "fda6a459",
   "metadata": {
    "ExecuteTime": {
     "end_time": "2022-12-17T19:38:28.272278Z",
     "start_time": "2022-12-17T19:38:28.231153Z"
    }
   },
   "outputs": [],
   "source": [
    "def hash_game_area(game_area,max_y):\n",
    "    return tuple([just_max_at_x(x,game_area,max_y) for x in range(6)])"
   ]
  },
  {
   "cell_type": "code",
   "execution_count": 597,
   "id": "24b184e0",
   "metadata": {
    "ExecuteTime": {
     "end_time": "2022-12-18T02:01:26.192664Z",
     "start_time": "2022-12-18T02:01:26.162493Z"
    }
   },
   "outputs": [],
   "source": [
    "def hash_game_area2(game_area,max_y=0):\n",
    "    return tuple(sorted(flatten_list([max_at_x2(x,game_area,max_y) for x in range(6)])))"
   ]
  },
  {
   "cell_type": "code",
   "execution_count": null,
   "id": "a33d9326",
   "metadata": {},
   "outputs": [],
   "source": [
    "def hash_game_area3(game_area):\n",
    "    return sorted()"
   ]
  },
  {
   "cell_type": "code",
   "execution_count": 712,
   "id": "673691ee",
   "metadata": {
    "ExecuteTime": {
     "end_time": "2022-12-18T03:39:15.623655Z",
     "start_time": "2022-12-18T03:39:07.024261Z"
    }
   },
   "outputs": [
    {
     "name": "stdout",
     "output_type": "stream",
     "text": [
      "resetting move num\n",
      "storing cycle info\n",
      "resetting move num\n",
      "resetting move num\n",
      "resetting move num\n",
      "resetting move num\n",
      "moving 10000\n",
      "resetting move num\n"
     ]
    }
   ],
   "source": [
    "moves = list(text_input)\n",
    "i = 0\n",
    "move_num = 0\n",
    "max_y = 0\n",
    "game_area = set()\n",
    "s = Shape(get_shape(i), max_y=max_y)\n",
    "hash_set = {0: get_shape(0)}\n",
    "rock_num_dict = {}\n",
    "height = {}\n",
    "all_heights = {}\n",
    "looking = True\n",
    "\n",
    "while i < 12000: #just stop at 2023 and subtract 1 for part 1\n",
    "\n",
    "    #print(i,len(game_area),move_num)\n",
    "    try:\n",
    "        move = moves[move_num]\n",
    "    except IndexError:\n",
    "        print('resetting move num')\n",
    "        move_num = 0\n",
    "        move = moves[move_num]\n",
    "\n",
    "    out = s.move(move, game_area)\n",
    "    if out == -1:\n",
    "\n",
    "        game_area = game_area.union(s.occupied_set_current())\n",
    "        if s.max_y() > max_y:\n",
    "            max_y = s.max_y()\n",
    "        all_heights[i] = max_y\n",
    "        i = i + 1\n",
    "        if i % 10000 == 0:\n",
    "            print(f'moving {i}')\n",
    "\n",
    "        s = Shape(get_shape(i), max_y=max_y + 1)\n",
    "\n",
    "        out = 10\n",
    "\n",
    "    move_num = move_num + 1\n",
    "\n",
    "    if out == 10 and looking:\n",
    "        key = str(move_num) + str(hash_game_area(game_area, max_y))\n",
    "        test = hash_set.get(key)\n",
    "        if get_shape(i) == test:\n",
    "            print('storing cycle info')\n",
    "            #print(get_shape(i),test,key,i)\n",
    "            k = (1000000000000 - i) // (\n",
    "                i - rock_num_dict[key]\n",
    "            )  ## this is key, the period isn't i but i-the rock we noticed the\n",
    "            #period starting\n",
    "            remainder = (1000000000000 - i) % (i - rock_num_dict[key])\n",
    "            key_rock = i\n",
    "            res = (max_y - height[key]) * k\n",
    "            looking = False\n",
    "            key_height = height[key]\n",
    "            \n",
    "            #I could probably store  info more efficiently in fewer dicts/variables but whatever\n",
    "        else:\n",
    "            #print(f\"for next rock{i} the shape is {get_shape(i)} at move_num {move_num}\")\n",
    "            hash_set[key] = get_shape(i)\n",
    "            rock_num_dict[key] = i\n",
    "            height[key] = max_y\n",
    "\n",
    "    # keep only highest point for each x:"
   ]
  },
  {
   "cell_type": "markdown",
   "id": "844be125",
   "metadata": {
    "ExecuteTime": {
     "end_time": "2022-12-17T20:10:38.276351Z",
     "start_time": "2022-12-17T20:10:38.260394Z"
    }
   },
   "source": [
    "**Finally** realized that the cycle isn't just after n rocks but the cycle length is n-(start of cycle)."
   ]
  },
  {
   "cell_type": "code",
   "execution_count": 719,
   "id": "9b1476aa",
   "metadata": {
    "ExecuteTime": {
     "end_time": "2022-12-18T03:40:02.752442Z",
     "start_time": "2022-12-18T03:40:02.701069Z"
    }
   },
   "outputs": [
    {
     "data": {
      "text/plain": [
       "3141"
      ]
     },
     "execution_count": 719,
     "metadata": {},
     "output_type": "execute_result"
    }
   ],
   "source": [
    "all_heights[2022] - 1  ## part 1, still not sure why I have to subtract 1 but noticed that in the sample data"
   ]
  },
  {
   "cell_type": "code",
   "execution_count": 721,
   "id": "a1f52f35",
   "metadata": {
    "ExecuteTime": {
     "end_time": "2022-12-18T03:40:12.269624Z",
     "start_time": "2022-12-18T03:40:12.215691Z"
    }
   },
   "outputs": [
    {
     "data": {
      "text/plain": [
       "1561739130391"
      ]
     },
     "execution_count": 721,
     "metadata": {},
     "output_type": "execute_result"
    }
   ],
   "source": [
    "## part 2\n",
    "\n",
    "maybe = res + all_heights[remainder+key_rock]\n",
    "maybe"
   ]
  },
  {
   "cell_type": "code",
   "execution_count": null,
   "id": "70e6963d",
   "metadata": {},
   "outputs": [],
   "source": []
  }
 ],
 "metadata": {
  "kernelspec": {
   "display_name": "Python 3 (ipykernel)",
   "language": "python",
   "name": "python3"
  },
  "language_info": {
   "codemirror_mode": {
    "name": "ipython",
    "version": 3
   },
   "file_extension": ".py",
   "mimetype": "text/x-python",
   "name": "python",
   "nbconvert_exporter": "python",
   "pygments_lexer": "ipython3",
   "version": "3.10.8"
  },
  "toc": {
   "base_numbering": 1,
   "nav_menu": {},
   "number_sections": true,
   "sideBar": true,
   "skip_h1_title": false,
   "title_cell": "Table of Contents",
   "title_sidebar": "Contents",
   "toc_cell": false,
   "toc_position": {},
   "toc_section_display": true,
   "toc_window_display": false
  }
 },
 "nbformat": 4,
 "nbformat_minor": 5
}
