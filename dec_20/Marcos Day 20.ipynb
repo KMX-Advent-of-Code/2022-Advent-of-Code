{
 "cells": [
  {
   "cell_type": "code",
   "execution_count": 1,
   "id": "31c25a2e",
   "metadata": {
    "ExecuteTime": {
     "end_time": "2022-12-20T15:47:35.513229Z",
     "start_time": "2022-12-20T15:47:35.498425Z"
    }
   },
   "outputs": [],
   "source": [
    "orig_list = [1, 2, -3, 3, -2, 0, 4]"
   ]
  },
  {
   "cell_type": "code",
   "execution_count": 2,
   "id": "3f76dd4c",
   "metadata": {
    "ExecuteTime": {
     "end_time": "2022-12-20T15:47:35.528267Z",
     "start_time": "2022-12-20T15:47:35.514106Z"
    }
   },
   "outputs": [],
   "source": [
    "tuple_list = [(i,x) for i,x in enumerate(orig_list)]"
   ]
  },
  {
   "cell_type": "code",
   "execution_count": 3,
   "id": "3d9c8748",
   "metadata": {
    "ExecuteTime": {
     "end_time": "2022-12-20T15:47:35.544726Z",
     "start_time": "2022-12-20T15:47:35.529872Z"
    }
   },
   "outputs": [],
   "source": [
    "thelist = [1, 2, -3, 4, 0, 3, -2]"
   ]
  },
  {
   "cell_type": "code",
   "execution_count": 4,
   "id": "4ae8a52d",
   "metadata": {
    "ExecuteTime": {
     "end_time": "2022-12-20T15:47:35.619194Z",
     "start_time": "2022-12-20T15:47:35.604654Z"
    }
   },
   "outputs": [],
   "source": [
    "def _get_coords(thelist,n):\n",
    "    idx = thelist.index(0)\n",
    "    ii = (idx + n) % len(thelist) \n",
    "    return thelist[ii]"
   ]
  },
  {
   "cell_type": "code",
   "execution_count": 5,
   "id": "374e97eb",
   "metadata": {
    "ExecuteTime": {
     "end_time": "2022-12-20T15:47:35.770530Z",
     "start_time": "2022-12-20T15:47:35.755620Z"
    }
   },
   "outputs": [],
   "source": [
    "def _get_coords2(thelist,idx,shift):\n",
    "    ii = (idx + shift) % len(thelist) \n",
    "    return ii"
   ]
  },
  {
   "cell_type": "code",
   "execution_count": 6,
   "id": "4f1c9ca0",
   "metadata": {
    "ExecuteTime": {
     "end_time": "2022-12-20T15:47:35.934692Z",
     "start_time": "2022-12-20T15:47:35.897246Z"
    }
   },
   "outputs": [
    {
     "data": {
      "text/plain": [
       "-3"
      ]
     },
     "execution_count": 6,
     "metadata": {},
     "output_type": "execute_result"
    }
   ],
   "source": [
    "_get_coords(thelist,2000)"
   ]
  },
  {
   "cell_type": "code",
   "execution_count": 7,
   "id": "6362509c",
   "metadata": {
    "ExecuteTime": {
     "end_time": "2022-12-20T15:47:38.979856Z",
     "start_time": "2022-12-20T15:47:38.943960Z"
    }
   },
   "outputs": [
    {
     "data": {
      "text/plain": [
       "3"
      ]
     },
     "execution_count": 7,
     "metadata": {},
     "output_type": "execute_result"
    }
   ],
   "source": [
    "sum(_get_coords(thelist,x) for x in [1000,2000,3000])"
   ]
  },
  {
   "cell_type": "code",
   "execution_count": 8,
   "id": "d1d93772",
   "metadata": {
    "ExecuteTime": {
     "end_time": "2022-12-20T15:47:39.158350Z",
     "start_time": "2022-12-20T15:47:39.094484Z"
    }
   },
   "outputs": [],
   "source": [
    "from tqdm.notebook import tqdm"
   ]
  },
  {
   "cell_type": "code",
   "execution_count": 9,
   "id": "030a0243",
   "metadata": {
    "ExecuteTime": {
     "end_time": "2022-12-20T15:47:39.280201Z",
     "start_time": "2022-12-20T15:47:39.259453Z"
    }
   },
   "outputs": [],
   "source": [
    "orig_list = [1, 2, -3, 3, -2, 0, 4]\n",
    "def mix_coords(orig_list):\n",
    "    tuple_list = [(i,x) for i,x in enumerate(orig_list)]\n",
    "    for i in tqdm(range(len(orig_list))):\n",
    "        mytuple = (i,orig_list[i])\n",
    "        idx = tuple_list.index(mytuple)\n",
    "        mytuple = tuple_list.pop(idx)\n",
    "        #print(f\"moving {mytuple}\")\n",
    "        ii = _get_coords2(tuple_list,idx,mytuple[1])\n",
    "        if ii == 0:\n",
    "            tuple_list.append(mytuple)\n",
    "        else:\n",
    "            tuple_list.insert(ii,mytuple)\n",
    "        #print([x[1] for x in tuple_list])\n",
    "    return [x[1] for x in tuple_list]"
   ]
  },
  {
   "cell_type": "code",
   "execution_count": 10,
   "id": "108f8548",
   "metadata": {
    "ExecuteTime": {
     "end_time": "2022-12-20T15:47:40.221144Z",
     "start_time": "2022-12-20T15:47:40.165394Z"
    }
   },
   "outputs": [
    {
     "data": {
      "application/vnd.jupyter.widget-view+json": {
       "model_id": "c193ce9e03814e69836812f2153635ea",
       "version_major": 2,
       "version_minor": 0
      },
      "text/plain": [
       "  0%|          | 0/7 [00:00<?, ?it/s]"
      ]
     },
     "metadata": {},
     "output_type": "display_data"
    },
    {
     "data": {
      "text/plain": [
       "[1, 2, -3, 4, 0, 3, -2]"
      ]
     },
     "execution_count": 10,
     "metadata": {},
     "output_type": "execute_result"
    }
   ],
   "source": [
    "mix_coords(orig_list)"
   ]
  },
  {
   "cell_type": "code",
   "execution_count": 11,
   "id": "bc611396",
   "metadata": {
    "ExecuteTime": {
     "end_time": "2022-12-20T15:47:42.252189Z",
     "start_time": "2022-12-20T15:47:42.218392Z"
    }
   },
   "outputs": [
    {
     "data": {
      "text/plain": [
       "[1, 2, -3, 3, -2, 0, 4]"
      ]
     },
     "execution_count": 11,
     "metadata": {},
     "output_type": "execute_result"
    }
   ],
   "source": [
    "orig_list"
   ]
  },
  {
   "cell_type": "code",
   "execution_count": 12,
   "id": "4713b929",
   "metadata": {
    "ExecuteTime": {
     "end_time": "2022-12-20T15:47:42.419212Z",
     "start_time": "2022-12-20T15:47:42.384053Z"
    }
   },
   "outputs": [
    {
     "data": {
      "text/plain": [
       "2"
      ]
     },
     "execution_count": 12,
     "metadata": {},
     "output_type": "execute_result"
    }
   ],
   "source": [
    "orig_list.pop(1)"
   ]
  },
  {
   "cell_type": "code",
   "execution_count": 13,
   "id": "77b53130",
   "metadata": {
    "ExecuteTime": {
     "end_time": "2022-12-20T15:47:45.015815Z",
     "start_time": "2022-12-20T15:47:44.983765Z"
    }
   },
   "outputs": [],
   "source": [
    "orig_list.insert(1,2)"
   ]
  },
  {
   "cell_type": "code",
   "execution_count": 14,
   "id": "dbfe7ee5",
   "metadata": {
    "ExecuteTime": {
     "end_time": "2022-12-20T15:47:45.183306Z",
     "start_time": "2022-12-20T15:47:45.148639Z"
    }
   },
   "outputs": [
    {
     "data": {
      "text/plain": [
       "[1, 2, -3, 3, -2, 0, 4]"
      ]
     },
     "execution_count": 14,
     "metadata": {},
     "output_type": "execute_result"
    }
   ],
   "source": [
    "orig_list"
   ]
  },
  {
   "cell_type": "code",
   "execution_count": 15,
   "id": "a6ba2403",
   "metadata": {
    "ExecuteTime": {
     "end_time": "2022-12-20T15:47:45.639959Z",
     "start_time": "2022-12-20T15:47:45.607331Z"
    }
   },
   "outputs": [],
   "source": [
    "def solve(orig_list):\n",
    "    mixed_list = mix_coords(orig_list)\n",
    "    return sum(_get_coords(mixed_list,x) for x in [1000,2000,3000])"
   ]
  },
  {
   "cell_type": "code",
   "execution_count": 16,
   "id": "779e0683",
   "metadata": {
    "ExecuteTime": {
     "end_time": "2022-12-20T15:47:48.982745Z",
     "start_time": "2022-12-20T15:47:48.938210Z"
    }
   },
   "outputs": [
    {
     "data": {
      "application/vnd.jupyter.widget-view+json": {
       "model_id": "2d903c64197748099ef23d245b030dc1",
       "version_major": 2,
       "version_minor": 0
      },
      "text/plain": [
       "  0%|          | 0/7 [00:00<?, ?it/s]"
      ]
     },
     "metadata": {},
     "output_type": "display_data"
    },
    {
     "data": {
      "text/plain": [
       "3"
      ]
     },
     "execution_count": 16,
     "metadata": {},
     "output_type": "execute_result"
    }
   ],
   "source": [
    "solve(orig_list)"
   ]
  },
  {
   "cell_type": "code",
   "execution_count": 17,
   "id": "8507b194",
   "metadata": {
    "ExecuteTime": {
     "end_time": "2022-12-20T15:47:51.280231Z",
     "start_time": "2022-12-20T15:47:51.213810Z"
    }
   },
   "outputs": [],
   "source": [
    "from helpers import get_input"
   ]
  },
  {
   "cell_type": "code",
   "execution_count": 18,
   "id": "ae1d98f2",
   "metadata": {
    "ExecuteTime": {
     "end_time": "2022-12-20T15:47:51.438339Z",
     "start_time": "2022-12-20T15:47:51.410469Z"
    }
   },
   "outputs": [
    {
     "name": "stdout",
     "output_type": "stream",
     "text": [
      "Retrieved from File marcosh_input_day20.txt\n"
     ]
    }
   ],
   "source": [
    "input_text, input_list = get_input()"
   ]
  },
  {
   "cell_type": "code",
   "execution_count": 19,
   "id": "b4fe4905",
   "metadata": {
    "ExecuteTime": {
     "end_time": "2022-12-20T15:47:52.055352Z",
     "start_time": "2022-12-20T15:47:52.022771Z"
    }
   },
   "outputs": [],
   "source": [
    "input_list = [int(x) for x in input_list]"
   ]
  },
  {
   "cell_type": "code",
   "execution_count": 20,
   "id": "59c13c62",
   "metadata": {
    "ExecuteTime": {
     "end_time": "2022-12-20T15:47:52.446144Z",
     "start_time": "2022-12-20T15:47:52.412695Z"
    }
   },
   "outputs": [
    {
     "data": {
      "text/plain": [
       "5000"
      ]
     },
     "execution_count": 20,
     "metadata": {},
     "output_type": "execute_result"
    }
   ],
   "source": [
    "len(input_list)"
   ]
  },
  {
   "cell_type": "code",
   "execution_count": 84,
   "id": "963479a6",
   "metadata": {
    "ExecuteTime": {
     "end_time": "2022-12-20T15:46:11.460121Z",
     "start_time": "2022-12-20T15:46:11.300940Z"
    }
   },
   "outputs": [
    {
     "data": {
      "application/vnd.jupyter.widget-view+json": {
       "model_id": "7c97b88fac38415e9e5cb95a02f0dd48",
       "version_major": 2,
       "version_minor": 0
      },
      "text/plain": [
       "  0%|          | 0/5000 [00:00<?, ?it/s]"
      ]
     },
     "metadata": {},
     "output_type": "display_data"
    },
    {
     "data": {
      "text/plain": [
       "4151"
      ]
     },
     "execution_count": 84,
     "metadata": {},
     "output_type": "execute_result"
    }
   ],
   "source": [
    "solve(input_list)"
   ]
  },
  {
   "cell_type": "code",
   "execution_count": null,
   "id": "1b1ce4b1",
   "metadata": {
    "ExecuteTime": {
     "start_time": "2022-12-20T15:47:12.414Z"
    }
   },
   "outputs": [],
   "source": []
  },
  {
   "cell_type": "code",
   "execution_count": 25,
   "id": "9bea5290",
   "metadata": {
    "ExecuteTime": {
     "end_time": "2022-12-20T15:49:48.380070Z",
     "start_time": "2022-12-20T15:49:48.345697Z"
    }
   },
   "outputs": [],
   "source": [
    "def mix_coords2(orig_list):\n",
    "    tuple_list = [(i,x) for i,x in enumerate(orig_list)]\n",
    "    for k in range(10):\n",
    "        for i in tqdm(range(len(orig_list))):\n",
    "            mytuple = (i,orig_list[i])\n",
    "            idx = tuple_list.index(mytuple)\n",
    "            mytuple = tuple_list.pop(idx)\n",
    "            #print(f\"moving {mytuple}\")\n",
    "            ii = _get_coords2(tuple_list,idx,mytuple[1])\n",
    "            if ii == 0:\n",
    "                tuple_list.append(mytuple)\n",
    "            else:\n",
    "                tuple_list.insert(ii,mytuple)\n",
    "        #print([x[1] for x in tuple_list])\n",
    "    return [x[1] for x in tuple_list]"
   ]
  },
  {
   "cell_type": "code",
   "execution_count": 26,
   "id": "0ece901e",
   "metadata": {
    "ExecuteTime": {
     "end_time": "2022-12-20T15:49:48.668345Z",
     "start_time": "2022-12-20T15:49:48.628430Z"
    }
   },
   "outputs": [],
   "source": [
    "def solve2(orig_list):\n",
    "    orig_list = [x * 811589153 for x in orig_list]\n",
    "    mixed_list = mix_coords2(orig_list)\n",
    "    return sum(_get_coords(mixed_list,x) for x in [1000,2000,3000])"
   ]
  },
  {
   "cell_type": "code",
   "execution_count": 28,
   "id": "248492ac",
   "metadata": {
    "ExecuteTime": {
     "end_time": "2022-12-20T15:50:11.957252Z",
     "start_time": "2022-12-20T15:50:10.103339Z"
    }
   },
   "outputs": [
    {
     "data": {
      "application/vnd.jupyter.widget-view+json": {
       "model_id": "3a1d0644fa18415893b1c4467083df7e",
       "version_major": 2,
       "version_minor": 0
      },
      "text/plain": [
       "  0%|          | 0/5000 [00:00<?, ?it/s]"
      ]
     },
     "metadata": {},
     "output_type": "display_data"
    },
    {
     "data": {
      "application/vnd.jupyter.widget-view+json": {
       "model_id": "1f076594ee6e4c0bb214ce5a3d2d6e53",
       "version_major": 2,
       "version_minor": 0
      },
      "text/plain": [
       "  0%|          | 0/5000 [00:00<?, ?it/s]"
      ]
     },
     "metadata": {},
     "output_type": "display_data"
    },
    {
     "data": {
      "application/vnd.jupyter.widget-view+json": {
       "model_id": "5033c5f4d44b43daa24ee82d4167fb7a",
       "version_major": 2,
       "version_minor": 0
      },
      "text/plain": [
       "  0%|          | 0/5000 [00:00<?, ?it/s]"
      ]
     },
     "metadata": {},
     "output_type": "display_data"
    },
    {
     "data": {
      "application/vnd.jupyter.widget-view+json": {
       "model_id": "fb7da59a9dad46ad8d3793d0db2b3616",
       "version_major": 2,
       "version_minor": 0
      },
      "text/plain": [
       "  0%|          | 0/5000 [00:00<?, ?it/s]"
      ]
     },
     "metadata": {},
     "output_type": "display_data"
    },
    {
     "data": {
      "application/vnd.jupyter.widget-view+json": {
       "model_id": "0a67fd0950be4b0da5f45dddf8a348ee",
       "version_major": 2,
       "version_minor": 0
      },
      "text/plain": [
       "  0%|          | 0/5000 [00:00<?, ?it/s]"
      ]
     },
     "metadata": {},
     "output_type": "display_data"
    },
    {
     "data": {
      "application/vnd.jupyter.widget-view+json": {
       "model_id": "76ba554e0daa43708a19e888daea89a7",
       "version_major": 2,
       "version_minor": 0
      },
      "text/plain": [
       "  0%|          | 0/5000 [00:00<?, ?it/s]"
      ]
     },
     "metadata": {},
     "output_type": "display_data"
    },
    {
     "data": {
      "application/vnd.jupyter.widget-view+json": {
       "model_id": "95f0b604c3ab4a52a56a523650edce84",
       "version_major": 2,
       "version_minor": 0
      },
      "text/plain": [
       "  0%|          | 0/5000 [00:00<?, ?it/s]"
      ]
     },
     "metadata": {},
     "output_type": "display_data"
    },
    {
     "data": {
      "application/vnd.jupyter.widget-view+json": {
       "model_id": "42bd938fb98e40c1a1b933b3a5eef60f",
       "version_major": 2,
       "version_minor": 0
      },
      "text/plain": [
       "  0%|          | 0/5000 [00:00<?, ?it/s]"
      ]
     },
     "metadata": {},
     "output_type": "display_data"
    },
    {
     "data": {
      "application/vnd.jupyter.widget-view+json": {
       "model_id": "8969c3e11f50443fa6fe7dd98d0d6dbb",
       "version_major": 2,
       "version_minor": 0
      },
      "text/plain": [
       "  0%|          | 0/5000 [00:00<?, ?it/s]"
      ]
     },
     "metadata": {},
     "output_type": "display_data"
    },
    {
     "data": {
      "application/vnd.jupyter.widget-view+json": {
       "model_id": "dcd95f2b05ba4923b4ade74244760c5d",
       "version_major": 2,
       "version_minor": 0
      },
      "text/plain": [
       "  0%|          | 0/5000 [00:00<?, ?it/s]"
      ]
     },
     "metadata": {},
     "output_type": "display_data"
    },
    {
     "data": {
      "text/plain": [
       "7848878698663"
      ]
     },
     "execution_count": 28,
     "metadata": {},
     "output_type": "execute_result"
    }
   ],
   "source": [
    "solve2(input_list)"
   ]
  },
  {
   "cell_type": "code",
   "execution_count": null,
   "id": "6794d152",
   "metadata": {},
   "outputs": [],
   "source": []
  }
 ],
 "metadata": {
  "kernelspec": {
   "display_name": "Python 3 (ipykernel)",
   "language": "python",
   "name": "python3"
  },
  "language_info": {
   "codemirror_mode": {
    "name": "ipython",
    "version": 3
   },
   "file_extension": ".py",
   "mimetype": "text/x-python",
   "name": "python",
   "nbconvert_exporter": "python",
   "pygments_lexer": "ipython3",
   "version": "3.10.8"
  },
  "toc": {
   "base_numbering": 1,
   "nav_menu": {},
   "number_sections": true,
   "sideBar": true,
   "skip_h1_title": false,
   "title_cell": "Table of Contents",
   "title_sidebar": "Contents",
   "toc_cell": false,
   "toc_position": {},
   "toc_section_display": true,
   "toc_window_display": false
  }
 },
 "nbformat": 4,
 "nbformat_minor": 5
}
