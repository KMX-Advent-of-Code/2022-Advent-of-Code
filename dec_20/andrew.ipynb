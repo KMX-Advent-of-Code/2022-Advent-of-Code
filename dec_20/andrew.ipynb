{
 "cells": [
  {
   "cell_type": "code",
   "execution_count": 1,
   "metadata": {},
   "outputs": [],
   "source": [
    "import numpy as np\n",
    "import pandas as pd\n",
    "import math\n",
    "import scipy\n",
    "import sys\n",
    "from tqdm import tqdm\n",
    "import functools\n",
    "import networkx as nx\n",
    "import itertools\n",
    "\n",
    "import portion as P\n",
    "import re\n",
    "import datetime\n",
    "import queue\n",
    "\n",
    "# interval = P.empty()\n",
    "# for i, j in [(0, 1), (2, 4), (6, 7), (3, 5)]:\n",
    "#     interval = interval | P.closed(i, j)\n",
    "# print(interval)"
   ]
  },
  {
   "cell_type": "code",
   "execution_count": 97,
   "metadata": {},
   "outputs": [
    {
     "name": "stdout",
     "output_type": "stream",
     "text": [
      "all elements are unique!\n"
     ]
    }
   ],
   "source": [
    "file1 = open('20.txt', 'r')\n",
    "lines = file1.readlines()\n",
    "\n",
    "og_array = np.array([int(l.replace('\\n','')) for l in lines]).tolist()\n",
    "array = []\n",
    "\n",
    "for i,el in enumerate(og_array):\n",
    "    array.append((i,el))\n",
    "\n",
    "if len(array) == len(set(array)):\n",
    "    print('all elements are unique!')\n",
    "else:\n",
    "    print(f'{len(array)=}, {len(set(array))=}')\n",
    "\n",
    "backup_array = array.copy()\n",
    "array_len = len(array)\n",
    "\n",
    "# array"
   ]
  },
  {
   "cell_type": "code",
   "execution_count": 98,
   "metadata": {},
   "outputs": [
    {
     "name": "stderr",
     "output_type": "stream",
     "text": [
      "100%|██████████| 5000/5000 [00:00<00:00, 31634.78it/s]\n"
     ]
    }
   ],
   "source": [
    "## mix array\n",
    "\n",
    "def fix_idx(new_idx, og_length):\n",
    "    ## this took me way too long to get right!\n",
    "    if new_idx == 0:\n",
    "        return og_length-1\n",
    "    else:\n",
    "        return new_idx%(og_length-1)\n",
    "\n",
    "array = backup_array.copy()\n",
    "\n",
    "# print([x[1] for x in array])\n",
    "for el in tqdm(backup_array):\n",
    "    idx = array.index(el)\n",
    "    array.pop(idx)\n",
    "    # print(idx + el[1])\n",
    "    array.insert(fix_idx(idx + el[1], array_len),el)\n",
    "    # print([x[1] for x in array])\n",
    "\n",
    "\n",
    "# print([x[1] for x in array])"
   ]
  },
  {
   "cell_type": "code",
   "execution_count": 99,
   "metadata": {},
   "outputs": [
    {
     "name": "stdout",
     "output_type": "stream",
     "text": [
      "[9727, 8823, -7787]\n"
     ]
    },
    {
     "data": {
      "text/plain": [
       "10763"
      ]
     },
     "execution_count": 99,
     "metadata": {},
     "output_type": "execute_result"
    }
   ],
   "source": [
    "arr_no_idx = [x[1] for x in array]\n",
    "zero_idx = arr_no_idx.index(0)\n",
    "\n",
    "ans1 = [arr_no_idx[(zero_idx+i)%array_len] for i in [1000,2000,3000]]\n",
    "print(ans1)\n",
    "sum(ans1)"
   ]
  },
  {
   "cell_type": "markdown",
   "metadata": {},
   "source": [
    "# Second part"
   ]
  },
  {
   "cell_type": "code",
   "execution_count": 100,
   "metadata": {},
   "outputs": [
    {
     "name": "stdout",
     "output_type": "stream",
     "text": [
      "all elements are unique!\n"
     ]
    }
   ],
   "source": [
    "file1 = open('20.txt', 'r')\n",
    "lines = file1.readlines()\n",
    "\n",
    "og_array = np.array([int(l.replace('\\n','')) for l in lines]).tolist()\n",
    "array = []\n",
    "\n",
    "for i,el in enumerate(og_array):\n",
    "    array.append((i,el*811589153))\n",
    "\n",
    "if len(array) == len(set(array)):\n",
    "    print('all elements are unique!')\n",
    "else:\n",
    "    print(f'{len(array)=}, {len(set(array))=}')\n",
    "\n",
    "backup_array = array.copy()\n",
    "array_len = len(array)\n",
    "\n",
    "# array"
   ]
  },
  {
   "cell_type": "code",
   "execution_count": 101,
   "metadata": {},
   "outputs": [
    {
     "name": "stderr",
     "output_type": "stream",
     "text": [
      "100%|██████████| 5000/5000 [00:00<00:00, 32613.70it/s]\n",
      "100%|██████████| 5000/5000 [00:00<00:00, 19855.86it/s]\n",
      "100%|██████████| 5000/5000 [00:00<00:00, 19326.06it/s]\n",
      "100%|██████████| 5000/5000 [00:00<00:00, 19404.37it/s]\n",
      "100%|██████████| 5000/5000 [00:00<00:00, 19796.57it/s]\n",
      "100%|██████████| 5000/5000 [00:00<00:00, 19747.08it/s]\n",
      "100%|██████████| 5000/5000 [00:00<00:00, 19581.27it/s]\n",
      "100%|██████████| 5000/5000 [00:00<00:00, 18989.39it/s]\n",
      "100%|██████████| 5000/5000 [00:00<00:00, 19659.96it/s]\n",
      "100%|██████████| 5000/5000 [00:00<00:00, 19875.41it/s]"
     ]
    },
    {
     "name": "stdout",
     "output_type": "stream",
     "text": [
      "[5871847521955, -2309782729438, 1417846250291]\n"
     ]
    },
    {
     "name": "stderr",
     "output_type": "stream",
     "text": [
      "\n"
     ]
    },
    {
     "data": {
      "text/plain": [
       "4979911042808"
      ]
     },
     "execution_count": 101,
     "metadata": {},
     "output_type": "execute_result"
    }
   ],
   "source": [
    "## mix array\n",
    "\n",
    "array = backup_array.copy()\n",
    "\n",
    "for _ in range(10):\n",
    "    # print([x[1] for x in array])\n",
    "    for el in tqdm(backup_array):\n",
    "        idx = array.index(el)\n",
    "        array.pop(idx)\n",
    "        # print(idx + el[1])\n",
    "        array.insert(fix_idx(idx + el[1], array_len),el)\n",
    "        # print([x[1] for x in array])\n",
    "\n",
    "\n",
    "# print([x[1] for x in array])\n",
    "\n",
    "arr_no_idx = [x[1] for x in array]\n",
    "zero_idx = arr_no_idx.index(0)\n",
    "\n",
    "ans2 = [arr_no_idx[(zero_idx+i)%array_len] for i in [1000,2000,3000]]\n",
    "print(ans2)\n",
    "sum(ans2)"
   ]
  }
 ],
 "metadata": {
  "kernelspec": {
   "display_name": "Python 3",
   "language": "python",
   "name": "python3"
  },
  "language_info": {
   "codemirror_mode": {
    "name": "ipython",
    "version": 3
   },
   "file_extension": ".py",
   "mimetype": "text/x-python",
   "name": "python",
   "nbconvert_exporter": "python",
   "pygments_lexer": "ipython3",
   "version": "3.11.0"
  },
  "orig_nbformat": 4,
  "vscode": {
   "interpreter": {
    "hash": "aee8b7b246df8f9039afb4144a1f6fd8d2ca17a180786b69acc140d282b71a49"
   }
  }
 },
 "nbformat": 4,
 "nbformat_minor": 2
}
