{
 "cells": [
  {
   "cell_type": "code",
   "execution_count": 1,
   "metadata": {},
   "outputs": [],
   "source": [
    "import numpy as np\n",
    "import pandas as pd\n",
    "import math\n",
    "import scipy\n",
    "import sys\n",
    "from tqdm import tqdm\n",
    "import functools\n",
    "import networkx as nx\n",
    "import itertools\n",
    "\n",
    "import portion as P\n",
    "import re\n",
    "import datetime\n",
    "import queue\n",
    "import sympy as sym\n",
    "\n",
    "# interval = P.empty()\n",
    "# for i, j in [(0, 1), (2, 4), (6, 7), (3, 5)]:\n",
    "#     interval = interval | P.closed(i, j)\n",
    "# print(interval)"
   ]
  },
  {
   "attachments": {},
   "cell_type": "markdown",
   "metadata": {},
   "source": [
    "Testing reversing of a dictionary"
   ]
  },
  {
   "cell_type": "code",
   "execution_count": 23,
   "metadata": {},
   "outputs": [],
   "source": [
    "# new_positions = {2:'a',3:'a',1:'a',10:'b',23:'b'}\n",
    "\n",
    "# flipped = {}\n",
    "# for k, v in new_positions.items():\n",
    "#     if v not in flipped:\n",
    "#         flipped[v] = [k]\n",
    "#     else:\n",
    "#         flipped[v].append(k)\n",
    "# [el for k,v in flipped.items() if len(v) > 1 for el in v]"
   ]
  },
  {
   "attachments": {},
   "cell_type": "markdown",
   "metadata": {},
   "source": [
    "We will store a dictionary with mapping {old_position: new_position, ...}\n",
    "This mapping is going to be the same for the initial data load but for each iteration we will update the dictionary values, test for collisions (by reversing the dict) and posibly undo the move for collisions"
   ]
  },
  {
   "cell_type": "code",
   "execution_count": 24,
   "metadata": {},
   "outputs": [],
   "source": [
    "file1 = open('23.txt', 'r')\n",
    "lines = file1.readlines()\n",
    "\n",
    "elves = {}\n",
    "\n",
    "for i,l in enumerate(lines):\n",
    "    l.replace('\\n','')\n",
    "    for j,el in enumerate(l):\n",
    "        if el == '#':\n",
    "            # print(i,j,el)\n",
    "            elves[(i,j)] = (i,j)\n",
    "\n",
    "# print(elves.keys())\n",
    "\n",
    "directions = [((-1,0),(-1,1),(-1,-1)),((1,0),(1,-1),(1,1)),((0,-1),(1,-1),(-1,-1)),((0,1),(1,1),(-1,1))]\n",
    "\n",
    "for x in range(10):\n",
    "    new_positions = {}\n",
    "    for elf in elves:\n",
    "        e1, e2 = elf\n",
    "        should_move = False\n",
    "        for d1,d2 in [(-1,0),(1,0),(0,-1),(0,1),(1,1),(1,-1),(-1,-1),(-1,1)]:\n",
    "            if (e1+d1,e2+d2) in elves:\n",
    "                should_move = True\n",
    "                break\n",
    "        if should_move:\n",
    "            ## move an elf\n",
    "            moved = False\n",
    "            for dir in directions:\n",
    "                move_this_direction = True\n",
    "                for d1,d2 in dir:\n",
    "                    if (e1+d1,e2+d2) in elves:\n",
    "                        move_this_direction = False\n",
    "                if move_this_direction:\n",
    "                    d1,d2 = dir[0]\n",
    "                    new_positions[elf] = (e1+d1,e2+d2)\n",
    "                    moved = True\n",
    "                    break\n",
    "            if moved == False:\n",
    "                ##didn't move so keep it where it is\n",
    "                new_positions[elf] = elf\n",
    "        else:\n",
    "            new_positions[elf] = elf\n",
    "    ## update locations\n",
    "    flipped = {}\n",
    "    for k, v in new_positions.items():\n",
    "        if v not in flipped:\n",
    "            flipped[v] = [k]\n",
    "        else:\n",
    "            flipped[v].append(k)\n",
    "    dont_move_elves = [el for k,v in flipped.items() if len(v) > 1 for el in v]\n",
    "    for elf in dont_move_elves:\n",
    "        # print(f'{elf} will not move')\n",
    "        new_positions[elf] = elf\n",
    "\n",
    "    elves = {v:v for v in new_positions.values()}\n",
    "    # print(elves.keys())\n",
    "    # print()\n",
    "\n",
    "    directions.append(directions.pop(0))\n"
   ]
  },
  {
   "cell_type": "code",
   "execution_count": 25,
   "metadata": {},
   "outputs": [
    {
     "name": "stdout",
     "output_type": "stream",
     "text": [
      "rectange is 81 by 80\n",
      "answer is 3931\n"
     ]
    }
   ],
   "source": [
    "ii = [i for i,j in elves]\n",
    "jj = [j for i,j in elves]\n",
    "height = abs(max(ii) - min(ii))+1\n",
    "width = abs(max(jj) - min(jj))+1\n",
    "\n",
    "\n",
    "print(f'rectange is {height} by {width}')\n",
    "print(f'answer is {height*width - len(ii)}')"
   ]
  },
  {
   "cell_type": "markdown",
   "metadata": {},
   "source": [
    "# Second part"
   ]
  },
  {
   "cell_type": "code",
   "execution_count": 27,
   "metadata": {},
   "outputs": [
    {
     "name": "stdout",
     "output_type": "stream",
     "text": [
      "answer is 944\n"
     ]
    }
   ],
   "source": [
    "file1 = open('23.txt', 'r')\n",
    "lines = file1.readlines()\n",
    "\n",
    "elves = {}\n",
    "\n",
    "for i,l in enumerate(lines):\n",
    "    l.replace('\\n','')\n",
    "    for j,el in enumerate(l):\n",
    "        if el == '#':\n",
    "            # print(i,j,el)\n",
    "            elves[(i,j)] = (i,j)\n",
    "\n",
    "# print(elves.keys())\n",
    "\n",
    "directions = [((-1,0),(-1,1),(-1,-1)),((1,0),(1,-1),(1,1)),((0,-1),(1,-1),(-1,-1)),((0,1),(1,1),(-1,1))]\n",
    "\n",
    "x = 0\n",
    "while True:\n",
    "    x += 1\n",
    "    new_positions = {}\n",
    "    elf_moved = False\n",
    "\n",
    "    for elf in elves:\n",
    "        e1, e2 = elf\n",
    "        should_move = False\n",
    "        for d1,d2 in [(-1,0),(1,0),(0,-1),(0,1),(1,1),(1,-1),(-1,-1),(-1,1)]:\n",
    "            if (e1+d1,e2+d2) in elves:\n",
    "                should_move = True\n",
    "                break\n",
    "        if should_move:\n",
    "            ## move an elf\n",
    "            moved = False\n",
    "            for dir in directions:\n",
    "                move_this_direction = True\n",
    "                for d1,d2 in dir:\n",
    "                    if (e1+d1,e2+d2) in elves:\n",
    "                        move_this_direction = False\n",
    "                if move_this_direction:\n",
    "                    d1,d2 = dir[0]\n",
    "                    new_positions[elf] = (e1+d1,e2+d2)\n",
    "                    moved = True\n",
    "                    elf_moved = True\n",
    "                    break\n",
    "            if moved == False:\n",
    "                ##didn't move so keep it where it is\n",
    "                new_positions[elf] = elf\n",
    "        else:\n",
    "            new_positions[elf] = elf\n",
    "    if elf_moved == False:\n",
    "        print(f'answer is {x}')\n",
    "        break\n",
    "    ## update locations\n",
    "    flipped = {}\n",
    "    for k, v in new_positions.items():\n",
    "        if v not in flipped:\n",
    "            flipped[v] = [k]\n",
    "        else:\n",
    "            flipped[v].append(k)\n",
    "    dont_move_elves = [el for k,v in flipped.items() if len(v) > 1 for el in v]\n",
    "    for elf in dont_move_elves:\n",
    "        # print(f'{elf} will not move')\n",
    "        new_positions[elf] = elf\n",
    "\n",
    "    elves = {v:v for v in new_positions.values()}\n",
    "    # print(elves.keys())\n",
    "    # print()\n",
    "\n",
    "    directions.append(directions.pop(0))\n"
   ]
  },
  {
   "cell_type": "code",
   "execution_count": null,
   "metadata": {},
   "outputs": [],
   "source": []
  },
  {
   "cell_type": "code",
   "execution_count": null,
   "metadata": {},
   "outputs": [],
   "source": []
  },
  {
   "cell_type": "code",
   "execution_count": null,
   "metadata": {},
   "outputs": [],
   "source": []
  }
 ],
 "metadata": {
  "kernelspec": {
   "display_name": "Python 3",
   "language": "python",
   "name": "python3"
  },
  "language_info": {
   "codemirror_mode": {
    "name": "ipython",
    "version": 3
   },
   "file_extension": ".py",
   "mimetype": "text/x-python",
   "name": "python",
   "nbconvert_exporter": "python",
   "pygments_lexer": "ipython3",
   "version": "3.11.0"
  },
  "orig_nbformat": 4,
  "vscode": {
   "interpreter": {
    "hash": "aee8b7b246df8f9039afb4144a1f6fd8d2ca17a180786b69acc140d282b71a49"
   }
  }
 },
 "nbformat": 4,
 "nbformat_minor": 2
}
