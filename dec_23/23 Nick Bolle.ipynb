{
 "cells": [
  {
   "cell_type": "markdown",
   "id": "cc902ab4",
   "metadata": {},
   "source": [
    "Organization:\n",
    "- Work\n",
    "  - 1 test: defining functions for part 1, testing on test input\n",
    "  - 1 run: getting answer for part 1\n",
    "  - 2 test: ...\n",
    "  - 2 run: ...\n",
    "- Utilities: functions I think might help parse general inputs\n",
    "- Inputs: where I define the test (_t_) and problem (_s_) inputs"
   ]
  },
  {
   "cell_type": "markdown",
   "id": "d1881444",
   "metadata": {},
   "source": [
    "# Work"
   ]
  },
  {
   "cell_type": "markdown",
   "id": "eb1b228f",
   "metadata": {},
   "source": [
    "## 1 test\n",
    "\n",
    "For part 1 I can make a grid that an extra 10 on each side of the input, since elves can take at most 10 steps outwards. Updating grids with elf positions and proposed moves should work just fine.\n",
    "\n",
    "But I have a bad feeling part 2 will be to simulate far more than 10 steps\n",
    "\n",
    "But I guess I could always do a sparse array for part 2 (or I was thinking a dictionary, which is probably the more \"basic\" version of a sparse array)\n",
    "\n",
    "Actually let's just do set and dictionary stuff:\n",
    "- Create a set of the coordinates of elves\n",
    "- Now loop\n",
    "  - Propose locations: for each elf, figure out its proposed location and store it in a dictionary. The dictionary keys are the proposed locations, and the values are the locations of the proposing elves. If during this process we get a duplicate proposal, set the value to be None.\n",
    "  - Update elf positions: for each (key,value) pair in the dictionary, ignore it if the value is None. Otherwise it's a tuple, so add the key and remove the value from the set of elf locations to move that elf."
   ]
  },
  {
   "cell_type": "code",
   "execution_count": 11,
   "id": "72a47e1a",
   "metadata": {},
   "outputs": [],
   "source": [
    "import numpy as np"
   ]
  },
  {
   "cell_type": "code",
   "execution_count": 47,
   "id": "24bd81c5",
   "metadata": {},
   "outputs": [],
   "source": [
    "# Making the set of elf locations from the input\n",
    "def mark_elves(raw_input):\n",
    "    global elves\n",
    "    \n",
    "    # Loop over locations and characters\n",
    "    for i,line in enumerate(split(raw_input)):\n",
    "        for j,char in enumerate(line):\n",
    "            # If it's an elf, mark it\n",
    "            if char == '#':\n",
    "                elves.add((i,j))\n",
    "                \n",
    "def one_round(elves, proposal_directions):\n",
    "    \n",
    "    # Dictionary for proposed directions\n",
    "    proposals = {}\n",
    "    \n",
    "    # Iterate over elves and set their proposed directions\n",
    "    for elf in elves:\n",
    "        set_proposal(elf, elves, proposals, proposal_directions)\n",
    "    \n",
    "    # Execute the movements\n",
    "    for new,old in proposals.items():\n",
    "        if not old is None:\n",
    "            elves.remove(old)\n",
    "            elves.add(new)\n",
    "    \n",
    "    # Update the list of proposal directions\n",
    "    proposal_directions.append(proposal_directions.pop(0))\n",
    "    proposal_directions\n",
    "\n",
    "def set_proposal(elf, elves, proposals, proposal_directions):\n",
    "    i,j = elf\n",
    "    \n",
    "    # Check for elves near us\n",
    "    N  = (i-1,j)   in elves\n",
    "    NE = (i-1,j+1) in elves\n",
    "    E  = (i,  j+1) in elves\n",
    "    SE = (i+1,j+1) in elves\n",
    "    S  = (i+1,j)   in elves\n",
    "    SW = (i+1,j-1) in elves\n",
    "    W  = (i,  j-1) in elves\n",
    "    NW = (i-1,j-1) in elves\n",
    "    \n",
    "    # Start with no proposal\n",
    "    proposal = None\n",
    "    \n",
    "    # If there are no elves near us, propose our location\n",
    "    if not(N or NE or E or SE or S or SW or W or NW):\n",
    "        proposal = elf\n",
    "    # Otherwise, check the proposal order for our proposed location\n",
    "    else:\n",
    "        # Go in order of the proposal direction checks\n",
    "        for direction in proposal_directions:\n",
    "            # Check the corresponding direction\n",
    "            match direction:\n",
    "                case 'N':\n",
    "                    if not (NW or N or NE):\n",
    "                        proposal = (i-1,j)\n",
    "                case 'E':\n",
    "                    if not (NE or E or SE):\n",
    "                        proposal = (i,j+1)\n",
    "                case 'S':\n",
    "                    if not (SE or S or SW):\n",
    "                        proposal = (i+1,j)\n",
    "                case 'W':\n",
    "                    if not (SW or W or NW):\n",
    "                        proposal = (i,j-1)\n",
    "                        \n",
    "            # If we have a proposal, stop trying to get one\n",
    "            if not proposal is None:\n",
    "                break\n",
    "            \n",
    "    # Mark our proposal, resolving any conflicts\n",
    "    if not proposal is None:\n",
    "        # Conflict case\n",
    "        if proposal in proposals:\n",
    "            proposals[proposal] = None\n",
    "        # Success case\n",
    "        else:\n",
    "            proposals[proposal] = elf"
   ]
  },
  {
   "cell_type": "code",
   "execution_count": 48,
   "id": "2f4c2d12",
   "metadata": {},
   "outputs": [
    {
     "data": {
      "text/plain": [
       "{(0, 4),\n",
       " (1, 2),\n",
       " (1, 3),\n",
       " (1, 4),\n",
       " (1, 6),\n",
       " (2, 0),\n",
       " (2, 4),\n",
       " (2, 6),\n",
       " (3, 1),\n",
       " (3, 5),\n",
       " (3, 6),\n",
       " (4, 0),\n",
       " (4, 2),\n",
       " (4, 3),\n",
       " (4, 4),\n",
       " (5, 0),\n",
       " (5, 1),\n",
       " (5, 3),\n",
       " (5, 5),\n",
       " (5, 6),\n",
       " (6, 1),\n",
       " (6, 4)}"
      ]
     },
     "execution_count": 48,
     "metadata": {},
     "output_type": "execute_result"
    }
   ],
   "source": [
    "elves = set()\n",
    "mark_elves(t)\n",
    "elves"
   ]
  },
  {
   "cell_type": "code",
   "execution_count": 49,
   "id": "4457851d",
   "metadata": {},
   "outputs": [],
   "source": [
    "# The order in which elves propose directions\n",
    "proposal_directions = ['N','S','W','E']\n",
    "\n",
    "# Execute the rounds\n",
    "for _ in range(10):\n",
    "    one_round(elves, proposal_directions)"
   ]
  },
  {
   "cell_type": "code",
   "execution_count": 50,
   "id": "82bd605f",
   "metadata": {},
   "outputs": [
    {
     "data": {
      "text/plain": [
       "{(-2, 4),\n",
       " (-1, 8),\n",
       " (0, -1),\n",
       " (0, 1),\n",
       " (0, 4),\n",
       " (1, 3),\n",
       " (2, 0),\n",
       " (2, 6),\n",
       " (2, 9),\n",
       " (3, -2),\n",
       " (3, 5),\n",
       " (3, 6),\n",
       " (4, 2),\n",
       " (4, 3),\n",
       " (5, -1),\n",
       " (5, 8),\n",
       " (6, 1),\n",
       " (6, 3),\n",
       " (6, 6),\n",
       " (8, 1),\n",
       " (8, 4),\n",
       " (8, 7)}"
      ]
     },
     "execution_count": 50,
     "metadata": {},
     "output_type": "execute_result"
    }
   ],
   "source": [
    "elves"
   ]
  },
  {
   "cell_type": "code",
   "execution_count": 56,
   "id": "7a3a0316",
   "metadata": {},
   "outputs": [
    {
     "data": {
      "text/plain": [
       "110"
      ]
     },
     "execution_count": 56,
     "metadata": {},
     "output_type": "execute_result"
    }
   ],
   "source": [
    "# Calculate the number of empty tiles\n",
    "i_min,j_min,i_max,j_max=0,0,0,0\n",
    "for i,j in elves:\n",
    "    i_min, j_min, i_max, j_max = min(i_min,i), min(j_min,j), max(i_max,i), max(j_max,j)\n",
    "\n",
    "(i_max-i_min+1) * (j_max-j_min+1) - len(elves)"
   ]
  },
  {
   "cell_type": "code",
   "execution_count": 55,
   "id": "95f1f5e7",
   "metadata": {},
   "outputs": [
    {
     "name": "stdout",
     "output_type": "stream",
     "text": [
      "......#.....\n",
      "..........#.\n",
      ".#.#..#.....\n",
      ".....#......\n",
      "..#.....#..#\n",
      "#......##...\n",
      "....##......\n",
      ".#........#.\n",
      "...#.#..#...\n",
      "............\n",
      "...#..#..#..\n"
     ]
    }
   ],
   "source": [
    "# Make into a grid - just for checking the test case went well\n",
    "i_min,j_min,i_max,j_max=0,0,0,0\n",
    "for i,j in elves:\n",
    "    i_min, j_min, i_max, j_max = min(i_min,i), min(j_min,j), max(i_max,i), max(j_max,j)\n",
    "\n",
    "grid = np.full((i_max-i_min+1,j_max-j_min+1),'.')\n",
    "\n",
    "for i,j in elves:\n",
    "    grid[i-i_min,j-j_min] = '#'\n",
    "\n",
    "for line in grid:\n",
    "    print(''.join(line))"
   ]
  },
  {
   "cell_type": "markdown",
   "id": "97486550",
   "metadata": {},
   "source": [
    "## 1 run"
   ]
  },
  {
   "cell_type": "code",
   "execution_count": 57,
   "id": "c44f4f72",
   "metadata": {},
   "outputs": [
    {
     "data": {
      "text/plain": [
       "3689"
      ]
     },
     "execution_count": 57,
     "metadata": {},
     "output_type": "execute_result"
    }
   ],
   "source": [
    "elves = set()\n",
    "mark_elves(s)\n",
    "\n",
    "# The order in which elves propose directions\n",
    "proposal_directions = ['N','S','W','E']\n",
    "\n",
    "# Execute the rounds\n",
    "for _ in range(10):\n",
    "    one_round(elves, proposal_directions)\n",
    "\n",
    "# Calculate the number of empty tiles\n",
    "i_min,j_min,i_max,j_max=0,0,0,0\n",
    "for i,j in elves:\n",
    "    i_min, j_min, i_max, j_max = min(i_min,i), min(j_min,j), max(i_max,i), max(j_max,j)\n",
    "\n",
    "(i_max-i_min+1) * (j_max-j_min+1) - len(elves)"
   ]
  },
  {
   "cell_type": "markdown",
   "id": "cf29851d",
   "metadata": {},
   "source": [
    "## 2 test\n",
    "\n",
    "Note it's the first round where no elf moves, NOT the first round where no elf proposes a move. So it's possible the answer round is one where there is a conflict during attempted moves! Anyways, do the previous but move indefinitely and stop when there's a round where no elf moves. This means modifying one_round() to detect that, and return something for whether elves moved."
   ]
  },
  {
   "cell_type": "code",
   "execution_count": 77,
   "id": "927cd2c3",
   "metadata": {},
   "outputs": [],
   "source": [
    "def one_round(elves, proposal_directions):\n",
    "    \n",
    "    # Dictionary for proposed directions\n",
    "    proposals = {}\n",
    "    \n",
    "    # Iterate over elves and set their proposed directions\n",
    "    for elf in elves:\n",
    "        set_proposal(elf, elves, proposals, proposal_directions)\n",
    "    \n",
    "    # Execute the movements: note if no elves moved\n",
    "    moved = False\n",
    "    for new,old in proposals.items():\n",
    "        if not old is None:\n",
    "            elves.remove(old)\n",
    "            elves.add(new)\n",
    "            # Mark if an elf moved\n",
    "            if old != new:\n",
    "                moved = True\n",
    "    \n",
    "    # Update the list of proposal directions\n",
    "    proposal_directions.append(proposal_directions.pop(0))\n",
    "    proposal_directions\n",
    "    \n",
    "    # Return whether an elf moved\n",
    "    return moved\n",
    "\n",
    "def set_proposal(elf, elves, proposals, proposal_directions):\n",
    "    i,j = elf\n",
    "    \n",
    "    # Check for elves near us\n",
    "    N  = (i-1,j)   in elves\n",
    "    NE = (i-1,j+1) in elves\n",
    "    E  = (i,  j+1) in elves\n",
    "    SE = (i+1,j+1) in elves\n",
    "    S  = (i+1,j)   in elves\n",
    "    SW = (i+1,j-1) in elves\n",
    "    W  = (i,  j-1) in elves\n",
    "    NW = (i-1,j-1) in elves\n",
    "    \n",
    "    # Start with no proposal\n",
    "    proposal = None\n",
    "    \n",
    "    # If there are no elves near us, propose our location\n",
    "    if not(N or NE or E or SE or S or SW or W or NW):\n",
    "        proposal = elf\n",
    "    # Otherwise, check the proposal order for our proposed location\n",
    "    else:\n",
    "        # Go in order of the proposal direction checks\n",
    "        for direction in proposal_directions:\n",
    "            # Check the corresponding direction\n",
    "            match direction:\n",
    "                case 'N':\n",
    "                    if not (NW or N or NE):\n",
    "                        proposal = (i-1,j)\n",
    "                case 'E':\n",
    "                    if not (NE or E or SE):\n",
    "                        proposal = (i,j+1)\n",
    "                case 'S':\n",
    "                    if not (SE or S or SW):\n",
    "                        proposal = (i+1,j)\n",
    "                case 'W':\n",
    "                    if not (SW or W or NW):\n",
    "                        proposal = (i,j-1)\n",
    "                        \n",
    "            # If we have a proposal, stop trying to get one\n",
    "            if not proposal is None:\n",
    "                break\n",
    "            \n",
    "    # Mark our proposal, resolving any conflicts\n",
    "    if not proposal is None:\n",
    "        # Conflict case\n",
    "        if proposal in proposals:\n",
    "            proposals[proposal] = None\n",
    "        # Success case\n",
    "        else:\n",
    "            proposals[proposal] = elf"
   ]
  },
  {
   "cell_type": "code",
   "execution_count": 83,
   "id": "72da25ac",
   "metadata": {},
   "outputs": [
    {
     "name": "stdout",
     "output_type": "stream",
     "text": [
      "No move on round 20\n"
     ]
    }
   ],
   "source": [
    "elves = set()\n",
    "mark_elves(t)\n",
    "\n",
    "# The order in which elves propose directions\n",
    "proposal_directions = ['N','S','W','E']\n",
    "\n",
    "# Execute the rounds\n",
    "for k in range(1,100):\n",
    "    if not one_round(elves, proposal_directions):\n",
    "        print(f'No move on round {k}')\n",
    "        break"
   ]
  },
  {
   "cell_type": "markdown",
   "id": "a2c20e06",
   "metadata": {},
   "source": [
    "## 2 run"
   ]
  },
  {
   "cell_type": "code",
   "execution_count": 85,
   "id": "8a2a7cd9",
   "metadata": {},
   "outputs": [
    {
     "name": "stdout",
     "output_type": "stream",
     "text": [
      "No move on round 965\n"
     ]
    }
   ],
   "source": [
    "elves = set()\n",
    "mark_elves(s)\n",
    "\n",
    "# The order in which elves propose directions\n",
    "proposal_directions = ['N','S','W','E']\n",
    "\n",
    "# Execute the rounds\n",
    "for k in range(1,1000):\n",
    "    if not one_round(elves, proposal_directions):\n",
    "        print(f'No move on round {k}')\n",
    "        break"
   ]
  },
  {
   "cell_type": "markdown",
   "id": "46587fe1",
   "metadata": {},
   "source": [
    "# Utilities"
   ]
  },
  {
   "cell_type": "code",
   "execution_count": 1,
   "id": "b0f5c2be",
   "metadata": {},
   "outputs": [],
   "source": [
    "# Remove initial/final \\n characters\n",
    "def clean(s):\n",
    "    return s[1:-1]\n",
    "\n",
    "# Split at \\n characters\n",
    "# If there are \\n\\n characters, split into blocks too\n",
    "def split(s, block_char = '\\n\\n', line_char = '\\n'):\n",
    "    out = [block.split(line_char) for block in clean(s).split(block_char)]\n",
    "    if len(out) == 1:\n",
    "        return out[0]\n",
    "    else:\n",
    "        return out\n",
    "\n",
    "# Apply a function(s) to a list or \"block\" data (2-level list)\n",
    "def apply_func(data, func, nested=False):\n",
    "    if not isinstance(func, list):\n",
    "        func = [func]\n",
    "        \n",
    "    def _func(x):\n",
    "        for f in func:\n",
    "            x = f(x)\n",
    "        return x\n",
    "        \n",
    "    if nested:\n",
    "        return [[_func(x) for x in block] for block in data]\n",
    "    else:\n",
    "        return [_func(x) for x in data]\n",
    "\n",
    "# Split, parsing everything as ints\n",
    "def split_int(s):\n",
    "    return apply_func(split(s), int)\n",
    "\n",
    "# Split, parsing everything as float\n",
    "def split_float(s):\n",
    "    return apply_func(split(s), float)"
   ]
  },
  {
   "cell_type": "markdown",
   "id": "2b2e5b0f",
   "metadata": {},
   "source": [
    "# Inputs"
   ]
  },
  {
   "cell_type": "code",
   "execution_count": 2,
   "id": "6a1455c4",
   "metadata": {},
   "outputs": [],
   "source": [
    "t = \"\"\"\n",
    "....#..\n",
    "..###.#\n",
    "#...#.#\n",
    ".#...##\n",
    "#.###..\n",
    "##.#.##\n",
    ".#..#..\n",
    "\"\"\""
   ]
  },
  {
   "cell_type": "code",
   "execution_count": 3,
   "id": "dcf53146",
   "metadata": {},
   "outputs": [],
   "source": [
    "s = \"\"\"\n",
    "###..#####..#....##.#..#...#.#.#..#.##..##...#.#.###.#.###...###.#....\n",
    "#..#..#.#....#.#.####.#.#.....#..####...####.##.#.#....####...#..#.#..\n",
    "...##...#.#####..###......#.#.#..##.#..#..#####.#..###.#.####.#.####..\n",
    "#.#...#...#.#..##.#.#..#.####...#.#####.###.##....##.###.#.##..####.#.\n",
    "...##.##..#.##.###..##.####.##.#...##...#.#...#.##.#..##...###.###....\n",
    ".......#.#..#.#....#....#.....##...#.#...###..#..#.##...#....##...#..#\n",
    "#.##..#.#..#.#####.#.#....##..#..##..###...#.###.####.#.....#..#.#.##.\n",
    ".#####.......###.##.#....#...##.#.#...#.######...##.#.#.###...###..#..\n",
    ".#.###..#####.##.##...#..##..#.#..#.####.##..###.##..##..##..##..##.#.\n",
    "..##..###.###.....#...###.#.#...#####.##..######.#.#.#...#..####....#.\n",
    ".#.....#..#........#####.###.##..#.####..#.#.#.###.###.#.....###.....#\n",
    ".#.##....#..#..#..#..#.#.#.....###.##.####.###.#..#..###..##.......###\n",
    "##.##..###...##....#....#........#.#######....#..#.##..#.##...#.#####.\n",
    ".#####.#.#.######.##....#..###.##......####..#...#.##.######...####.##\n",
    "#..###..#...##.##..#.#.....##...#.##.#.####.###.##....#.###.###...#.##\n",
    "..##.#...###...#...###.#.#.###.#.####..##..#...#..##...#..####...#.###\n",
    "###.....#..#....#.#......###..##.#...####...#..########..#.##.....####\n",
    "###..##....#.......#..###.#.#..##..#...###.......###....###.##..#..##.\n",
    "#..#.#..#.###....#.##.#.....#.##.##..#.##.###..##..###.##.###..#.##...\n",
    "#..#....#..##......###.######..#..#####.##...#.#..#..##..#.#....####.#\n",
    ".....#...#..####..##..#.#.##..##.###..#.###..#....##.##.##.####.......\n",
    "...#..#.####....###.#......#..###.##.#.#..##.#..#####.###..###..##.###\n",
    "#.###...#.#####..##.##..#.#....###.####.##.....####..#...#.###.#####..\n",
    "..#####.#...#.#..#..#.#.#.#.#......#.##.#.....##....#.##..###..####..#\n",
    "...#####.#.#..#..###..##.#.##.##...#.##.#.##.#.#.....#.###..####.#.#..\n",
    "####....##.##....#.#.###.##..#.#......#....#.###..#.#######.#..##...#.\n",
    "#.#..#..####..#.#...##.#...###.....##.###...#.#.#####.#....###.###.##.\n",
    "#.####.....#........##.#..##..##.###.#.##.#.#.#...##..#########.###..#\n",
    "#.#.#..#########.###.##..###.#...#.##.#..#....###...###.#..##.##.##...\n",
    ".#.#..##.......###.##.#.##......###..#....###.#...###.#.....#.#####...\n",
    "##.##..#.#..#....####.##..######.#.#..##...#...##.#.##..#.#....#.#.#.#\n",
    ".#..#...#.###....#..#.#.#...#####...#.#####.#.....#.#.##.#...##..##.##\n",
    ".##.#.######.#.####.#..##.#.####.##.##..##.######..#.#######..#.#..##.\n",
    ".#....#.#.###.##.....#..##.#.#####..##..###.##.#...#.#.#....#....###.#\n",
    ".#.#.#..#.....##.#....##.#....###.###......#.#..#.#...##...#..#.###..#\n",
    "..#..#....##.##...#.#...#......#.#####....###.#..#.#..#..#.####..#####\n",
    ".#.#..#....####..#....##..####.#.#.#...#.##.#..........###.....#..#..#\n",
    ".#.##.#.#.....##.#...###.....#####.##.##......###.#.##..####.##....#..\n",
    "...#..##.#..#....#.....##..#.#.##.###.##.#.#..##.#.#...##.#...####...#\n",
    "##.#.########....#.#..##..#.##...###..#...#.##.###..####.###.......#.#\n",
    "#.##...##..#####..##..###.#..######..###..######..#.#.#..########.#...\n",
    "##..##..##.##.##...###..#.#.#..#.#.###.#..#...#..#.#....#..##....#..#.\n",
    "..#####..#.#.##.##.####.#..#.####.#.#.....#....#.##...##.....###....##\n",
    "##..####..#.###.##..######.#..#.##.##..####..#.##.#.##.#.#.###.#.##...\n",
    "#.#...#..##.##...##....#..#..#.#.#####....#.#.#.###..#..#.#..#....#...\n",
    "#.###....##.........###...###..##.#..#.##.#.....#..#.######..#.###....\n",
    "#######..###.#..###...#..#####.....#..#...#..##..#....#.#####..###....\n",
    ".#...###..###....##.##.....#.##.#.###.#.####...#...#.#.##........#.#.#\n",
    "##..#..#......#.#.###.#.#.#.#....#.#...####.###.##.#.#..###........##.\n",
    ".#..#..#.#.###..#...#..###.##....#........#.#.#.####.#..#.#.####..#.##\n",
    "..########..#..#..#.####.####.###.#####..#..######..#.#.#....#......#.\n",
    "###.##..##.####.#.......###.....####.#.#..#.#.#..#.#..##.###...#.##.##\n",
    ".....##..#..#.#.#.####...##..######.#.####..#..##.###......###.#....#.\n",
    "#..###...#..##........#.#.###.##.##..#..#..##.##.#.#..##.#..##.##...#.\n",
    "..#....#.#.#####.##...#.##.#..##....##.##.#....##..#.######..#.####.#.\n",
    "#...##.#.##.#.#...#.###.#.#.##.....##.###.#...#.#.#####.######.##.#.##\n",
    "#.#.###..#.#..####..###..#####.#.........#..####.##.###.###.#....#....\n",
    ".#.#...#.#.###..##....#..#.###.#...#.#..###..###..#.##.#.##.#.#...##..\n",
    "...##..#.#.#.###..##...#####..##.#.#.####.#...####.#.#..#..##...##.###\n",
    "...####..###.###.#.#...#.##...#.###...#.#.#.#.#.....#..#...##..##.#...\n",
    "##..###...##.#.###.##.##..#.#####.###.......##.####..##.....#.#.##..#.\n",
    "......##.....#...#.###.##.#..#####.#.###....#.#..###.#....##...##.#.##\n",
    "...#.#.###.##...##.####..##.##..#...#.#.......##..#..#....##...#.#.#..\n",
    "..##.....###.....#...#.#.##..###..####.###..###...#..#...#..###...##..\n",
    ".#.#.#.#..####..#...###.#.#..##.##.#.#..#..##.......#.#..#.####.###.##\n",
    "#..###..###.#.......#.#...##.###.#....#..#.##.#.##.##.####.####.#####.\n",
    "###.#...#....#.#..##.#.##.##.#.#..##..##..#####.#.#.#.##.....##.##..##\n",
    "##.##..#....##...###.##..#...#.....#.#..##......#...#.###....#.#..#..#\n",
    "##..#..###..####.#.#.#.##.#.###.###.##.#.##....##.#.#..#.#..#.#...###.\n",
    "#.##..##.#.###..#.#.####.#...#...##..#..##.###.#.#.......#....##.##...\n",
    "\"\"\""
   ]
  },
  {
   "cell_type": "code",
   "execution_count": null,
   "id": "e7de8682",
   "metadata": {},
   "outputs": [],
   "source": []
  }
 ],
 "metadata": {
  "kernelspec": {
   "display_name": "Python 3 (ipykernel)",
   "language": "python",
   "name": "python3"
  },
  "language_info": {
   "codemirror_mode": {
    "name": "ipython",
    "version": 3
   },
   "file_extension": ".py",
   "mimetype": "text/x-python",
   "name": "python",
   "nbconvert_exporter": "python",
   "pygments_lexer": "ipython3",
   "version": "3.11.1"
  }
 },
 "nbformat": 4,
 "nbformat_minor": 5
}
