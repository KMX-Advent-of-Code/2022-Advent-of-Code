{
 "cells": [
  {
   "cell_type": "code",
   "execution_count": 1,
   "id": "27de56ac",
   "metadata": {
    "ExecuteTime": {
     "end_time": "2022-12-09T15:09:43.840568Z",
     "start_time": "2022-12-09T15:09:43.756489Z"
    }
   },
   "outputs": [],
   "source": [
    "from helpers import get_input"
   ]
  },
  {
   "cell_type": "code",
   "execution_count": 2,
   "id": "ef4852e2",
   "metadata": {
    "ExecuteTime": {
     "end_time": "2022-12-09T15:09:43.999981Z",
     "start_time": "2022-12-09T15:09:43.962698Z"
    }
   },
   "outputs": [],
   "source": [
    "sample_text = \"\"\"R 4\n",
    "U 4\n",
    "L 3\n",
    "D 1\n",
    "R 4\n",
    "D 1\n",
    "L 5\n",
    "R 2\"\"\".split(\"\\n\")"
   ]
  },
  {
   "cell_type": "code",
   "execution_count": 3,
   "id": "69f57ab7",
   "metadata": {
    "ExecuteTime": {
     "end_time": "2022-12-09T15:09:44.351532Z",
     "start_time": "2022-12-09T15:09:44.305801Z"
    }
   },
   "outputs": [
    {
     "data": {
      "text/plain": [
       "['R 4', 'U 4', 'L 3', 'D 1', 'R 4', 'D 1', 'L 5', 'R 2']"
      ]
     },
     "execution_count": 3,
     "metadata": {},
     "output_type": "execute_result"
    }
   ],
   "source": [
    "sample_text"
   ]
  },
  {
   "cell_type": "code",
   "execution_count": 4,
   "id": "fe0485a3",
   "metadata": {
    "ExecuteTime": {
     "end_time": "2022-12-09T15:09:44.724742Z",
     "start_time": "2022-12-09T15:09:44.685356Z"
    }
   },
   "outputs": [
    {
     "name": "stdout",
     "output_type": "stream",
     "text": [
      "Retrieved from File marcosh_input_day9.txt\n"
     ]
    }
   ],
   "source": [
    "input_text, input_list = get_input()"
   ]
  },
  {
   "cell_type": "markdown",
   "id": "424d04c0",
   "metadata": {
    "ExecuteTime": {
     "end_time": "2022-12-09T07:34:16.018802Z",
     "start_time": "2022-12-09T07:34:15.976073Z"
    }
   },
   "source": [
    "### Part 1"
   ]
  },
  {
   "cell_type": "code",
   "execution_count": 8,
   "id": "e36342a0",
   "metadata": {
    "ExecuteTime": {
     "end_time": "2022-12-09T15:10:01.609386Z",
     "start_time": "2022-12-09T15:10:01.564686Z"
    }
   },
   "outputs": [],
   "source": [
    "class Rope():\n",
    "    def __init__(self):\n",
    "        self.head = [0,0]\n",
    "        self.tail = [0,0]\n",
    "        self.head_history = [tuple(self.head)]\n",
    "        self.tail_history = [tuple(self.head)]\n",
    "        \n",
    "        \n",
    "    def reposition_tail(self,last_pos):\n",
    "        delta_x,delta_y = (np.array(self.head) - np.array(self.tail))\n",
    "        if np.abs(delta_x) > 1 or np.abs(delta_y) > 1:\n",
    "            #print('resetting tail')\n",
    "            self.tail = last_pos\n",
    "            \n",
    "            \n",
    "    \n",
    "    def move(self,move):\n",
    "#        print(f'moving {move}')\n",
    "        direction, magnitude = move.split(' ')\n",
    "        magnitude = int(magnitude)\n",
    "        \n",
    "        while magnitude > 0:\n",
    "            last_pos = tuple(self.head)\n",
    "            #print(\"last pos\",last_pos)\n",
    "            match direction:\n",
    "                case 'U':\n",
    "                    self.head[1] += 1\n",
    "                case 'D':\n",
    "                    self.head[1] -= 1\n",
    "                case 'L':\n",
    "                    self.head[0] -= 1\n",
    "                case 'R':\n",
    "                    self.head[0] += 1\n",
    "                    \n",
    "         #   print('head',self.head)\n",
    "            self.head_history.append(tuple(self.head))\n",
    "            #print(f\"tail should move to {last_pos}\")\n",
    "            self.reposition_tail(last_pos)\n",
    "   #         print('tail',self.tail)\n",
    "            self.tail_history.append(tuple(self.tail))\n",
    "            magnitude -= 1\n",
    "            \n",
    "    def run_moves(self,moves):\n",
    "        for move in moves:\n",
    "            self.move(move)\n",
    "        \n",
    "                \n",
    "                "
   ]
  },
  {
   "cell_type": "code",
   "execution_count": 9,
   "id": "45c21467",
   "metadata": {
    "ExecuteTime": {
     "end_time": "2022-12-09T15:10:02.096892Z",
     "start_time": "2022-12-09T15:10:02.053651Z"
    }
   },
   "outputs": [],
   "source": [
    "r = Rope()"
   ]
  },
  {
   "cell_type": "code",
   "execution_count": 10,
   "id": "193cb983",
   "metadata": {
    "ExecuteTime": {
     "end_time": "2022-12-09T15:10:02.680284Z",
     "start_time": "2022-12-09T15:10:02.579498Z"
    }
   },
   "outputs": [],
   "source": [
    "r.run_moves(input_list)"
   ]
  },
  {
   "cell_type": "code",
   "execution_count": 11,
   "id": "e9a757a2",
   "metadata": {
    "ExecuteTime": {
     "end_time": "2022-12-09T15:10:03.507569Z",
     "start_time": "2022-12-09T15:10:03.464323Z"
    }
   },
   "outputs": [
    {
     "data": {
      "text/plain": [
       "6376"
      ]
     },
     "execution_count": 11,
     "metadata": {},
     "output_type": "execute_result"
    }
   ],
   "source": [
    "len(set(r.tail_history))"
   ]
  },
  {
   "cell_type": "code",
   "execution_count": 176,
   "id": "2fb0dd64",
   "metadata": {
    "ExecuteTime": {
     "end_time": "2022-12-09T06:28:23.874975Z",
     "start_time": "2022-12-09T06:28:23.739953Z"
    }
   },
   "outputs": [],
   "source": []
  },
  {
   "cell_type": "code",
   "execution_count": 15,
   "id": "d403f98f",
   "metadata": {
    "ExecuteTime": {
     "end_time": "2022-12-09T15:10:19.156535Z",
     "start_time": "2022-12-09T15:10:19.111606Z"
    }
   },
   "outputs": [],
   "source": [
    "big_sample_moves = \"\"\"R 5\n",
    "U 8\n",
    "L 8\n",
    "D 3\n",
    "R 17\n",
    "D 10\n",
    "L 25\n",
    "U 20\"\"\".split('\\n')"
   ]
  },
  {
   "cell_type": "code",
   "execution_count": 19,
   "id": "d32a2c5a",
   "metadata": {
    "ExecuteTime": {
     "end_time": "2022-12-09T15:10:31.397423Z",
     "start_time": "2022-12-09T15:10:31.350213Z"
    }
   },
   "outputs": [],
   "source": [
    "from copy import deepcopy\n",
    "def compute_new_tail_position(head,tail):\n",
    "    delta_x,delta_y = (np.array(head) - np.array(tail))\n",
    "    if np.abs(delta_x) > 1 or np.abs(delta_y) > 1:\n",
    "        return tail[0]+np.sign(delta_x)*1,tail[1]+np.sign(delta_y)*1\n",
    "    return tuple(tail)\n",
    "\n",
    "class SuperRope():\n",
    "    def __init__(self):\n",
    "        self.heads_and_tails = [[0,0] for i in range(10)]\n",
    "        self.tail_history = [(0,0)]\n",
    "        \n",
    "    def reposition_tail(self,last_pos,head,tail):\n",
    "        return compute_new_tail_position(head,tail)\n",
    "            \n",
    "    def reposition_tails(self,last_pos):\n",
    "        for i in range(1,10):\n",
    "            self.heads_and_tails[i] = self.reposition_tail(last_pos[i-1],self.heads_and_tails[i-1],self.heads_and_tails[i])\n",
    "          #  print(\"moving knot\",i,self.heads_and_tails[i])\n",
    "            \n",
    "    \n",
    "    def move(self,move):\n",
    "     #   print(f'moving {move}')\n",
    "        direction, magnitude = move.split(' ')\n",
    "        magnitude = int(magnitude)\n",
    "        \n",
    "        while magnitude > 0:\n",
    "            last_pos = deepcopy(self.heads_and_tails)\n",
    "            #print(\"last pos\",last_pos)\n",
    "            match direction:\n",
    "                case 'U':\n",
    "                    self.heads_and_tails[0][1] += 1\n",
    "                case 'D':\n",
    "                    self.heads_and_tails[0][1] -= 1\n",
    "                case 'L':\n",
    "                    self.heads_and_tails[0][0] -= 1\n",
    "                case 'R':\n",
    "                    self.heads_and_tails[0][0] += 1\n",
    "                    \n",
    "           # print('head',self.heads_and_tails[0])\n",
    "            #print(f\"tail should move to {last_pos}\")\n",
    "            self.reposition_tails(last_pos)\n",
    "            self.tail_history.append(tuple(self.heads_and_tails[-1]))\n",
    "            magnitude -= 1\n",
    "            \n",
    "    def run_moves(self,moves):\n",
    "        for move in moves:\n",
    "            self.move(move)\n",
    "        \n",
    "                \n",
    "                "
   ]
  },
  {
   "cell_type": "code",
   "execution_count": 20,
   "id": "b196feae",
   "metadata": {
    "ExecuteTime": {
     "end_time": "2022-12-09T15:10:31.750428Z",
     "start_time": "2022-12-09T15:10:31.707127Z"
    }
   },
   "outputs": [],
   "source": [
    "r = SuperRope()"
   ]
  },
  {
   "cell_type": "code",
   "execution_count": 21,
   "id": "91564fec",
   "metadata": {
    "ExecuteTime": {
     "end_time": "2022-12-09T15:10:32.088718Z",
     "start_time": "2022-12-09T15:10:32.039526Z"
    }
   },
   "outputs": [],
   "source": [
    "r.run_moves(big_sample_moves)"
   ]
  },
  {
   "cell_type": "code",
   "execution_count": 22,
   "id": "a92858e3",
   "metadata": {
    "ExecuteTime": {
     "end_time": "2022-12-09T15:10:32.582327Z",
     "start_time": "2022-12-09T15:10:32.539669Z"
    }
   },
   "outputs": [
    {
     "data": {
      "text/plain": [
       "36"
      ]
     },
     "execution_count": 22,
     "metadata": {},
     "output_type": "execute_result"
    }
   ],
   "source": [
    "len(set(r.tail_history))"
   ]
  },
  {
   "cell_type": "code",
   "execution_count": 23,
   "id": "c337963a",
   "metadata": {
    "ExecuteTime": {
     "end_time": "2022-12-09T15:10:33.003434Z",
     "start_time": "2022-12-09T15:10:32.960965Z"
    }
   },
   "outputs": [
    {
     "data": {
      "text/plain": [
       "[[-11, 15],\n",
       " (-11, 14),\n",
       " (-11, 13),\n",
       " (-11, 12),\n",
       " (-11, 11),\n",
       " (-11, 10),\n",
       " (-11, 9),\n",
       " (-11, 8),\n",
       " (-11, 7),\n",
       " (-11, 6)]"
      ]
     },
     "execution_count": 23,
     "metadata": {},
     "output_type": "execute_result"
    }
   ],
   "source": [
    "r.heads_and_tails"
   ]
  },
  {
   "cell_type": "code",
   "execution_count": 24,
   "id": "33a07584",
   "metadata": {
    "ExecuteTime": {
     "end_time": "2022-12-09T15:10:33.844658Z",
     "start_time": "2022-12-09T15:10:33.804206Z"
    }
   },
   "outputs": [],
   "source": [
    "r = SuperRope()"
   ]
  },
  {
   "cell_type": "code",
   "execution_count": 25,
   "id": "a53cedbd",
   "metadata": {
    "ExecuteTime": {
     "end_time": "2022-12-09T15:10:34.764882Z",
     "start_time": "2022-12-09T15:10:34.205666Z"
    }
   },
   "outputs": [],
   "source": [
    "r.run_moves(input_list)"
   ]
  },
  {
   "cell_type": "code",
   "execution_count": 26,
   "id": "0c397de0",
   "metadata": {
    "ExecuteTime": {
     "end_time": "2022-12-09T15:10:35.116643Z",
     "start_time": "2022-12-09T15:10:35.074436Z"
    }
   },
   "outputs": [
    {
     "data": {
      "text/plain": [
       "2607"
      ]
     },
     "execution_count": 26,
     "metadata": {},
     "output_type": "execute_result"
    }
   ],
   "source": [
    "len(set(r.tail_history))"
   ]
  },
  {
   "cell_type": "code",
   "execution_count": null,
   "id": "53d18510",
   "metadata": {},
   "outputs": [],
   "source": []
  }
 ],
 "metadata": {
  "kernelspec": {
   "display_name": "Python 3 (ipykernel)",
   "language": "python",
   "name": "python3"
  },
  "language_info": {
   "codemirror_mode": {
    "name": "ipython",
    "version": 3
   },
   "file_extension": ".py",
   "mimetype": "text/x-python",
   "name": "python",
   "nbconvert_exporter": "python",
   "pygments_lexer": "ipython3",
   "version": "3.10.6"
  },
  "toc": {
   "base_numbering": 1,
   "nav_menu": {},
   "number_sections": true,
   "sideBar": true,
   "skip_h1_title": false,
   "title_cell": "Table of Contents",
   "title_sidebar": "Contents",
   "toc_cell": false,
   "toc_position": {},
   "toc_section_display": true,
   "toc_window_display": false
  }
 },
 "nbformat": 4,
 "nbformat_minor": 5
}
