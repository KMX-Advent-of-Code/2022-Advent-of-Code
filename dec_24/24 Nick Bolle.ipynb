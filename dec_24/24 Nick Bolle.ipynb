{
 "cells": [
  {
   "cell_type": "markdown",
   "id": "cc902ab4",
   "metadata": {},
   "source": [
    "Organization:\n",
    "- Work\n",
    "  - 1 test: defining functions for part 1, testing on test input\n",
    "  - 1 run: getting answer for part 1\n",
    "  - 2 test: ...\n",
    "  - 2 run: ...\n",
    "- Utilities: functions I think might help parse general inputs\n",
    "- Inputs: where I define the test (_t_) and problem (_s_) inputs"
   ]
  },
  {
   "cell_type": "markdown",
   "id": "d1881444",
   "metadata": {},
   "source": [
    "# Work"
   ]
  },
  {
   "cell_type": "markdown",
   "id": "eb1b228f",
   "metadata": {},
   "source": [
    "## 1 test\n",
    "\n",
    "Idea: step through time, updating the accessible positions as a set until it reaches the exit\n",
    "- Intialize: grid of the blizzard locations and my set of locations is the initial location\n",
    "- Step until my set of locations reaches the end: update the blizzard locations, and make the set of locations equal to all non-blizzard locations <= 1 away from the current set of locations\n",
    "\n",
    "(Also, manual check says there are no blizzards that would have to interact with the start/end areas so no need to worry about how that might work)\n",
    "\n",
    "For the blizzards, if there are multiple on the same square I'll just make a string out of their characters\n",
    "\n",
    "Why this \"set of accessible locations\" idea makes sense here: if you draw out all the possible paths we can walk, there will (probably) be a LOT of overlap. So rather than treat each path as its own thing, we can work with the set of locations instead to take advantage of the amount of overlap."
   ]
  },
  {
   "cell_type": "code",
   "execution_count": 8,
   "id": "4f3c3c39",
   "metadata": {},
   "outputs": [],
   "source": [
    "import numpy as np"
   ]
  },
  {
   "cell_type": "code",
   "execution_count": 233,
   "id": "f3b2bc3d",
   "metadata": {},
   "outputs": [],
   "source": [
    "def take_step():\n",
    "    global grid, locations, n, m, blank_grid\n",
    "    \n",
    "    # Update the blizzards\n",
    "    new_grid = blank_grid.copy()\n",
    "    \n",
    "    # Iterate over locations\n",
    "    for i in range(1,n-1):\n",
    "        for j in range(1,m-1):\n",
    "            # For each blizzard in this location, update each one\n",
    "            for blizzard in grid[i,j]:\n",
    "                loc = move_blizzard(i,j,blizzard)\n",
    "                new_grid[loc] += blizzard\n",
    "                \n",
    "    grid = new_grid\n",
    "    \n",
    "    # Update our possible locations\n",
    "    new_locations = locations.copy()\n",
    "    \n",
    "    # The main area\n",
    "    for i in range(1,n-1):\n",
    "        for j in range(1,m-1):\n",
    "            # If we could have been here, mark that we can move to its neighbors\n",
    "            if locations[i,j]:\n",
    "                new_locations[i+1,j] = True\n",
    "                new_locations[i-1,j] = True\n",
    "                new_locations[i,j+1] = True\n",
    "                new_locations[i,j-1] = True\n",
    "    \n",
    "    # Don't forget ones moved to from the start and end locations!\n",
    "    if locations[0,1]:\n",
    "        new_locations[1,1] = True\n",
    "    if locations[n-1,m-2]:\n",
    "        new_locations[n-2,m-2] = True\n",
    "    \n",
    "    # Remember we can't go into the walls (special treatment for the start and end)\n",
    "    start = new_locations[0,1]\n",
    "    end = new_locations[n-1,m-2]\n",
    "    new_locations[0,:] = False\n",
    "    new_locations[n-1,:] = False\n",
    "    new_locations[:,0] = False\n",
    "    new_locations[:,m-1] = False\n",
    "    new_locations[0,1] = start\n",
    "    new_locations[n-1,m-2] = end\n",
    "    \n",
    "    # Now remove the locations that have blizzards\n",
    "    for i in range(1,n-1):\n",
    "        for j in range(1,m-1):\n",
    "            if grid[i,j]:\n",
    "                new_locations[i,j] = False\n",
    "    \n",
    "    locations = new_locations\n",
    "    \n",
    "\n",
    "def move_blizzard(i,j,blizzard):\n",
    "    global n,m\n",
    "    \n",
    "    # Move the blizzard\n",
    "    match blizzard:\n",
    "        case '>':\n",
    "            di,dj = 0,1\n",
    "        case 'v':\n",
    "            di,dj = 1,0\n",
    "        case '<':\n",
    "            di,dj = 0,-1\n",
    "        case '^':\n",
    "            di,dj = -1,0\n",
    "    i,j = i+di,j+dj\n",
    "    \n",
    "    # Conservation of blizzards\n",
    "    if i == 0:\n",
    "        i = n-2\n",
    "    if i == n-1:\n",
    "        i = 1\n",
    "    if j == 0:\n",
    "        j = m-2\n",
    "    if j == m-1:\n",
    "        j = 1\n",
    "    \n",
    "    return (i,j)"
   ]
  },
  {
   "cell_type": "code",
   "execution_count": 234,
   "id": "02591e3c",
   "metadata": {},
   "outputs": [
    {
     "data": {
      "text/plain": [
       "array([['#', '', '#', '#', '#', '#', '#', '#'],\n",
       "       ['#', '>', '>', '', '<', '^', '<', '#'],\n",
       "       ['#', '', '<', '', '', '<', '<', '#'],\n",
       "       ['#', '>', 'v', '', '>', '<', '>', '#'],\n",
       "       ['#', '<', '^', 'v', '^', '^', '>', '#'],\n",
       "       ['#', '#', '#', '#', '#', '#', '', '#']], dtype=object)"
      ]
     },
     "execution_count": 234,
     "metadata": {},
     "output_type": "execute_result"
    }
   ],
   "source": [
    "# Initialize the grid, replacing '.' with '' for easy blizzard management later\n",
    "spl = split(t)\n",
    "n = len(spl)\n",
    "m = len(spl[0])\n",
    "grid = np.full((n,m),'',dtype=object)\n",
    "for i,line in enumerate(spl):\n",
    "    for j,char in enumerate(line):\n",
    "        if char != '.':\n",
    "            grid[i,j] = char\n",
    "grid"
   ]
  },
  {
   "cell_type": "code",
   "execution_count": 235,
   "id": "ac1b7a5e",
   "metadata": {},
   "outputs": [],
   "source": [
    "# A blank grid\n",
    "blank_grid = grid.copy()\n",
    "for i in range(1,n-1):\n",
    "    for j in range(1,m-1):\n",
    "        blank_grid[i,j] = ''"
   ]
  },
  {
   "cell_type": "code",
   "execution_count": 236,
   "id": "2c18d3fb",
   "metadata": {},
   "outputs": [
    {
     "data": {
      "text/plain": [
       "array([[False,  True, False, False, False, False, False, False],\n",
       "       [False, False, False, False, False, False, False, False],\n",
       "       [False, False, False, False, False, False, False, False],\n",
       "       [False, False, False, False, False, False, False, False],\n",
       "       [False, False, False, False, False, False, False, False],\n",
       "       [False, False, False, False, False, False, False, False]])"
      ]
     },
     "execution_count": 236,
     "metadata": {},
     "output_type": "execute_result"
    }
   ],
   "source": [
    "# Initialize an array with my possible locations\n",
    "locations = np.full((n,m),False)\n",
    "locations[0,1] = True\n",
    "locations"
   ]
  },
  {
   "cell_type": "code",
   "execution_count": 237,
   "id": "fbed4c53",
   "metadata": {},
   "outputs": [],
   "source": [
    "# Target location\n",
    "loc_target = (n-1, m-2)"
   ]
  },
  {
   "cell_type": "code",
   "execution_count": 238,
   "id": "ae17f66a",
   "metadata": {},
   "outputs": [
    {
     "name": "stdout",
     "output_type": "stream",
     "text": [
      "18\n"
     ]
    }
   ],
   "source": [
    "# Iterate until we reach the end\n",
    "for step in range(20):\n",
    "    take_step()\n",
    "    if locations[loc_target]:\n",
    "        print(step+1)\n",
    "        break"
   ]
  },
  {
   "cell_type": "markdown",
   "id": "97486550",
   "metadata": {},
   "source": [
    "## 1 run"
   ]
  },
  {
   "cell_type": "code",
   "execution_count": 239,
   "id": "c44f4f72",
   "metadata": {},
   "outputs": [],
   "source": [
    "# Initialize the grid, replacing '.' with '' for easy blizzard management later\n",
    "spl = split(s)\n",
    "n = len(spl)\n",
    "m = len(spl[0])\n",
    "grid = np.full((n,m),'',dtype=object)\n",
    "for i,line in enumerate(spl):\n",
    "    for j,char in enumerate(line):\n",
    "        if char != '.':\n",
    "            grid[i,j] = char\n",
    "\n",
    "# A blank grid\n",
    "blank_grid = grid.copy()\n",
    "for i in range(1,n-1):\n",
    "    for j in range(1,m-1):\n",
    "        blank_grid[i,j] = ''\n",
    "\n",
    "# Initialize an array with my possible locations\n",
    "locations = np.full((n,m),False)\n",
    "locations[0,1] = True\n",
    "\n",
    "# Target location\n",
    "loc_target = (n-1, m-2)"
   ]
  },
  {
   "cell_type": "code",
   "execution_count": 240,
   "id": "96aed7fd",
   "metadata": {},
   "outputs": [
    {
     "name": "stdout",
     "output_type": "stream",
     "text": [
      "269\n"
     ]
    }
   ],
   "source": [
    "# Iterate until we reach the end\n",
    "for step in range(1000):\n",
    "    take_step()\n",
    "    if locations[loc_target]:\n",
    "        print(step+1)\n",
    "        break"
   ]
  },
  {
   "cell_type": "markdown",
   "id": "cf29851d",
   "metadata": {},
   "source": [
    "## 2 test\n",
    "\n",
    "Just run part 1 three times. I went back and modified the code to not rely on the start/end location, so that I just have to appropriately define my \"locations\" array to get things to run end to start."
   ]
  },
  {
   "cell_type": "code",
   "execution_count": 251,
   "id": "0927a4d6",
   "metadata": {},
   "outputs": [],
   "source": [
    "# Setup\n",
    "\n",
    "# Initialize the grid, replacing '.' with '' for easy blizzard management later\n",
    "spl = split(t)\n",
    "n = len(spl)\n",
    "m = len(spl[0])\n",
    "grid = np.full((n,m),'',dtype=object)\n",
    "for i,line in enumerate(spl):\n",
    "    for j,char in enumerate(line):\n",
    "        if char != '.':\n",
    "            grid[i,j] = char\n",
    "\n",
    "# A blank grid\n",
    "blank_grid = grid.copy()\n",
    "for i in range(1,n-1):\n",
    "    for j in range(1,m-1):\n",
    "        blank_grid[i,j] = ''"
   ]
  },
  {
   "cell_type": "code",
   "execution_count": 252,
   "id": "e304a636",
   "metadata": {},
   "outputs": [
    {
     "name": "stdout",
     "output_type": "stream",
     "text": [
      "18\n"
     ]
    }
   ],
   "source": [
    "# There\n",
    "\n",
    "# Initialize an array with my possible locations\n",
    "locations = np.full((n,m),False)\n",
    "locations[0,1] = True\n",
    "\n",
    "# Target location\n",
    "loc_target = (n-1, m-2)\n",
    "\n",
    "# Iterate until we reach the end\n",
    "for step in range(1000):\n",
    "    take_step()\n",
    "    if locations[loc_target]:\n",
    "        print(step+1)\n",
    "        break"
   ]
  },
  {
   "cell_type": "code",
   "execution_count": 254,
   "id": "927cd2c3",
   "metadata": {},
   "outputs": [
    {
     "name": "stdout",
     "output_type": "stream",
     "text": [
      "23\n"
     ]
    }
   ],
   "source": [
    "# Back\n",
    "\n",
    "# Initialize an array with my possible locations\n",
    "locations = np.full((n,m),False)\n",
    "locations[n-1,m-2] = True\n",
    "\n",
    "# Target location\n",
    "loc_target = (0,1)\n",
    "\n",
    "# Iterate until we reach the end\n",
    "for step in range(1000):\n",
    "    take_step()\n",
    "    if locations[loc_target]:\n",
    "        print(step+1)\n",
    "        break"
   ]
  },
  {
   "cell_type": "code",
   "execution_count": 255,
   "id": "1e93684d",
   "metadata": {},
   "outputs": [
    {
     "name": "stdout",
     "output_type": "stream",
     "text": [
      "13\n"
     ]
    }
   ],
   "source": [
    "# Back\n",
    "\n",
    "# Initialize an array with my possible locations\n",
    "locations = np.full((n,m),False)\n",
    "locations[0,1] = True\n",
    "\n",
    "# Target location\n",
    "loc_target = (n-1,m-2)\n",
    "\n",
    "# Iterate until we reach the end\n",
    "for step in range(1000):\n",
    "    take_step()\n",
    "    if locations[loc_target]:\n",
    "        print(step+1)\n",
    "        break"
   ]
  },
  {
   "cell_type": "code",
   "execution_count": 256,
   "id": "63b58d3b",
   "metadata": {},
   "outputs": [
    {
     "data": {
      "text/plain": [
       "54"
      ]
     },
     "execution_count": 256,
     "metadata": {},
     "output_type": "execute_result"
    }
   ],
   "source": [
    "18+23+13"
   ]
  },
  {
   "cell_type": "markdown",
   "id": "a2c20e06",
   "metadata": {},
   "source": [
    "## 2 run"
   ]
  },
  {
   "cell_type": "code",
   "execution_count": 257,
   "id": "d2d19fed",
   "metadata": {},
   "outputs": [],
   "source": [
    "# Setup\n",
    "\n",
    "# Initialize the grid, replacing '.' with '' for easy blizzard management later\n",
    "spl = split(s)\n",
    "n = len(spl)\n",
    "m = len(spl[0])\n",
    "grid = np.full((n,m),'',dtype=object)\n",
    "for i,line in enumerate(spl):\n",
    "    for j,char in enumerate(line):\n",
    "        if char != '.':\n",
    "            grid[i,j] = char\n",
    "\n",
    "# A blank grid\n",
    "blank_grid = grid.copy()\n",
    "for i in range(1,n-1):\n",
    "    for j in range(1,m-1):\n",
    "        blank_grid[i,j] = ''"
   ]
  },
  {
   "cell_type": "code",
   "execution_count": 258,
   "id": "2a075d79",
   "metadata": {},
   "outputs": [
    {
     "name": "stdout",
     "output_type": "stream",
     "text": [
      "269\n"
     ]
    }
   ],
   "source": [
    "# There\n",
    "\n",
    "# Initialize an array with my possible locations\n",
    "locations = np.full((n,m),False)\n",
    "locations[0,1] = True\n",
    "\n",
    "# Target location\n",
    "loc_target = (n-1, m-2)\n",
    "\n",
    "# Iterate until we reach the end\n",
    "for step in range(1000):\n",
    "    take_step()\n",
    "    if locations[loc_target]:\n",
    "        print(step+1)\n",
    "        break"
   ]
  },
  {
   "cell_type": "code",
   "execution_count": 259,
   "id": "b194ea0d",
   "metadata": {},
   "outputs": [
    {
     "name": "stdout",
     "output_type": "stream",
     "text": [
      "286\n"
     ]
    }
   ],
   "source": [
    "# Back\n",
    "\n",
    "# Initialize an array with my possible locations\n",
    "locations = np.full((n,m),False)\n",
    "locations[n-1,m-2] = True\n",
    "\n",
    "# Target location\n",
    "loc_target = (0,1)\n",
    "\n",
    "# Iterate until we reach the end\n",
    "for step in range(1000):\n",
    "    take_step()\n",
    "    if locations[loc_target]:\n",
    "        print(step+1)\n",
    "        break"
   ]
  },
  {
   "cell_type": "code",
   "execution_count": 260,
   "id": "d9eb073d",
   "metadata": {},
   "outputs": [
    {
     "name": "stdout",
     "output_type": "stream",
     "text": [
      "270\n"
     ]
    }
   ],
   "source": [
    "# Back\n",
    "\n",
    "# Initialize an array with my possible locations\n",
    "locations = np.full((n,m),False)\n",
    "locations[0,1] = True\n",
    "\n",
    "# Target location\n",
    "loc_target = (n-1,m-2)\n",
    "\n",
    "# Iterate until we reach the end\n",
    "for step in range(1000):\n",
    "    take_step()\n",
    "    if locations[loc_target]:\n",
    "        print(step+1)\n",
    "        break"
   ]
  },
  {
   "cell_type": "code",
   "execution_count": 261,
   "id": "17bd8366",
   "metadata": {},
   "outputs": [
    {
     "data": {
      "text/plain": [
       "825"
      ]
     },
     "execution_count": 261,
     "metadata": {},
     "output_type": "execute_result"
    }
   ],
   "source": [
    "269 + 286 + 270"
   ]
  },
  {
   "cell_type": "markdown",
   "id": "46587fe1",
   "metadata": {},
   "source": [
    "# Utilities"
   ]
  },
  {
   "cell_type": "code",
   "execution_count": 4,
   "id": "b0f5c2be",
   "metadata": {},
   "outputs": [],
   "source": [
    "# Remove initial/final \\n characters\n",
    "def clean(s):\n",
    "    return s[1:-1]\n",
    "\n",
    "# Split at \\n characters\n",
    "# If there are \\n\\n characters, split into blocks too\n",
    "def split(s, block_char = '\\n\\n', line_char = '\\n'):\n",
    "    out = [block.split(line_char) for block in clean(s).split(block_char)]\n",
    "    if len(out) == 1:\n",
    "        return out[0]\n",
    "    else:\n",
    "        return out\n",
    "\n",
    "# Apply a function(s) to a list or \"block\" data (2-level list)\n",
    "def apply_func(data, func, nested=False):\n",
    "    if not isinstance(func, list):\n",
    "        func = [func]\n",
    "        \n",
    "    def _func(x):\n",
    "        for f in func:\n",
    "            x = f(x)\n",
    "        return x\n",
    "        \n",
    "    if nested:\n",
    "        return [[_func(x) for x in block] for block in data]\n",
    "    else:\n",
    "        return [_func(x) for x in data]\n",
    "\n",
    "# Split, parsing everything as ints\n",
    "def split_int(s):\n",
    "    return apply_func(split(s), int)\n",
    "\n",
    "# Split, parsing everything as float\n",
    "def split_float(s):\n",
    "    return apply_func(split(s), float)"
   ]
  },
  {
   "cell_type": "markdown",
   "id": "2b2e5b0f",
   "metadata": {},
   "source": [
    "# Inputs"
   ]
  },
  {
   "cell_type": "code",
   "execution_count": 5,
   "id": "6a1455c4",
   "metadata": {},
   "outputs": [],
   "source": [
    "t = \"\"\"\n",
    "#.######\n",
    "...\n",
    "######.#\n",
    "\"\"\""
   ]
  },
  {
   "cell_type": "code",
   "execution_count": 6,
   "id": "dcf53146",
   "metadata": {},
   "outputs": [],
   "source": [
    "s = \"\"\"\n",
    "#.########################################################################################################################\n",
    "...\n",
    "########################################################################################################################.#\n",
    "\"\"\""
   ]
  },
  {
   "cell_type": "code",
   "execution_count": null,
   "id": "e7de8682",
   "metadata": {},
   "outputs": [],
   "source": []
  }
 ],
 "metadata": {
  "kernelspec": {
   "display_name": "Python 3 (ipykernel)",
   "language": "python",
   "name": "python3"
  },
  "language_info": {
   "codemirror_mode": {
    "name": "ipython",
    "version": 3
   },
   "file_extension": ".py",
   "mimetype": "text/x-python",
   "name": "python",
   "nbconvert_exporter": "python",
   "pygments_lexer": "ipython3",
   "version": "3.11.1"
  }
 },
 "nbformat": 4,
 "nbformat_minor": 5
}
