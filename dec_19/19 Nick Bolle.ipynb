{
 "cells": [
  {
   "cell_type": "markdown",
   "id": "cc902ab4",
   "metadata": {},
   "source": [
    "Organization:\n",
    "- Work\n",
    "  - 1 test: defining functions for part 1, testing on test input\n",
    "  - 1 run: getting answer for part 1\n",
    "  - 2 test: ...\n",
    "  - 2 run: ...\n",
    "- Utilities: functions I think might help parse general inputs\n",
    "- Inputs: where I define the test (_t_) and problem (_s_) inputs"
   ]
  },
  {
   "cell_type": "markdown",
   "id": "d1881444",
   "metadata": {},
   "source": [
    "# Work\n",
    "\n",
    "Here's my method:\n",
    "- Depth first search on the tree of possible moves each turn (build one of the 4 robots if you have the resources, or do nothing)\n",
    "- That tree is big, so introduce two ways of pruning it: (idk how important the 2nd one is, but it only helps)\n",
    "  1. At each step of the DFS, calculate the maximum number of geodes possible for a relaxed version of the problem (starting from the current state). If the number of geodes possible in the relaxed version is not more than the maximum number of geodes found so far for the original problem, there's no benefit to continuing this branch. This relaxed problem is:\n",
    "    - Rather than choosing which of the 4 robots to build, allow ourselves to build all 4 at once\n",
    "    - But this still runs into resource sharing issues making it hard to solve, so instead assume that there are 4 different resource piles (one for each robot) to avoid having to consider any tradeoffs\n",
    "    - When resources are produced, a copy of the resource is added to each of the 4 resource piles. But when a robot is built, it only uses up resources from its resource pile.\n",
    "    - Any sequence of actions (i.e. builds and waits) to the original problem can be done in this relaxed problem, so the number of geodes attainable in this problem is an upper bound for the original problem\n",
    "    - But crucially this problem is easy to solve: since there's no resource tradeoffs to make between robots, at each minute it's optimal to build the corresponding robot for each resource pile (resources permitting).\n",
    "    - So we can solve it with a quick recursion (instead of a DFS)\n",
    "  2. At each step of the DFS, under optimal play the only valid reason to not build a robot is if we want to save up resources for a particular robot. That is, waiting means we get to accumulate resources from existing robots to be able to afford a new robot. Let's unpack what this implies:\n",
    "    - Say a robot is \"now buildable\" if we have the resources to build it right now\n",
    "    - Say a robot is \"future buildable\" if we have the robots to produce the resources to build this robot. So we might not be able to build this robot now, but if we just wait a few minutes we'll have the resources.\n",
    "    - Note ore and clay robots are always future buildable, because we start with an ore robot. Obsidian and geode robots are initially not future buildable.\n",
    "    - If all our future buildable robots are now buildable, there is no reason to wait this turn. Waiting accumulates more resources, but if we want to build a robot then waiting until next turn just means we miss out on one turn of this new robot producing resources.\n",
    "    - So if all our future buildable robots are now buildable, remove the option of waiting this turn.\n",
    "    - Reframed: if there is a robot that is not now buildable but it is future buildable, add the option of waiting this turn.\n",
    "- The function DFS() does the bulk of the work, while DFS_op() is the recursive function solving the relaxed version.\n",
    "- The data organization is pretty terse: ex. each input blueprint becomes a tuple (ore robot ore cost, clay robot ore cost, obsidian robot ore cost, obsidian robot clay cost, geode robot ore cost, geode robot obsidian cost). DFS() uses tuples with 4 elements for each resource, and DFS_op() uses the 6-element tuple format with an extra element for geodes. Navigating the indices takes some work.\n",
    "- It took a few tries to get the right pruning function (1). At one point I had it but was using a < instead of <= comparison, so in cases where the max number of geodes was 0 the pruning was not kicking in! This meant it took 1.5 hours to run instead of 0.05 seconds."
   ]
  },
  {
   "cell_type": "markdown",
   "id": "eb1b228f",
   "metadata": {},
   "source": [
    "## 1 test\n",
    "\n",
    "Inputs have a standardized order, should be easy to parse.\n",
    "\n",
    "Similar solution to the elephants in the volcano problem should work: DFS on the finite tree of decisions I can do. I'll have to make a somewhat clever overestimate for number of geodes cracked. I can also leverage monotonicity: if state 1 has at least as many robots + resources + time as state 2, then state 1 can crack at least as many geodes as state 2.\n",
    "\n",
    "For each time step\n",
    "- I can choose to build one robot: spend the resources\n",
    "- All my robots produce 1 of their resource\n",
    "- Gain the robot if I built one\n",
    "\n",
    "This means at each minute I can choose one of the 4 robot types to build (assuming I have enough resources). But $4^{24} > 10^{14}$ is definitely an overestimate for the number of meaningful actions I can take, because it's very unlikely I'd have the resources to build every robot for most turns. Let's try running this as-is and see if I need to do anything fancy. FWIW WLOG if after gathering resources I can afford to build all the robots that can be built with the resource types I have, I *must* build a robot.\n",
    "\n",
    "Basic DFS was taking too long. I'll add an overestimate of final geodes, and change the geode system to add all future geodes. Also when branching, prioritize building a geode robot.\n",
    "- Basic overestimate: current geodes accounted for, plus geodes if we build a geode robot every turn from now on. If the current time is t, the robot this turn gives (t-1), then (t-2), etc. So in total we get at most $t(t-1)/2$ extra geodes.\n",
    "- This works for the first test blueprint but not the second one :(\n",
    "- More advanced: consider all the possible ore we could ever get as current + future from existing robots plus whatever we can get from constructing new robots. Then do the same for clay (using this total amount for the ore), etc.\n",
    "- This still isn't good enough for the 2nd blueprint! It is pruning 74% of branches, but that might be at a pretty far depth and I'd want to prune earlier on.\n",
    "- Tried pruning based on previously seen states, but I don't have an efficient implementation and I'm not convinced it would be better anyways.\n",
    "- Let's try another version of the overestimate prune: imagine there are 4 separate resources piles (one for the robot of each type). So I can just solve the recursion (no DFS!) for that quickly, and use that as the pruning estimate for the DFS.\n",
    "- This works really well! Nice! It's having a hard time with the first blueprint in the actual run though. I'll let it run for a while, and see if I can think up a tighter geode overestimate.\n",
    "- I modified the DFS to only allow the Nothing case if we're trying to save up for something (since otherwise Nothing doesn't achieve anything), which helped for blueprint 1. But now it's stuck on blueprint 10.\n",
    "- Interesting that it's stuck on 10, when 2 is the same but with slightly cheaper robots.\n",
    "\n",
    "OH I'm so tilted. I let part 2 run and it took 1.5 hours. That's when I noticed some of them give 0 geodes. A quick check and there was no bug in my code, so that was a true 0. Which made me realize that parseQ has a < sign which really could be a <= sign. That change makes it run in 0.05 seconds."
   ]
  },
  {
   "cell_type": "code",
   "execution_count": 65,
   "id": "1847e38a",
   "metadata": {},
   "outputs": [],
   "source": [
    "from tqdm.notebook import tqdm"
   ]
  },
  {
   "cell_type": "code",
   "execution_count": 66,
   "id": "2f4c2d12",
   "metadata": {},
   "outputs": [
    {
     "data": {
      "text/plain": [
       "['Blueprint 1: Each ore robot costs 4 ore. Each clay robot costs 2 ore. Each obsidian robot costs 3 ore and 14 clay. Each geode robot costs 2 ore and 7 obsidian.',\n",
       " 'Blueprint 2: Each ore robot costs 2 ore. Each clay robot costs 3 ore. Each obsidian robot costs 3 ore and 8 clay. Each geode robot costs 3 ore and 12 obsidian.']"
      ]
     },
     "execution_count": 66,
     "metadata": {},
     "output_type": "execute_result"
    }
   ],
   "source": [
    "split(t)"
   ]
  },
  {
   "cell_type": "code",
   "execution_count": 67,
   "id": "fbed4c53",
   "metadata": {},
   "outputs": [
    {
     "data": {
      "text/plain": [
       "[(4, 2, 3, 14, 2, 7), (2, 3, 3, 8, 3, 12)]"
      ]
     },
     "execution_count": 67,
     "metadata": {},
     "output_type": "execute_result"
    }
   ],
   "source": [
    "def parse(blueprint):\n",
    "    aux = blueprint.split()\n",
    "    I = [6,12,18,21,27,30]\n",
    "    return tuple([int(aux[i]) for i in I])\n",
    "\n",
    "blueprints = [parse(blueprint) for blueprint in split(t)]\n",
    "blueprints"
   ]
  },
  {
   "cell_type": "code",
   "execution_count": 68,
   "id": "cf3df50e",
   "metadata": {},
   "outputs": [],
   "source": [
    "# resources: [ore, clay, obsidian, geode]\n",
    "# robots: [ore, clay, obsidian, geode]\n",
    "# t: time left\n",
    "# blueprint\n",
    "def DFS(resources, robots, t, blueprint):\n",
    "    global max_geodes\n",
    "    \n",
    "    ## If time ran out, update the max geodes and exit\n",
    "    if t == 0:\n",
    "        max_geodes = max(max_geodes, resources[3])\n",
    "        return\n",
    "    \n",
    "    ## Exit if we can prune\n",
    "    if pruneQ(resources, robots, t, blueprint):\n",
    "        return\n",
    "    \n",
    "    ## Produce resources\n",
    "    produced_resources = resources.copy()\n",
    "    for i in range(4):\n",
    "        produced_resources[i] += robots[i]\n",
    "    \n",
    "    ## Pick something to do: nothing, or build a robot\n",
    "    # When building a robot, make sure to use the resources from the start of this turn\n",
    "    # Attempting the builds in \"priority\" order (geode, obsidian, clay, ore)\n",
    "    # Only allow the Nothing case if we can do it to save up for something\n",
    "    allow_nothing = False\n",
    "    \n",
    "    # Build geode\n",
    "    if (resources[0] >= blueprint[4]) and (resources[2] >= blueprint[5]):\n",
    "        # Charge the cost of building the robot\n",
    "        new_resources = produced_resources.copy()\n",
    "        new_resources[0] -= blueprint[4]\n",
    "        new_resources[2] -= blueprint[5]\n",
    "        \n",
    "        # Create the new robot\n",
    "        new_robots = robots.copy()\n",
    "        new_robots[3] += 1\n",
    "        \n",
    "        # Launch the continuation of the DFS\n",
    "        DFS(new_resources, new_robots, t-1, blueprint)\n",
    "    # If didn't build a geode robot but we do have at least one obsidian robot, allow for the Nothing case to save up\n",
    "    elif robots[2]:\n",
    "        allow_nothing = True\n",
    "        \n",
    "    # Build obsidian\n",
    "    if (resources[0] >= blueprint[2]) and (resources[1] >= blueprint[3]):\n",
    "        new_resources = produced_resources.copy()\n",
    "        new_resources[0] -= blueprint[2]\n",
    "        new_resources[1] -= blueprint[3]\n",
    "        new_robots = robots.copy()\n",
    "        new_robots[2] += 1\n",
    "        DFS(new_resources, new_robots, t-1, blueprint)\n",
    "    elif robots[1]:\n",
    "        allow_nothing = True\n",
    "    \n",
    "    # Build clay\n",
    "    if resources[0] >= blueprint[1]:\n",
    "        new_resources = produced_resources.copy()\n",
    "        new_resources[0] -= blueprint[1]\n",
    "        new_robots = robots.copy()\n",
    "        new_robots[1] += 1\n",
    "        DFS(new_resources, new_robots, t-1, blueprint)\n",
    "    else:\n",
    "        allow_nothing = True\n",
    "        \n",
    "    # Build ore\n",
    "    if resources[0] >= blueprint[0]:\n",
    "        new_resources = produced_resources.copy()\n",
    "        new_resources[0] -= blueprint[0]\n",
    "        new_robots = robots.copy()\n",
    "        new_robots[0] += 1\n",
    "        DFS(new_resources, new_robots, t-1, blueprint)\n",
    "    else:\n",
    "        allow_nothing = True\n",
    "    \n",
    "    # Build nothing only if we're letting ourselves save up for something\n",
    "    if allow_nothing:\n",
    "        DFS(produced_resources, robots, t-1, blueprint)\n",
    "\n",
    "    \n",
    "    \n",
    "# resources: [ore's ore, clay's ore, obs's ore, obs's clay, geo's ore, geo's obs, geode]\n",
    "# robots: [ore, clay, obsidian, geode]\n",
    "# t: time left\n",
    "# blueprint\n",
    "\n",
    "# This is the \"overpowered\" version where each of my robot types has a separate resource pile, and I can build multiple robots per turn\n",
    "def DFS_op(resources, robots, t, blueprint):\n",
    "    \n",
    "    # If time ran out, return\n",
    "    if t == 0:\n",
    "        return resources[-1]\n",
    "    \n",
    "    # Produce resources\n",
    "    new_resources = resources.copy()\n",
    "    new_resources[0] += robots[0]\n",
    "    new_resources[1] += robots[0]\n",
    "    new_resources[2] += robots[0]\n",
    "    new_resources[4] += robots[0]\n",
    "    new_resources[3] += robots[1]\n",
    "    new_resources[5] += robots[2]\n",
    "    new_resources[6] += robots[3]\n",
    "    \n",
    "    ## For each robot type, try to build a robot\n",
    "    new_robots = robots.copy()\n",
    "    \n",
    "    # Ore\n",
    "    if resources[0] >= blueprint[0]:\n",
    "        new_resources[0] -= blueprint[0]\n",
    "        new_robots[0] += 1\n",
    "    \n",
    "    # Clay\n",
    "    if resources[1] >= blueprint[1]:\n",
    "        new_resources[1] -= blueprint[1]\n",
    "        new_robots[1] += 1\n",
    "    \n",
    "    # Obsidian\n",
    "    if (resources[2] >= blueprint[2]) and (resources[3] >= blueprint[3]):\n",
    "        new_resources[2] -= blueprint[2]\n",
    "        new_resources[3] -= blueprint[3]\n",
    "        new_robots[2] += 1\n",
    "    \n",
    "    # Geode\n",
    "    if (resources[4] >= blueprint[4]) and (resources[5] >= blueprint[5]):\n",
    "        new_resources[4] -= blueprint[4]\n",
    "        new_resources[5] -= blueprint[5]\n",
    "        new_robots[3] += 1\n",
    "    \n",
    "    # Return the result of the next step\n",
    "    return DFS_op(new_resources, new_robots, t-1, blueprint)\n",
    "\n",
    "def pruneQ(resources, robots, t, blueprint):\n",
    "    global max_geodes\n",
    "    return DFS_op([resources[0], resources[0], resources[0], resources[1], resources[0], resources[2], resources[3]], robots, t, blueprint) <= max_geodes"
   ]
  },
  {
   "cell_type": "code",
   "execution_count": 69,
   "id": "5ef9c083",
   "metadata": {},
   "outputs": [
    {
     "data": {
      "text/plain": [
       "9"
      ]
     },
     "execution_count": 69,
     "metadata": {},
     "output_type": "execute_result"
    }
   ],
   "source": [
    "max_geodes = 0\n",
    "DFS([0,0,0,0], [1,0,0,0], 24, blueprints[0])\n",
    "max_geodes"
   ]
  },
  {
   "cell_type": "code",
   "execution_count": 70,
   "id": "16853245",
   "metadata": {},
   "outputs": [
    {
     "data": {
      "text/plain": [
       "12"
      ]
     },
     "execution_count": 70,
     "metadata": {},
     "output_type": "execute_result"
    }
   ],
   "source": [
    "max_geodes = 0\n",
    "DFS([0,0,0,0], [1,0,0,0], 24, blueprints[1])\n",
    "max_geodes"
   ]
  },
  {
   "cell_type": "code",
   "execution_count": 47,
   "id": "e5ab0a13",
   "metadata": {},
   "outputs": [],
   "source": [
    "from tqdm.notebook import trange, tqdm"
   ]
  },
  {
   "cell_type": "code",
   "execution_count": 48,
   "id": "de86eef0",
   "metadata": {},
   "outputs": [
    {
     "data": {
      "application/vnd.jupyter.widget-view+json": {
       "model_id": "c845e3cbf7814ef9adad468476dc55a9",
       "version_major": 2,
       "version_minor": 0
      },
      "text/plain": [
       "  0%|          | 0/2 [00:00<?, ?it/s]"
      ]
     },
     "metadata": {},
     "output_type": "display_data"
    },
    {
     "data": {
      "text/plain": [
       "33"
      ]
     },
     "execution_count": 48,
     "metadata": {},
     "output_type": "execute_result"
    }
   ],
   "source": [
    "quality = 0\n",
    "for i in tqdm(range(len(blueprints))):\n",
    "    max_geodes = 0\n",
    "    DFS([0,0,0,0], [1,0,0,0], 24, blueprints[i])\n",
    "    quality += (i+1) * max_geodes\n",
    "quality"
   ]
  },
  {
   "cell_type": "markdown",
   "id": "97486550",
   "metadata": {},
   "source": [
    "## 1 run"
   ]
  },
  {
   "cell_type": "code",
   "execution_count": 73,
   "id": "aa5b95d2",
   "metadata": {},
   "outputs": [
    {
     "data": {
      "text/plain": [
       "[(4, 4, 4, 18, 4, 9),\n",
       " (2, 2, 2, 17, 2, 10),\n",
       " (4, 4, 2, 7, 4, 13),\n",
       " (4, 3, 4, 20, 4, 8),\n",
       " (4, 4, 4, 5, 2, 10),\n",
       " (4, 4, 4, 8, 3, 19),\n",
       " (4, 4, 4, 8, 4, 14),\n",
       " (4, 4, 3, 6, 2, 14),\n",
       " (3, 3, 3, 6, 2, 16),\n",
       " (2, 4, 4, 19, 2, 18),\n",
       " (3, 4, 4, 14, 4, 10),\n",
       " (2, 3, 3, 13, 3, 15),\n",
       " (3, 4, 4, 13, 3, 7),\n",
       " (2, 4, 4, 16, 4, 17),\n",
       " (3, 4, 3, 15, 3, 20),\n",
       " (4, 4, 2, 18, 4, 20),\n",
       " (2, 4, 4, 18, 2, 11),\n",
       " (3, 4, 2, 14, 3, 14),\n",
       " (4, 4, 2, 11, 2, 7),\n",
       " (4, 3, 2, 19, 3, 10),\n",
       " (4, 4, 4, 7, 2, 19),\n",
       " (2, 3, 3, 18, 2, 19),\n",
       " (4, 3, 4, 20, 2, 15),\n",
       " (2, 4, 4, 13, 3, 11),\n",
       " (3, 3, 3, 8, 2, 12),\n",
       " (2, 4, 2, 20, 3, 15),\n",
       " (3, 4, 4, 18, 3, 13),\n",
       " (4, 4, 4, 17, 2, 13),\n",
       " (2, 4, 3, 14, 4, 9),\n",
       " (3, 4, 4, 6, 3, 16)]"
      ]
     },
     "execution_count": 73,
     "metadata": {},
     "output_type": "execute_result"
    }
   ],
   "source": [
    "blueprints = [parse(blueprint) for blueprint in split(s)]\n",
    "blueprints"
   ]
  },
  {
   "cell_type": "code",
   "execution_count": 74,
   "id": "1e9efed1",
   "metadata": {},
   "outputs": [
    {
     "data": {
      "application/vnd.jupyter.widget-view+json": {
       "model_id": "a03ea72255fe467aa68e78b158005aea",
       "version_major": 2,
       "version_minor": 0
      },
      "text/plain": [
       "  0%|          | 0/30 [00:00<?, ?it/s]"
      ]
     },
     "metadata": {},
     "output_type": "display_data"
    },
    {
     "data": {
      "text/plain": [
       "[0,\n",
       " 9,\n",
       " 3,\n",
       " 1,\n",
       " 5,\n",
       " 0,\n",
       " 1,\n",
       " 3,\n",
       " 7,\n",
       " 0,\n",
       " 2,\n",
       " 5,\n",
       " 4,\n",
       " 1,\n",
       " 0,\n",
       " 0,\n",
       " 2,\n",
       " 1,\n",
       " 3,\n",
       " 1,\n",
       " 1,\n",
       " 1,\n",
       " 0,\n",
       " 5,\n",
       " 7,\n",
       " 1,\n",
       " 0,\n",
       " 0,\n",
       " 6,\n",
       " 5]"
      ]
     },
     "execution_count": 74,
     "metadata": {},
     "output_type": "execute_result"
    }
   ],
   "source": [
    "geodes = [-1] * len(blueprints)\n",
    "for i in tqdm(range(len(blueprints))):\n",
    "    max_geodes = 0\n",
    "    DFS([0,0,0,0], [1,0,0,0], 24, blueprints[i])\n",
    "    geodes[i] = max_geodes\n",
    "geodes"
   ]
  },
  {
   "cell_type": "code",
   "execution_count": 75,
   "id": "7ebfe8dc",
   "metadata": {},
   "outputs": [
    {
     "data": {
      "text/plain": [
       "1115"
      ]
     },
     "execution_count": 75,
     "metadata": {},
     "output_type": "execute_result"
    }
   ],
   "source": [
    "score = 0\n",
    "for i in range(len(geodes)):\n",
    "    score += (i+1) * geodes[i]\n",
    "score"
   ]
  },
  {
   "cell_type": "code",
   "execution_count": 72,
   "id": "5855c716",
   "metadata": {},
   "outputs": [
    {
     "data": {
      "text/plain": [
       "0"
      ]
     },
     "execution_count": 72,
     "metadata": {},
     "output_type": "execute_result"
    }
   ],
   "source": [
    "max_geodes = 0\n",
    "DFS([0,0,0,0], [1,0,0,0], 24, blueprints[0])\n",
    "max_geodes"
   ]
  },
  {
   "cell_type": "markdown",
   "id": "cf29851d",
   "metadata": {},
   "source": [
    "## 2 test\n",
    "\n",
    "None needed"
   ]
  },
  {
   "cell_type": "markdown",
   "id": "a2c20e06",
   "metadata": {},
   "source": [
    "## 2 run"
   ]
  },
  {
   "cell_type": "code",
   "execution_count": 78,
   "id": "8a2a7cd9",
   "metadata": {},
   "outputs": [
    {
     "data": {
      "text/plain": [
       "[(4, 4, 4, 18, 4, 9), (2, 2, 2, 17, 2, 10), (4, 4, 2, 7, 4, 13)]"
      ]
     },
     "execution_count": 78,
     "metadata": {},
     "output_type": "execute_result"
    }
   ],
   "source": [
    "blueprints = [parse(blueprint) for blueprint in split(s)[:3]]\n",
    "blueprints"
   ]
  },
  {
   "cell_type": "code",
   "execution_count": 79,
   "id": "1ca015be",
   "metadata": {},
   "outputs": [
    {
     "data": {
      "application/vnd.jupyter.widget-view+json": {
       "model_id": "93388e40cb7346f394306681e57f71d6",
       "version_major": 2,
       "version_minor": 0
      },
      "text/plain": [
       "  0%|          | 0/3 [00:00<?, ?it/s]"
      ]
     },
     "metadata": {},
     "output_type": "display_data"
    },
    {
     "data": {
      "text/plain": [
       "[16, 54, 29]"
      ]
     },
     "execution_count": 79,
     "metadata": {},
     "output_type": "execute_result"
    }
   ],
   "source": [
    "geodes = [-1] * len(blueprints)\n",
    "for i in tqdm(range(len(blueprints))):\n",
    "    max_geodes = 0\n",
    "    DFS([0,0,0,0], [1,0,0,0], 32, blueprints[i])\n",
    "    geodes[i] = max_geodes\n",
    "geodes"
   ]
  },
  {
   "cell_type": "code",
   "execution_count": 80,
   "id": "f54aa002",
   "metadata": {},
   "outputs": [
    {
     "data": {
      "text/plain": [
       "25056"
      ]
     },
     "execution_count": 80,
     "metadata": {},
     "output_type": "execute_result"
    }
   ],
   "source": [
    "16*54*29"
   ]
  },
  {
   "cell_type": "markdown",
   "id": "46587fe1",
   "metadata": {},
   "source": [
    "# Utilities"
   ]
  },
  {
   "cell_type": "code",
   "execution_count": 4,
   "id": "b0f5c2be",
   "metadata": {},
   "outputs": [],
   "source": [
    "# Remove initial/final \\n characters\n",
    "def clean(s):\n",
    "    return s[1:-1]\n",
    "\n",
    "# Split at \\n characters\n",
    "# If there are \\n\\n characters, split into blocks too\n",
    "def split(s, block_char = '\\n\\n', line_char = '\\n'):\n",
    "    out = [block.split(line_char) for block in clean(s).split(block_char)]\n",
    "    if len(out) == 1:\n",
    "        return out[0]\n",
    "    else:\n",
    "        return out\n",
    "\n",
    "# Apply a function(s) to a list or \"block\" data (2-level list)\n",
    "def apply_func(data, func, nested=False):\n",
    "    if not isinstance(func, list):\n",
    "        func = [func]\n",
    "        \n",
    "    def _func(x):\n",
    "        for f in func:\n",
    "            x = f(x)\n",
    "        return x\n",
    "        \n",
    "    if nested:\n",
    "        return [[_func(x) for x in block] for block in data]\n",
    "    else:\n",
    "        return [_func(x) for x in data]\n",
    "\n",
    "# Split, parsing everything as ints\n",
    "def split_int(s):\n",
    "    return apply_func(split(s), int)\n",
    "\n",
    "# Split, parsing everything as float\n",
    "def split_float(s):\n",
    "    return apply_func(split(s), float)"
   ]
  },
  {
   "cell_type": "markdown",
   "id": "2b2e5b0f",
   "metadata": {},
   "source": [
    "# Inputs"
   ]
  },
  {
   "cell_type": "code",
   "execution_count": 5,
   "id": "6a1455c4",
   "metadata": {},
   "outputs": [],
   "source": [
    "t = \"\"\"\n",
    "Blueprint 1: Each ore robot costs 4 ore. Each clay robot costs 2 ore. Each obsidian robot costs 3 ore and 14 clay. Each geode robot costs 2 ore and 7 obsidian.\n",
    "Blueprint 2: Each ore robot costs 2 ore. Each clay robot costs 3 ore. Each obsidian robot costs 3 ore and 8 clay. Each geode robot costs 3 ore and 12 obsidian.\n",
    "\"\"\""
   ]
  },
  {
   "cell_type": "code",
   "execution_count": 6,
   "id": "dcf53146",
   "metadata": {},
   "outputs": [],
   "source": [
    "s = \"\"\"\n",
    "Blueprint 1: Each ore robot costs 4 ore. Each clay robot costs 4 ore. Each obsidian robot costs 4 ore and 18 clay. Each geode robot costs 4 ore and 9 obsidian.\n",
    "...\n",
    "Blueprint 30: Each ore robot costs 3 ore. Each clay robot costs 4 ore. Each obsidian robot costs 4 ore and 6 clay. Each geode robot costs 3 ore and 16 obsidian.\n",
    "\"\"\""
   ]
  },
  {
   "cell_type": "code",
   "execution_count": null,
   "id": "e7de8682",
   "metadata": {},
   "outputs": [],
   "source": []
  }
 ],
 "metadata": {
  "kernelspec": {
   "display_name": "Python 3 (ipykernel)",
   "language": "python",
   "name": "python3"
  },
  "language_info": {
   "codemirror_mode": {
    "name": "ipython",
    "version": 3
   },
   "file_extension": ".py",
   "mimetype": "text/x-python",
   "name": "python",
   "nbconvert_exporter": "python",
   "pygments_lexer": "ipython3",
   "version": "3.11.1"
  }
 },
 "nbformat": 4,
 "nbformat_minor": 5
}
