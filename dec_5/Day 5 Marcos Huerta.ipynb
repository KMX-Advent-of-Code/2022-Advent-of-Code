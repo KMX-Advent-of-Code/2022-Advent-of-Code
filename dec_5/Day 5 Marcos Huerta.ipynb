{
 "cells": [
  {
   "cell_type": "code",
   "execution_count": null,
   "id": "3b85c607",
   "metadata": {},
   "outputs": [],
   "source": [
    "import pandas as pd"
   ]
  },
  {
   "cell_type": "code",
   "execution_count": 16,
   "id": "cc067f77",
   "metadata": {
    "ExecuteTime": {
     "end_time": "2022-12-05T05:07:24.649267Z",
     "start_time": "2022-12-05T05:07:24.605547Z"
    }
   },
   "outputs": [],
   "source": [
    "stacks = pd.read_fwf('marcos_huerta_stacks.txt',header=None) ## input file manually split"
   ]
  },
  {
   "cell_type": "code",
   "execution_count": null,
   "id": "5a46f6a9",
   "metadata": {},
   "outputs": [],
   "source": []
  },
  {
   "cell_type": "code",
   "execution_count": 17,
   "id": "ce727021",
   "metadata": {
    "ExecuteTime": {
     "end_time": "2022-12-05T05:07:27.174613Z",
     "start_time": "2022-12-05T05:07:27.125142Z"
    }
   },
   "outputs": [
    {
     "data": {
      "text/html": [
       "<div>\n",
       "<style scoped>\n",
       "    .dataframe tbody tr th:only-of-type {\n",
       "        vertical-align: middle;\n",
       "    }\n",
       "\n",
       "    .dataframe tbody tr th {\n",
       "        vertical-align: top;\n",
       "    }\n",
       "\n",
       "    .dataframe thead th {\n",
       "        text-align: right;\n",
       "    }\n",
       "</style>\n",
       "<table border=\"1\" class=\"dataframe\">\n",
       "  <thead>\n",
       "    <tr style=\"text-align: right;\">\n",
       "      <th></th>\n",
       "      <th>0</th>\n",
       "      <th>1</th>\n",
       "      <th>2</th>\n",
       "      <th>3</th>\n",
       "      <th>4</th>\n",
       "      <th>5</th>\n",
       "      <th>6</th>\n",
       "      <th>7</th>\n",
       "      <th>8</th>\n",
       "    </tr>\n",
       "  </thead>\n",
       "  <tbody>\n",
       "    <tr>\n",
       "      <th>0</th>\n",
       "      <td>NaN</td>\n",
       "      <td>[C]</td>\n",
       "      <td>NaN</td>\n",
       "      <td>NaN</td>\n",
       "      <td>[Q]</td>\n",
       "      <td>NaN</td>\n",
       "      <td>NaN</td>\n",
       "      <td>[V]</td>\n",
       "      <td>NaN</td>\n",
       "    </tr>\n",
       "    <tr>\n",
       "      <th>1</th>\n",
       "      <td>NaN</td>\n",
       "      <td>[D]</td>\n",
       "      <td>NaN</td>\n",
       "      <td>NaN</td>\n",
       "      <td>[D]</td>\n",
       "      <td>[S]</td>\n",
       "      <td>NaN</td>\n",
       "      <td>[M]</td>\n",
       "      <td>[Z]</td>\n",
       "    </tr>\n",
       "    <tr>\n",
       "      <th>2</th>\n",
       "      <td>NaN</td>\n",
       "      <td>[G]</td>\n",
       "      <td>NaN</td>\n",
       "      <td>[P]</td>\n",
       "      <td>[W]</td>\n",
       "      <td>[M]</td>\n",
       "      <td>NaN</td>\n",
       "      <td>[C]</td>\n",
       "      <td>[G]</td>\n",
       "    </tr>\n",
       "    <tr>\n",
       "      <th>3</th>\n",
       "      <td>NaN</td>\n",
       "      <td>[F]</td>\n",
       "      <td>NaN</td>\n",
       "      <td>[Z]</td>\n",
       "      <td>[C]</td>\n",
       "      <td>[D]</td>\n",
       "      <td>[P]</td>\n",
       "      <td>[S]</td>\n",
       "      <td>[W]</td>\n",
       "    </tr>\n",
       "    <tr>\n",
       "      <th>4</th>\n",
       "      <td>[P]</td>\n",
       "      <td>[L]</td>\n",
       "      <td>NaN</td>\n",
       "      <td>[C]</td>\n",
       "      <td>[V]</td>\n",
       "      <td>[W]</td>\n",
       "      <td>[W]</td>\n",
       "      <td>[H]</td>\n",
       "      <td>[L]</td>\n",
       "    </tr>\n",
       "    <tr>\n",
       "      <th>5</th>\n",
       "      <td>[G]</td>\n",
       "      <td>[B]</td>\n",
       "      <td>[V]</td>\n",
       "      <td>[R]</td>\n",
       "      <td>[L]</td>\n",
       "      <td>[N]</td>\n",
       "      <td>[G]</td>\n",
       "      <td>[P]</td>\n",
       "      <td>[F]</td>\n",
       "    </tr>\n",
       "    <tr>\n",
       "      <th>6</th>\n",
       "      <td>[R]</td>\n",
       "      <td>[T]</td>\n",
       "      <td>[S]</td>\n",
       "      <td>[S]</td>\n",
       "      <td>[S]</td>\n",
       "      <td>[T]</td>\n",
       "      <td>[D]</td>\n",
       "      <td>[L]</td>\n",
       "      <td>[P]</td>\n",
       "    </tr>\n",
       "    <tr>\n",
       "      <th>7</th>\n",
       "      <td>[N]</td>\n",
       "      <td>[J]</td>\n",
       "      <td>[M]</td>\n",
       "      <td>[L]</td>\n",
       "      <td>[P]</td>\n",
       "      <td>[C]</td>\n",
       "      <td>[H]</td>\n",
       "      <td>[Z]</td>\n",
       "      <td>[R]</td>\n",
       "    </tr>\n",
       "  </tbody>\n",
       "</table>\n",
       "</div>"
      ],
      "text/plain": [
       "     0    1    2    3    4    5    6    7    8\n",
       "0  NaN  [C]  NaN  NaN  [Q]  NaN  NaN  [V]  NaN\n",
       "1  NaN  [D]  NaN  NaN  [D]  [S]  NaN  [M]  [Z]\n",
       "2  NaN  [G]  NaN  [P]  [W]  [M]  NaN  [C]  [G]\n",
       "3  NaN  [F]  NaN  [Z]  [C]  [D]  [P]  [S]  [W]\n",
       "4  [P]  [L]  NaN  [C]  [V]  [W]  [W]  [H]  [L]\n",
       "5  [G]  [B]  [V]  [R]  [L]  [N]  [G]  [P]  [F]\n",
       "6  [R]  [T]  [S]  [S]  [S]  [T]  [D]  [L]  [P]\n",
       "7  [N]  [J]  [M]  [L]  [P]  [C]  [H]  [Z]  [R]"
      ]
     },
     "execution_count": 17,
     "metadata": {},
     "output_type": "execute_result"
    }
   ],
   "source": [
    "stacks"
   ]
  },
  {
   "cell_type": "code",
   "execution_count": 18,
   "id": "3e49401c",
   "metadata": {
    "ExecuteTime": {
     "end_time": "2022-12-05T05:07:51.256701Z",
     "start_time": "2022-12-05T05:07:51.214665Z"
    }
   },
   "outputs": [],
   "source": [
    "from collections import deque"
   ]
  },
  {
   "cell_type": "code",
   "execution_count": 20,
   "id": "79064cd7",
   "metadata": {
    "ExecuteTime": {
     "end_time": "2022-12-05T05:09:28.639729Z",
     "start_time": "2022-12-05T05:09:28.593639Z"
    }
   },
   "outputs": [],
   "source": [
    "myres = {}\n",
    "for col in stacks.columns:\n",
    "    myres[col+1] = deque(stacks[col].dropna())"
   ]
  },
  {
   "cell_type": "code",
   "execution_count": 22,
   "id": "75fc1af1",
   "metadata": {
    "ExecuteTime": {
     "end_time": "2022-12-05T05:09:33.581187Z",
     "start_time": "2022-12-05T05:09:33.535051Z"
    }
   },
   "outputs": [
    {
     "data": {
      "text/plain": [
       "deque(['[P]', '[G]', '[R]', '[N]'])"
      ]
     },
     "execution_count": 22,
     "metadata": {},
     "output_type": "execute_result"
    }
   ],
   "source": [
    "myres[1]"
   ]
  },
  {
   "cell_type": "code",
   "execution_count": 38,
   "id": "97dd6ed2",
   "metadata": {
    "ExecuteTime": {
     "end_time": "2022-12-05T05:12:19.387954Z",
     "start_time": "2022-12-05T05:12:19.341519Z"
    }
   },
   "outputs": [],
   "source": [
    "df = pd.read_csv('marcosh_input_day5.txt',sep=' ',header=None) ## just instructions; input edited with BBEdit\n",
    "df.columns=['x','quantity','xx','source','xxx','dest']\n",
    "\n",
    "commands = df.to_dict('records')"
   ]
  },
  {
   "cell_type": "code",
   "execution_count": 43,
   "id": "e3eacf64",
   "metadata": {
    "ExecuteTime": {
     "end_time": "2022-12-05T05:15:11.741592Z",
     "start_time": "2022-12-05T05:15:11.704899Z"
    }
   },
   "outputs": [],
   "source": [
    "for command in commands:\n",
    "    for i in range(0,command['quantity']):\n",
    "        package = myres[command['source']].popleft()\n",
    "        myres[command['dest']].appendleft(package)"
   ]
  },
  {
   "cell_type": "code",
   "execution_count": 103,
   "id": "efb7d7d4",
   "metadata": {
    "ExecuteTime": {
     "end_time": "2022-12-05T05:31:32.149745Z",
     "start_time": "2022-12-05T05:31:32.106232Z"
    }
   },
   "outputs": [
    {
     "data": {
      "text/plain": [
       "'VPCDMSLWJ'"
      ]
     },
     "execution_count": 103,
     "metadata": {},
     "output_type": "execute_result"
    }
   ],
   "source": [
    "''.join([x[0][1] for x in myres.values()])"
   ]
  },
  {
   "cell_type": "code",
   "execution_count": 105,
   "id": "bd754b85",
   "metadata": {
    "ExecuteTime": {
     "end_time": "2022-12-05T05:32:06.118416Z",
     "start_time": "2022-12-05T05:32:06.069710Z"
    }
   },
   "outputs": [],
   "source": [
    "df = pd.read_csv('marcosh_input_day5.txt',sep=' ',header=None)\n",
    "df.columns=['x','quantity','xx','source','xxx','dest']\n",
    "\n",
    "commands = df.to_dict('records')\n",
    "\n",
    "myres = {}\n",
    "for col in stacks.columns:\n",
    "    myres[col+1] = deque(stacks[col].dropna())"
   ]
  },
  {
   "cell_type": "code",
   "execution_count": 106,
   "id": "4382f5d7",
   "metadata": {
    "ExecuteTime": {
     "end_time": "2022-12-05T05:32:06.491502Z",
     "start_time": "2022-12-05T05:32:06.443699Z"
    }
   },
   "outputs": [],
   "source": [
    "for command in commands:\n",
    "    packages = []\n",
    "    for i in range(0,command['quantity']):\n",
    "        package = myres[command['source']].popleft()\n",
    "        packages.append(package)\n",
    "    packages.reverse()\n",
    "    for p in packages:\n",
    "        myres[command['dest']].appendleft(p) #append p not package! this bug cost me ~10 min!"
   ]
  },
  {
   "cell_type": "code",
   "execution_count": 107,
   "id": "7e231247",
   "metadata": {
    "ExecuteTime": {
     "end_time": "2022-12-05T05:32:07.154712Z",
     "start_time": "2022-12-05T05:32:07.109472Z"
    }
   },
   "outputs": [
    {
     "data": {
      "text/plain": [
       "'TPWCGNCCG'"
      ]
     },
     "execution_count": 107,
     "metadata": {},
     "output_type": "execute_result"
    }
   ],
   "source": [
    "''.join([x[0][1] for x in myres.values()])"
   ]
  },
  {
   "cell_type": "code",
   "execution_count": null,
   "id": "2af22797",
   "metadata": {},
   "outputs": [],
   "source": []
  }
 ],
 "metadata": {
  "kernelspec": {
   "display_name": "Python 3 (ipykernel)",
   "language": "python",
   "name": "python3"
  },
  "language_info": {
   "codemirror_mode": {
    "name": "ipython",
    "version": 3
   },
   "file_extension": ".py",
   "mimetype": "text/x-python",
   "name": "python",
   "nbconvert_exporter": "python",
   "pygments_lexer": "ipython3",
   "version": "3.10.6"
  },
  "toc": {
   "base_numbering": 1,
   "nav_menu": {},
   "number_sections": true,
   "sideBar": true,
   "skip_h1_title": false,
   "title_cell": "Table of Contents",
   "title_sidebar": "Contents",
   "toc_cell": false,
   "toc_position": {},
   "toc_section_display": true,
   "toc_window_display": false
  }
 },
 "nbformat": 4,
 "nbformat_minor": 5
}
