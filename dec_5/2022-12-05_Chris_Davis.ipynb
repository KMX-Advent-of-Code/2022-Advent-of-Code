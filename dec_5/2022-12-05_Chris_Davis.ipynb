{
 "cells": [
  {
   "cell_type": "markdown",
   "id": "9a84a535-f3a1-4a50-99e8-e363ed28217b",
   "metadata": {},
   "source": [
    "--- Day 5: Supply Stacks ---\n",
    "\n",
    "The expedition can depart as soon as the final supplies have been unloaded from the ships. Supplies are stored in stacks of marked crates, but because the needed supplies are buried under many other crates, the crates need to be rearranged.\n",
    "\n",
    "The ship has a giant cargo crane capable of moving crates between stacks. To ensure none of the crates get crushed or fall over, the crane operator will rearrange them in a series of carefully-planned steps. After the crates are rearranged, the desired crates will be at the top of each stack.\n",
    "\n",
    "The Elves don't want to interrupt the crane operator during this delicate procedure, but they forgot to ask her which crate will end up where, and they want to be ready to unload them as soon as possible so they can embark.\n",
    "\n",
    "They do, however, have a drawing of the starting stacks of crates and the rearrangement procedure (your puzzle input). For example:\n",
    "\n",
    "    [D]    \n",
    "[N] [C]    \n",
    "[Z] [M] [P]\n",
    " 1   2   3 \n",
    "\n",
    "move 1 from 2 to 1\n",
    "move 3 from 1 to 3\n",
    "move 2 from 2 to 1\n",
    "move 1 from 1 to 2\n",
    "\n",
    "In this example, there are three stacks of crates. Stack 1 contains two crates: crate Z is on the bottom, and crate N is on top. Stack 2 contains three crates; from bottom to top, they are crates M, C, and D. Finally, stack 3 contains a single crate, P.\n",
    "\n",
    "Then, the rearrangement procedure is given. In each step of the procedure, a quantity of crates is moved from one stack to a different stack. In the first step of the above rearrangement procedure, one crate is moved from stack 2 to stack 1, resulting in this configuration:\n",
    "\n",
    "[D]        \n",
    "[N] [C]    \n",
    "[Z] [M] [P]\n",
    " 1   2   3 \n",
    "\n",
    "In the second step, three crates are moved from stack 1 to stack 3. Crates are moved one at a time, so the first crate to be moved (D) ends up below the second and third crates:\n",
    "\n",
    "        [Z]\n",
    "        [N]\n",
    "    [C] [D]\n",
    "    [M] [P]\n",
    " 1   2   3\n",
    "\n",
    "Then, both crates are moved from stack 2 to stack 1. Again, because crates are moved one at a time, crate C ends up below crate M:\n",
    "\n",
    "        [Z]\n",
    "        [N]\n",
    "[M]     [D]\n",
    "[C]     [P]\n",
    " 1   2   3\n",
    "\n",
    "Finally, one crate is moved from stack 1 to stack 2:\n",
    "\n",
    "        [Z]\n",
    "        [N]\n",
    "        [D]\n",
    "[C] [M] [P]\n",
    " 1   2   3\n",
    "\n",
    "The Elves just need to know which crate will end up on top of each stack; in this example, the top crates are C in stack 1, M in stack 2, and Z in stack 3, so you should combine these together and give the Elves the message CMZ.\n",
    "\n",
    "After the rearrangement procedure completes, what crate ends up on top of each stack?\n"
   ]
  },
  {
   "cell_type": "code",
   "execution_count": 98,
   "id": "99a5eed6-0d68-4321-a163-84b1cfd2e580",
   "metadata": {
    "execution": {
     "iopub.execute_input": "2022-12-06T02:40:12.995555Z",
     "iopub.status.busy": "2022-12-06T02:40:12.995555Z",
     "iopub.status.idle": "2022-12-06T02:40:13.001567Z",
     "shell.execute_reply": "2022-12-06T02:40:13.001567Z",
     "shell.execute_reply.started": "2022-12-06T02:40:12.995555Z"
    },
    "tags": []
   },
   "outputs": [],
   "source": [
    "import copy"
   ]
  },
  {
   "cell_type": "code",
   "execution_count": 99,
   "id": "d379aa93-999b-4bab-8101-f6065a0e8c9f",
   "metadata": {
    "execution": {
     "iopub.execute_input": "2022-12-06T02:40:13.107670Z",
     "iopub.status.busy": "2022-12-06T02:40:13.107670Z",
     "iopub.status.idle": "2022-12-06T02:40:13.127617Z",
     "shell.execute_reply": "2022-12-06T02:40:13.126650Z",
     "shell.execute_reply.started": "2022-12-06T02:40:13.107670Z"
    },
    "tags": []
   },
   "outputs": [],
   "source": [
    "def open_file():\n",
    "    \"\"\"open the input file\"\"\"\n",
    "    with open('chris_davis_input_day5.txt') as f:\n",
    "        input_data = f.readlines()\n",
    "    return input_data"
   ]
  },
  {
   "cell_type": "code",
   "execution_count": 100,
   "id": "71b227a3-217d-49d8-a5cb-666241309429",
   "metadata": {
    "execution": {
     "iopub.execute_input": "2022-12-06T02:40:13.237253Z",
     "iopub.status.busy": "2022-12-06T02:40:13.237253Z",
     "iopub.status.idle": "2022-12-06T02:40:13.251215Z",
     "shell.execute_reply": "2022-12-06T02:40:13.251215Z",
     "shell.execute_reply.started": "2022-12-06T02:40:13.237253Z"
    },
    "tags": []
   },
   "outputs": [],
   "source": [
    "def split_input(input_data):\n",
    "    \"\"\"splits input into stack and moves\"\"\"\n",
    "    stack_list = []\n",
    "    move_list = []\n",
    "    \n",
    "    moves_flag = 0\n",
    "    for row in input_data:\n",
    "        stripped_row = row.strip()\n",
    "        if moves_flag == 0:\n",
    "            if stripped_row == '':\n",
    "                moves_flag = 1\n",
    "            else:\n",
    "                stack_list.append(stripped_row)\n",
    "        elif moves_flag == 1:\n",
    "            move_list.append(stripped_row)\n",
    "    return stack_list, move_list    "
   ]
  },
  {
   "cell_type": "code",
   "execution_count": 101,
   "id": "00975045-0ac6-4b07-abf3-3fbe8b7d7757",
   "metadata": {
    "execution": {
     "iopub.execute_input": "2022-12-06T02:40:13.383939Z",
     "iopub.status.busy": "2022-12-06T02:40:13.382942Z",
     "iopub.status.idle": "2022-12-06T02:40:13.391923Z",
     "shell.execute_reply": "2022-12-06T02:40:13.391923Z",
     "shell.execute_reply.started": "2022-12-06T02:40:13.383939Z"
    },
    "tags": []
   },
   "outputs": [],
   "source": [
    "def convert_stacks_to_dict(stack_list):\n",
    "    \"\"\"\n",
    "    converts the stack string to a list (for each row) of a dictionary of which item is in each stack at that row.\n",
    "    Also returns the total number of stacks\n",
    "    \"\"\"\n",
    "    \n",
    "    num_stacks = int(stack_list[-1].split()[-1])\n",
    "    \n",
    "    list_of_stack_dicts = []\n",
    "    for row in stack_list[:-1]:\n",
    "        list_of_stack_dicts.append(split_stack_string(num_stacks, row))\n",
    "    return list_of_stack_dicts, num_stacks"
   ]
  },
  {
   "cell_type": "code",
   "execution_count": 102,
   "id": "fb997f38-7b3e-4d21-b402-3e2432033404",
   "metadata": {
    "execution": {
     "iopub.execute_input": "2022-12-06T02:40:13.516581Z",
     "iopub.status.busy": "2022-12-06T02:40:13.516581Z",
     "iopub.status.idle": "2022-12-06T02:40:13.533532Z",
     "shell.execute_reply": "2022-12-06T02:40:13.533532Z",
     "shell.execute_reply.started": "2022-12-06T02:40:13.516581Z"
    },
    "tags": []
   },
   "outputs": [],
   "source": [
    "def split_stack_string(num_stacks, stack_string):\n",
    "    \"\"\"returns a dictionary of non-empty items in the stack\"\"\"\n",
    "    stack_dict = {}\n",
    "    for stack_num in range(num_stacks):\n",
    "        item_in_stack = stack_string[4 * stack_num + 1]\n",
    "        if item_in_stack.strip() != '':\n",
    "            stack_dict[stack_num] = item_in_stack\n",
    "    return stack_dict"
   ]
  },
  {
   "cell_type": "code",
   "execution_count": 103,
   "id": "2a926480-a514-4595-8715-014bd0a98a23",
   "metadata": {
    "execution": {
     "iopub.execute_input": "2022-12-06T02:40:13.649609Z",
     "iopub.status.busy": "2022-12-06T02:40:13.649609Z",
     "iopub.status.idle": "2022-12-06T02:40:13.658586Z",
     "shell.execute_reply": "2022-12-06T02:40:13.657612Z",
     "shell.execute_reply.started": "2022-12-06T02:40:13.649609Z"
    },
    "tags": []
   },
   "outputs": [],
   "source": [
    "def create_stacks(list_of_stack_dicts, num_stacks):\n",
    "    \"\"\"\n",
    "    Turns a list of dictionaries for each row-stack into a single dictionary with a list of items in each stack, \n",
    "    ordered such that the first item in the list is the top item\n",
    "    \"\"\"\n",
    "    stack_dict = {}\n",
    "    for stack_num in range(0, num_stacks):\n",
    "        stack_list = []\n",
    "        for stack_row in list_of_stack_dicts:\n",
    "            if stack_row.get(stack_num):\n",
    "                stack_list.append(stack_row.get(stack_num))\n",
    "        stack_dict[stack_num] = stack_list.copy()\n",
    "    return stack_dict"
   ]
  },
  {
   "cell_type": "code",
   "execution_count": 117,
   "id": "1f423780-aaaf-4a0e-9c22-5592c46c0c7a",
   "metadata": {
    "execution": {
     "iopub.execute_input": "2022-12-06T02:42:53.323327Z",
     "iopub.status.busy": "2022-12-06T02:42:53.323327Z",
     "iopub.status.idle": "2022-12-06T02:42:53.337320Z",
     "shell.execute_reply": "2022-12-06T02:42:53.337320Z",
     "shell.execute_reply.started": "2022-12-06T02:42:53.323327Z"
    },
    "tags": []
   },
   "outputs": [],
   "source": [
    "def move_one(from_stack, to_stack, stack_dict):\n",
    "    \"\"\"moves the top item from one stack to another\"\"\"\n",
    "    new_stack_dict = copy.deepcopy(stack_dict)\n",
    "    moved_item = new_stack_dict[from_stack].pop(0)\n",
    "    new_stack_dict[to_stack].insert(0, moved_item)\n",
    "    return new_stack_dict\n",
    "\n",
    "def move_many(from_stack, to_stack, stack_dict, num_moves):\n",
    "    \"\"\"moves many items from one stack to another\"\"\"\n",
    "    new_stack_dict = move_one(from_stack, to_stack, stack_dict)\n",
    "    if num_moves > 1:\n",
    "        new_stack_dict = move_many(from_stack, to_stack, new_stack_dict, num_moves - 1)\n",
    "    return new_stack_dict"
   ]
  },
  {
   "cell_type": "code",
   "execution_count": 175,
   "id": "081f8f45-a0e8-4548-b791-a29dc5cf96a4",
   "metadata": {
    "execution": {
     "iopub.execute_input": "2022-12-06T02:54:34.846249Z",
     "iopub.status.busy": "2022-12-06T02:54:34.845229Z",
     "iopub.status.idle": "2022-12-06T02:54:34.863199Z",
     "shell.execute_reply": "2022-12-06T02:54:34.863199Z",
     "shell.execute_reply.started": "2022-12-06T02:54:34.846249Z"
    },
    "tags": []
   },
   "outputs": [],
   "source": [
    "def parse_moves(move_list):\n",
    "    \"\"\"parse the move text to a useful dict. Because we use Python here, decrement all column names by 1 (ex: 0->8 instead of 1->9)\"\"\"\n",
    "    moves = []\n",
    "    for moveset in move_list:\n",
    "        parsed = moveset.split(' ')\n",
    "        moves.append({'num_moves': int(parsed[1]), 'from_stack': int(parsed[3]) - 1, 'to_stack': int(parsed[5]) - 1})\n",
    "    return moves"
   ]
  },
  {
   "cell_type": "code",
   "execution_count": 176,
   "id": "13465819-1c3f-45bd-93af-17dd6c584a82",
   "metadata": {
    "execution": {
     "iopub.execute_input": "2022-12-06T02:54:34.968559Z",
     "iopub.status.busy": "2022-12-06T02:54:34.968559Z",
     "iopub.status.idle": "2022-12-06T02:54:34.988508Z",
     "shell.execute_reply": "2022-12-06T02:54:34.987507Z",
     "shell.execute_reply.started": "2022-12-06T02:54:34.968559Z"
    },
    "tags": []
   },
   "outputs": [],
   "source": [
    "def execute_all_moves(moves, stack_dict):\n",
    "    \"\"\"run all the moves in order\"\"\"\n",
    "    updated_stack_dict = copy.deepcopy(stack_dict)\n",
    "    for move in moves:\n",
    "        updated_stack_dict = move_many(move['from_stack'], move['to_stack'], updated_stack_dict, move['num_moves'])\n",
    "    return updated_stack_dict"
   ]
  },
  {
   "cell_type": "code",
   "execution_count": 189,
   "id": "c316d2f3-34bc-4267-a295-3f0551b5a442",
   "metadata": {
    "execution": {
     "iopub.execute_input": "2022-12-06T02:57:10.814002Z",
     "iopub.status.busy": "2022-12-06T02:57:10.814002Z",
     "iopub.status.idle": "2022-12-06T02:57:10.823975Z",
     "shell.execute_reply": "2022-12-06T02:57:10.822977Z",
     "shell.execute_reply.started": "2022-12-06T02:57:10.814002Z"
    }
   },
   "outputs": [],
   "source": [
    "def get_top_of_stacks(stack_dict, num_stacks):\n",
    "    \"\"\"concatenate all the strings of each item in the stack dict, in order\"\"\"\n",
    "    output_str = \"\"\n",
    "    for i in range(num_stacks):\n",
    "        output_str = output_str + stack_dict[i][0]\n",
    "    return output_str"
   ]
  },
  {
   "cell_type": "code",
   "execution_count": 177,
   "id": "05259797-2249-473b-adaf-a21263975b5c",
   "metadata": {
    "execution": {
     "iopub.execute_input": "2022-12-06T02:54:35.105975Z",
     "iopub.status.busy": "2022-12-06T02:54:35.105975Z",
     "iopub.status.idle": "2022-12-06T02:54:35.112719Z",
     "shell.execute_reply": "2022-12-06T02:54:35.111736Z",
     "shell.execute_reply.started": "2022-12-06T02:54:35.105975Z"
    },
    "tags": []
   },
   "outputs": [],
   "source": [
    "input_data = open_file()"
   ]
  },
  {
   "cell_type": "code",
   "execution_count": 178,
   "id": "8ed4540d-5fe4-4293-a9ac-14b21462fc18",
   "metadata": {
    "execution": {
     "iopub.execute_input": "2022-12-06T02:54:35.232055Z",
     "iopub.status.busy": "2022-12-06T02:54:35.232055Z",
     "iopub.status.idle": "2022-12-06T02:54:35.252091Z",
     "shell.execute_reply": "2022-12-06T02:54:35.251090Z",
     "shell.execute_reply.started": "2022-12-06T02:54:35.232055Z"
    },
    "tags": []
   },
   "outputs": [],
   "source": [
    "stack_list, move_list = split_input(input_data)"
   ]
  },
  {
   "cell_type": "code",
   "execution_count": 179,
   "id": "066a7f8e-e595-487a-9aa0-fba1c47c9dcf",
   "metadata": {
    "execution": {
     "iopub.execute_input": "2022-12-06T02:54:35.375059Z",
     "iopub.status.busy": "2022-12-06T02:54:35.375059Z",
     "iopub.status.idle": "2022-12-06T02:54:35.392011Z",
     "shell.execute_reply": "2022-12-06T02:54:35.392011Z",
     "shell.execute_reply.started": "2022-12-06T02:54:35.375059Z"
    },
    "tags": []
   },
   "outputs": [],
   "source": [
    "list_of_stack_dicts, num_stacks = convert_stacks_to_dict(stack_list)"
   ]
  },
  {
   "cell_type": "code",
   "execution_count": 180,
   "id": "82f40069-d67a-433e-8679-cd06d7629635",
   "metadata": {
    "execution": {
     "iopub.execute_input": "2022-12-06T02:54:35.512083Z",
     "iopub.status.busy": "2022-12-06T02:54:35.512083Z",
     "iopub.status.idle": "2022-12-06T02:54:35.517070Z",
     "shell.execute_reply": "2022-12-06T02:54:35.517070Z",
     "shell.execute_reply.started": "2022-12-06T02:54:35.512083Z"
    },
    "tags": []
   },
   "outputs": [],
   "source": [
    "stack_dict = create_stacks(list_of_stack_dicts, num_stacks)"
   ]
  },
  {
   "cell_type": "code",
   "execution_count": 181,
   "id": "4d221d2b-08a4-4444-926c-c17fe8d44f27",
   "metadata": {
    "execution": {
     "iopub.execute_input": "2022-12-06T02:54:35.656031Z",
     "iopub.status.busy": "2022-12-06T02:54:35.655034Z",
     "iopub.status.idle": "2022-12-06T02:54:35.672984Z",
     "shell.execute_reply": "2022-12-06T02:54:35.672010Z",
     "shell.execute_reply.started": "2022-12-06T02:54:35.656031Z"
    },
    "tags": []
   },
   "outputs": [],
   "source": [
    "moves = parse_moves(move_list)"
   ]
  },
  {
   "cell_type": "code",
   "execution_count": 186,
   "id": "5cf00fbb-c5ca-4fa5-9a45-66ef8e4a35dc",
   "metadata": {
    "execution": {
     "iopub.execute_input": "2022-12-06T02:55:01.099626Z",
     "iopub.status.busy": "2022-12-06T02:55:01.099626Z",
     "iopub.status.idle": "2022-12-06T02:55:01.278124Z",
     "shell.execute_reply": "2022-12-06T02:55:01.277124Z",
     "shell.execute_reply.started": "2022-12-06T02:55:01.099626Z"
    },
    "tags": []
   },
   "outputs": [],
   "source": [
    "final_stack = execute_all_moves(moves, stack_dict)"
   ]
  },
  {
   "cell_type": "code",
   "execution_count": 190,
   "id": "9e88533c-ec78-4fea-81fa-2de9fe1ba9f2",
   "metadata": {
    "execution": {
     "iopub.execute_input": "2022-12-06T02:57:21.674497Z",
     "iopub.status.busy": "2022-12-06T02:57:21.674497Z",
     "iopub.status.idle": "2022-12-06T02:57:21.695440Z",
     "shell.execute_reply": "2022-12-06T02:57:21.694471Z",
     "shell.execute_reply.started": "2022-12-06T02:57:21.674497Z"
    }
   },
   "outputs": [
    {
     "data": {
      "text/plain": [
       "'SBPQRSCDF'"
      ]
     },
     "execution_count": 190,
     "metadata": {},
     "output_type": "execute_result"
    }
   ],
   "source": [
    "get_top_of_stacks(final_stack, num_stacks)"
   ]
  },
  {
   "cell_type": "markdown",
   "id": "065f2ce4-18e5-4337-b78b-968954c5b7e4",
   "metadata": {},
   "source": [
    "--- Part Two ---\n",
    "\n",
    "As you watch the crane operator expertly rearrange the crates, you notice the process isn't following your prediction.\n",
    "\n",
    "Some mud was covering the writing on the side of the crane, and you quickly wipe it away. The crane isn't a CrateMover 9000 - it's a CrateMover 9001.\n",
    "\n",
    "The CrateMover 9001 is notable for many new and exciting features: air conditioning, leather seats, an extra cup holder, and the ability to pick up and move multiple crates at once.\n",
    "\n",
    "Again considering the example above, the crates begin in the same configuration:\n",
    "\n",
    "    [D]    \n",
    "[N] [C]    \n",
    "[Z] [M] [P]\n",
    " 1   2   3 \n",
    "\n",
    "Moving a single crate from stack 2 to stack 1 behaves the same as before:\n",
    "\n",
    "[D]        \n",
    "[N] [C]    \n",
    "[Z] [M] [P]\n",
    " 1   2   3 \n",
    "\n",
    "However, the action of moving three crates from stack 1 to stack 3 means that those three moved crates stay in the same order, resulting in this new configuration:\n",
    "\n",
    "        [D]\n",
    "        [N]\n",
    "    [C] [Z]\n",
    "    [M] [P]\n",
    " 1   2   3\n",
    "\n",
    "Next, as both crates are moved from stack 2 to stack 1, they retain their order as well:\n",
    "\n",
    "        [D]\n",
    "        [N]\n",
    "[C]     [Z]\n",
    "[M]     [P]\n",
    " 1   2   3\n",
    "\n",
    "Finally, a single crate is still moved from stack 1 to stack 2, but now it's crate C that gets moved:\n",
    "\n",
    "        [D]\n",
    "        [N]\n",
    "        [Z]\n",
    "[M] [C] [P]\n",
    " 1   2   3\n",
    "\n",
    "In this example, the CrateMover 9001 has put the crates in a totally different order: MCD.\n",
    "\n",
    "Before the rearrangement process finishes, update your simulation so that the Elves know where they should stand to be ready to unload the final supplies. After the rearrangement procedure completes, what crate ends up on top of each stack?\n"
   ]
  },
  {
   "cell_type": "code",
   "execution_count": 191,
   "id": "44957a51-fc80-4cf3-8073-43e9d698f3d6",
   "metadata": {
    "execution": {
     "iopub.execute_input": "2022-12-06T03:02:41.583052Z",
     "iopub.status.busy": "2022-12-06T03:02:41.583052Z",
     "iopub.status.idle": "2022-12-06T03:02:41.598012Z",
     "shell.execute_reply": "2022-12-06T03:02:41.597014Z",
     "shell.execute_reply.started": "2022-12-06T03:02:41.583052Z"
    }
   },
   "outputs": [],
   "source": [
    "def multi_move(from_stack, to_stack, stack_dict, num_moves):\n",
    "    \"\"\"moves the top {num_moves} items from one stack to another\"\"\"\n",
    "    new_stack_dict = copy.deepcopy(stack_dict)\n",
    "    moved_items = new_stack_dict[from_stack][:num_moves]\n",
    "    \n",
    "    # update from stack\n",
    "    new_stack_dict[from_stack] = new_stack_dict[from_stack][num_moves:]\n",
    "    new_stack_dict[to_stack] = moved_items + new_stack_dict[to_stack]\n",
    "    return new_stack_dict"
   ]
  },
  {
   "cell_type": "code",
   "execution_count": 195,
   "id": "a85506a4-8da5-4da0-979a-79d24d5d7e43",
   "metadata": {
    "execution": {
     "iopub.execute_input": "2022-12-06T03:03:51.909743Z",
     "iopub.status.busy": "2022-12-06T03:03:51.909743Z",
     "iopub.status.idle": "2022-12-06T03:03:51.915726Z",
     "shell.execute_reply": "2022-12-06T03:03:51.914731Z",
     "shell.execute_reply.started": "2022-12-06T03:03:51.909743Z"
    },
    "tags": []
   },
   "outputs": [],
   "source": [
    "def execute_all_part_2_moves(moves, stack_dict):\n",
    "    \"\"\"run all the moves in order\"\"\"\n",
    "    updated_stack_dict = copy.deepcopy(stack_dict)\n",
    "    for move in moves:\n",
    "        updated_stack_dict = multi_move(move['from_stack'], move['to_stack'], updated_stack_dict, move['num_moves'])\n",
    "    return updated_stack_dict"
   ]
  },
  {
   "cell_type": "code",
   "execution_count": 196,
   "id": "ca237648-c6f8-4735-9e7d-602a0257f721",
   "metadata": {
    "execution": {
     "iopub.execute_input": "2022-12-06T03:04:00.518185Z",
     "iopub.status.busy": "2022-12-06T03:04:00.518185Z",
     "iopub.status.idle": "2022-12-06T03:04:00.557081Z",
     "shell.execute_reply": "2022-12-06T03:04:00.557081Z",
     "shell.execute_reply.started": "2022-12-06T03:04:00.518185Z"
    }
   },
   "outputs": [
    {
     "data": {
      "text/plain": [
       "{0: ['R', 'J', 'P', 'C', 'V', 'D', 'Z', 'S', 'T', 'D', 'M', 'R', 'F'],\n",
       " 1: ['G', 'B', 'M'],\n",
       " 2: ['L', 'V', 'D', 'N', 'B'],\n",
       " 3: ['V', 'C', 'N', 'F'],\n",
       " 4: ['R', 'Q', 'G', 'S', 'M', 'D', 'L'],\n",
       " 5: ['C', 'H', 'H', 'T', 'R', 'C'],\n",
       " 6: ['Q', 'P', 'V', 'J', 'S', 'L', 'S', 'W'],\n",
       " 7: ['S', 'F', 'N', 'Q', 'J', 'P', 'R', 'P', 'S'],\n",
       " 8: ['B']}"
      ]
     },
     "execution_count": 196,
     "metadata": {},
     "output_type": "execute_result"
    }
   ],
   "source": [
    "execute_all_part_2_moves(moves, stack_dict)"
   ]
  },
  {
   "cell_type": "code",
   "execution_count": 192,
   "id": "1274f3bc-dabd-4327-8222-8d98eda4afec",
   "metadata": {
    "execution": {
     "iopub.execute_input": "2022-12-06T03:02:50.642670Z",
     "iopub.status.busy": "2022-12-06T03:02:50.642670Z",
     "iopub.status.idle": "2022-12-06T03:02:50.659650Z",
     "shell.execute_reply": "2022-12-06T03:02:50.659650Z",
     "shell.execute_reply.started": "2022-12-06T03:02:50.642670Z"
    }
   },
   "outputs": [
    {
     "data": {
      "text/plain": [
       "{0: ['V', 'N', 'F', 'S', 'M', 'P', 'H', 'J'],\n",
       " 1: ['Q', 'D', 'J', 'M', 'L', 'R', 'S'],\n",
       " 2: ['B', 'W', 'S', 'C', 'H', 'D', 'Q', 'N'],\n",
       " 3: ['L', 'C', 'S', 'R'],\n",
       " 4: ['B', 'F', 'P', 'T', 'V', 'M'],\n",
       " 5: ['C', 'N', 'Q', 'R', 'T'],\n",
       " 6: ['R', 'V', 'G'],\n",
       " 7: ['R', 'L', 'D', 'P', 'S', 'Z', 'C'],\n",
       " 8: ['F', 'B', 'P', 'G', 'V', 'J', 'S', 'D']}"
      ]
     },
     "execution_count": 192,
     "metadata": {},
     "output_type": "execute_result"
    }
   ],
   "source": [
    "stack_dict"
   ]
  },
  {
   "cell_type": "code",
   "execution_count": null,
   "id": "6d51927c-8721-45c7-ab6e-352903dc82d1",
   "metadata": {},
   "outputs": [],
   "source": []
  }
 ],
 "metadata": {
  "kernelspec": {
   "display_name": "Python 3 (ipykernel)",
   "language": "python",
   "name": "python3"
  },
  "language_info": {
   "codemirror_mode": {
    "name": "ipython",
    "version": 3
   },
   "file_extension": ".py",
   "mimetype": "text/x-python",
   "name": "python",
   "nbconvert_exporter": "python",
   "pygments_lexer": "ipython3",
   "version": "3.9.7"
  }
 },
 "nbformat": 4,
 "nbformat_minor": 5
}
