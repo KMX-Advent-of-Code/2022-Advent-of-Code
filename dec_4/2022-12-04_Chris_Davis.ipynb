{
 "cells": [
  {
   "cell_type": "markdown",
   "id": "1174b8e0-5be3-4236-b133-d1befbf6dab9",
   "metadata": {
    "execution": {
     "iopub.execute_input": "2022-12-04T20:06:20.076897Z",
     "iopub.status.busy": "2022-12-04T20:06:20.076897Z",
     "iopub.status.idle": "2022-12-04T20:06:20.115795Z",
     "shell.execute_reply": "2022-12-04T20:06:20.114797Z",
     "shell.execute_reply.started": "2022-12-04T20:06:20.076897Z"
    }
   },
   "source": [
    "--- Day 4: Camp Cleanup ---\n",
    "\n",
    "Space needs to be cleared before the last supplies can be unloaded from the ships, and so several Elves have been assigned the job of cleaning up sections of the camp. Every section has a unique ID number, and each Elf is assigned a range of section IDs.\n",
    "\n",
    "However, as some of the Elves compare their section assignments with each other, they've noticed that many of the assignments overlap. To try to quickly find overlaps and reduce duplicated effort, the Elves pair up and make a big list of the section assignments for each pair (your puzzle input).\n",
    "\n",
    "For example, consider the following list of section assignment pairs:\n",
    "\n",
    "2-4,6-8\n",
    "2-3,4-5\n",
    "5-7,7-9\n",
    "2-8,3-7\n",
    "6-6,4-6\n",
    "2-6,4-8\n",
    "\n",
    "For the first few pairs, this list means:\n",
    "\n",
    "    Within the first pair of Elves, the first Elf was assigned sections 2-4 (sections 2, 3, and 4), while the second Elf was assigned sections 6-8 (sections 6, 7, 8).\n",
    "    The Elves in the second pair were each assigned two sections.\n",
    "    The Elves in the third pair were each assigned three sections: one got sections 5, 6, and 7, while the other also got 7, plus 8 and 9.\n",
    "\n",
    "This example list uses single-digit section IDs to make it easier to draw; your actual list might contain larger numbers. Visually, these pairs of section assignments look like this:\n",
    "\n",
    ".234.....  2-4\n",
    ".....678.  6-8\n",
    "\n",
    ".23......  2-3\n",
    "...45....  4-5\n",
    "\n",
    "....567..  5-7\n",
    "......789  7-9\n",
    "\n",
    ".2345678.  2-8\n",
    "..34567..  3-7\n",
    "\n",
    ".....6...  6-6\n",
    "...456...  4-6\n",
    "\n",
    ".23456...  2-6\n",
    "...45678.  4-8\n",
    "\n",
    "Some of the pairs have noticed that one of their assignments fully contains the other. For example, 2-8 fully contains 3-7, and 6-6 is fully contained by 4-6. In pairs where one assignment fully contains the other, one Elf in the pair would be exclusively cleaning sections their partner will already be cleaning, so these seem like the most in need of reconsideration. In this example, there are 2 such pairs.\n",
    "\n",
    "In how many assignment pairs does one range fully contain the other?\n"
   ]
  },
  {
   "cell_type": "code",
   "execution_count": 3,
   "id": "98b0a07d-c2ec-4a55-b932-49bfaf400ca8",
   "metadata": {
    "execution": {
     "iopub.execute_input": "2022-12-04T20:08:07.483107Z",
     "iopub.status.busy": "2022-12-04T20:08:07.483107Z",
     "iopub.status.idle": "2022-12-04T20:08:07.497071Z",
     "shell.execute_reply": "2022-12-04T20:08:07.496100Z",
     "shell.execute_reply.started": "2022-12-04T20:08:07.483107Z"
    },
    "tags": []
   },
   "outputs": [],
   "source": [
    "import pandas as pd"
   ]
  },
  {
   "cell_type": "code",
   "execution_count": 4,
   "id": "52dafc06-a436-4e6f-8958-c0ddf0a5dee8",
   "metadata": {
    "execution": {
     "iopub.execute_input": "2022-12-04T20:08:10.013423Z",
     "iopub.status.busy": "2022-12-04T20:08:10.012426Z",
     "iopub.status.idle": "2022-12-04T20:08:10.030377Z",
     "shell.execute_reply": "2022-12-04T20:08:10.029380Z",
     "shell.execute_reply.started": "2022-12-04T20:08:10.013423Z"
    }
   },
   "outputs": [],
   "source": [
    "def open_file():\n",
    "    \"\"\"open the input file\"\"\"\n",
    "    with open('chris_davis_input_day4.txt') as f:\n",
    "        input_data = f.readlines()\n",
    "    return input_data"
   ]
  },
  {
   "cell_type": "code",
   "execution_count": 7,
   "id": "8b589d96-af9e-4b25-85b7-eb28958dba00",
   "metadata": {
    "execution": {
     "iopub.execute_input": "2022-12-04T20:09:18.946980Z",
     "iopub.status.busy": "2022-12-04T20:09:18.946980Z",
     "iopub.status.idle": "2022-12-04T20:09:18.961942Z",
     "shell.execute_reply": "2022-12-04T20:09:18.960964Z",
     "shell.execute_reply.started": "2022-12-04T20:09:18.946980Z"
    },
    "tags": []
   },
   "outputs": [],
   "source": [
    "def split_data(input_data):\n",
    "    \"\"\"Split the data into columns for ease of use\"\"\"\n",
    "    jobs_a = []\n",
    "    jobs_b = []\n",
    "    for row in input_data:\n",
    "        stripped_row = row.strip()\n",
    "        jobs_a.append(stripped_row.split(',')[0])\n",
    "        jobs_b.append(stripped_row.split(',')[1])\n",
    "    return jobs_a, jobs_b"
   ]
  },
  {
   "cell_type": "code",
   "execution_count": 15,
   "id": "8060ef47-9d98-48f2-890e-32617146d259",
   "metadata": {
    "execution": {
     "iopub.execute_input": "2022-12-04T20:34:53.187949Z",
     "iopub.status.busy": "2022-12-04T20:34:53.183960Z",
     "iopub.status.idle": "2022-12-04T20:34:53.208626Z",
     "shell.execute_reply": "2022-12-04T20:34:53.207628Z",
     "shell.execute_reply.started": "2022-12-04T20:34:53.187949Z"
    },
    "tags": []
   },
   "outputs": [],
   "source": [
    "def unstack_jobs(job_string):\n",
    "    \"\"\"Unstacks a string of 1-4 as a list [1, 2, 3, 4]\"\"\"\n",
    "    start = job_string.split('-')[0]\n",
    "    end = job_string.split('-')[1]\n",
    "\n",
    "    job_list = []\n",
    "    for i in range(int(start), int(end) + 1):\n",
    "        job_list.append(i)\n",
    "        \n",
    "    return job_list"
   ]
  },
  {
   "cell_type": "code",
   "execution_count": 20,
   "id": "86b038dc-cab2-4e13-bffa-f9f1ad9081a0",
   "metadata": {
    "execution": {
     "iopub.execute_input": "2022-12-04T20:35:58.187628Z",
     "iopub.status.busy": "2022-12-04T20:35:58.187628Z",
     "iopub.status.idle": "2022-12-04T20:35:58.197625Z",
     "shell.execute_reply": "2022-12-04T20:35:58.197625Z",
     "shell.execute_reply.started": "2022-12-04T20:35:58.187628Z"
    }
   },
   "outputs": [],
   "source": [
    "def get_shared_range(range_A, range_B):\n",
    "    \"\"\"Determine which item(s) are shared in each list\"\"\"\n",
    "    shared_list = [x for x in range_A if x in range_B]\n",
    "    return shared_list"
   ]
  },
  {
   "cell_type": "code",
   "execution_count": 8,
   "id": "0eaf4574-0a24-48ba-984d-d0fd7332779d",
   "metadata": {
    "execution": {
     "iopub.execute_input": "2022-12-04T20:09:19.294200Z",
     "iopub.status.busy": "2022-12-04T20:09:19.293202Z",
     "iopub.status.idle": "2022-12-04T20:09:19.298189Z",
     "shell.execute_reply": "2022-12-04T20:09:19.298189Z",
     "shell.execute_reply.started": "2022-12-04T20:09:19.293202Z"
    },
    "tags": []
   },
   "outputs": [],
   "source": [
    "input_data = open_file()"
   ]
  },
  {
   "cell_type": "code",
   "execution_count": 9,
   "id": "3090de84-d47c-4bd0-b044-ac179cc47bab",
   "metadata": {
    "execution": {
     "iopub.execute_input": "2022-12-04T20:09:28.929847Z",
     "iopub.status.busy": "2022-12-04T20:09:28.929847Z",
     "iopub.status.idle": "2022-12-04T20:09:28.936829Z",
     "shell.execute_reply": "2022-12-04T20:09:28.935859Z",
     "shell.execute_reply.started": "2022-12-04T20:09:28.929847Z"
    }
   },
   "outputs": [],
   "source": [
    "jobs_a, jobs_b = split_data(input_data)"
   ]
  },
  {
   "cell_type": "code",
   "execution_count": 11,
   "id": "604b3702-9b72-4abb-a532-06b558b1603c",
   "metadata": {
    "execution": {
     "iopub.execute_input": "2022-12-04T20:09:56.920363Z",
     "iopub.status.busy": "2022-12-04T20:09:56.920363Z",
     "iopub.status.idle": "2022-12-04T20:09:56.934326Z",
     "shell.execute_reply": "2022-12-04T20:09:56.933345Z",
     "shell.execute_reply.started": "2022-12-04T20:09:56.920363Z"
    }
   },
   "outputs": [],
   "source": [
    "pair_df = pd.DataFrame({'jobs_a': jobs_a, 'jobs_b': jobs_b})"
   ]
  },
  {
   "cell_type": "code",
   "execution_count": 18,
   "id": "54d47e8c-ca0f-4a37-b1c1-7ad26623eccc",
   "metadata": {
    "execution": {
     "iopub.execute_input": "2022-12-04T20:35:09.024058Z",
     "iopub.status.busy": "2022-12-04T20:35:09.024058Z",
     "iopub.status.idle": "2022-12-04T20:35:09.042014Z",
     "shell.execute_reply": "2022-12-04T20:35:09.041014Z",
     "shell.execute_reply.started": "2022-12-04T20:35:09.024058Z"
    },
    "tags": []
   },
   "outputs": [],
   "source": [
    "pair_df['job_a_list'] = pair_df['jobs_a'].apply(unstack_jobs)\n",
    "pair_df['job_b_list'] = pair_df['jobs_b'].apply(unstack_jobs)"
   ]
  },
  {
   "cell_type": "code",
   "execution_count": 22,
   "id": "deb4c542-421f-4e2d-94c8-702e9ae366c5",
   "metadata": {
    "execution": {
     "iopub.execute_input": "2022-12-04T20:36:52.176064Z",
     "iopub.status.busy": "2022-12-04T20:36:52.176064Z",
     "iopub.status.idle": "2022-12-04T20:36:52.215956Z",
     "shell.execute_reply": "2022-12-04T20:36:52.215159Z",
     "shell.execute_reply.started": "2022-12-04T20:36:52.176064Z"
    },
    "tags": []
   },
   "outputs": [],
   "source": [
    "pair_df['shared_jobs'] = pair_df.apply(lambda x: get_shared_range(x['job_a_list'], x['job_b_list']), axis=1)"
   ]
  },
  {
   "cell_type": "code",
   "execution_count": 24,
   "id": "2dd69311-caa6-44fc-8d3e-e457051852f9",
   "metadata": {
    "execution": {
     "iopub.execute_input": "2022-12-04T20:37:38.633271Z",
     "iopub.status.busy": "2022-12-04T20:37:38.633271Z",
     "iopub.status.idle": "2022-12-04T20:37:38.652222Z",
     "shell.execute_reply": "2022-12-04T20:37:38.651223Z",
     "shell.execute_reply.started": "2022-12-04T20:37:38.633271Z"
    },
    "tags": []
   },
   "outputs": [],
   "source": [
    "pair_df['a_fully_contained'] = pair_df['shared_jobs'] == pair_df['job_a_list']"
   ]
  },
  {
   "cell_type": "code",
   "execution_count": 25,
   "id": "8ff31635-096f-4f1f-aa35-9d2111c3e4b8",
   "metadata": {
    "execution": {
     "iopub.execute_input": "2022-12-04T20:37:46.623156Z",
     "iopub.status.busy": "2022-12-04T20:37:46.623156Z",
     "iopub.status.idle": "2022-12-04T20:37:46.637119Z",
     "shell.execute_reply": "2022-12-04T20:37:46.636129Z",
     "shell.execute_reply.started": "2022-12-04T20:37:46.623156Z"
    }
   },
   "outputs": [],
   "source": [
    "pair_df['b_fully_contained'] = pair_df['shared_jobs'] == pair_df['job_b_list']"
   ]
  },
  {
   "cell_type": "code",
   "execution_count": 30,
   "id": "5f289623-bae1-4632-819c-932d1373cbaf",
   "metadata": {
    "execution": {
     "iopub.execute_input": "2022-12-04T20:39:16.052754Z",
     "iopub.status.busy": "2022-12-04T20:39:16.052754Z",
     "iopub.status.idle": "2022-12-04T20:39:16.062728Z",
     "shell.execute_reply": "2022-12-04T20:39:16.062728Z",
     "shell.execute_reply.started": "2022-12-04T20:39:16.052754Z"
    },
    "tags": []
   },
   "outputs": [],
   "source": [
    "pair_df['one_set_contained'] = pair_df['a_fully_contained'] | pair_df['b_fully_contained']"
   ]
  },
  {
   "cell_type": "code",
   "execution_count": 32,
   "id": "1401423e-9dce-4bf9-b00d-8f5de188c134",
   "metadata": {
    "execution": {
     "iopub.execute_input": "2022-12-04T20:39:30.713292Z",
     "iopub.status.busy": "2022-12-04T20:39:30.713292Z",
     "iopub.status.idle": "2022-12-04T20:39:30.720273Z",
     "shell.execute_reply": "2022-12-04T20:39:30.720273Z",
     "shell.execute_reply.started": "2022-12-04T20:39:30.713292Z"
    },
    "tags": []
   },
   "outputs": [
    {
     "data": {
      "text/plain": [
       "464"
      ]
     },
     "execution_count": 32,
     "metadata": {},
     "output_type": "execute_result"
    }
   ],
   "source": [
    "pair_df['one_set_contained'].sum()"
   ]
  },
  {
   "cell_type": "markdown",
   "id": "852c731b-85ef-4200-af13-1f19223718c7",
   "metadata": {},
   "source": [
    "--- Part Two ---\n",
    "\n",
    "It seems like there is still quite a bit of duplicate work planned. Instead, the Elves would like to know the number of pairs that overlap at all.\n",
    "\n",
    "In the above example, the first two pairs (2-4,6-8 and 2-3,4-5) don't overlap, while the remaining four pairs (5-7,7-9, 2-8,3-7, 6-6,4-6, and 2-6,4-8) do overlap:\n",
    "\n",
    "    5-7,7-9 overlaps in a single section, 7.\n",
    "    2-8,3-7 overlaps all of the sections 3 through 7.\n",
    "    6-6,4-6 overlaps in a single section, 6.\n",
    "    2-6,4-8 overlaps in sections 4, 5, and 6.\n",
    "\n",
    "So, in this example, the number of overlapping assignment pairs is 4.\n",
    "\n",
    "In how many assignment pairs do the ranges overlap?\n"
   ]
  },
  {
   "cell_type": "code",
   "execution_count": 38,
   "id": "775239f0-39b3-42a2-b791-124ce6e0a3ca",
   "metadata": {
    "execution": {
     "iopub.execute_input": "2022-12-04T20:41:24.147988Z",
     "iopub.status.busy": "2022-12-04T20:41:24.147988Z",
     "iopub.status.idle": "2022-12-04T20:41:24.167936Z",
     "shell.execute_reply": "2022-12-04T20:41:24.166937Z",
     "shell.execute_reply.started": "2022-12-04T20:41:24.147988Z"
    },
    "tags": []
   },
   "outputs": [],
   "source": [
    "pair_df['overlapping'] = pair_df['shared_jobs'].apply(lambda x: len(x) > 0)"
   ]
  },
  {
   "cell_type": "code",
   "execution_count": 40,
   "id": "95a747b2-6642-4544-9541-6aad3ac39e4c",
   "metadata": {
    "execution": {
     "iopub.execute_input": "2022-12-04T20:41:41.134379Z",
     "iopub.status.busy": "2022-12-04T20:41:41.134379Z",
     "iopub.status.idle": "2022-12-04T20:41:41.145366Z",
     "shell.execute_reply": "2022-12-04T20:41:41.145366Z",
     "shell.execute_reply.started": "2022-12-04T20:41:41.134379Z"
    },
    "tags": []
   },
   "outputs": [
    {
     "data": {
      "text/plain": [
       "770"
      ]
     },
     "execution_count": 40,
     "metadata": {},
     "output_type": "execute_result"
    }
   ],
   "source": [
    "pair_df['overlapping'].sum()"
   ]
  },
  {
   "cell_type": "code",
   "execution_count": null,
   "id": "70cbe835-c062-46ec-a4f4-fc5dc1dd6435",
   "metadata": {},
   "outputs": [],
   "source": []
  }
 ],
 "metadata": {
  "kernelspec": {
   "display_name": "Python 3 (ipykernel)",
   "language": "python",
   "name": "python3"
  },
  "language_info": {
   "codemirror_mode": {
    "name": "ipython",
    "version": 3
   },
   "file_extension": ".py",
   "mimetype": "text/x-python",
   "name": "python",
   "nbconvert_exporter": "python",
   "pygments_lexer": "ipython3",
   "version": "3.9.7"
  }
 },
 "nbformat": 4,
 "nbformat_minor": 5
}
