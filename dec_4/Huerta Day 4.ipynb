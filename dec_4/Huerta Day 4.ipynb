{
 "cells": [
  {
   "cell_type": "code",
   "execution_count": 10,
   "id": "4369cbd1",
   "metadata": {},
   "outputs": [],
   "source": [
    "import sys\n",
    "sys.path.append(\"../../aoc_2022\")"
   ]
  },
  {
   "cell_type": "code",
   "execution_count": 11,
   "id": "01be65de",
   "metadata": {
    "ExecuteTime": {
     "end_time": "2022-12-04T05:08:03.807617Z",
     "start_time": "2022-12-04T05:08:03.604096Z"
    }
   },
   "outputs": [
    {
     "name": "stdout",
     "output_type": "stream",
     "text": [
      "Retrieving Url\n",
      "Wrote to marcosh_input_day4.txt\n"
     ]
    }
   ],
   "source": [
    "from helpers import get_input\n",
    "\n",
    "\n",
    "input_text, input_list = get_input()"
   ]
  },
  {
   "cell_type": "code",
   "execution_count": 12,
   "id": "6d007f38",
   "metadata": {
    "ExecuteTime": {
     "end_time": "2022-12-04T05:09:00.662393Z",
     "start_time": "2022-12-04T05:09:00.604484Z"
    }
   },
   "outputs": [
    {
     "data": {
      "text/plain": [
       "'35-73,35-82'"
      ]
     },
     "execution_count": 12,
     "metadata": {},
     "output_type": "execute_result"
    }
   ],
   "source": [
    "input_list[0]"
   ]
  },
  {
   "cell_type": "code",
   "execution_count": 20,
   "id": "863fc666",
   "metadata": {
    "ExecuteTime": {
     "end_time": "2022-12-04T05:19:42.349707Z",
     "start_time": "2022-12-04T05:19:42.240078Z"
    }
   },
   "outputs": [],
   "source": [
    "test_input = \"\"\"2-4,6-8\n",
    "2-3,4-5\n",
    "5-7,7-9\n",
    "2-8,3-7\n",
    "6-6,4-6\n",
    "2-6,4-8\"\"\".split('\\n')"
   ]
  },
  {
   "cell_type": "markdown",
   "id": "838fdce8",
   "metadata": {},
   "source": [
    "### Part 1"
   ]
  },
  {
   "cell_type": "code",
   "execution_count": 14,
   "id": "c4f38cde",
   "metadata": {
    "ExecuteTime": {
     "end_time": "2022-12-04T05:18:24.723652Z",
     "start_time": "2022-12-04T05:18:24.673082Z"
    }
   },
   "outputs": [],
   "source": [
    "def find_overlap(x):\n",
    "    pair1, pair2 = x.split(',')\n",
    "    pair1 = [int(x) for x in pair1.split('-')]\n",
    "    pair2 = [int(x) for x in pair2.split('-')]\n",
    "    set1,set2= set(range(pair1[0],pair1[1]+1)),set(range(pair2[0],pair2[1]+1))\n",
    "    diff1 =  set1.difference(set2)\n",
    "    diff2 = set2.difference(set1)\n",
    "    return len(diff1) == 0 or len(diff2) == 0"
   ]
  },
  {
   "cell_type": "code",
   "execution_count": 21,
   "id": "5ca35abc",
   "metadata": {
    "ExecuteTime": {
     "end_time": "2022-12-04T05:18:44.100760Z",
     "start_time": "2022-12-04T05:18:44.053679Z"
    }
   },
   "outputs": [
    {
     "data": {
      "text/plain": [
       "2"
      ]
     },
     "execution_count": 21,
     "metadata": {},
     "output_type": "execute_result"
    },
    {
     "data": {
      "text/plain": [
       "507"
      ]
     },
     "execution_count": 21,
     "metadata": {},
     "output_type": "execute_result"
    }
   ],
   "source": [
    "\n",
    "sum([find_overlap(x) for x in test_input])\n",
    "sum([find_overlap(x) for x in input_list])"
   ]
  },
  {
   "cell_type": "markdown",
   "id": "52da1813",
   "metadata": {
    "ExecuteTime": {
     "end_time": "2022-12-04T13:43:30.326210Z",
     "start_time": "2022-12-04T13:43:30.152816Z"
    }
   },
   "source": [
    "### Part 2"
   ]
  },
  {
   "cell_type": "code",
   "execution_count": 16,
   "id": "ce408a19",
   "metadata": {
    "ExecuteTime": {
     "end_time": "2022-12-04T05:22:21.138842Z",
     "start_time": "2022-12-04T05:22:21.101120Z"
    }
   },
   "outputs": [],
   "source": [
    "def find_overlap2(x):\n",
    "    pair1, pair2 = x.split(',')\n",
    "    pair1 = [int(x) for x in pair1.split('-')]\n",
    "    pair2 = [int(x) for x in pair2.split('-')]\n",
    "    set1,set2= set(range(pair1[0],pair1[1]+1)),set(range(pair2[0],pair2[1]+1))\n",
    "    diff1 =  set1.intersection(set2)\n",
    "    return len(diff1) > 0"
   ]
  },
  {
   "cell_type": "code",
   "execution_count": 22,
   "id": "6d46168a",
   "metadata": {},
   "outputs": [
    {
     "data": {
      "text/plain": [
       "4"
      ]
     },
     "execution_count": 22,
     "metadata": {},
     "output_type": "execute_result"
    }
   ],
   "source": [
    "sum([find_overlap2(x) for x in test_input])\n"
   ]
  },
  {
   "cell_type": "code",
   "execution_count": null,
   "id": "b3cce687",
   "metadata": {
    "ExecuteTime": {
     "end_time": "2022-12-04T05:22:29.384298Z",
     "start_time": "2022-12-04T05:22:29.349824Z"
    }
   },
   "outputs": [
    {
     "data": {
      "text/plain": [
       "897"
      ]
     },
     "execution_count": 68,
     "metadata": {},
     "output_type": "execute_result"
    }
   ],
   "source": [
    "sum([find_overlap2(x) for x in input_list])"
   ]
  },
  {
   "cell_type": "code",
   "execution_count": null,
   "id": "1516c67a",
   "metadata": {},
   "outputs": [],
   "source": []
  }
 ],
 "metadata": {
  "kernelspec": {
   "display_name": "Python 3.10.6 ('base')",
   "language": "python",
   "name": "python3"
  },
  "language_info": {
   "codemirror_mode": {
    "name": "ipython",
    "version": 3
   },
   "file_extension": ".py",
   "mimetype": "text/x-python",
   "name": "python",
   "nbconvert_exporter": "python",
   "pygments_lexer": "ipython3",
   "version": "3.10.6"
  },
  "toc": {
   "base_numbering": 1,
   "nav_menu": {},
   "number_sections": true,
   "sideBar": true,
   "skip_h1_title": false,
   "title_cell": "Table of Contents",
   "title_sidebar": "Contents",
   "toc_cell": false,
   "toc_position": {},
   "toc_section_display": true,
   "toc_window_display": false
  },
  "vscode": {
   "interpreter": {
    "hash": "d71e3fad4d7ef819ec5614b52b98e2aaeb2a4012f1049388f932022bc4f151d3"
   }
  }
 },
 "nbformat": 4,
 "nbformat_minor": 5
}
