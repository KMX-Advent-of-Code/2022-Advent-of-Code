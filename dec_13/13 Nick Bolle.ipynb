{
 "cells": [
  {
   "cell_type": "markdown",
   "id": "cc902ab4",
   "metadata": {},
   "source": [
    "Organization:\n",
    "- Work\n",
    "  - 1 test: defining functions for part 1, testing on test input\n",
    "  - 1 run: getting answer for part 1\n",
    "  - 2 test: ...\n",
    "  - 2 run: ...\n",
    "- Utilities: functions I think might help parse general inputs\n",
    "- Inputs: where I define the test (_t_) and problem (_s_) inputs"
   ]
  },
  {
   "cell_type": "markdown",
   "id": "d1881444",
   "metadata": {},
   "source": [
    "# Work"
   ]
  },
  {
   "cell_type": "markdown",
   "id": "eb1b228f",
   "metadata": {},
   "source": [
    "## 1 test"
   ]
  },
  {
   "cell_type": "code",
   "execution_count": 8,
   "id": "2f4c2d12",
   "metadata": {},
   "outputs": [
    {
     "data": {
      "text/plain": [
       "[([1, 1, 3, 1, 1], [1, 1, 5, 1, 1]),\n",
       " ([[1], [2, 3, 4]], [[1], 4]),\n",
       " ([9], [[8, 7, 6]]),\n",
       " ([[4, 4], 4, 4], [[4, 4], 4, 4, 4]),\n",
       " ([7, 7, 7, 7], [7, 7, 7]),\n",
       " ([], [3]),\n",
       " ([[[]]], [[]]),\n",
       " ([1, [2, [3, [4, [5, 6, 7]]]], 8, 9], [1, [2, [3, [4, [5, 6, 0]]]], 8, 9])]"
      ]
     },
     "execution_count": 8,
     "metadata": {},
     "output_type": "execute_result"
    }
   ],
   "source": [
    "pairs = [(eval(pair[0]), eval(pair[1])) for pair in split(t)]\n",
    "pairs"
   ]
  },
  {
   "cell_type": "code",
   "execution_count": 25,
   "id": "2c18d3fb",
   "metadata": {},
   "outputs": [],
   "source": [
    "# Compare a pair! Recursive\n",
    "# Things return None by default\n",
    "# If it made a decision about the order, return True (in order) or False (out of order)\n",
    "def compare(x, y):\n",
    "    # Int case: process the 3 comparison cases appropriately\n",
    "    if isinstance(x, int) and isinstance(y, int):\n",
    "        if x < y:\n",
    "            r = True\n",
    "        elif x > y:\n",
    "            r = False\n",
    "        else:\n",
    "            r = None\n",
    "        return r\n",
    "    \n",
    "    # Split cases: just formatting inputs, so no processing is needed on the returns\n",
    "    if isinstance(x, int) and isinstance(y, list):\n",
    "        return compare([x], y)\n",
    "    if isinstance(x, list) and isinstance(y, int):\n",
    "        return compare(x, [y])\n",
    "    \n",
    "    # List comparisons\n",
    "    \n",
    "    # Compare up to the common length:\n",
    "    r = None\n",
    "    for xp, yp in zip(x, y):\n",
    "        r = compare(xp, yp)\n",
    "        if isinstance(r, bool):\n",
    "            break\n",
    "    \n",
    "    # Check length conditions only if we don't yet have a binding condition\n",
    "    if not isinstance(r, bool):\n",
    "        if len(x) < len(y):\n",
    "            r = True\n",
    "        elif len(x) > len(y):\n",
    "            r = False\n",
    "        else:\n",
    "            r = None\n",
    "    \n",
    "    return r"
   ]
  },
  {
   "cell_type": "code",
   "execution_count": 26,
   "id": "fbed4c53",
   "metadata": {},
   "outputs": [
    {
     "data": {
      "text/plain": [
       "[True, True, False, True, False, True, False, False]"
      ]
     },
     "execution_count": 26,
     "metadata": {},
     "output_type": "execute_result"
    }
   ],
   "source": [
    "results = [compare(*pair) for pair in pairs]\n",
    "results"
   ]
  },
  {
   "cell_type": "code",
   "execution_count": 28,
   "id": "a7ccd92a",
   "metadata": {},
   "outputs": [],
   "source": [
    "import numpy as np"
   ]
  },
  {
   "cell_type": "code",
   "execution_count": 34,
   "id": "00d7b92f",
   "metadata": {},
   "outputs": [
    {
     "data": {
      "text/plain": [
       "13"
      ]
     },
     "execution_count": 34,
     "metadata": {},
     "output_type": "execute_result"
    }
   ],
   "source": [
    "sum(np.array(results, dtype=int) * (np.arange(len(results)) + 1))"
   ]
  },
  {
   "cell_type": "markdown",
   "id": "97486550",
   "metadata": {},
   "source": [
    "## 1 run"
   ]
  },
  {
   "cell_type": "code",
   "execution_count": 38,
   "id": "c44f4f72",
   "metadata": {},
   "outputs": [],
   "source": [
    "pairs = [(eval(pair[0]), eval(pair[1])) for pair in split(s)]\n",
    "results = [compare(*pair) for pair in pairs]"
   ]
  },
  {
   "cell_type": "code",
   "execution_count": 37,
   "id": "b1399a21",
   "metadata": {},
   "outputs": [],
   "source": [
    "# Check they all have results\n",
    "for result in results:\n",
    "    if not isinstance(result, bool):\n",
    "        print('fail!')"
   ]
  },
  {
   "cell_type": "code",
   "execution_count": 39,
   "id": "95a3fe24",
   "metadata": {},
   "outputs": [
    {
     "data": {
      "text/plain": [
       "5350"
      ]
     },
     "execution_count": 39,
     "metadata": {},
     "output_type": "execute_result"
    }
   ],
   "source": [
    "sum(np.array(results, dtype=int) * (np.arange(len(results)) + 1))"
   ]
  },
  {
   "cell_type": "markdown",
   "id": "cf29851d",
   "metadata": {},
   "source": [
    "## 2 test"
   ]
  },
  {
   "cell_type": "code",
   "execution_count": 44,
   "id": "e304a636",
   "metadata": {},
   "outputs": [
    {
     "data": {
      "text/plain": [
       "[[1, 1, 3, 1, 1],\n",
       " [1, 1, 5, 1, 1],\n",
       " [[1], [2, 3, 4]],\n",
       " [[1], 4],\n",
       " [9],\n",
       " [[8, 7, 6]],\n",
       " [[4, 4], 4, 4],\n",
       " [[4, 4], 4, 4, 4],\n",
       " [7, 7, 7, 7],\n",
       " [7, 7, 7],\n",
       " [],\n",
       " [3],\n",
       " [[[]]],\n",
       " [[]],\n",
       " [1, [2, [3, [4, [5, 6, 7]]]], 8, 9],\n",
       " [1, [2, [3, [4, [5, 6, 0]]]], 8, 9],\n",
       " [[2]],\n",
       " [[6]]]"
      ]
     },
     "execution_count": 44,
     "metadata": {},
     "output_type": "execute_result"
    }
   ],
   "source": [
    "packets = [eval(packet) for pair in split(t) for packet in pair]\n",
    "packets += [[[2]], [[6]]]\n",
    "packets"
   ]
  },
  {
   "cell_type": "code",
   "execution_count": 54,
   "id": "3b348030",
   "metadata": {},
   "outputs": [],
   "source": [
    "# Will use to change the compare function of the built-in sorting function\n",
    "from functools import cmp_to_key"
   ]
  },
  {
   "cell_type": "code",
   "execution_count": 50,
   "id": "a34b52b0",
   "metadata": {},
   "outputs": [],
   "source": [
    "# Parses into -1/0/1\n",
    "def compare_wrapper(x,y):\n",
    "    r = compare(x,y)\n",
    "    if isinstance(r, bool):\n",
    "        if r:\n",
    "            out = 1\n",
    "        else:\n",
    "            out = -1\n",
    "    else:\n",
    "        out = 0\n",
    "    return out"
   ]
  },
  {
   "cell_type": "code",
   "execution_count": 59,
   "id": "d848828e",
   "metadata": {},
   "outputs": [
    {
     "data": {
      "text/plain": [
       "[[],\n",
       " [[]],\n",
       " [[[]]],\n",
       " [1, 1, 3, 1, 1],\n",
       " [1, 1, 5, 1, 1],\n",
       " [[1], [2, 3, 4]],\n",
       " [1, [2, [3, [4, [5, 6, 0]]]], 8, 9],\n",
       " [1, [2, [3, [4, [5, 6, 7]]]], 8, 9],\n",
       " [[1], 4],\n",
       " [[2]],\n",
       " [3],\n",
       " [[4, 4], 4, 4],\n",
       " [[4, 4], 4, 4, 4],\n",
       " [[6]],\n",
       " [7, 7, 7],\n",
       " [7, 7, 7, 7],\n",
       " [[8, 7, 6]],\n",
       " [9]]"
      ]
     },
     "execution_count": 59,
     "metadata": {},
     "output_type": "execute_result"
    }
   ],
   "source": [
    "packets = sorted(packets, key=cmp_to_key(compare_wrapper), reverse=True)\n",
    "packets"
   ]
  },
  {
   "cell_type": "code",
   "execution_count": 60,
   "id": "72da25ac",
   "metadata": {},
   "outputs": [
    {
     "name": "stdout",
     "output_type": "stream",
     "text": [
      "[[2]] at 10\n",
      "[[6]] at 14\n"
     ]
    }
   ],
   "source": [
    "for i in range(len(packets)):\n",
    "    packet = packets[i]\n",
    "    if compare(packet, [[2]]) is None:\n",
    "        print(f'[[2]] at {i+1}')\n",
    "    if compare(packet, [[6]]) is None:\n",
    "        print(f'[[6]] at {i+1}')"
   ]
  },
  {
   "cell_type": "markdown",
   "id": "a2c20e06",
   "metadata": {},
   "source": [
    "## 2 run"
   ]
  },
  {
   "cell_type": "code",
   "execution_count": 63,
   "id": "8a2a7cd9",
   "metadata": {},
   "outputs": [],
   "source": [
    "packets = [eval(packet) for pair in split(s) for packet in pair]\n",
    "packets += [[[2]], [[6]]]\n",
    "packets = sorted(packets, key=cmp_to_key(compare_wrapper), reverse=True)"
   ]
  },
  {
   "cell_type": "code",
   "execution_count": 64,
   "id": "ea0b6c8a",
   "metadata": {},
   "outputs": [
    {
     "name": "stdout",
     "output_type": "stream",
     "text": [
      "[[2]] at 103\n",
      "[[6]] at 190\n"
     ]
    }
   ],
   "source": [
    "for i in range(len(packets)):\n",
    "    packet = packets[i]\n",
    "    if compare(packet, [[2]]) is None:\n",
    "        print(f'[[2]] at {i+1}')\n",
    "    if compare(packet, [[6]]) is None:\n",
    "        print(f'[[6]] at {i+1}')"
   ]
  },
  {
   "cell_type": "code",
   "execution_count": 65,
   "id": "60adfb65",
   "metadata": {},
   "outputs": [
    {
     "data": {
      "text/plain": [
       "19570"
      ]
     },
     "execution_count": 65,
     "metadata": {},
     "output_type": "execute_result"
    }
   ],
   "source": [
    "103 * 190"
   ]
  },
  {
   "cell_type": "markdown",
   "id": "46587fe1",
   "metadata": {},
   "source": [
    "# Utilities"
   ]
  },
  {
   "cell_type": "code",
   "execution_count": 1,
   "id": "b0f5c2be",
   "metadata": {},
   "outputs": [],
   "source": [
    "# Remove initial/final \\n characters\n",
    "def clean(s):\n",
    "    return s[1:-1]\n",
    "\n",
    "# Split at \\n characters\n",
    "# If there are \\n\\n characters, split into blocks too\n",
    "def split(s, block_char = '\\n\\n', line_char = '\\n'):\n",
    "    out = [block.split(line_char) for block in clean(s).split(block_char)]\n",
    "    if len(out) == 1:\n",
    "        return out[0]\n",
    "    else:\n",
    "        return out\n",
    "\n",
    "# Apply a function(s) to a list or \"block\" data (2-level list)\n",
    "def apply_func(data, func, nested=False):\n",
    "    if not isinstance(func, list):\n",
    "        func = [func]\n",
    "        \n",
    "    def _func(x):\n",
    "        for f in func:\n",
    "            x = f(x)\n",
    "        return x\n",
    "        \n",
    "    if nested:\n",
    "        return [[_func(x) for x in block] for block in data]\n",
    "    else:\n",
    "        return [_func(x) for x in data]\n",
    "\n",
    "# Split, parsing everything as ints\n",
    "def split_int(s):\n",
    "    return apply_func(split(s), int)\n",
    "\n",
    "# Split, parsing everything as float\n",
    "def split_float(s):\n",
    "    return apply_func(split(s), float)"
   ]
  },
  {
   "cell_type": "markdown",
   "id": "2b2e5b0f",
   "metadata": {},
   "source": [
    "# Inputs"
   ]
  },
  {
   "cell_type": "code",
   "execution_count": 2,
   "id": "6a1455c4",
   "metadata": {},
   "outputs": [],
   "source": [
    "t = \"\"\"\n",
    "[1,1,3,1,1]\n",
    "...\n",
    "[1,[2,[3,[4,[5,6,0]]]],8,9]\n",
    "\"\"\""
   ]
  },
  {
   "cell_type": "code",
   "execution_count": 3,
   "id": "dcf53146",
   "metadata": {},
   "outputs": [],
   "source": [
    "s = \"\"\"\n",
    "[[[6,10],[4,3,[4]]]]\n",
    "...\n",
    "[[[[9],[10,4,7,0],[5,6],[7,3,6,0,10]]],[],[[[9,8,10,4,2],[1,6,1],10],3]]\n",
    "\"\"\""
   ]
  },
  {
   "cell_type": "code",
   "execution_count": null,
   "id": "e7de8682",
   "metadata": {},
   "outputs": [],
   "source": []
  }
 ],
 "metadata": {
  "kernelspec": {
   "display_name": "Python 3 (ipykernel)",
   "language": "python",
   "name": "python3"
  },
  "language_info": {
   "codemirror_mode": {
    "name": "ipython",
    "version": 3
   },
   "file_extension": ".py",
   "mimetype": "text/x-python",
   "name": "python",
   "nbconvert_exporter": "python",
   "pygments_lexer": "ipython3",
   "version": "3.11.1"
  }
 },
 "nbformat": 4,
 "nbformat_minor": 5
}
