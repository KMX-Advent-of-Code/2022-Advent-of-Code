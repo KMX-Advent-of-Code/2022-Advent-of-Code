{
 "cells": [
  {
   "cell_type": "code",
   "execution_count": 55,
   "metadata": {},
   "outputs": [],
   "source": [
    "import numpy as np\n",
    "import pandas as pd\n",
    "import math\n",
    "import scipy\n",
    "import sys\n",
    "from tqdm import tqdm\n",
    "import functools"
   ]
  },
  {
   "cell_type": "code",
   "execution_count": 73,
   "metadata": {},
   "outputs": [
    {
     "name": "stdout",
     "output_type": "stream",
     "text": [
      "-1\n"
     ]
    }
   ],
   "source": [
    "def compare(left:str,right:str):\n",
    "    ## prtty much what the problem states\n",
    "    if isinstance(left, int) and isinstance(right, int):\n",
    "        if left < right:\n",
    "            return 1\n",
    "        elif left > right:\n",
    "            return -1\n",
    "        else:\n",
    "            return 0\n",
    "    elif isinstance(left, list) and isinstance(right, list):\n",
    "        left = left.copy()\n",
    "        right = right.copy()\n",
    "        while len(left) and len(right):\n",
    "            first = left.pop(0)\n",
    "            second = right.pop(0)\n",
    "            ret = compare(first,second)\n",
    "            if ret != 0:\n",
    "                return ret\n",
    "        if len(left) > 0:\n",
    "            return -1\n",
    "        elif len(right) > 0:\n",
    "            return 1\n",
    "        return 0\n",
    "    elif isinstance(right, list):\n",
    "        right = right.copy()\n",
    "        return compare([left], right)\n",
    "    elif isinstance(left, list):\n",
    "        left = left.copy()\n",
    "        return compare(left, [right])\n",
    "\n",
    "print(compare([9], [[8,7,6]])) # test"
   ]
  },
  {
   "cell_type": "code",
   "execution_count": 61,
   "metadata": {},
   "outputs": [],
   "source": [
    "file1 = open('13.txt', 'r')\n",
    "lines = file1.readlines()\n",
    "comp = []\n",
    "\n",
    "ans1 = []\n",
    "\n",
    "for l in lines:\n",
    "    l = l.replace('\\n','')\n",
    "    if l == '':\n",
    "        left, right = comp\n",
    "        comp = []\n",
    "        # print(compare(left,right))\n",
    "        ans1.append(compare(left,right))\n",
    "    else:\n",
    "        # print(l)\n",
    "        comp.append(eval(l))\n"
   ]
  },
  {
   "cell_type": "code",
   "execution_count": 62,
   "metadata": {},
   "outputs": [
    {
     "data": {
      "text/plain": [
       "6072"
      ]
     },
     "execution_count": 62,
     "metadata": {},
     "output_type": "execute_result"
    }
   ],
   "source": [
    "ans = 0\n",
    "for i,x in enumerate(ans1):\n",
    "    ## add valid indeces\n",
    "    if x == 1:\n",
    "        ans += i+1\n",
    "ans"
   ]
  },
  {
   "cell_type": "markdown",
   "metadata": {},
   "source": [
    "# Second part"
   ]
  },
  {
   "cell_type": "code",
   "execution_count": 71,
   "metadata": {},
   "outputs": [],
   "source": [
    "file1 = open('13.txt', 'r')\n",
    "lines = file1.readlines()\n",
    "comp = []\n",
    "\n",
    "for l in lines:\n",
    "    l = l.replace('\\n','')\n",
    "    if l != '':\n",
    "        comp.append(eval(l))\n",
    "\n",
    "extra = [[[2]], [[6]]]\n",
    "comp.append(extra[0])\n",
    "comp.append(extra[1])"
   ]
  },
  {
   "cell_type": "code",
   "execution_count": 72,
   "metadata": {},
   "outputs": [
    {
     "data": {
      "text/plain": [
       "22184"
      ]
     },
     "execution_count": 72,
     "metadata": {},
     "output_type": "execute_result"
    }
   ],
   "source": [
    "# we just need to sort this out :)\n",
    "ans2 = sorted(comp, key=functools.cmp_to_key(compare), reverse=True)\n",
    "\n",
    "(ans2.index(extra[0]) + 1) * (ans2.index(extra[1])+1)"
   ]
  }
 ],
 "metadata": {
  "kernelspec": {
   "display_name": "Python 3.11.0 64-bit",
   "language": "python",
   "name": "python3"
  },
  "language_info": {
   "codemirror_mode": {
    "name": "ipython",
    "version": 3
   },
   "file_extension": ".py",
   "mimetype": "text/x-python",
   "name": "python",
   "nbconvert_exporter": "python",
   "pygments_lexer": "ipython3",
   "version": "3.11.0"
  },
  "orig_nbformat": 4,
  "vscode": {
   "interpreter": {
    "hash": "aee8b7b246df8f9039afb4144a1f6fd8d2ca17a180786b69acc140d282b71a49"
   }
  }
 },
 "nbformat": 4,
 "nbformat_minor": 2
}
